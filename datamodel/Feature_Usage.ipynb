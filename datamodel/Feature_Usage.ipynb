{
 "cells": [
  {
   "cell_type": "markdown",
   "metadata": {},
   "source": [
    "# Create Feature_Usage Objects in ADLSTE_COA "
   ]
  },
  {
   "cell_type": "code",
   "execution_count": 94,
   "metadata": {},
   "outputs": [
    {
     "name": "stdout",
     "output_type": "stream",
     "text": [
      "Success: 'Transcend' connection established\n"
     ]
    }
   ],
   "source": [
    "%connect name=Transcend"
   ]
  },
  {
   "cell_type": "markdown",
   "metadata": {},
   "source": [
    "<br/><br/><br/>\n",
    "## Table - PERM"
   ]
  },
  {
   "cell_type": "code",
   "execution_count": null,
   "metadata": {},
   "outputs": [],
   "source": [
    "CREATE MULTISET TABLE adlste_coa.coat_dat_feature_usage_log \n",
    "(\n",
    "  Site_Id VARCHAR(128) CHARACTER SET LATIN  NOT NULL\n",
    ", LogDate DATE FORMAT 'yyyy-mm-dd' NOT NULL\n",
    ", Feature_Id INTEGER NOT NULL\n",
    ", DBS_Version VARCHAR(16) CHARACTER SET LATIN COMPRESS('DEFAULT','ALT01','ALT02')\n",
    ", User_Bucket VARCHAR(128) CHARACTER SET LATIN \n",
    ", User_Department VARCHAR(128) CHARACTER SET LATIN\n",
    ", User_Subdepartment VARCHAR(128) CHARACTER SET LATIN\n",
    ", User_Region VARCHAR(128) CHARACTER SET LATIN\n",
    ", Feature_Usage_Cnt INTEGER\n",
    ", Run_Id INTEGER\n",
    ") PRIMARY INDEX ( Site_Id ,LogDate ,Feature_Id ) \n",
    "PARTITION BY RANGE_N(LogDate BETWEEN DATE '2019-01-01' AND DATE '2021-12-31' EACH INTERVAL '1' DAY \n",
    "                     ,NO RANGE OR UNKNOWN);"
   ]
  },
  {
   "cell_type": "code",
   "execution_count": 56,
   "metadata": {},
   "outputs": [
    {
     "data": {
      "text/plain": [
       "Success: 10 rows affected"
      ]
     },
     "execution_count": 56,
     "metadata": {
      "application/vnd.teradata.resultset": ""
     },
     "output_type": "execute_result"
    }
   ],
   "source": [
    "replace view adlste_coa.coa_dat_feature_usage_log as locking row for access\n",
    "select * from adlste_coa.coat_dat_feature_usage_log"
   ]
  },
  {
   "cell_type": "code",
   "execution_count": 57,
   "metadata": {},
   "outputs": [
    {
     "data": {
      "application/vnd.teradata.resultset": "[{\"DBS_Version\":\"DEFAULT\",\"Feature_Id\":\"24300\",\"Feature_Usage_Cnt\":\"0\",\"LogDate\":\"2020-05-08\",\"Run_Id\":\"196\",\"Site_Id\":\"APPLE50BLANEY\",\"User_Bucket\":\"ADHOC\",\"User_Department\":\"\",\"User_Region\":\"na\",\"User_Subdepartment\":\"na\"},{\"DBS_Version\":\"DEFAULT\",\"Feature_Id\":\"24300\",\"Feature_Usage_Cnt\":\"0\",\"LogDate\":\"2020-05-08\",\"Run_Id\":\"196\",\"Site_Id\":\"APPLE50BLANEY\",\"User_Bucket\":\"ADHOC\",\"User_Department\":\"LEGAL_HOLD\",\"User_Region\":\"na\",\"User_Subdepartment\":\"na\"},{\"DBS_Version\":\"DEFAULT\",\"Feature_Id\":\"24300\",\"Feature_Usage_Cnt\":\"0\",\"LogDate\":\"2020-05-08\",\"Run_Id\":\"196\",\"Site_Id\":\"APPLE50BLANEY\",\"User_Bucket\":\"BOBJ\",\"User_Department\":\"OTHERS\",\"User_Region\":\"na\",\"User_Subdepartment\":\"na\"},{\"DBS_Version\":\"DEFAULT\",\"Feature_Id\":\"24300\",\"Feature_Usage_Cnt\":\"0\",\"LogDate\":\"2020-05-08\",\"Run_Id\":\"196\",\"Site_Id\":\"APPLE50BLANEY\",\"User_Bucket\":\"CORE ETL\",\"User_Department\":\"SYSTEM\",\"User_Region\":\"na\",\"User_Subdepartment\":\"na\"},{\"DBS_Version\":\"DEFAULT\",\"Feature_Id\":\"24300\",\"Feature_Usage_Cnt\":\"0\",\"LogDate\":\"2020-05-08\",\"Run_Id\":\"196\",\"Site_Id\":\"APPLE50BLANEY\",\"User_Bucket\":\"ADHOC\",\"User_Department\":\"OTHERS\",\"User_Region\":\"na\",\"User_Subdepartment\":\"na\"},{\"DBS_Version\":\"DEFAULT\",\"Feature_Id\":\"24300\",\"Feature_Usage_Cnt\":\"0\",\"LogDate\":\"2020-05-08\",\"Run_Id\":\"196\",\"Site_Id\":\"APPLE50BLANEY\",\"User_Bucket\":\"OUTBOUND\",\"User_Department\":\"Unknown\",\"User_Region\":\"na\",\"User_Subdepartment\":\"na\"},{\"DBS_Version\":\"DEFAULT\",\"Feature_Id\":\"24300\",\"Feature_Usage_Cnt\":\"0\",\"LogDate\":\"2020-05-08\",\"Run_Id\":\"196\",\"Site_Id\":\"APPLE50BLANEY\",\"User_Bucket\":\"OUTBOUND\",\"User_Department\":\"FRAUD\",\"User_Region\":\"na\",\"User_Subdepartment\":\"na\"},{\"DBS_Version\":\"DEFAULT\",\"Feature_Id\":\"24300\",\"Feature_Usage_Cnt\":\"0\",\"LogDate\":\"2020-05-08\",\"Run_Id\":\"196\",\"Site_Id\":\"APPLE50BLANEY\",\"User_Bucket\":\"DATA_ENG\",\"User_Department\":\"MARKETING\",\"User_Region\":\"na\",\"User_Subdepartment\":\"na\"},{\"DBS_Version\":\"DEFAULT\",\"Feature_Id\":\"24300\",\"Feature_Usage_Cnt\":\"0\",\"LogDate\":\"2020-05-08\",\"Run_Id\":\"196\",\"Site_Id\":\"APPLE50BLANEY\",\"User_Bucket\":\"\",\"User_Department\":\"SALESOPS\",\"User_Region\":\"na\",\"User_Subdepartment\":\"na\"},{\"DBS_Version\":\"DEFAULT\",\"Feature_Id\":\"24300\",\"Feature_Usage_Cnt\":\"0\",\"LogDate\":\"2020-05-08\",\"Run_Id\":\"196\",\"Site_Id\":\"APPLE50BLANEY\",\"User_Bucket\":\"OUTBOUND\",\"User_Department\":\"ITUNES\",\"User_Region\":\"na\",\"User_Subdepartment\":\"na\"}]\n",
      "text/html": [
       "<div class = \"td-resultset-table-div\" style = \"max-height: 257px; overflow-y: auto\"><style> table {border: 1px solid rgb(207, 207, 207) !important; border-collapse: collapse !important; margin-top: 1px !important;} th {border: 1px solid rgb(198,198,198) !important; border-collapse: collapse !important; padding: 2px 5px !important; font-size: 13px !important; min-width:150px !important; max-width: 150px !important; white-space: nowrap !important; overflow:hidden !important; text-overflow:ellipsis !important;} tr:nth-child(even) {background: rgba(243, 243, 243, 0.75) !important;} td {border: 1px solid rgb(207, 207, 207) !important; border-collapse: collapse !important; padding: 2px 5px !important; font-size: 13px !important; min-width:150px !important; max-width: 150px !important; white-space: nowrap !important; overflow:hidden !important; text-overflow:ellipsis !important;}</style><table><thead><tr style= \"background: #efefef;\"><th>Site_Id</th><th>LogDate</th><th>Feature_Id</th><th>DBS_Version</th><th>User_Bucket</th><th>User_Department</th><th>User_Subdepartment</th><th>User_Region</th><th>Feature_Usage_Cnt</th><th>Run_Id</th></tr></thead><tr><td>APPLE50BLANEY</td><td>2020-05-08</td><td>24300</td><td>DEFAULT</td><td>ADHOC</td><td></td><td>na</td><td>na</td><td>0</td><td>196</td></tr><tr><td>APPLE50BLANEY</td><td>2020-05-08</td><td>24300</td><td>DEFAULT</td><td>ADHOC</td><td>LEGAL_HOLD</td><td>na</td><td>na</td><td>0</td><td>196</td></tr><tr><td>APPLE50BLANEY</td><td>2020-05-08</td><td>24300</td><td>DEFAULT</td><td>BOBJ</td><td>OTHERS</td><td>na</td><td>na</td><td>0</td><td>196</td></tr><tr><td>APPLE50BLANEY</td><td>2020-05-08</td><td>24300</td><td>DEFAULT</td><td>CORE ETL</td><td>SYSTEM</td><td>na</td><td>na</td><td>0</td><td>196</td></tr><tr><td>APPLE50BLANEY</td><td>2020-05-08</td><td>24300</td><td>DEFAULT</td><td>ADHOC</td><td>OTHERS</td><td>na</td><td>na</td><td>0</td><td>196</td></tr><tr><td>APPLE50BLANEY</td><td>2020-05-08</td><td>24300</td><td>DEFAULT</td><td>OUTBOUND</td><td>Unknown</td><td>na</td><td>na</td><td>0</td><td>196</td></tr><tr><td>APPLE50BLANEY</td><td>2020-05-08</td><td>24300</td><td>DEFAULT</td><td>OUTBOUND</td><td>FRAUD</td><td>na</td><td>na</td><td>0</td><td>196</td></tr><tr><td>APPLE50BLANEY</td><td>2020-05-08</td><td>24300</td><td>DEFAULT</td><td>DATA_ENG</td><td>MARKETING</td><td>na</td><td>na</td><td>0</td><td>196</td></tr><tr><td>APPLE50BLANEY</td><td>2020-05-08</td><td>24300</td><td>DEFAULT</td><td></td><td>SALESOPS</td><td>na</td><td>na</td><td>0</td><td>196</td></tr><tr><td>APPLE50BLANEY</td><td>2020-05-08</td><td>24300</td><td>DEFAULT</td><td>OUTBOUND</td><td>ITUNES</td><td>na</td><td>na</td><td>0</td><td>196</td></tr></table></div>"
      ]
     },
     "execution_count": 57,
     "metadata": {
      "application/vnd.teradata.resultset": "{\"resultSetID\":\"/home/jovyan/JupyterLabRoot/Teradata/Resultsets/2020.06.16_16.16.21.125_UTC\",\"historyID\":1540,\"chunkID\":\"00001\",\"sessionid\":\"\",\"portnum\":\"\",\"dockermode\":\"docker\",\"totalRowCount\":10,\"rowLimit\":0,\"columnMetadata\":[{\"columnName\":\"Site_Id\",\"columnTypeName\":\"VARCHAR\",\"length\":128,\"scale\":128},{\"columnNumber\":1,\"columnName\":\"LogDate\",\"columnTypeName\":\"DATE\"},{\"columnNumber\":2,\"columnName\":\"Feature_Id\",\"columnTypeName\":\"INTEGER\"},{\"columnNumber\":3,\"columnName\":\"DBS_Version\",\"columnTypeName\":\"VARCHAR\",\"length\":16,\"scale\":16},{\"columnNumber\":4,\"columnName\":\"User_Bucket\",\"columnTypeName\":\"VARCHAR\",\"length\":128,\"scale\":128},{\"columnNumber\":5,\"columnName\":\"User_Department\",\"columnTypeName\":\"VARCHAR\",\"length\":128,\"scale\":128},{\"columnNumber\":6,\"columnName\":\"User_Subdepartment\",\"columnTypeName\":\"VARCHAR\",\"length\":128,\"scale\":128},{\"columnNumber\":7,\"columnName\":\"User_Region\",\"columnTypeName\":\"VARCHAR\",\"length\":128,\"scale\":128},{\"columnNumber\":8,\"columnName\":\"Feature_Usage_Cnt\",\"columnTypeName\":\"INTEGER\"},{\"columnNumber\":9,\"columnName\":\"Run_Id\",\"columnTypeName\":\"INTEGER\"}]}"
     },
     "output_type": "execute_result"
    }
   ],
   "source": [
    "SELECT TOP 10 * FROM adlste_coa.coat_dat_feature_usage_log"
   ]
  },
  {
   "cell_type": "markdown",
   "metadata": {},
   "source": [
    "<br/><br/><br/>\n",
    "## View:  adlste_coa.coa_dat_feature"
   ]
  },
  {
   "cell_type": "code",
   "execution_count": 344,
   "metadata": {},
   "outputs": [
    {
     "data": {
      "text/plain": [
       "Success: 22 rows affected"
      ]
     },
     "execution_count": 344,
     "metadata": {
      "application/vnd.teradata.resultset": ""
     },
     "output_type": "execute_result"
    }
   ],
   "source": [
    "replace view adlste_coa.coa_dat_feature as locking row for access\n",
    "SELECT \n",
    " coalesce(Site_ID,'') as Site_ID\n",
    ",coalesce(LogDate,cast('9999-12-31' as date)) as LogDate\n",
    ",Product_Category\n",
    ",Feature_Category\n",
    ",Feature_SubCategory\n",
    ",Feature_Name\n",
    ",Feature_Usage_Cnt as Usage_Cnt\n",
    ",DBQL_FeatureInfo_Flag as DBQL_Flg\n",
    ",MBO_Ind\n",
    ",Feature_Weight as MBO_Weight\n",
    ",User_Bucket\n",
    ",User_Department\n",
    ",Objective_Name\n",
    ",Solution_Type\n",
    ",Business_Value_Desc\n",
    ",User_Experience_Level_Name\n",
    ",Initiator_Role_Category\n",
    ",Differentiator_Ind \n",
    ",Enabled_Thru\n",
    ",Feature_SQL_URL\n",
    ",Playbook_URL\n",
    "from adlste_coa.coa_dim_feature f\n",
    "left outer join adlste_coa.coa_dat_feature_usage_log d\n",
    "  on d.Feature_ID = f.Feature_ID "
   ]
  },
  {
   "cell_type": "code",
   "execution_count": 345,
   "metadata": {},
   "outputs": [],
   "source": [
    "select * from adlste_coa.coa_dat_feature \n",
    "where Site_ID = 'TDCloud14TD03' and LogDate = '2020-06-10' \n",
    "order by Product_Category, Feature_Category, Feature_SubCategory, Feature_Name"
   ]
  },
  {
   "cell_type": "markdown",
   "metadata": {},
   "source": [
    "<br/><br/><br/>\n",
    "## Table - GTT"
   ]
  },
  {
   "cell_type": "code",
   "execution_count": 15,
   "metadata": {},
   "outputs": [
    {
     "data": {
      "text/plain": [
       "Success: 271 rows affected"
      ]
     },
     "execution_count": 15,
     "metadata": {
      "application/vnd.teradata.resultset": ""
     },
     "output_type": "execute_result"
    }
   ],
   "source": [
    "-- drop table adlste_coa_stg.stg_dat_feature_usage_log;"
   ]
  },
  {
   "cell_type": "code",
   "execution_count": 16,
   "metadata": {},
   "outputs": [
    {
     "data": {
      "text/plain": [
       "Success: 0 rows affected"
      ]
     },
     "execution_count": 16,
     "metadata": {
      "application/vnd.teradata.resultset": ""
     },
     "output_type": "execute_result"
    }
   ],
   "source": [
    "CREATE MULTISET GLOBAL TEMPORARY TABLE adlste_coa_stg.stg_dat_feature_usage_log\n",
    "(\n",
    "  Site_ID         VARCHAR(128) CHARACTER SET LATIN \n",
    " ,LogDate         DATE \n",
    " ,User_Bucket     VARCHAR(128) CHARACTER SET LATIN \n",
    " ,User_Department VARCHAR(128) CHARACTER SET LATIN\n",
    " ,DBSVersion      CHAR(11) CHARACTER SET LATIN\n",
    " ,Request_Count   INTEGER\n",
    " ,bit016 INTEGER ,bit017 INTEGER ,bit018 INTEGER ,bit019 INTEGER \n",
    " ,bit020 INTEGER ,bit021 INTEGER ,bit022 INTEGER ,bit023 INTEGER ,bit024 INTEGER\n",
    " ,bit025 INTEGER ,bit026 INTEGER ,bit027 INTEGER ,bit028 INTEGER ,bit029 INTEGER\n",
    " ,bit030 INTEGER ,bit031 INTEGER ,bit032 INTEGER ,bit033 INTEGER ,bit034 INTEGER\n",
    " ,bit035 INTEGER ,bit036 INTEGER ,bit037 INTEGER ,bit038 INTEGER ,bit039 INTEGER\n",
    " ,bit040 INTEGER ,bit041 INTEGER ,bit042 INTEGER ,bit043 INTEGER ,bit044 INTEGER\n",
    " ,bit045 INTEGER ,bit046 INTEGER ,bit047 INTEGER ,bit048 INTEGER ,bit049 INTEGER\n",
    " ,bit050 INTEGER ,bit051 INTEGER ,bit052 INTEGER ,bit053 INTEGER ,bit054 INTEGER\n",
    " ,bit055 INTEGER ,bit056 INTEGER ,bit057 INTEGER ,bit058 INTEGER ,bit059 INTEGER\n",
    " ,bit060 INTEGER ,bit061 INTEGER ,bit062 INTEGER ,bit063 INTEGER ,bit064 INTEGER\n",
    " ,bit065 INTEGER ,bit066 INTEGER ,bit067 INTEGER ,bit068 INTEGER ,bit069 INTEGER\n",
    " ,bit070 INTEGER ,bit071 INTEGER ,bit072 INTEGER ,bit073 INTEGER ,bit074 INTEGER\n",
    " ,bit075 INTEGER ,bit076 INTEGER ,bit077 INTEGER ,bit078 INTEGER ,bit079 INTEGER\n",
    " ,bit080 INTEGER ,bit081 INTEGER ,bit082 INTEGER ,bit083 INTEGER ,bit084 INTEGER\n",
    " ,bit085 INTEGER ,bit086 INTEGER ,bit087 INTEGER ,bit088 INTEGER ,bit089 INTEGER\n",
    " ,bit090 INTEGER ,bit091 INTEGER ,bit092 INTEGER ,bit093 INTEGER ,bit094 INTEGER\n",
    " ,bit095 INTEGER ,bit096 INTEGER ,bit097 INTEGER ,bit098 INTEGER ,bit099 INTEGER\n",
    " ,bit100 INTEGER ,bit101 INTEGER ,bit102 INTEGER ,bit103 INTEGER ,bit104 INTEGER\n",
    " ,bit105 INTEGER ,bit106 INTEGER ,bit107 INTEGER ,bit108 INTEGER ,bit109 INTEGER\n",
    " ,bit110 INTEGER ,bit111 INTEGER ,bit112 INTEGER ,bit113 INTEGER ,bit114 INTEGER\n",
    " ,bit115 INTEGER ,bit116 INTEGER ,bit117 INTEGER ,bit118 INTEGER ,bit119 INTEGER\n",
    " ,bit120 INTEGER ,bit121 INTEGER ,bit122 INTEGER ,bit123 INTEGER ,bit124 INTEGER\n",
    " ,bit125 INTEGER ,bit126 INTEGER ,bit127 INTEGER ,bit128 INTEGER ,bit129 INTEGER\n",
    " ,bit130 INTEGER ,bit131 INTEGER ,bit132 INTEGER ,bit133 INTEGER ,bit134 INTEGER\n",
    " ,bit135 INTEGER ,bit136 INTEGER ,bit137 INTEGER\n",
    " ) NO PRIMARY INDEX \n",
    "   ON COMMIT PRESERVE ROWS;"
   ]
  },
  {
   "cell_type": "markdown",
   "metadata": {},
   "source": [
    "<br/><br/><br/>\n",
    "## Stored Proc"
   ]
  },
  {
   "cell_type": "code",
   "execution_count": 65,
   "metadata": {},
   "outputs": [],
   "source": [
    "REPLACE PROCEDURE adlste_coa.sp_dat_feature_usage_log ( spversion VARCHAR(128) ) \n",
    "SQL SECURITY CREATOR\n",
    "BEGIN \n",
    "\n",
    "    /* start setup audit process */\n",
    "    DECLARE runid  INTEGER;\n",
    "    DECLARE siteid VARCHAR(128);\n",
    "    DECLARE tablename VARCHAR(128);\n",
    "    DECLARE callingsp VARCHAR(128); \n",
    "    DECLARE startdate DATE;\n",
    "    DECLARE enddate DATE;\n",
    "    \n",
    "    /* for reconcile: */\n",
    "    DECLARE dim INTEGER; -- dim_feature\n",
    "    DECLARE gtt INTEGER; -- source GTT\n",
    "    DECLARE unp INTEGER; -- unpivot\n",
    "    DECLARE dat INTEGER; -- final dat_feature_usage_log\n",
    "    \n",
    "    DECLARE err BYTEINT; -- Flag if error found\n",
    "    DECLARE msg VARCHAR(100);\n",
    "    \n",
    "    SET runid = 0;\n",
    "    SET tablename = 'adlste_coa.coat_dat_feature_usage_log';\n",
    "    SET callingsp = 'adlste_coa.sp_dat_feature_usage_log';\n",
    "    SET siteid = 'Empty Table';\n",
    "    SET startdate = DATE;\n",
    "    SET enddate = DATE;\n",
    "\n",
    "    SELECT \n",
    "     coalesce(Site_ID,'empty table')       \n",
    "    ,min(LogDate) as StartDate\n",
    "    ,max(LogDate) as EndDate\n",
    "    INTO siteid, startdate, enddate\n",
    "    FROM adlste_coa_stg.stg_dat_feature_usage_log\n",
    "    Group by 1\n",
    "    ;\n",
    "    \n",
    "    /* end setup audit process */\n",
    "    \n",
    "    \n",
    "    CALL adlste_coa.sp_audit_log(runid, :siteid, :tablename, :callingsp, :spversion, :startdate, :enddate,\n",
    "                              'normal run', 'START',  '') ;\n",
    "                              \n",
    "    CALL adlste_coa.sp_audit_log(runid, :siteid, :tablename, :callingsp, :spversion, :startdate, :enddate,\n",
    "                              'normal run', 'STEP',  'Unpivot from source') ;\n",
    "        \n",
    "    /* unpivot data from source */\n",
    "    create volatile table feature_usage_unpivot as\n",
    "    (\n",
    "        select *\n",
    "        from adlste_coa_stg.stg_dat_feature_usage_log\n",
    "        unpivot(Usage_Cnt for BitPos in\n",
    "            (bit016 as '016' ,bit017 as '017' ,bit018 as '018' ,bit019 as '019' \n",
    "            ,bit020 as '020' ,bit021 as '021' ,bit022 as '022' ,bit023 as '023' ,bit024 as '024'\n",
    "            ,bit025 as '025' ,bit026 as '026' ,bit027 as '027' ,bit028 as '028' ,bit029 as '029'\n",
    "            ,bit030 as '030' ,bit031 as '031' ,bit032 as '032' ,bit033 as '033' ,bit034 as '034'\n",
    "            ,bit035 as '035' ,bit036 as '036' ,bit037 as '037' ,bit038 as '038' ,bit039 as '039'\n",
    "            ,bit040 as '040' ,bit041 as '041' ,bit042 as '042' ,bit043 as '043' ,bit044 as '044'\n",
    "            ,bit045 as '045' ,bit046 as '046' ,bit047 as '047' ,bit048 as '048' ,bit049 as '049'\n",
    "            ,bit050 as '050' ,bit051 as '051' ,bit052 as '052' ,bit053 as '053' ,bit054 as '054'\n",
    "            ,bit055 as '055' ,bit056 as '056' ,bit057 as '057' ,bit058 as '058' ,bit059 as '059'\n",
    "            ,bit060 as '060' ,bit061 as '061' ,bit062 as '062' ,bit063 as '063' ,bit064 as '064'\n",
    "            ,bit065 as '065' ,bit066 as '066' ,bit067 as '067' ,bit068 as '068' ,bit069 as '069'\n",
    "            ,bit070 as '070' ,bit071 as '071' ,bit072 as '072' ,bit073 as '073' ,bit074 as '074'\n",
    "            ,bit075 as '075' ,bit076 as '076' ,bit077 as '077' ,bit078 as '078' ,bit079 as '079'\n",
    "            ,bit080 as '080' ,bit081 as '081' ,bit082 as '082' ,bit083 as '083' ,bit084 as '084'\n",
    "            ,bit085 as '085' ,bit086 as '086' ,bit087 as '087' ,bit088 as '088' ,bit089 as '089'\n",
    "            ,bit090 as '090' ,bit091 as '091' ,bit092 as '092' ,bit093 as '093' ,bit094 as '094'\n",
    "            ,bit095 as '095' ,bit096 as '096' ,bit097 as '097' ,bit098 as '098' ,bit099 as '099'\n",
    "            ,bit100 as '100' ,bit101 as '101' ,bit102 as '102' ,bit103 as '103' ,bit104 as '104'\n",
    "            ,bit105 as '105' ,bit106 as '106' ,bit107 as '107' ,bit108 as '108' ,bit109 as '109'\n",
    "            ,bit110 as '110' ,bit111 as '111' ,bit112 as '112' ,bit113 as '113' ,bit114 as '114'\n",
    "            ,bit115 as '115' ,bit116 as '116' ,bit117 as '117' ,bit118 as '118' ,bit119 as '119'\n",
    "            ,bit120 as '120' ,bit121 as '121' ,bit122 as '122' ,bit123 as '123' ,bit124 as '124'\n",
    "            ,bit125 as '125' ,bit126 as '126' ,bit127 as '127' ,bit128 as '128' ,bit129 as '129'\n",
    "            ,bit130 as '130' ,bit131 as '131' ,bit132 as '132' ,bit133 as '133' ,bit134 as '134'\n",
    "            ,bit135 as '135' ,bit136 as '136' ,bit137 as '137' ) \n",
    "        ) tmp\n",
    "    ) with data \n",
    "      no primary index\n",
    "      on commit preserve rows;\n",
    "      \n",
    "\n",
    "    CALL adlste_coa.sp_audit_log(runid, :siteid, :tablename, :callingsp, :spversion, :startdate, :enddate,\n",
    "                              'normal run', 'STEP',  'Delete from Target') ;\n",
    "    \n",
    "    DELETE from adlste_coa.coat_dat_feature_usage_log \n",
    "    where (Site_ID, LogDate) in (select Site_ID, LogDate from feature_usage_unpivot);\n",
    "\n",
    "                              \n",
    "    CALL adlste_coa.sp_audit_log(runid, :siteid, :tablename, :callingsp, :spversion, :startdate, :enddate,\n",
    "                              'normal run', 'STEP',  'Join to DIM_Feature and insert into Target') ;\n",
    "\n",
    "    INSERT into adlste_coa.coat_dat_feature_usage_log \n",
    "    select u.Site_ID, u.LogDate, f.Feature_ID\n",
    "    ,case when u.DBSVersion between '16.20.33.01' and '16.20.53.07' then 'ALT01'\n",
    "          else 'DEFAULT' end as DBS_Version\n",
    "    ,u.User_Bucket, u.User_Department, 'na' as User_SubDepartment, 'na' as User_Region\n",
    "    ,Usage_Cnt as Feature_Usage_Cnt\n",
    "    ,:runid as RunID\n",
    "    from feature_usage_unpivot u\n",
    "    join adlste_coa.coat_dim_feature f\n",
    "      on cast(u.BitPos as int) = f.Feature_BitPos\n",
    "     and f.DBS_Version = case \n",
    "                         when u.DBSVersion between '16.20.33.01' and '16.20.53.07' then 'ALT01'\n",
    "                         else 'DEFAULT' end\n",
    "    ;\n",
    "      \n",
    "\n",
    "\n",
    "    CALL adlste_coa.sp_audit_log(runid, :siteid, :tablename, :callingsp, :spversion, :startdate, :enddate,\n",
    "                              'normal run', 'STEP',  'Reconcile record counts');\n",
    "    \n",
    "\n",
    "    /* Reconcile */  \n",
    "    Select gtt, unp, dim, dat \n",
    "      INTO gtt, unp, dim, dat\n",
    "    from \n",
    "    (select count(*) as gtt from dbc.columns\n",
    "     where databasename = 'adlste_coa_stg'\n",
    "       and tablename = 'stg_dat_feature_usage_log'\n",
    "       and columnname like 'bit%') g\n",
    "    cross join\n",
    "    (select count(distinct bitpos) as unp from feature_usage_unpivot) u\n",
    "    cross join\n",
    "    (select count(*) as dim from adlste_coa.coat_dim_feature where feature_bitpos <>0) i\n",
    "    cross join\n",
    "    (select count(distinct feature_ID) as dat from adlste_coa.coat_dat_feature_usage_log\n",
    "     where Site_ID= :siteid and LogDate between :startdate AND :enddate ) a\n",
    "     ;\n",
    "     \n",
    "     \n",
    "    IF gtt <> unp THEN\n",
    "        CALL adlste_coa.sp_audit_log(runid, :siteid, :tablename, :callingsp, :spversion, :startdate, :enddate,\n",
    "                          'normal run', 'ERROR',  'Global Temp Table different than Unpivot Table') ;\n",
    "    END IF;\n",
    "                          \n",
    "    IF unp <> dim THEN        \n",
    "        Select 'MISSING BIT POSITION DEFINITION: ' || min(u.BitPos) || ' -- found in '|| trim(u.Site_ID) ||' ('|| u.DBSVersion ||')' as msg\n",
    "        INTO msg\n",
    "        from feature_usage_unpivot u\n",
    "        left outer join adlste_coa.coat_dim_feature f\n",
    "          on cast(u.BitPos as int) = f.Feature_BitPos\n",
    "        where f.Feature_ID is null\n",
    "        group by u.Site_ID, u.DBSVersion;\n",
    "        \n",
    "        CALL adlste_coa.sp_audit_log(runid, :siteid, :tablename, :callingsp, :spversion, :startdate, :enddate,\n",
    "                      'normal run', 'ERROR',  :msg) ;\n",
    "    END IF;\n",
    "        \n",
    "        \n",
    "    IF dim <> dat THEN\n",
    "        CALL adlste_coa.sp_audit_log(runid, :siteid, :tablename, :callingsp, :spversion, :startdate, :enddate,\n",
    "                          'normal run', 'ERROR',  'DIM_Feature different than DAT_Feature_Usage_Log') ;\n",
    "    END IF;\n",
    "\n",
    "\n",
    "    drop table feature_usage_unpivot;\n",
    "    delete from adlste_coa_stg.stg_dat_feature_usage_log ;\n",
    "\n",
    "        \n",
    "    CALL adlste_coa.sp_audit_log(runid, :siteid, :tablename, :callingsp, :spversion, :startdate, :enddate,\n",
    "                              'normal run', 'END', '') ;\n",
    "\n",
    "END;"
   ]
  },
  {
   "cell_type": "code",
   "execution_count": 66,
   "metadata": {},
   "outputs": [
    {
     "data": {
      "text/plain": [
       "Success: 0 rows affected"
      ]
     },
     "execution_count": 66,
     "metadata": {
      "application/vnd.teradata.resultset": ""
     },
     "output_type": "execute_result"
    }
   ],
   "source": [
    "call adlste_coa.sp_dat_feature_usage_log ('v1')"
   ]
  },
  {
   "cell_type": "markdown",
   "metadata": {},
   "source": [
    "<br/><br/><br/>\n",
    "## Feature_Usage_LOG  sql for COA"
   ]
  },
  {
   "cell_type": "markdown",
   "metadata": {},
   "source": [
    "<br><br><br>\n",
    "### Customer System SQL"
   ]
  },
  {
   "cell_type": "code",
   "execution_count": 259,
   "metadata": {},
   "outputs": [
    {
     "data": {
      "text/plain": [
       "Success: 21 rows affected"
      ]
     },
     "execution_count": 259,
     "metadata": {
      "application/vnd.teradata.resultset": ""
     },
     "output_type": "execute_result"
    },
    {
     "data": {
      "text/plain": [
       "Success: 21 rows affected"
      ]
     },
     "execution_count": 259,
     "metadata": {
      "application/vnd.teradata.resultset": ""
     },
     "output_type": "execute_result"
    }
   ],
   "source": [
    "/*  extracts the feature logging from dbqlogtbl WITHOUT the cartesian Join\n",
    "    by user bucket / department. Mapping to Feature_IDs happen in Transcend. \n",
    "    \n",
    "  parameters\n",
    "     dbqlogtbl  = {dbqlogtbl}\n",
    "     siteid     = {siteid}\n",
    "     startdate  = {startdate}\n",
    "     enddate    = {enddate}\n",
    "*/\n",
    "\n",
    "\n",
    "/*{{save:feature_department.csv}}*/\n",
    "/*{{load:{db_stg}.stg_dat_feature_usage_log}}*/\n",
    "/*{{call:{db_coa}.sp_dat_feature_usage_log}}*/\n",
    "SELECT\n",
    " '{siteid}' (VARCHAR(100)) as SiteID\n",
    ",A.LogDate as LogDate\n",
    ",u.User_Bucket\n",
    ",u.User_Department\n",
    ",(Select trim(infoData) as DBSVersion from dbc.dbcinfo where InfoKey = 'VERSION') AS DBSVersion\n",
    ",count(*) as Request_Count\n",
    ",ZEROIFNULL(SUM(GETBIT(A.FEATUREUSAGE,(2047 -016)))) AS bit016\n",
    ",ZEROIFNULL(SUM(GETBIT(A.FEATUREUSAGE,(2047 -017)))) AS bit017\n",
    ",ZEROIFNULL(SUM(GETBIT(A.FEATUREUSAGE,(2047 -018)))) AS bit018\n",
    ",ZEROIFNULL(SUM(GETBIT(A.FEATUREUSAGE,(2047 -019)))) AS bit019\n",
    ",ZEROIFNULL(SUM(GETBIT(A.FEATUREUSAGE,(2047 -020)))) AS bit020\n",
    ",ZEROIFNULL(SUM(GETBIT(A.FEATUREUSAGE,(2047 -021)))) AS bit021\n",
    ",ZEROIFNULL(SUM(GETBIT(A.FEATUREUSAGE,(2047 -022)))) AS bit022\n",
    ",ZEROIFNULL(SUM(GETBIT(A.FEATUREUSAGE,(2047 -023)))) AS bit023\n",
    ",ZEROIFNULL(SUM(GETBIT(A.FEATUREUSAGE,(2047 -024)))) AS bit024\n",
    ",ZEROIFNULL(SUM(GETBIT(A.FEATUREUSAGE,(2047 -025)))) AS bit025\n",
    ",ZEROIFNULL(SUM(GETBIT(A.FEATUREUSAGE,(2047 -026)))) AS bit026\n",
    ",ZEROIFNULL(SUM(GETBIT(A.FEATUREUSAGE,(2047 -027)))) AS bit027\n",
    ",ZEROIFNULL(SUM(GETBIT(A.FEATUREUSAGE,(2047 -028)))) AS bit028\n",
    ",ZEROIFNULL(SUM(GETBIT(A.FEATUREUSAGE,(2047 -029)))) AS bit029\n",
    ",ZEROIFNULL(SUM(GETBIT(A.FEATUREUSAGE,(2047 -030)))) AS bit030\n",
    ",ZEROIFNULL(SUM(GETBIT(A.FEATUREUSAGE,(2047 -031)))) AS bit031\n",
    ",ZEROIFNULL(SUM(GETBIT(A.FEATUREUSAGE,(2047 -032)))) AS bit032\n",
    ",ZEROIFNULL(SUM(GETBIT(A.FEATUREUSAGE,(2047 -033)))) AS bit033\n",
    ",ZEROIFNULL(SUM(GETBIT(A.FEATUREUSAGE,(2047 -034)))) AS bit034\n",
    ",ZEROIFNULL(SUM(GETBIT(A.FEATUREUSAGE,(2047 -035)))) AS bit035\n",
    ",ZEROIFNULL(SUM(GETBIT(A.FEATUREUSAGE,(2047 -036)))) AS bit036\n",
    ",ZEROIFNULL(SUM(GETBIT(A.FEATUREUSAGE,(2047 -037)))) AS bit037\n",
    ",ZEROIFNULL(SUM(GETBIT(A.FEATUREUSAGE,(2047 -038)))) AS bit038\n",
    ",ZEROIFNULL(SUM(GETBIT(A.FEATUREUSAGE,(2047 -039)))) AS bit039\n",
    ",ZEROIFNULL(SUM(GETBIT(A.FEATUREUSAGE,(2047 -040)))) AS bit040\n",
    ",ZEROIFNULL(SUM(GETBIT(A.FEATUREUSAGE,(2047 -041)))) AS bit041\n",
    ",ZEROIFNULL(SUM(GETBIT(A.FEATUREUSAGE,(2047 -042)))) AS bit042\n",
    ",ZEROIFNULL(SUM(GETBIT(A.FEATUREUSAGE,(2047 -043)))) AS bit043\n",
    ",ZEROIFNULL(SUM(GETBIT(A.FEATUREUSAGE,(2047 -044)))) AS bit044\n",
    ",ZEROIFNULL(SUM(GETBIT(A.FEATUREUSAGE,(2047 -045)))) AS bit045\n",
    ",ZEROIFNULL(SUM(GETBIT(A.FEATUREUSAGE,(2047 -046)))) AS bit046\n",
    ",ZEROIFNULL(SUM(GETBIT(A.FEATUREUSAGE,(2047 -047)))) AS bit047\n",
    ",ZEROIFNULL(SUM(GETBIT(A.FEATUREUSAGE,(2047 -048)))) AS bit048\n",
    ",ZEROIFNULL(SUM(GETBIT(A.FEATUREUSAGE,(2047 -049)))) AS bit049\n",
    ",ZEROIFNULL(SUM(GETBIT(A.FEATUREUSAGE,(2047 -050)))) AS bit050\n",
    ",ZEROIFNULL(SUM(GETBIT(A.FEATUREUSAGE,(2047 -051)))) AS bit051\n",
    ",ZEROIFNULL(SUM(GETBIT(A.FEATUREUSAGE,(2047 -052)))) AS bit052\n",
    ",ZEROIFNULL(SUM(GETBIT(A.FEATUREUSAGE,(2047 -053)))) AS bit053\n",
    ",ZEROIFNULL(SUM(GETBIT(A.FEATUREUSAGE,(2047 -054)))) AS bit054\n",
    ",ZEROIFNULL(SUM(GETBIT(A.FEATUREUSAGE,(2047 -055)))) AS bit055\n",
    ",ZEROIFNULL(SUM(GETBIT(A.FEATUREUSAGE,(2047 -056)))) AS bit056\n",
    ",ZEROIFNULL(SUM(GETBIT(A.FEATUREUSAGE,(2047 -057)))) AS bit057\n",
    ",ZEROIFNULL(SUM(GETBIT(A.FEATUREUSAGE,(2047 -058)))) AS bit058\n",
    ",ZEROIFNULL(SUM(GETBIT(A.FEATUREUSAGE,(2047 -059)))) AS bit059\n",
    ",ZEROIFNULL(SUM(GETBIT(A.FEATUREUSAGE,(2047 -060)))) AS bit060\n",
    ",ZEROIFNULL(SUM(GETBIT(A.FEATUREUSAGE,(2047 -061)))) AS bit061\n",
    ",ZEROIFNULL(SUM(GETBIT(A.FEATUREUSAGE,(2047 -062)))) AS bit062\n",
    ",ZEROIFNULL(SUM(GETBIT(A.FEATUREUSAGE,(2047 -063)))) AS bit063\n",
    ",ZEROIFNULL(SUM(GETBIT(A.FEATUREUSAGE,(2047 -064)))) AS bit064\n",
    ",ZEROIFNULL(SUM(GETBIT(A.FEATUREUSAGE,(2047 -065)))) AS bit065\n",
    ",ZEROIFNULL(SUM(GETBIT(A.FEATUREUSAGE,(2047 -066)))) AS bit066\n",
    ",ZEROIFNULL(SUM(GETBIT(A.FEATUREUSAGE,(2047 -067)))) AS bit067\n",
    ",ZEROIFNULL(SUM(GETBIT(A.FEATUREUSAGE,(2047 -068)))) AS bit068\n",
    ",ZEROIFNULL(SUM(GETBIT(A.FEATUREUSAGE,(2047 -069)))) AS bit069\n",
    ",ZEROIFNULL(SUM(GETBIT(A.FEATUREUSAGE,(2047 -070)))) AS bit070\n",
    ",ZEROIFNULL(SUM(GETBIT(A.FEATUREUSAGE,(2047 -071)))) AS bit071\n",
    ",ZEROIFNULL(SUM(GETBIT(A.FEATUREUSAGE,(2047 -072)))) AS bit072\n",
    ",ZEROIFNULL(SUM(GETBIT(A.FEATUREUSAGE,(2047 -073)))) AS bit073\n",
    ",ZEROIFNULL(SUM(GETBIT(A.FEATUREUSAGE,(2047 -074)))) AS bit074\n",
    ",ZEROIFNULL(SUM(GETBIT(A.FEATUREUSAGE,(2047 -075)))) AS bit075\n",
    ",ZEROIFNULL(SUM(GETBIT(A.FEATUREUSAGE,(2047 -076)))) AS bit076\n",
    ",ZEROIFNULL(SUM(GETBIT(A.FEATUREUSAGE,(2047 -077)))) AS bit077\n",
    ",ZEROIFNULL(SUM(GETBIT(A.FEATUREUSAGE,(2047 -078)))) AS bit078\n",
    ",ZEROIFNULL(SUM(GETBIT(A.FEATUREUSAGE,(2047 -079)))) AS bit079\n",
    ",ZEROIFNULL(SUM(GETBIT(A.FEATUREUSAGE,(2047 -080)))) AS bit080\n",
    ",ZEROIFNULL(SUM(GETBIT(A.FEATUREUSAGE,(2047 -081)))) AS bit081\n",
    ",ZEROIFNULL(SUM(GETBIT(A.FEATUREUSAGE,(2047 -082)))) AS bit082\n",
    ",ZEROIFNULL(SUM(GETBIT(A.FEATUREUSAGE,(2047 -083)))) AS bit083\n",
    ",ZEROIFNULL(SUM(GETBIT(A.FEATUREUSAGE,(2047 -084)))) AS bit084\n",
    ",ZEROIFNULL(SUM(GETBIT(A.FEATUREUSAGE,(2047 -085)))) AS bit085\n",
    ",ZEROIFNULL(SUM(GETBIT(A.FEATUREUSAGE,(2047 -086)))) AS bit086\n",
    ",ZEROIFNULL(SUM(GETBIT(A.FEATUREUSAGE,(2047 -087)))) AS bit087\n",
    ",ZEROIFNULL(SUM(GETBIT(A.FEATUREUSAGE,(2047 -088)))) AS bit088\n",
    ",ZEROIFNULL(SUM(GETBIT(A.FEATUREUSAGE,(2047 -089)))) AS bit089\n",
    ",ZEROIFNULL(SUM(GETBIT(A.FEATUREUSAGE,(2047 -090)))) AS bit090\n",
    ",ZEROIFNULL(SUM(GETBIT(A.FEATUREUSAGE,(2047 -091)))) AS bit091\n",
    ",ZEROIFNULL(SUM(GETBIT(A.FEATUREUSAGE,(2047 -092)))) AS bit092\n",
    ",ZEROIFNULL(SUM(GETBIT(A.FEATUREUSAGE,(2047 -093)))) AS bit093\n",
    ",ZEROIFNULL(SUM(GETBIT(A.FEATUREUSAGE,(2047 -094)))) AS bit094\n",
    ",ZEROIFNULL(SUM(GETBIT(A.FEATUREUSAGE,(2047 -095)))) AS bit095\n",
    ",ZEROIFNULL(SUM(GETBIT(A.FEATUREUSAGE,(2047 -096)))) AS bit096\n",
    ",ZEROIFNULL(SUM(GETBIT(A.FEATUREUSAGE,(2047 -097)))) AS bit097\n",
    ",ZEROIFNULL(SUM(GETBIT(A.FEATUREUSAGE,(2047 -098)))) AS bit098\n",
    ",ZEROIFNULL(SUM(GETBIT(A.FEATUREUSAGE,(2047 -099)))) AS bit099\n",
    ",ZEROIFNULL(SUM(GETBIT(A.FEATUREUSAGE,(2047 -100)))) AS bit100\n",
    ",ZEROIFNULL(SUM(GETBIT(A.FEATUREUSAGE,(2047 -101)))) AS bit101\n",
    ",ZEROIFNULL(SUM(GETBIT(A.FEATUREUSAGE,(2047 -102)))) AS bit102\n",
    ",ZEROIFNULL(SUM(GETBIT(A.FEATUREUSAGE,(2047 -103)))) AS bit103\n",
    ",ZEROIFNULL(SUM(GETBIT(A.FEATUREUSAGE,(2047 -104)))) AS bit104\n",
    ",ZEROIFNULL(SUM(GETBIT(A.FEATUREUSAGE,(2047 -105)))) AS bit105\n",
    ",ZEROIFNULL(SUM(GETBIT(A.FEATUREUSAGE,(2047 -106)))) AS bit106\n",
    ",ZEROIFNULL(SUM(GETBIT(A.FEATUREUSAGE,(2047 -107)))) AS bit107\n",
    ",ZEROIFNULL(SUM(GETBIT(A.FEATUREUSAGE,(2047 -108)))) AS bit108\n",
    ",ZEROIFNULL(SUM(GETBIT(A.FEATUREUSAGE,(2047 -109)))) AS bit109\n",
    ",ZEROIFNULL(SUM(GETBIT(A.FEATUREUSAGE,(2047 -110)))) AS bit110\n",
    ",ZEROIFNULL(SUM(GETBIT(A.FEATUREUSAGE,(2047 -111)))) AS bit111\n",
    ",ZEROIFNULL(SUM(GETBIT(A.FEATUREUSAGE,(2047 -112)))) AS bit112\n",
    ",ZEROIFNULL(SUM(GETBIT(A.FEATUREUSAGE,(2047 -113)))) AS bit113\n",
    ",ZEROIFNULL(SUM(GETBIT(A.FEATUREUSAGE,(2047 -114)))) AS bit114\n",
    ",ZEROIFNULL(SUM(GETBIT(A.FEATUREUSAGE,(2047 -115)))) AS bit115\n",
    ",ZEROIFNULL(SUM(GETBIT(A.FEATUREUSAGE,(2047 -116)))) AS bit116\n",
    ",ZEROIFNULL(SUM(GETBIT(A.FEATUREUSAGE,(2047 -117)))) AS bit117\n",
    ",ZEROIFNULL(SUM(GETBIT(A.FEATUREUSAGE,(2047 -118)))) AS bit118\n",
    ",ZEROIFNULL(SUM(GETBIT(A.FEATUREUSAGE,(2047 -119)))) AS bit119\n",
    ",ZEROIFNULL(SUM(GETBIT(A.FEATUREUSAGE,(2047 -120)))) AS bit120\n",
    ",ZEROIFNULL(SUM(GETBIT(A.FEATUREUSAGE,(2047 -121)))) AS bit121\n",
    ",ZEROIFNULL(SUM(GETBIT(A.FEATUREUSAGE,(2047 -122)))) AS bit122\n",
    ",ZEROIFNULL(SUM(GETBIT(A.FEATUREUSAGE,(2047 -123)))) AS bit123\n",
    ",ZEROIFNULL(SUM(GETBIT(A.FEATUREUSAGE,(2047 -124)))) AS bit124\n",
    ",ZEROIFNULL(SUM(GETBIT(A.FEATUREUSAGE,(2047 -125)))) AS bit125\n",
    ",ZEROIFNULL(SUM(GETBIT(A.FEATUREUSAGE,(2047 -126)))) AS bit126\n",
    ",ZEROIFNULL(SUM(GETBIT(A.FEATUREUSAGE,(2047 -127)))) AS bit127\n",
    ",ZEROIFNULL(SUM(GETBIT(A.FEATUREUSAGE,(2047 -128)))) AS bit128\n",
    ",ZEROIFNULL(SUM(GETBIT(A.FEATUREUSAGE,(2047 -129)))) AS bit129\n",
    ",ZEROIFNULL(SUM(GETBIT(A.FEATUREUSAGE,(2047 -130)))) AS bit130\n",
    ",ZEROIFNULL(SUM(GETBIT(A.FEATUREUSAGE,(2047 -131)))) AS bit131\n",
    ",ZEROIFNULL(SUM(GETBIT(A.FEATUREUSAGE,(2047 -132)))) AS bit132\n",
    ",ZEROIFNULL(SUM(GETBIT(A.FEATUREUSAGE,(2047 -133)))) AS bit133\n",
    ",ZEROIFNULL(SUM(GETBIT(A.FEATUREUSAGE,(2047 -134)))) AS bit134\n",
    ",ZEROIFNULL(SUM(GETBIT(A.FEATUREUSAGE,(2047 -135)))) AS bit135\n",
    ",ZEROIFNULL(SUM(GETBIT(A.FEATUREUSAGE,(2047 -136)))) AS bit136\n",
    ",ZEROIFNULL(SUM(GETBIT(A.FEATUREUSAGE,(2047 -137)))) AS bit137\n",
    "FROM PDCRINFO.DBQLOGTBL_HST as A\n",
    "JOIN dim_user as U\n",
    "  on a.UserName = u.UserName\n",
    "WHERE LogDate BETWEEN date-7  and date-1\n",
    "GROUP BY 1,2,3,4,5;\n"
   ]
  },
  {
   "cell_type": "code",
   "execution_count": 140,
   "metadata": {},
   "outputs": [
    {
     "data": {
      "application/vnd.teradata.resultset": "[{\"DBSVersion\":\"16.20.32.1          \",\"LogDate\":\"2020-06-10\",\"Request_Count\":\"292114\",\"Site_ID\":\"{siteid}\",\"User_Bucket\":\"Admin\",\"User_Department\":\"dept\",\"bit016\":\"124\",\"bit017\":\"158591\",\"bit018\":\"157838\",\"bit019\":\"1691\",\"bit020\":\"158591\",\"bit021\":\"0\",\"bit022\":\"158591\",\"bit023\":\"944\",\"bit024\":\"0\",\"bit025\":\"99\",\"bit026\":\"1801\",\"bit027\":\"282\",\"bit028\":\"282\",\"bit029\":\"1541\",\"bit030\":\"0\",\"bit031\":\"0\",\"bit032\":\"0\",\"bit033\":\"0\",\"bit034\":\"172\",\"bit035\":\"21389\",\"bit036\":\"102\",\"bit037\":\"7\",\"bit038\":\"164411\",\"bit039\":\"323\",\"bit040\":\"164893\",\"bit041\":\"172\",\"bit042\":\"20\",\"bit043\":\"0\",\"bit044\":\"0\",\"bit045\":\"0\",\"bit046\":\"0\",\"bit047\":\"0\",\"bit048\":\"172\",\"bit049\":\"0\",\"bit050\":\"0\",\"bit051\":\"16\",\"bit052\":\"66\",\"bit053\":\"0\",\"bit054\":\"497\",\"bit055\":\"0\",\"bit056\":\"0\",\"bit057\":\"0\",\"bit058\":\"0\",\"bit059\":\"42\",\"bit060\":\"289398\",\"bit061\":\"289398\",\"bit062\":\"289398\",\"bit063\":\"0\",\"bit064\":\"0\",\"bit065\":\"289398\",\"bit066\":\"0\",\"bit067\":\"289398\",\"bit068\":\"289398\",\"bit069\":\"0\",\"bit070\":\"200\",\"bit071\":\"0\",\"bit072\":\"0\",\"bit073\":\"3138\",\"bit074\":\"0\",\"bit075\":\"0\",\"bit076\":\"0\",\"bit077\":\"99107\",\"bit078\":\"0\",\"bit079\":\"0\",\"bit080\":\"0\",\"bit081\":\"1326\",\"bit082\":\"979\",\"bit083\":\"870\",\"bit084\":\"158591\",\"bit085\":\"40921\",\"bit086\":\"0\",\"bit087\":\"404\",\"bit088\":\"35737\",\"bit089\":\"0\",\"bit090\":\"7440\",\"bit091\":\"155506\",\"bit092\":\"0\",\"bit093\":\"900\",\"bit094\":\"0\",\"bit095\":\"468\",\"bit096\":\"0\",\"bit097\":\"76\",\"bit098\":\"0\",\"bit099\":\"0\",\"bit100\":\"0\",\"bit101\":\"11\",\"bit102\":\"0\",\"bit103\":\"0\",\"bit104\":\"0\",\"bit105\":\"0\",\"bit106\":\"0\",\"bit107\":\"0\",\"bit108\":\"0\",\"bit109\":\"0\",\"bit110\":\"0\",\"bit111\":\"0\",\"bit112\":\"0\",\"bit113\":\"404\",\"bit114\":\"0\",\"bit115\":\"0\",\"bit116\":\"0\",\"bit117\":\"1411\",\"bit118\":\"0\",\"bit119\":\"1149\",\"bit120\":\"1422\",\"bit121\":\"0\",\"bit122\":\"0\",\"bit123\":\"0\",\"bit124\":\"0\",\"bit125\":\"0\",\"bit126\":\"0\",\"bit127\":\"0\",\"bit128\":\"3235\",\"bit129\":\"0\",\"bit130\":\"0\",\"bit131\":\"0\",\"bit132\":\"0\",\"bit133\":\"0\",\"bit134\":\"0\",\"bit135\":\"0\",\"bit136\":\"22\",\"bit137\":\"0\"},{\"DBSVersion\":\"16.20.32.1          \",\"LogDate\":\"2020-06-06\",\"Request_Count\":\"238602\",\"Site_ID\":\"{siteid}\",\"User_Bucket\":\"Admin\",\"User_Department\":\"dept\",\"bit016\":\"124\",\"bit017\":\"125373\",\"bit018\":\"124748\",\"bit019\":\"1110\",\"bit020\":\"125373\",\"bit021\":\"0\",\"bit022\":\"125373\",\"bit023\":\"934\",\"bit024\":\"0\",\"bit025\":\"94\",\"bit026\":\"1804\",\"bit027\":\"285\",\"bit028\":\"285\",\"bit029\":\"1541\",\"bit030\":\"0\",\"bit031\":\"0\",\"bit032\":\"0\",\"bit033\":\"0\",\"bit034\":\"144\",\"bit035\":\"10381\",\"bit036\":\"9\",\"bit037\":\"8\",\"bit038\":\"130896\",\"bit039\":\"266\",\"bit040\":\"131266\",\"bit041\":\"144\",\"bit042\":\"18\",\"bit043\":\"0\",\"bit044\":\"0\",\"bit045\":\"0\",\"bit046\":\"0\",\"bit047\":\"0\",\"bit048\":\"144\",\"bit049\":\"0\",\"bit050\":\"0\",\"bit051\":\"16\",\"bit052\":\"62\",\"bit053\":\"0\",\"bit054\":\"497\",\"bit055\":\"0\",\"bit056\":\"0\",\"bit057\":\"0\",\"bit058\":\"0\",\"bit059\":\"48\",\"bit060\":\"235999\",\"bit061\":\"235999\",\"bit062\":\"235999\",\"bit063\":\"0\",\"bit064\":\"0\",\"bit065\":\"235999\",\"bit066\":\"0\",\"bit067\":\"235999\",\"bit068\":\"235999\",\"bit069\":\"0\",\"bit070\":\"194\",\"bit071\":\"0\",\"bit072\":\"0\",\"bit073\":\"0\",\"bit074\":\"0\",\"bit075\":\"0\",\"bit076\":\"0\",\"bit077\":\"73908\",\"bit078\":\"0\",\"bit079\":\"0\",\"bit080\":\"0\",\"bit081\":\"0\",\"bit082\":\"196\",\"bit083\":\"810\",\"bit084\":\"125373\",\"bit085\":\"28461\",\"bit086\":\"0\",\"bit087\":\"206\",\"bit088\":\"24342\",\"bit089\":\"0\",\"bit090\":\"2903\",\"bit091\":\"123155\",\"bit092\":\"0\",\"bit093\":\"882\",\"bit094\":\"0\",\"bit095\":\"679\",\"bit096\":\"0\",\"bit097\":\"73\",\"bit098\":\"0\",\"bit099\":\"0\",\"bit100\":\"0\",\"bit101\":\"11\",\"bit102\":\"0\",\"bit103\":\"0\",\"bit104\":\"0\",\"bit105\":\"0\",\"bit106\":\"0\",\"bit107\":\"0\",\"bit108\":\"0\",\"bit109\":\"0\",\"bit110\":\"0\",\"bit111\":\"0\",\"bit112\":\"0\",\"bit113\":\"0\",\"bit114\":\"0\",\"bit115\":\"0\",\"bit116\":\"0\",\"bit117\":\"1229\",\"bit118\":\"0\",\"bit119\":\"1149\",\"bit120\":\"1446\",\"bit121\":\"0\",\"bit122\":\"0\",\"bit123\":\"0\",\"bit124\":\"0\",\"bit125\":\"0\",\"bit126\":\"0\",\"bit127\":\"0\",\"bit128\":\"0\",\"bit129\":\"0\",\"bit130\":\"0\",\"bit131\":\"0\",\"bit132\":\"0\",\"bit133\":\"0\",\"bit134\":\"0\",\"bit135\":\"0\",\"bit136\":\"22\",\"bit137\":\"0\"},{\"DBSVersion\":\"16.20.32.1          \",\"LogDate\":\"2020-06-08\",\"Request_Count\":\"258466\",\"Site_ID\":\"{siteid}\",\"User_Bucket\":\"Admin\",\"User_Department\":\"dept\",\"bit016\":\"124\",\"bit017\":\"131994\",\"bit018\":\"129937\",\"bit019\":\"3736\",\"bit020\":\"131994\",\"bit021\":\"0\",\"bit022\":\"131994\",\"bit023\":\"947\",\"bit024\":\"0\",\"bit025\":\"169\",\"bit026\":\"1806\",\"bit027\":\"287\",\"bit028\":\"287\",\"bit029\":\"1541\",\"bit030\":\"0\",\"bit031\":\"0\",\"bit032\":\"0\",\"bit033\":\"0\",\"bit034\":\"192\",\"bit035\":\"11757\",\"bit036\":\"29\",\"bit037\":\"8\",\"bit038\":\"133711\",\"bit039\":\"282\",\"bit040\":\"134201\",\"bit041\":\"192\",\"bit042\":\"24\",\"bit043\":\"0\",\"bit044\":\"0\",\"bit045\":\"0\",\"bit046\":\"0\",\"bit047\":\"0\",\"bit048\":\"192\",\"bit049\":\"0\",\"bit050\":\"0\",\"bit051\":\"16\",\"bit052\":\"72\",\"bit053\":\"0\",\"bit054\":\"497\",\"bit055\":\"0\",\"bit056\":\"0\",\"bit057\":\"0\",\"bit058\":\"0\",\"bit059\":\"48\",\"bit060\":\"255844\",\"bit061\":\"255844\",\"bit062\":\"255844\",\"bit063\":\"0\",\"bit064\":\"0\",\"bit065\":\"255844\",\"bit066\":\"0\",\"bit067\":\"255844\",\"bit068\":\"255844\",\"bit069\":\"0\",\"bit070\":\"200\",\"bit071\":\"0\",\"bit072\":\"0\",\"bit073\":\"0\",\"bit074\":\"0\",\"bit075\":\"0\",\"bit076\":\"0\",\"bit077\":\"77383\",\"bit078\":\"0\",\"bit079\":\"0\",\"bit080\":\"0\",\"bit081\":\"44\",\"bit082\":\"539\",\"bit083\":\"1197\",\"bit084\":\"131994\",\"bit085\":\"30159\",\"bit086\":\"0\",\"bit087\":\"1369\",\"bit088\":\"26178\",\"bit089\":\"0\",\"bit090\":\"6525\",\"bit091\":\"128089\",\"bit092\":\"0\",\"bit093\":\"900\",\"bit094\":\"0\",\"bit095\":\"679\",\"bit096\":\"0\",\"bit097\":\"85\",\"bit098\":\"0\",\"bit099\":\"0\",\"bit100\":\"0\",\"bit101\":\"11\",\"bit102\":\"0\",\"bit103\":\"0\",\"bit104\":\"0\",\"bit105\":\"0\",\"bit106\":\"0\",\"bit107\":\"0\",\"bit108\":\"0\",\"bit109\":\"0\",\"bit110\":\"0\",\"bit111\":\"0\",\"bit112\":\"0\",\"bit113\":\"0\",\"bit114\":\"0\",\"bit115\":\"0\",\"bit116\":\"0\",\"bit117\":\"1390\",\"bit118\":\"0\",\"bit119\":\"1159\",\"bit120\":\"1466\",\"bit121\":\"0\",\"bit122\":\"0\",\"bit123\":\"0\",\"bit124\":\"0\",\"bit125\":\"0\",\"bit126\":\"0\",\"bit127\":\"0\",\"bit128\":\"0\",\"bit129\":\"0\",\"bit130\":\"0\",\"bit131\":\"0\",\"bit132\":\"0\",\"bit133\":\"0\",\"bit134\":\"0\",\"bit135\":\"0\",\"bit136\":\"24\",\"bit137\":\"0\"},{\"DBSVersion\":\"16.20.32.1          \",\"LogDate\":\"2020-06-05\",\"Request_Count\":\"4910921\",\"Site_ID\":\"{siteid}\",\"User_Bucket\":\"Unknown\",\"User_Department\":\"Unknown\",\"bit016\":\"5308\",\"bit017\":\"3423433\",\"bit018\":\"3138975\",\"bit019\":\"158022\",\"bit020\":\"3423433\",\"bit021\":\"0\",\"bit022\":\"3423435\",\"bit023\":\"43817\",\"bit024\":\"7\",\"bit025\":\"20330\",\"bit026\":\"47200\",\"bit027\":\"13618\",\"bit028\":\"39979\",\"bit029\":\"7230\",\"bit030\":\"6\",\"bit031\":\"2\",\"bit032\":\"5\",\"bit033\":\"0\",\"bit034\":\"3499\",\"bit035\":\"1374641\",\"bit036\":\"1\",\"bit037\":\"188486\",\"bit038\":\"1572675\",\"bit039\":\"6809\",\"bit040\":\"3327744\",\"bit041\":\"8961\",\"bit042\":\"60\",\"bit043\":\"78106\",\"bit044\":\"0\",\"bit045\":\"0\",\"bit046\":\"11\",\"bit047\":\"0\",\"bit048\":\"3078\",\"bit049\":\"2\",\"bit050\":\"3429\",\"bit051\":\"408896\",\"bit052\":\"1761\",\"bit053\":\"0\",\"bit054\":\"21620\",\"bit055\":\"0\",\"bit056\":\"0\",\"bit057\":\"3\",\"bit058\":\"3\",\"bit059\":\"16798\",\"bit060\":\"4877992\",\"bit061\":\"4877992\",\"bit062\":\"4877992\",\"bit063\":\"0\",\"bit064\":\"0\",\"bit065\":\"4877992\",\"bit066\":\"0\",\"bit067\":\"4877992\",\"bit068\":\"4877992\",\"bit069\":\"0\",\"bit070\":\"1936\",\"bit071\":\"0\",\"bit072\":\"0\",\"bit073\":\"0\",\"bit074\":\"3\",\"bit075\":\"4\",\"bit076\":\"0\",\"bit077\":\"978490\",\"bit078\":\"0\",\"bit079\":\"0\",\"bit080\":\"0\",\"bit081\":\"56372\",\"bit082\":\"109053\",\"bit083\":\"111719\",\"bit084\":\"3423435\",\"bit085\":\"2078103\",\"bit086\":\"185\",\"bit087\":\"26076\",\"bit088\":\"1606255\",\"bit089\":\"0\",\"bit090\":\"690981\",\"bit091\":\"3007948\",\"bit092\":\"49909\",\"bit093\":\"94214\",\"bit094\":\"221224\",\"bit095\":\"48166\",\"bit096\":\"0\",\"bit097\":\"5075\",\"bit098\":\"0\",\"bit099\":\"218\",\"bit100\":\"0\",\"bit101\":\"370\",\"bit102\":\"0\",\"bit103\":\"791\",\"bit104\":\"0\",\"bit105\":\"0\",\"bit106\":\"0\",\"bit107\":\"0\",\"bit108\":\"0\",\"bit109\":\"0\",\"bit110\":\"0\",\"bit111\":\"0\",\"bit112\":\"0\",\"bit113\":\"0\",\"bit114\":\"79\",\"bit115\":\"0\",\"bit116\":\"0\",\"bit117\":\"53151\",\"bit118\":\"0\",\"bit119\":\"27163\",\"bit120\":\"150220\",\"bit121\":\"127\",\"bit122\":\"0\",\"bit123\":\"0\",\"bit124\":\"0\",\"bit125\":\"0\",\"bit126\":\"0\",\"bit127\":\"0\",\"bit128\":\"0\",\"bit129\":\"0\",\"bit130\":\"0\",\"bit131\":\"0\",\"bit132\":\"0\",\"bit133\":\"0\",\"bit134\":\"0\",\"bit135\":\"0\",\"bit136\":\"709\",\"bit137\":\"0\"},{\"DBSVersion\":\"16.20.32.1          \",\"LogDate\":\"2020-06-06\",\"Request_Count\":\"4652806\",\"Site_ID\":\"{siteid}\",\"User_Bucket\":\"Unknown\",\"User_Department\":\"Unknown\",\"bit016\":\"4144\",\"bit017\":\"3360559\",\"bit018\":\"2960483\",\"bit019\":\"302773\",\"bit020\":\"3360559\",\"bit021\":\"0\",\"bit022\":\"3360559\",\"bit023\":\"33419\",\"bit024\":\"0\",\"bit025\":\"22223\",\"bit026\":\"43023\",\"bit027\":\"13655\",\"bit028\":\"36315\",\"bit029\":\"6714\",\"bit030\":\"0\",\"bit031\":\"0\",\"bit032\":\"0\",\"bit033\":\"0\",\"bit034\":\"3417\",\"bit035\":\"1301496\",\"bit036\":\"0\",\"bit037\":\"135359\",\"bit038\":\"1421100\",\"bit039\":\"6507\",\"bit040\":\"3174064\",\"bit041\":\"6813\",\"bit042\":\"65\",\"bit043\":\"80813\",\"bit044\":\"0\",\"bit045\":\"0\",\"bit046\":\"0\",\"bit047\":\"0\",\"bit048\":\"3160\",\"bit049\":\"0\",\"bit050\":\"3368\",\"bit051\":\"101279\",\"bit052\":\"1463\",\"bit053\":\"0\",\"bit054\":\"18133\",\"bit055\":\"0\",\"bit056\":\"0\",\"bit057\":\"3\",\"bit058\":\"3\",\"bit059\":\"22217\",\"bit060\":\"4627223\",\"bit061\":\"4627223\",\"bit062\":\"4627223\",\"bit063\":\"0\",\"bit064\":\"0\",\"bit065\":\"4627223\",\"bit066\":\"0\",\"bit067\":\"4627223\",\"bit068\":\"4627223\",\"bit069\":\"0\",\"bit070\":\"1610\",\"bit071\":\"0\",\"bit072\":\"0\",\"bit073\":\"0\",\"bit074\":\"3\",\"bit075\":\"4\",\"bit076\":\"0\",\"bit077\":\"928146\",\"bit078\":\"0\",\"bit079\":\"0\",\"bit080\":\"0\",\"bit081\":\"57047\",\"bit082\":\"108842\",\"bit083\":\"95975\",\"bit084\":\"3360559\",\"bit085\":\"1973725\",\"bit086\":\"175\",\"bit087\":\"17067\",\"bit088\":\"1495028\",\"bit089\":\"0\",\"bit090\":\"882469\",\"bit091\":\"2757149\",\"bit092\":\"46528\",\"bit093\":\"84419\",\"bit094\":\"178281\",\"bit095\":\"142805\",\"bit096\":\"0\",\"bit097\":\"4298\",\"bit098\":\"0\",\"bit099\":\"102\",\"bit100\":\"0\",\"bit101\":\"336\",\"bit102\":\"0\",\"bit103\":\"438\",\"bit104\":\"0\",\"bit105\":\"0\",\"bit106\":\"0\",\"bit107\":\"0\",\"bit108\":\"0\",\"bit109\":\"0\",\"bit110\":\"0\",\"bit111\":\"0\",\"bit112\":\"0\",\"bit113\":\"0\",\"bit114\":\"47\",\"bit115\":\"0\",\"bit116\":\"0\",\"bit117\":\"76138\",\"bit118\":\"0\",\"bit119\":\"18585\",\"bit120\":\"170519\",\"bit121\":\"123\",\"bit122\":\"0\",\"bit123\":\"0\",\"bit124\":\"0\",\"bit125\":\"0\",\"bit126\":\"0\",\"bit127\":\"0\",\"bit128\":\"0\",\"bit129\":\"0\",\"bit130\":\"0\",\"bit131\":\"0\",\"bit132\":\"0\",\"bit133\":\"0\",\"bit134\":\"0\",\"bit135\":\"0\",\"bit136\":\"610\",\"bit137\":\"0\"},{\"DBSVersion\":\"16.20.32.1          \",\"LogDate\":\"2020-06-09\",\"Request_Count\":\"285571\",\"Site_ID\":\"{siteid}\",\"User_Bucket\":\"Admin\",\"User_Department\":\"dept\",\"bit016\":\"124\",\"bit017\":\"143438\",\"bit018\":\"142653\",\"bit019\":\"1592\",\"bit020\":\"143438\",\"bit021\":\"0\",\"bit022\":\"143438\",\"bit023\":\"946\",\"bit024\":\"0\",\"bit025\":\"103\",\"bit026\":\"1804\",\"bit027\":\"285\",\"bit028\":\"285\",\"bit029\":\"1541\",\"bit030\":\"0\",\"bit031\":\"0\",\"bit032\":\"0\",\"bit033\":\"0\",\"bit034\":\"192\",\"bit035\":\"24247\",\"bit036\":\"21\",\"bit037\":\"8\",\"bit038\":\"151910\",\"bit039\":\"278\",\"bit040\":\"152347\",\"bit041\":\"192\",\"bit042\":\"24\",\"bit043\":\"0\",\"bit044\":\"0\",\"bit045\":\"0\",\"bit046\":\"0\",\"bit047\":\"0\",\"bit048\":\"192\",\"bit049\":\"0\",\"bit050\":\"0\",\"bit051\":\"16\",\"bit052\":\"70\",\"bit053\":\"0\",\"bit054\":\"497\",\"bit055\":\"0\",\"bit056\":\"0\",\"bit057\":\"0\",\"bit058\":\"0\",\"bit059\":\"48\",\"bit060\":\"281352\",\"bit061\":\"281352\",\"bit062\":\"281352\",\"bit063\":\"0\",\"bit064\":\"0\",\"bit065\":\"281352\",\"bit066\":\"0\",\"bit067\":\"281352\",\"bit068\":\"281352\",\"bit069\":\"0\",\"bit070\":\"193\",\"bit071\":\"0\",\"bit072\":\"0\",\"bit073\":\"0\",\"bit074\":\"0\",\"bit075\":\"0\",\"bit076\":\"0\",\"bit077\":\"116279\",\"bit078\":\"0\",\"bit079\":\"0\",\"bit080\":\"0\",\"bit081\":\"288\",\"bit082\":\"4161\",\"bit083\":\"859\",\"bit084\":\"143438\",\"bit085\":\"33943\",\"bit086\":\"0\",\"bit087\":\"475\",\"bit088\":\"31084\",\"bit089\":\"0\",\"bit090\":\"21277\",\"bit091\":\"136573\",\"bit092\":\"0\",\"bit093\":\"900\",\"bit094\":\"0\",\"bit095\":\"679\",\"bit096\":\"0\",\"bit097\":\"85\",\"bit098\":\"0\",\"bit099\":\"0\",\"bit100\":\"0\",\"bit101\":\"11\",\"bit102\":\"0\",\"bit103\":\"0\",\"bit104\":\"0\",\"bit105\":\"0\",\"bit106\":\"0\",\"bit107\":\"0\",\"bit108\":\"0\",\"bit109\":\"0\",\"bit110\":\"0\",\"bit111\":\"0\",\"bit112\":\"0\",\"bit113\":\"0\",\"bit114\":\"0\",\"bit115\":\"0\",\"bit116\":\"0\",\"bit117\":\"1438\",\"bit118\":\"0\",\"bit119\":\"1157\",\"bit120\":\"1456\",\"bit121\":\"0\",\"bit122\":\"0\",\"bit123\":\"0\",\"bit124\":\"0\",\"bit125\":\"0\",\"bit126\":\"0\",\"bit127\":\"0\",\"bit128\":\"0\",\"bit129\":\"0\",\"bit130\":\"0\",\"bit131\":\"0\",\"bit132\":\"0\",\"bit133\":\"0\",\"bit134\":\"0\",\"bit135\":\"0\",\"bit136\":\"22\",\"bit137\":\"0\"},{\"DBSVersion\":\"16.20.32.1          \",\"LogDate\":\"2020-06-08\",\"Request_Count\":\"4985990\",\"Site_ID\":\"{siteid}\",\"User_Bucket\":\"Unknown\",\"User_Department\":\"Unknown\",\"bit016\":\"5254\",\"bit017\":\"3384572\",\"bit018\":\"2846264\",\"bit019\":\"322701\",\"bit020\":\"3384572\",\"bit021\":\"0\",\"bit022\":\"3384574\",\"bit023\":\"34108\",\"bit024\":\"247\",\"bit025\":\"96684\",\"bit026\":\"48052\",\"bit027\":\"14112\",\"bit028\":\"39496\",\"bit029\":\"8568\",\"bit030\":\"246\",\"bit031\":\"2\",\"bit032\":\"245\",\"bit033\":\"0\",\"bit034\":\"5018\",\"bit035\":\"1413382\",\"bit036\":\"17\",\"bit037\":\"121244\",\"bit038\":\"1501509\",\"bit039\":\"9224\",\"bit040\":\"3134582\",\"bit041\":\"7239\",\"bit042\":\"55\",\"bit043\":\"75502\",\"bit044\":\"0\",\"bit045\":\"0\",\"bit046\":\"12\",\"bit047\":\"0\",\"bit048\":\"4515\",\"bit049\":\"0\",\"bit050\":\"3848\",\"bit051\":\"119463\",\"bit052\":\"2368\",\"bit053\":\"0\",\"bit054\":\"23645\",\"bit055\":\"0\",\"bit056\":\"0\",\"bit057\":\"64\",\"bit058\":\"78\",\"bit059\":\"14815\",\"bit060\":\"4949949\",\"bit061\":\"4949949\",\"bit062\":\"4949949\",\"bit063\":\"0\",\"bit064\":\"0\",\"bit065\":\"4949949\",\"bit066\":\"0\",\"bit067\":\"4949949\",\"bit068\":\"4949949\",\"bit069\":\"0\",\"bit070\":\"2880\",\"bit071\":\"0\",\"bit072\":\"0\",\"bit073\":\"0\",\"bit074\":\"3\",\"bit075\":\"4\",\"bit076\":\"0\",\"bit077\":\"1213616\",\"bit078\":\"0\",\"bit079\":\"0\",\"bit080\":\"0\",\"bit081\":\"68850\",\"bit082\":\"123161\",\"bit083\":\"122055\",\"bit084\":\"3384574\",\"bit085\":\"1887960\",\"bit086\":\"208\",\"bit087\":\"14302\",\"bit088\":\"1465092\",\"bit089\":\"0\",\"bit090\":\"935317\",\"bit091\":\"2768561\",\"bit092\":\"53413\",\"bit093\":\"96937\",\"bit094\":\"254587\",\"bit095\":\"49607\",\"bit096\":\"0\",\"bit097\":\"7671\",\"bit098\":\"0\",\"bit099\":\"811\",\"bit100\":\"0\",\"bit101\":\"401\",\"bit102\":\"0\",\"bit103\":\"2817\",\"bit104\":\"0\",\"bit105\":\"0\",\"bit106\":\"0\",\"bit107\":\"0\",\"bit108\":\"0\",\"bit109\":\"0\",\"bit110\":\"0\",\"bit111\":\"0\",\"bit112\":\"0\",\"bit113\":\"0\",\"bit114\":\"192\",\"bit115\":\"0\",\"bit116\":\"0\",\"bit117\":\"53566\",\"bit118\":\"0\",\"bit119\":\"29018\",\"bit120\":\"160716\",\"bit121\":\"134\",\"bit122\":\"0\",\"bit123\":\"0\",\"bit124\":\"0\",\"bit125\":\"0\",\"bit126\":\"0\",\"bit127\":\"0\",\"bit128\":\"0\",\"bit129\":\"0\",\"bit130\":\"0\",\"bit131\":\"0\",\"bit132\":\"0\",\"bit133\":\"0\",\"bit134\":\"0\",\"bit135\":\"0\",\"bit136\":\"1814\",\"bit137\":\"0\"},{\"DBSVersion\":\"16.20.32.1          \",\"LogDate\":\"2020-06-08\",\"Request_Count\":\"69035\",\"Site_ID\":\"{siteid}\",\"User_Bucket\":\"TDInternal\",\"User_Department\":\"dept\",\"bit016\":\"0\",\"bit017\":\"44256\",\"bit018\":\"22511\",\"bit019\":\"22129\",\"bit020\":\"44256\",\"bit021\":\"0\",\"bit022\":\"44256\",\"bit023\":\"26\",\"bit024\":\"0\",\"bit025\":\"0\",\"bit026\":\"3882\",\"bit027\":\"3870\",\"bit028\":\"3870\",\"bit029\":\"12\",\"bit030\":\"0\",\"bit031\":\"0\",\"bit032\":\"0\",\"bit033\":\"0\",\"bit034\":\"0\",\"bit035\":\"23511\",\"bit036\":\"0\",\"bit037\":\"0\",\"bit038\":\"49070\",\"bit039\":\"194\",\"bit040\":\"52018\",\"bit041\":\"0\",\"bit042\":\"0\",\"bit043\":\"0\",\"bit044\":\"0\",\"bit045\":\"0\",\"bit046\":\"0\",\"bit047\":\"0\",\"bit048\":\"0\",\"bit049\":\"0\",\"bit050\":\"0\",\"bit051\":\"0\",\"bit052\":\"0\",\"bit053\":\"0\",\"bit054\":\"2\",\"bit055\":\"0\",\"bit056\":\"0\",\"bit057\":\"0\",\"bit058\":\"0\",\"bit059\":\"0\",\"bit060\":\"69035\",\"bit061\":\"69035\",\"bit062\":\"69035\",\"bit063\":\"0\",\"bit064\":\"0\",\"bit065\":\"69035\",\"bit066\":\"0\",\"bit067\":\"69035\",\"bit068\":\"69035\",\"bit069\":\"0\",\"bit070\":\"4\",\"bit071\":\"0\",\"bit072\":\"0\",\"bit073\":\"0\",\"bit074\":\"0\",\"bit075\":\"0\",\"bit076\":\"0\",\"bit077\":\"51131\",\"bit078\":\"0\",\"bit079\":\"0\",\"bit080\":\"0\",\"bit081\":\"719\",\"bit082\":\"18\",\"bit083\":\"34\",\"bit084\":\"44256\",\"bit085\":\"9515\",\"bit086\":\"0\",\"bit087\":\"0\",\"bit088\":\"3269\",\"bit089\":\"0\",\"bit090\":\"31096\",\"bit091\":\"18063\",\"bit092\":\"0\",\"bit093\":\"0\",\"bit094\":\"0\",\"bit095\":\"0\",\"bit096\":\"0\",\"bit097\":\"11\",\"bit098\":\"0\",\"bit099\":\"0\",\"bit100\":\"0\",\"bit101\":\"18\",\"bit102\":\"0\",\"bit103\":\"50\",\"bit104\":\"0\",\"bit105\":\"0\",\"bit106\":\"0\",\"bit107\":\"0\",\"bit108\":\"0\",\"bit109\":\"0\",\"bit110\":\"0\",\"bit111\":\"0\",\"bit112\":\"0\",\"bit113\":\"0\",\"bit114\":\"0\",\"bit115\":\"0\",\"bit116\":\"0\",\"bit117\":\"1961\",\"bit118\":\"0\",\"bit119\":\"3289\",\"bit120\":\"32391\",\"bit121\":\"0\",\"bit122\":\"0\",\"bit123\":\"0\",\"bit124\":\"0\",\"bit125\":\"0\",\"bit126\":\"0\",\"bit127\":\"0\",\"bit128\":\"0\",\"bit129\":\"0\",\"bit130\":\"0\",\"bit131\":\"0\",\"bit132\":\"0\",\"bit133\":\"0\",\"bit134\":\"0\",\"bit135\":\"0\",\"bit136\":\"0\",\"bit137\":\"0\"},{\"DBSVersion\":\"16.20.32.1          \",\"LogDate\":\"2020-06-10\",\"Request_Count\":\"66235\",\"Site_ID\":\"{siteid}\",\"User_Bucket\":\"TDInternal\",\"User_Department\":\"dept\",\"bit016\":\"1\",\"bit017\":\"41523\",\"bit018\":\"22486\",\"bit019\":\"19422\",\"bit020\":\"41523\",\"bit021\":\"0\",\"bit022\":\"41523\",\"bit023\":\"24\",\"bit024\":\"0\",\"bit025\":\"1\",\"bit026\":\"3882\",\"bit027\":\"3858\",\"bit028\":\"3858\",\"bit029\":\"24\",\"bit030\":\"0\",\"bit031\":\"0\",\"bit032\":\"0\",\"bit033\":\"0\",\"bit034\":\"2\",\"bit035\":\"20836\",\"bit036\":\"0\",\"bit037\":\"0\",\"bit038\":\"48360\",\"bit039\":\"199\",\"bit040\":\"51827\",\"bit041\":\"2\",\"bit042\":\"0\",\"bit043\":\"0\",\"bit044\":\"0\",\"bit045\":\"0\",\"bit046\":\"0\",\"bit047\":\"0\",\"bit048\":\"2\",\"bit049\":\"0\",\"bit050\":\"0\",\"bit051\":\"0\",\"bit052\":\"5\",\"bit053\":\"0\",\"bit054\":\"2\",\"bit055\":\"0\",\"bit056\":\"0\",\"bit057\":\"0\",\"bit058\":\"0\",\"bit059\":\"0\",\"bit060\":\"66235\",\"bit061\":\"66235\",\"bit062\":\"66235\",\"bit063\":\"0\",\"bit064\":\"0\",\"bit065\":\"66235\",\"bit066\":\"0\",\"bit067\":\"66235\",\"bit068\":\"66235\",\"bit069\":\"0\",\"bit070\":\"0\",\"bit071\":\"0\",\"bit072\":\"0\",\"bit073\":\"923\",\"bit074\":\"0\",\"bit075\":\"0\",\"bit076\":\"0\",\"bit077\":\"50891\",\"bit078\":\"0\",\"bit079\":\"0\",\"bit080\":\"0\",\"bit081\":\"719\",\"bit082\":\"19\",\"bit083\":\"35\",\"bit084\":\"41523\",\"bit085\":\"9471\",\"bit086\":\"0\",\"bit087\":\"2\",\"bit088\":\"3274\",\"bit089\":\"0\",\"bit090\":\"28374\",\"bit091\":\"17996\",\"bit092\":\"0\",\"bit093\":\"0\",\"bit094\":\"0\",\"bit095\":\"0\",\"bit096\":\"0\",\"bit097\":\"17\",\"bit098\":\"0\",\"bit099\":\"0\",\"bit100\":\"0\",\"bit101\":\"4\",\"bit102\":\"0\",\"bit103\":\"58\",\"bit104\":\"0\",\"bit105\":\"0\",\"bit106\":\"0\",\"bit107\":\"0\",\"bit108\":\"0\",\"bit109\":\"0\",\"bit110\":\"0\",\"bit111\":\"0\",\"bit112\":\"0\",\"bit113\":\"156\",\"bit114\":\"0\",\"bit115\":\"0\",\"bit116\":\"0\",\"bit117\":\"1961\",\"bit118\":\"0\",\"bit119\":\"3294\",\"bit120\":\"29614\",\"bit121\":\"0\",\"bit122\":\"0\",\"bit123\":\"0\",\"bit124\":\"0\",\"bit125\":\"0\",\"bit126\":\"0\",\"bit127\":\"0\",\"bit128\":\"1337\",\"bit129\":\"0\",\"bit130\":\"0\",\"bit131\":\"0\",\"bit132\":\"0\",\"bit133\":\"0\",\"bit134\":\"0\",\"bit135\":\"0\",\"bit136\":\"0\",\"bit137\":\"0\"},{\"DBSVersion\":\"16.20.32.1          \",\"LogDate\":\"2020-06-07\",\"Request_Count\":\"4791225\",\"Site_ID\":\"{siteid}\",\"User_Bucket\":\"Unknown\",\"User_Department\":\"Unknown\",\"bit016\":\"4853\",\"bit017\":\"3475525\",\"bit018\":\"3084224\",\"bit019\":\"294741\",\"bit020\":\"3475525\",\"bit021\":\"0\",\"bit022\":\"3475527\",\"bit023\":\"38635\",\"bit024\":\"2\",\"bit025\":\"32658\",\"bit026\":\"50753\",\"bit027\":\"13961\",\"bit028\":\"44134\",\"bit029\":\"6628\",\"bit030\":\"1\",\"bit031\":\"2\",\"bit032\":\"0\",\"bit033\":\"0\",\"bit034\":\"3416\",\"bit035\":\"1369508\",\"bit036\":\"0\",\"bit037\":\"253931\",\"bit038\":\"1329958\",\"bit039\":\"6459\",\"bit040\":\"3251430\",\"bit041\":\"7876\",\"bit042\":\"45\",\"bit043\":\"82957\",\"bit044\":\"0\",\"bit045\":\"0\",\"bit046\":\"0\",\"bit047\":\"0\",\"bit048\":\"3221\",\"bit049\":\"0\",\"bit050\":\"3282\",\"bit051\":\"118945\",\"bit052\":\"1532\",\"bit053\":\"0\",\"bit054\":\"19827\",\"bit055\":\"0\",\"bit056\":\"0\",\"bit057\":\"3\",\"bit058\":\"3\",\"bit059\":\"10456\",\"bit060\":\"4764939\",\"bit061\":\"4764939\",\"bit062\":\"4764939\",\"bit063\":\"0\",\"bit064\":\"0\",\"bit065\":\"4764939\",\"bit066\":\"0\",\"bit067\":\"4764939\",\"bit068\":\"4764939\",\"bit069\":\"0\",\"bit070\":\"1797\",\"bit071\":\"0\",\"bit072\":\"0\",\"bit073\":\"0\",\"bit074\":\"3\",\"bit075\":\"4\",\"bit076\":\"0\",\"bit077\":\"950913\",\"bit078\":\"0\",\"bit079\":\"0\",\"bit080\":\"0\",\"bit081\":\"65408\",\"bit082\":\"117589\",\"bit083\":\"110574\",\"bit084\":\"3475527\",\"bit085\":\"2103439\",\"bit086\":\"200\",\"bit087\":\"20824\",\"bit088\":\"1644170\",\"bit089\":\"0\",\"bit090\":\"802099\",\"bit091\":\"2930321\",\"bit092\":\"53272\",\"bit093\":\"94576\",\"bit094\":\"188503\",\"bit095\":\"65357\",\"bit096\":\"0\",\"bit097\":\"4820\",\"bit098\":\"0\",\"bit099\":\"135\",\"bit100\":\"0\",\"bit101\":\"366\",\"bit102\":\"0\",\"bit103\":\"423\",\"bit104\":\"0\",\"bit105\":\"0\",\"bit106\":\"0\",\"bit107\":\"0\",\"bit108\":\"0\",\"bit109\":\"0\",\"bit110\":\"0\",\"bit111\":\"0\",\"bit112\":\"0\",\"bit113\":\"0\",\"bit114\":\"58\",\"bit115\":\"0\",\"bit116\":\"0\",\"bit117\":\"46706\",\"bit118\":\"0\",\"bit119\":\"21311\",\"bit120\":\"152451\",\"bit121\":\"122\",\"bit122\":\"0\",\"bit123\":\"0\",\"bit124\":\"0\",\"bit125\":\"0\",\"bit126\":\"0\",\"bit127\":\"0\",\"bit128\":\"0\",\"bit129\":\"0\",\"bit130\":\"0\",\"bit131\":\"0\",\"bit132\":\"0\",\"bit133\":\"0\",\"bit134\":\"0\",\"bit135\":\"0\",\"bit136\":\"726\",\"bit137\":\"0\"},{\"DBSVersion\":\"16.20.32.1          \",\"LogDate\":\"2020-06-05\",\"Request_Count\":\"66913\",\"Site_ID\":\"{siteid}\",\"User_Bucket\":\"TDInternal\",\"User_Department\":\"dept\",\"bit016\":\"0\",\"bit017\":\"42275\",\"bit018\":\"22453\",\"bit019\":\"20209\",\"bit020\":\"42275\",\"bit021\":\"0\",\"bit022\":\"42275\",\"bit023\":\"20\",\"bit024\":\"0\",\"bit025\":\"20\",\"bit026\":\"3875\",\"bit027\":\"3855\",\"bit028\":\"3855\",\"bit029\":\"20\",\"bit030\":\"0\",\"bit031\":\"0\",\"bit032\":\"0\",\"bit033\":\"0\",\"bit034\":\"19\",\"bit035\":\"21525\",\"bit036\":\"0\",\"bit037\":\"0\",\"bit038\":\"48885\",\"bit039\":\"198\",\"bit040\":\"51870\",\"bit041\":\"38\",\"bit042\":\"0\",\"bit043\":\"0\",\"bit044\":\"0\",\"bit045\":\"0\",\"bit046\":\"19\",\"bit047\":\"0\",\"bit048\":\"19\",\"bit049\":\"0\",\"bit050\":\"0\",\"bit051\":\"0\",\"bit052\":\"8\",\"bit053\":\"0\",\"bit054\":\"2\",\"bit055\":\"0\",\"bit056\":\"0\",\"bit057\":\"0\",\"bit058\":\"0\",\"bit059\":\"0\",\"bit060\":\"66913\",\"bit061\":\"66913\",\"bit062\":\"66913\",\"bit063\":\"0\",\"bit064\":\"0\",\"bit065\":\"66913\",\"bit066\":\"0\",\"bit067\":\"66913\",\"bit068\":\"66913\",\"bit069\":\"0\",\"bit070\":\"3\",\"bit071\":\"0\",\"bit072\":\"0\",\"bit073\":\"0\",\"bit074\":\"0\",\"bit075\":\"0\",\"bit076\":\"0\",\"bit077\":\"51008\",\"bit078\":\"0\",\"bit079\":\"0\",\"bit080\":\"0\",\"bit081\":\"720\",\"bit082\":\"31\",\"bit083\":\"119\",\"bit084\":\"42275\",\"bit085\":\"9465\",\"bit086\":\"0\",\"bit087\":\"0\",\"bit088\":\"3260\",\"bit089\":\"0\",\"bit090\":\"29112\",\"bit091\":\"17975\",\"bit092\":\"0\",\"bit093\":\"0\",\"bit094\":\"0\",\"bit095\":\"0\",\"bit096\":\"0\",\"bit097\":\"12\",\"bit098\":\"0\",\"bit099\":\"0\",\"bit100\":\"0\",\"bit101\":\"4\",\"bit102\":\"0\",\"bit103\":\"48\",\"bit104\":\"0\",\"bit105\":\"0\",\"bit106\":\"0\",\"bit107\":\"0\",\"bit108\":\"0\",\"bit109\":\"0\",\"bit110\":\"0\",\"bit111\":\"0\",\"bit112\":\"0\",\"bit113\":\"0\",\"bit114\":\"0\",\"bit115\":\"0\",\"bit116\":\"0\",\"bit117\":\"1941\",\"bit118\":\"0\",\"bit119\":\"3364\",\"bit120\":\"30424\",\"bit121\":\"0\",\"bit122\":\"0\",\"bit123\":\"0\",\"bit124\":\"0\",\"bit125\":\"0\",\"bit126\":\"0\",\"bit127\":\"0\",\"bit128\":\"0\",\"bit129\":\"0\",\"bit130\":\"0\",\"bit131\":\"0\",\"bit132\":\"0\",\"bit133\":\"0\",\"bit134\":\"0\",\"bit135\":\"0\",\"bit136\":\"0\",\"bit137\":\"0\"},{\"DBSVersion\":\"16.20.32.1          \",\"LogDate\":\"2020-06-10\",\"Request_Count\":\"5530918\",\"Site_ID\":\"{siteid}\",\"User_Bucket\":\"Unknown\",\"User_Department\":\"Unknown\",\"bit016\":\"4763\",\"bit017\":\"3742458\",\"bit018\":\"2989381\",\"bit019\":\"283162\",\"bit020\":\"3742458\",\"bit021\":\"0\",\"bit022\":\"3742461\",\"bit023\":\"40533\",\"bit024\":\"311\",\"bit025\":\"385613\",\"bit026\":\"49050\",\"bit027\":\"14798\",\"bit028\":\"40744\",\"bit029\":\"8326\",\"bit030\":\"311\",\"bit031\":\"0\",\"bit032\":\"311\",\"bit033\":\"0\",\"bit034\":\"6832\",\"bit035\":\"1783510\",\"bit036\":\"16\",\"bit037\":\"187735\",\"bit038\":\"1524598\",\"bit039\":\"8629\",\"bit040\":\"3366186\",\"bit041\":\"11121\",\"bit042\":\"44\",\"bit043\":\"71970\",\"bit044\":\"0\",\"bit045\":\"0\",\"bit046\":\"5\",\"bit047\":\"0\",\"bit048\":\"6196\",\"bit049\":\"9\",\"bit050\":\"3679\",\"bit051\":\"107938\",\"bit052\":\"2066\",\"bit053\":\"0\",\"bit054\":\"21172\",\"bit055\":\"0\",\"bit056\":\"0\",\"bit057\":\"30\",\"bit058\":\"33\",\"bit059\":\"13171\",\"bit060\":\"5494605\",\"bit061\":\"5494605\",\"bit062\":\"5494605\",\"bit063\":\"0\",\"bit064\":\"0\",\"bit065\":\"5494605\",\"bit066\":\"0\",\"bit067\":\"5494605\",\"bit068\":\"5494605\",\"bit069\":\"0\",\"bit070\":\"2200\",\"bit071\":\"0\",\"bit072\":\"0\",\"bit073\":\"39031\",\"bit074\":\"35\",\"bit075\":\"4\",\"bit076\":\"0\",\"bit077\":\"1643223\",\"bit078\":\"0\",\"bit079\":\"0\",\"bit080\":\"0\",\"bit081\":\"56779\",\"bit082\":\"111067\",\"bit083\":\"109392\",\"bit084\":\"3742458\",\"bit085\":\"2371159\",\"bit086\":\"169\",\"bit087\":\"23761\",\"bit088\":\"1885747\",\"bit089\":\"0\",\"bit090\":\"787844\",\"bit091\":\"3231483\",\"bit092\":\"45954\",\"bit093\":\"93154\",\"bit094\":\"192829\",\"bit095\":\"5509\",\"bit096\":\"0\",\"bit097\":\"8904\",\"bit098\":\"0\",\"bit099\":\"866\",\"bit100\":\"2\",\"bit101\":\"353\",\"bit102\":\"0\",\"bit103\":\"3151\",\"bit104\":\"0\",\"bit105\":\"0\",\"bit106\":\"0\",\"bit107\":\"0\",\"bit108\":\"0\",\"bit109\":\"0\",\"bit110\":\"0\",\"bit111\":\"9\",\"bit112\":\"0\",\"bit113\":\"6647\",\"bit114\":\"174\",\"bit115\":\"0\",\"bit116\":\"0\",\"bit117\":\"45056\",\"bit118\":\"0\",\"bit119\":\"31310\",\"bit120\":\"142158\",\"bit121\":\"131\",\"bit122\":\"0\",\"bit123\":\"0\",\"bit124\":\"0\",\"bit125\":\"0\",\"bit126\":\"0\",\"bit127\":\"0\",\"bit128\":\"48337\",\"bit129\":\"0\",\"bit130\":\"0\",\"bit131\":\"0\",\"bit132\":\"0\",\"bit133\":\"0\",\"bit134\":\"0\",\"bit135\":\"0\",\"bit136\":\"2870\",\"bit137\":\"0\"},{\"DBSVersion\":\"16.20.32.1          \",\"LogDate\":\"2020-06-04\",\"Request_Count\":\"68102\",\"Site_ID\":\"{siteid}\",\"User_Bucket\":\"TDInternal\",\"User_Department\":\"dept\",\"bit016\":\"0\",\"bit017\":\"43436\",\"bit018\":\"22480\",\"bit019\":\"21340\",\"bit020\":\"43436\",\"bit021\":\"0\",\"bit022\":\"43436\",\"bit023\":\"14\",\"bit024\":\"0\",\"bit025\":\"0\",\"bit026\":\"3836\",\"bit027\":\"3822\",\"bit028\":\"3822\",\"bit029\":\"14\",\"bit030\":\"0\",\"bit031\":\"0\",\"bit032\":\"0\",\"bit033\":\"0\",\"bit034\":\"0\",\"bit035\":\"22813\",\"bit036\":\"0\",\"bit037\":\"0\",\"bit038\":\"48877\",\"bit039\":\"192\",\"bit040\":\"51810\",\"bit041\":\"2\",\"bit042\":\"2\",\"bit043\":\"0\",\"bit044\":\"0\",\"bit045\":\"0\",\"bit046\":\"0\",\"bit047\":\"0\",\"bit048\":\"0\",\"bit049\":\"0\",\"bit050\":\"0\",\"bit051\":\"0\",\"bit052\":\"4\",\"bit053\":\"0\",\"bit054\":\"2\",\"bit055\":\"0\",\"bit056\":\"0\",\"bit057\":\"0\",\"bit058\":\"0\",\"bit059\":\"0\",\"bit060\":\"68102\",\"bit061\":\"68102\",\"bit062\":\"68102\",\"bit063\":\"0\",\"bit064\":\"0\",\"bit065\":\"68102\",\"bit066\":\"0\",\"bit067\":\"68102\",\"bit068\":\"68102\",\"bit069\":\"0\",\"bit070\":\"0\",\"bit071\":\"0\",\"bit072\":\"0\",\"bit073\":\"0\",\"bit074\":\"0\",\"bit075\":\"0\",\"bit076\":\"0\",\"bit077\":\"50997\",\"bit078\":\"0\",\"bit079\":\"0\",\"bit080\":\"0\",\"bit081\":\"720\",\"bit082\":\"28\",\"bit083\":\"33\",\"bit084\":\"43436\",\"bit085\":\"9376\",\"bit086\":\"0\",\"bit087\":\"0\",\"bit088\":\"3203\",\"bit089\":\"0\",\"bit090\":\"30342\",\"bit091\":\"17883\",\"bit092\":\"0\",\"bit093\":\"0\",\"bit094\":\"0\",\"bit095\":\"0\",\"bit096\":\"0\",\"bit097\":\"10\",\"bit098\":\"0\",\"bit099\":\"0\",\"bit100\":\"0\",\"bit101\":\"0\",\"bit102\":\"0\",\"bit103\":\"48\",\"bit104\":\"0\",\"bit105\":\"0\",\"bit106\":\"0\",\"bit107\":\"0\",\"bit108\":\"0\",\"bit109\":\"0\",\"bit110\":\"0\",\"bit111\":\"0\",\"bit112\":\"0\",\"bit113\":\"0\",\"bit114\":\"0\",\"bit115\":\"0\",\"bit116\":\"0\",\"bit117\":\"1927\",\"bit118\":\"0\",\"bit119\":\"3262\",\"bit120\":\"31459\",\"bit121\":\"0\",\"bit122\":\"0\",\"bit123\":\"0\",\"bit124\":\"0\",\"bit125\":\"0\",\"bit126\":\"0\",\"bit127\":\"0\",\"bit128\":\"0\",\"bit129\":\"0\",\"bit130\":\"0\",\"bit131\":\"0\",\"bit132\":\"0\",\"bit133\":\"0\",\"bit134\":\"0\",\"bit135\":\"0\",\"bit136\":\"0\",\"bit137\":\"0\"},{\"DBSVersion\":\"16.20.32.1          \",\"LogDate\":\"2020-06-05\",\"Request_Count\":\"246609\",\"Site_ID\":\"{siteid}\",\"User_Bucket\":\"Admin\",\"User_Department\":\"dept\",\"bit016\":\"124\",\"bit017\":\"123633\",\"bit018\":\"122912\",\"bit019\":\"1258\",\"bit020\":\"123633\",\"bit021\":\"0\",\"bit022\":\"123635\",\"bit023\":\"944\",\"bit024\":\"0\",\"bit025\":\"117\",\"bit026\":\"1895\",\"bit027\":\"312\",\"bit028\":\"312\",\"bit029\":\"1609\",\"bit030\":\"0\",\"bit031\":\"0\",\"bit032\":\"0\",\"bit033\":\"0\",\"bit034\":\"184\",\"bit035\":\"10245\",\"bit036\":\"8\",\"bit037\":\"8\",\"bit038\":\"119162\",\"bit039\":\"294\",\"bit040\":\"119588\",\"bit041\":\"184\",\"bit042\":\"23\",\"bit043\":\"0\",\"bit044\":\"0\",\"bit045\":\"0\",\"bit046\":\"0\",\"bit047\":\"0\",\"bit048\":\"184\",\"bit049\":\"0\",\"bit050\":\"0\",\"bit051\":\"16\",\"bit052\":\"69\",\"bit053\":\"0\",\"bit054\":\"501\",\"bit055\":\"0\",\"bit056\":\"0\",\"bit057\":\"0\",\"bit058\":\"0\",\"bit059\":\"48\",\"bit060\":\"244084\",\"bit061\":\"244084\",\"bit062\":\"244084\",\"bit063\":\"0\",\"bit064\":\"0\",\"bit065\":\"244084\",\"bit066\":\"0\",\"bit067\":\"244084\",\"bit068\":\"244084\",\"bit069\":\"0\",\"bit070\":\"212\",\"bit071\":\"0\",\"bit072\":\"0\",\"bit073\":\"0\",\"bit074\":\"0\",\"bit075\":\"0\",\"bit076\":\"0\",\"bit077\":\"71509\",\"bit078\":\"0\",\"bit079\":\"0\",\"bit080\":\"0\",\"bit081\":\"0\",\"bit082\":\"196\",\"bit083\":\"804\",\"bit084\":\"123635\",\"bit085\":\"26860\",\"bit086\":\"0\",\"bit087\":\"193\",\"bit088\":\"23608\",\"bit089\":\"0\",\"bit090\":\"3057\",\"bit091\":\"121314\",\"bit092\":\"0\",\"bit093\":\"900\",\"bit094\":\"0\",\"bit095\":\"679\",\"bit096\":\"0\",\"bit097\":\"141\",\"bit098\":\"0\",\"bit099\":\"8\",\"bit100\":\"0\",\"bit101\":\"27\",\"bit102\":\"0\",\"bit103\":\"0\",\"bit104\":\"0\",\"bit105\":\"0\",\"bit106\":\"0\",\"bit107\":\"0\",\"bit108\":\"0\",\"bit109\":\"0\",\"bit110\":\"0\",\"bit111\":\"0\",\"bit112\":\"0\",\"bit113\":\"0\",\"bit114\":\"2\",\"bit115\":\"0\",\"bit116\":\"0\",\"bit117\":\"1469\",\"bit118\":\"0\",\"bit119\":\"1238\",\"bit120\":\"1550\",\"bit121\":\"0\",\"bit122\":\"0\",\"bit123\":\"0\",\"bit124\":\"0\",\"bit125\":\"0\",\"bit126\":\"0\",\"bit127\":\"0\",\"bit128\":\"0\",\"bit129\":\"0\",\"bit130\":\"0\",\"bit131\":\"0\",\"bit132\":\"0\",\"bit133\":\"0\",\"bit134\":\"0\",\"bit135\":\"0\",\"bit136\":\"22\",\"bit137\":\"0\"},{\"DBSVersion\":\"16.20.32.1          \",\"LogDate\":\"2020-06-09\",\"Request_Count\":\"69932\",\"Site_ID\":\"{siteid}\",\"User_Bucket\":\"TDInternal\",\"User_Department\":\"dept\",\"bit016\":\"0\",\"bit017\":\"44841\",\"bit018\":\"22773\",\"bit019\":\"22429\",\"bit020\":\"44841\",\"bit021\":\"0\",\"bit022\":\"44841\",\"bit023\":\"29\",\"bit024\":\"0\",\"bit025\":\"1\",\"bit026\":\"3883\",\"bit027\":\"3856\",\"bit028\":\"3856\",\"bit029\":\"27\",\"bit030\":\"0\",\"bit031\":\"0\",\"bit032\":\"0\",\"bit033\":\"0\",\"bit034\":\"59\",\"bit035\":\"23879\",\"bit036\":\"0\",\"bit037\":\"0\",\"bit038\":\"48965\",\"bit039\":\"194\",\"bit040\":\"52603\",\"bit041\":\"12\",\"bit042\":\"0\",\"bit043\":\"2\",\"bit044\":\"0\",\"bit045\":\"0\",\"bit046\":\"0\",\"bit047\":\"0\",\"bit048\":\"12\",\"bit049\":\"0\",\"bit050\":\"0\",\"bit051\":\"0\",\"bit052\":\"23\",\"bit053\":\"0\",\"bit054\":\"2\",\"bit055\":\"0\",\"bit056\":\"0\",\"bit057\":\"0\",\"bit058\":\"0\",\"bit059\":\"0\",\"bit060\":\"69932\",\"bit061\":\"69932\",\"bit062\":\"69932\",\"bit063\":\"0\",\"bit064\":\"0\",\"bit065\":\"69932\",\"bit066\":\"0\",\"bit067\":\"69932\",\"bit068\":\"69932\",\"bit069\":\"0\",\"bit070\":\"0\",\"bit071\":\"0\",\"bit072\":\"0\",\"bit073\":\"0\",\"bit074\":\"0\",\"bit075\":\"0\",\"bit076\":\"0\",\"bit077\":\"51331\",\"bit078\":\"0\",\"bit079\":\"0\",\"bit080\":\"0\",\"bit081\":\"720\",\"bit082\":\"9\",\"bit083\":\"59\",\"bit084\":\"44841\",\"bit085\":\"9493\",\"bit086\":\"0\",\"bit087\":\"28\",\"bit088\":\"3246\",\"bit089\":\"0\",\"bit090\":\"31657\",\"bit091\":\"18020\",\"bit092\":\"0\",\"bit093\":\"0\",\"bit094\":\"0\",\"bit095\":\"0\",\"bit096\":\"0\",\"bit097\":\"21\",\"bit098\":\"0\",\"bit099\":\"0\",\"bit100\":\"0\",\"bit101\":\"5\",\"bit102\":\"0\",\"bit103\":\"49\",\"bit104\":\"0\",\"bit105\":\"0\",\"bit106\":\"0\",\"bit107\":\"0\",\"bit108\":\"0\",\"bit109\":\"0\",\"bit110\":\"0\",\"bit111\":\"0\",\"bit112\":\"0\",\"bit113\":\"0\",\"bit114\":\"0\",\"bit115\":\"0\",\"bit116\":\"0\",\"bit117\":\"1968\",\"bit118\":\"0\",\"bit119\":\"3291\",\"bit120\":\"32763\",\"bit121\":\"0\",\"bit122\":\"0\",\"bit123\":\"0\",\"bit124\":\"0\",\"bit125\":\"0\",\"bit126\":\"0\",\"bit127\":\"0\",\"bit128\":\"0\",\"bit129\":\"0\",\"bit130\":\"0\",\"bit131\":\"0\",\"bit132\":\"0\",\"bit133\":\"0\",\"bit134\":\"0\",\"bit135\":\"0\",\"bit136\":\"0\",\"bit137\":\"0\"},{\"DBSVersion\":\"16.20.32.1          \",\"LogDate\":\"2020-06-04\",\"Request_Count\":\"4480692\",\"Site_ID\":\"{siteid}\",\"User_Bucket\":\"Unknown\",\"User_Department\":\"Unknown\",\"bit016\":\"5057\",\"bit017\":\"3030776\",\"bit018\":\"2727222\",\"bit019\":\"199993\",\"bit020\":\"3030776\",\"bit021\":\"0\",\"bit022\":\"3030778\",\"bit023\":\"38057\",\"bit024\":\"351\",\"bit025\":\"33703\",\"bit026\":\"51630\",\"bit027\":\"15037\",\"bit028\":\"42028\",\"bit029\":\"9609\",\"bit030\":\"350\",\"bit031\":\"2\",\"bit032\":\"349\",\"bit033\":\"0\",\"bit034\":\"12183\",\"bit035\":\"1072133\",\"bit036\":\"34\",\"bit037\":\"106469\",\"bit038\":\"1417111\",\"bit039\":\"8841\",\"bit040\":\"3087833\",\"bit041\":\"15484\",\"bit042\":\"94\",\"bit043\":\"73163\",\"bit044\":\"0\",\"bit045\":\"0\",\"bit046\":\"12\",\"bit047\":\"0\",\"bit048\":\"11479\",\"bit049\":\"0\",\"bit050\":\"3581\",\"bit051\":\"105410\",\"bit052\":\"2277\",\"bit053\":\"0\",\"bit054\":\"23907\",\"bit055\":\"0\",\"bit056\":\"0\",\"bit057\":\"4\",\"bit058\":\"4\",\"bit059\":\"18585\",\"bit060\":\"4480543\",\"bit061\":\"4480543\",\"bit062\":\"4480543\",\"bit063\":\"0\",\"bit064\":\"0\",\"bit065\":\"4480543\",\"bit066\":\"0\",\"bit067\":\"4480543\",\"bit068\":\"4480543\",\"bit069\":\"0\",\"bit070\":\"2582\",\"bit071\":\"0\",\"bit072\":\"0\",\"bit073\":\"0\",\"bit074\":\"3\",\"bit075\":\"4\",\"bit076\":\"0\",\"bit077\":\"1110382\",\"bit078\":\"0\",\"bit079\":\"0\",\"bit080\":\"0\",\"bit081\":\"60943\",\"bit082\":\"113769\",\"bit083\":\"120160\",\"bit084\":\"3030778\",\"bit085\":\"1877982\",\"bit086\":\"192\",\"bit087\":\"22290\",\"bit088\":\"1408894\",\"bit089\":\"0\",\"bit090\":\"710213\",\"bit091\":\"2606055\",\"bit092\":\"52662\",\"bit093\":\"100190\",\"bit094\":\"258377\",\"bit095\":\"48225\",\"bit096\":\"0\",\"bit097\":\"11941\",\"bit098\":\"0\",\"bit099\":\"673\",\"bit100\":\"1\",\"bit101\":\"435\",\"bit102\":\"0\",\"bit103\":\"5455\",\"bit104\":\"0\",\"bit105\":\"0\",\"bit106\":\"0\",\"bit107\":\"0\",\"bit108\":\"0\",\"bit109\":\"0\",\"bit110\":\"0\",\"bit111\":\"0\",\"bit112\":\"0\",\"bit113\":\"0\",\"bit114\":\"108\",\"bit115\":\"0\",\"bit116\":\"0\",\"bit117\":\"67158\",\"bit118\":\"0\",\"bit119\":\"35471\",\"bit120\":\"155582\",\"bit121\":\"127\",\"bit122\":\"0\",\"bit123\":\"0\",\"bit124\":\"0\",\"bit125\":\"0\",\"bit126\":\"0\",\"bit127\":\"0\",\"bit128\":\"0\",\"bit129\":\"0\",\"bit130\":\"0\",\"bit131\":\"0\",\"bit132\":\"0\",\"bit133\":\"0\",\"bit134\":\"0\",\"bit135\":\"0\",\"bit136\":\"6164\",\"bit137\":\"0\"},{\"DBSVersion\":\"16.20.32.1          \",\"LogDate\":\"2020-06-06\",\"Request_Count\":\"64284\",\"Site_ID\":\"{siteid}\",\"User_Bucket\":\"TDInternal\",\"User_Department\":\"dept\",\"bit016\":\"0\",\"bit017\":\"39787\",\"bit018\":\"21989\",\"bit019\":\"18182\",\"bit020\":\"39787\",\"bit021\":\"0\",\"bit022\":\"39787\",\"bit023\":\"12\",\"bit024\":\"0\",\"bit025\":\"0\",\"bit026\":\"3810\",\"bit027\":\"3798\",\"bit028\":\"3798\",\"bit029\":\"12\",\"bit030\":\"0\",\"bit031\":\"0\",\"bit032\":\"0\",\"bit033\":\"0\",\"bit034\":\"0\",\"bit035\":\"19406\",\"bit036\":\"0\",\"bit037\":\"0\",\"bit038\":\"48591\",\"bit039\":\"198\",\"bit040\":\"51241\",\"bit041\":\"0\",\"bit042\":\"0\",\"bit043\":\"0\",\"bit044\":\"0\",\"bit045\":\"0\",\"bit046\":\"0\",\"bit047\":\"0\",\"bit048\":\"0\",\"bit049\":\"0\",\"bit050\":\"0\",\"bit051\":\"0\",\"bit052\":\"8\",\"bit053\":\"0\",\"bit054\":\"2\",\"bit055\":\"0\",\"bit056\":\"0\",\"bit057\":\"0\",\"bit058\":\"0\",\"bit059\":\"0\",\"bit060\":\"64284\",\"bit061\":\"64284\",\"bit062\":\"64284\",\"bit063\":\"0\",\"bit064\":\"0\",\"bit065\":\"64284\",\"bit066\":\"0\",\"bit067\":\"64284\",\"bit068\":\"64284\",\"bit069\":\"0\",\"bit070\":\"0\",\"bit071\":\"0\",\"bit072\":\"0\",\"bit073\":\"0\",\"bit074\":\"0\",\"bit075\":\"0\",\"bit076\":\"0\",\"bit077\":\"50493\",\"bit078\":\"0\",\"bit079\":\"0\",\"bit080\":\"0\",\"bit081\":\"707\",\"bit082\":\"28\",\"bit083\":\"38\",\"bit084\":\"39787\",\"bit085\":\"9275\",\"bit086\":\"0\",\"bit087\":\"0\",\"bit088\":\"3172\",\"bit089\":\"0\",\"bit090\":\"26782\",\"bit091\":\"17753\",\"bit092\":\"0\",\"bit093\":\"0\",\"bit094\":\"0\",\"bit095\":\"0\",\"bit096\":\"0\",\"bit097\":\"7\",\"bit098\":\"0\",\"bit099\":\"0\",\"bit100\":\"0\",\"bit101\":\"0\",\"bit102\":\"0\",\"bit103\":\"48\",\"bit104\":\"0\",\"bit105\":\"0\",\"bit106\":\"0\",\"bit107\":\"0\",\"bit108\":\"0\",\"bit109\":\"0\",\"bit110\":\"0\",\"bit111\":\"0\",\"bit112\":\"0\",\"bit113\":\"0\",\"bit114\":\"0\",\"bit115\":\"0\",\"bit116\":\"0\",\"bit117\":\"1908\",\"bit118\":\"0\",\"bit119\":\"3254\",\"bit120\":\"28188\",\"bit121\":\"0\",\"bit122\":\"0\",\"bit123\":\"0\",\"bit124\":\"0\",\"bit125\":\"0\",\"bit126\":\"0\",\"bit127\":\"0\",\"bit128\":\"0\",\"bit129\":\"0\",\"bit130\":\"0\",\"bit131\":\"0\",\"bit132\":\"0\",\"bit133\":\"0\",\"bit134\":\"0\",\"bit135\":\"0\",\"bit136\":\"0\",\"bit137\":\"0\"},{\"DBSVersion\":\"16.20.32.1          \",\"LogDate\":\"2020-06-04\",\"Request_Count\":\"292779\",\"Site_ID\":\"{siteid}\",\"User_Bucket\":\"Admin\",\"User_Department\":\"dept\",\"bit016\":\"138\",\"bit017\":\"151961\",\"bit018\":\"148077\",\"bit019\":\"5020\",\"bit020\":\"151961\",\"bit021\":\"0\",\"bit022\":\"151961\",\"bit023\":\"949\",\"bit024\":\"0\",\"bit025\":\"135\",\"bit026\":\"1826\",\"bit027\":\"291\",\"bit028\":\"291\",\"bit029\":\"1559\",\"bit030\":\"0\",\"bit031\":\"0\",\"bit032\":\"0\",\"bit033\":\"0\",\"bit034\":\"192\",\"bit035\":\"18833\",\"bit036\":\"57\",\"bit037\":\"8\",\"bit038\":\"162237\",\"bit039\":\"297\",\"bit040\":\"162795\",\"bit041\":\"192\",\"bit042\":\"24\",\"bit043\":\"0\",\"bit044\":\"0\",\"bit045\":\"0\",\"bit046\":\"0\",\"bit047\":\"0\",\"bit048\":\"192\",\"bit049\":\"0\",\"bit050\":\"0\",\"bit051\":\"38\",\"bit052\":\"71\",\"bit053\":\"0\",\"bit054\":\"497\",\"bit055\":\"0\",\"bit056\":\"0\",\"bit057\":\"0\",\"bit058\":\"0\",\"bit059\":\"48\",\"bit060\":\"287959\",\"bit061\":\"287959\",\"bit062\":\"287959\",\"bit063\":\"0\",\"bit064\":\"0\",\"bit065\":\"287959\",\"bit066\":\"0\",\"bit067\":\"287959\",\"bit068\":\"287959\",\"bit069\":\"0\",\"bit070\":\"202\",\"bit071\":\"0\",\"bit072\":\"0\",\"bit073\":\"0\",\"bit074\":\"0\",\"bit075\":\"0\",\"bit076\":\"0\",\"bit077\":\"101086\",\"bit078\":\"0\",\"bit079\":\"0\",\"bit080\":\"0\",\"bit081\":\"1702\",\"bit082\":\"2006\",\"bit083\":\"996\",\"bit084\":\"151961\",\"bit085\":\"35847\",\"bit086\":\"0\",\"bit087\":\"811\",\"bit088\":\"31222\",\"bit089\":\"0\",\"bit090\":\"13157\",\"bit091\":\"144941\",\"bit092\":\"0\",\"bit093\":\"900\",\"bit094\":\"0\",\"bit095\":\"679\",\"bit096\":\"0\",\"bit097\":\"85\",\"bit098\":\"0\",\"bit099\":\"0\",\"bit100\":\"0\",\"bit101\":\"12\",\"bit102\":\"0\",\"bit103\":\"0\",\"bit104\":\"0\",\"bit105\":\"0\",\"bit106\":\"0\",\"bit107\":\"0\",\"bit108\":\"0\",\"bit109\":\"0\",\"bit110\":\"0\",\"bit111\":\"0\",\"bit112\":\"0\",\"bit113\":\"0\",\"bit114\":\"0\",\"bit115\":\"0\",\"bit116\":\"0\",\"bit117\":\"1442\",\"bit118\":\"0\",\"bit119\":\"1161\",\"bit120\":\"1485\",\"bit121\":\"0\",\"bit122\":\"0\",\"bit123\":\"0\",\"bit124\":\"0\",\"bit125\":\"0\",\"bit126\":\"0\",\"bit127\":\"0\",\"bit128\":\"0\",\"bit129\":\"0\",\"bit130\":\"0\",\"bit131\":\"0\",\"bit132\":\"0\",\"bit133\":\"0\",\"bit134\":\"0\",\"bit135\":\"0\",\"bit136\":\"23\",\"bit137\":\"0\"},{\"DBSVersion\":\"16.20.32.1          \",\"LogDate\":\"2020-06-07\",\"Request_Count\":\"257895\",\"Site_ID\":\"{siteid}\",\"User_Bucket\":\"Admin\",\"User_Department\":\"dept\",\"bit016\":\"177\",\"bit017\":\"126147\",\"bit018\":\"125374\",\"bit019\":\"1358\",\"bit020\":\"126147\",\"bit021\":\"0\",\"bit022\":\"126147\",\"bit023\":\"948\",\"bit024\":\"0\",\"bit025\":\"98\",\"bit026\":\"2192\",\"bit027\":\"285\",\"bit028\":\"285\",\"bit029\":\"1929\",\"bit030\":\"0\",\"bit031\":\"0\",\"bit032\":\"0\",\"bit033\":\"0\",\"bit034\":\"192\",\"bit035\":\"11194\",\"bit036\":\"9\",\"bit037\":\"8\",\"bit038\":\"113896\",\"bit039\":\"273\",\"bit040\":\"114280\",\"bit041\":\"192\",\"bit042\":\"24\",\"bit043\":\"0\",\"bit044\":\"0\",\"bit045\":\"0\",\"bit046\":\"0\",\"bit047\":\"0\",\"bit048\":\"192\",\"bit049\":\"0\",\"bit050\":\"0\",\"bit051\":\"601\",\"bit052\":\"70\",\"bit053\":\"0\",\"bit054\":\"497\",\"bit055\":\"0\",\"bit056\":\"0\",\"bit057\":\"0\",\"bit058\":\"0\",\"bit059\":\"48\",\"bit060\":\"255351\",\"bit061\":\"255351\",\"bit062\":\"255351\",\"bit063\":\"0\",\"bit064\":\"0\",\"bit065\":\"255351\",\"bit066\":\"0\",\"bit067\":\"255351\",\"bit068\":\"255351\",\"bit069\":\"0\",\"bit070\":\"199\",\"bit071\":\"0\",\"bit072\":\"0\",\"bit073\":\"0\",\"bit074\":\"0\",\"bit075\":\"0\",\"bit076\":\"0\",\"bit077\":\"73493\",\"bit078\":\"0\",\"bit079\":\"0\",\"bit080\":\"0\",\"bit081\":\"0\",\"bit082\":\"196\",\"bit083\":\"972\",\"bit084\":\"126147\",\"bit085\":\"26555\",\"bit086\":\"0\",\"bit087\":\"266\",\"bit088\":\"23488\",\"bit089\":\"0\",\"bit090\":\"3673\",\"bit091\":\"123320\",\"bit092\":\"0\",\"bit093\":\"900\",\"bit094\":\"0\",\"bit095\":\"679\",\"bit096\":\"0\",\"bit097\":\"86\",\"bit098\":\"0\",\"bit099\":\"0\",\"bit100\":\"0\",\"bit101\":\"11\",\"bit102\":\"0\",\"bit103\":\"0\",\"bit104\":\"0\",\"bit105\":\"0\",\"bit106\":\"0\",\"bit107\":\"0\",\"bit108\":\"0\",\"bit109\":\"0\",\"bit110\":\"0\",\"bit111\":\"0\",\"bit112\":\"0\",\"bit113\":\"0\",\"bit114\":\"0\",\"bit115\":\"0\",\"bit116\":\"0\",\"bit117\":\"1480\",\"bit118\":\"0\",\"bit119\":\"1197\",\"bit120\":\"1692\",\"bit121\":\"0\",\"bit122\":\"0\",\"bit123\":\"0\",\"bit124\":\"0\",\"bit125\":\"0\",\"bit126\":\"0\",\"bit127\":\"0\",\"bit128\":\"0\",\"bit129\":\"0\",\"bit130\":\"0\",\"bit131\":\"0\",\"bit132\":\"0\",\"bit133\":\"0\",\"bit134\":\"0\",\"bit135\":\"0\",\"bit136\":\"22\",\"bit137\":\"0\"},{\"DBSVersion\":\"16.20.32.1          \",\"LogDate\":\"2020-06-07\",\"Request_Count\":\"111682\",\"Site_ID\":\"{siteid}\",\"User_Bucket\":\"TDInternal\",\"User_Department\":\"dept\",\"bit016\":\"0\",\"bit017\":\"41322\",\"bit018\":\"22381\",\"bit019\":\"19325\",\"bit020\":\"41322\",\"bit021\":\"0\",\"bit022\":\"41322\",\"bit023\":\"12\",\"bit024\":\"0\",\"bit025\":\"0\",\"bit026\":\"3854\",\"bit027\":\"3842\",\"bit028\":\"3842\",\"bit029\":\"12\",\"bit030\":\"0\",\"bit031\":\"0\",\"bit032\":\"0\",\"bit033\":\"0\",\"bit034\":\"0\",\"bit035\":\"20702\",\"bit036\":\"0\",\"bit037\":\"4\",\"bit038\":\"95133\",\"bit039\":\"192\",\"bit040\":\"97433\",\"bit041\":\"0\",\"bit042\":\"0\",\"bit043\":\"0\",\"bit044\":\"0\",\"bit045\":\"0\",\"bit046\":\"0\",\"bit047\":\"0\",\"bit048\":\"0\",\"bit049\":\"0\",\"bit050\":\"0\",\"bit051\":\"0\",\"bit052\":\"0\",\"bit053\":\"0\",\"bit054\":\"2\",\"bit055\":\"0\",\"bit056\":\"0\",\"bit057\":\"0\",\"bit058\":\"0\",\"bit059\":\"0\",\"bit060\":\"111682\",\"bit061\":\"111682\",\"bit062\":\"111682\",\"bit063\":\"0\",\"bit064\":\"0\",\"bit065\":\"111682\",\"bit066\":\"0\",\"bit067\":\"111682\",\"bit068\":\"111682\",\"bit069\":\"0\",\"bit070\":\"0\",\"bit071\":\"0\",\"bit072\":\"0\",\"bit073\":\"0\",\"bit074\":\"0\",\"bit075\":\"0\",\"bit076\":\"0\",\"bit077\":\"51198\",\"bit078\":\"0\",\"bit079\":\"0\",\"bit080\":\"0\",\"bit081\":\"720\",\"bit082\":\"16\",\"bit083\":\"45500\",\"bit084\":\"41322\",\"bit085\":\"9445\",\"bit086\":\"0\",\"bit087\":\"0\",\"bit088\":\"3232\",\"bit089\":\"0\",\"bit090\":\"28162\",\"bit091\":\"17978\",\"bit092\":\"0\",\"bit093\":\"0\",\"bit094\":\"0\",\"bit095\":\"0\",\"bit096\":\"0\",\"bit097\":\"7\",\"bit098\":\"0\",\"bit099\":\"0\",\"bit100\":\"0\",\"bit101\":\"0\",\"bit102\":\"0\",\"bit103\":\"48\",\"bit104\":\"0\",\"bit105\":\"0\",\"bit106\":\"0\",\"bit107\":\"0\",\"bit108\":\"0\",\"bit109\":\"0\",\"bit110\":\"0\",\"bit111\":\"0\",\"bit112\":\"0\",\"bit113\":\"0\",\"bit114\":\"0\",\"bit115\":\"0\",\"bit116\":\"0\",\"bit117\":\"1941\",\"bit118\":\"0\",\"bit119\":\"3279\",\"bit120\":\"29511\",\"bit121\":\"0\",\"bit122\":\"0\",\"bit123\":\"0\",\"bit124\":\"0\",\"bit125\":\"0\",\"bit126\":\"0\",\"bit127\":\"0\",\"bit128\":\"0\",\"bit129\":\"0\",\"bit130\":\"0\",\"bit131\":\"0\",\"bit132\":\"0\",\"bit133\":\"0\",\"bit134\":\"0\",\"bit135\":\"0\",\"bit136\":\"0\",\"bit137\":\"0\"},{\"DBSVersion\":\"16.20.32.1          \",\"LogDate\":\"2020-06-09\",\"Request_Count\":\"5534057\",\"Site_ID\":\"{siteid}\",\"User_Bucket\":\"Unknown\",\"User_Department\":\"Unknown\",\"bit016\":\"5174\",\"bit017\":\"3695751\",\"bit018\":\"2959968\",\"bit019\":\"319941\",\"bit020\":\"3695751\",\"bit021\":\"0\",\"bit022\":\"3695752\",\"bit023\":\"38272\",\"bit024\":\"376\",\"bit025\":\"316850\",\"bit026\":\"49549\",\"bit027\":\"14312\",\"bit028\":\"40990\",\"bit029\":\"8573\",\"bit030\":\"376\",\"bit031\":\"0\",\"bit032\":\"376\",\"bit033\":\"0\",\"bit034\":\"6325\",\"bit035\":\"1695474\",\"bit036\":\"0\",\"bit037\":\"151042\",\"bit038\":\"1587840\",\"bit039\":\"8541\",\"bit040\":\"3275730\",\"bit041\":\"9921\",\"bit042\":\"74\",\"bit043\":\"79913\",\"bit044\":\"0\",\"bit045\":\"0\",\"bit046\":\"3\",\"bit047\":\"0\",\"bit048\":\"5652\",\"bit049\":\"0\",\"bit050\":\"3497\",\"bit051\":\"115164\",\"bit052\":\"2485\",\"bit053\":\"0\",\"bit054\":\"23991\",\"bit055\":\"0\",\"bit056\":\"0\",\"bit057\":\"26\",\"bit058\":\"27\",\"bit059\":\"14749\",\"bit060\":\"5500072\",\"bit061\":\"5500072\",\"bit062\":\"5500072\",\"bit063\":\"0\",\"bit064\":\"0\",\"bit065\":\"5500072\",\"bit066\":\"0\",\"bit067\":\"5500072\",\"bit068\":\"5500072\",\"bit069\":\"0\",\"bit070\":\"2291\",\"bit071\":\"0\",\"bit072\":\"0\",\"bit073\":\"0\",\"bit074\":\"3\",\"bit075\":\"18\",\"bit076\":\"0\",\"bit077\":\"1632676\",\"bit078\":\"0\",\"bit079\":\"0\",\"bit080\":\"0\",\"bit081\":\"64781\",\"bit082\":\"118519\",\"bit083\":\"123016\",\"bit084\":\"3695751\",\"bit085\":\"2253170\",\"bit086\":\"169\",\"bit087\":\"21583\",\"bit088\":\"1749883\",\"bit089\":\"0\",\"bit090\":\"864120\",\"bit091\":\"3119941\",\"bit092\":\"57266\",\"bit093\":\"96595\",\"bit094\":\"271794\",\"bit095\":\"1405\",\"bit096\":\"0\",\"bit097\":\"8497\",\"bit098\":\"0\",\"bit099\":\"808\",\"bit100\":\"2\",\"bit101\":\"470\",\"bit102\":\"0\",\"bit103\":\"2857\",\"bit104\":\"0\",\"bit105\":\"0\",\"bit106\":\"0\",\"bit107\":\"0\",\"bit108\":\"0\",\"bit109\":\"0\",\"bit110\":\"0\",\"bit111\":\"0\",\"bit112\":\"0\",\"bit113\":\"0\",\"bit114\":\"369\",\"bit115\":\"0\",\"bit116\":\"0\",\"bit117\":\"49156\",\"bit118\":\"0\",\"bit119\":\"31268\",\"bit120\":\"149244\",\"bit121\":\"121\",\"bit122\":\"0\",\"bit123\":\"0\",\"bit124\":\"0\",\"bit125\":\"0\",\"bit126\":\"0\",\"bit127\":\"0\",\"bit128\":\"0\",\"bit129\":\"0\",\"bit130\":\"0\",\"bit131\":\"0\",\"bit132\":\"5\",\"bit133\":\"5\",\"bit134\":\"0\",\"bit135\":\"0\",\"bit136\":\"2365\",\"bit137\":\"0\"}]\n",
      "text/html": [
       "<div class = \"td-resultset-table-div\" style = \"max-height: 477px; overflow-y: auto\"><style> table {border: 1px solid rgb(207, 207, 207) !important; border-collapse: collapse !important; margin-top: 1px !important;} th {border: 1px solid rgb(198,198,198) !important; border-collapse: collapse !important; padding: 2px 5px !important; font-size: 13px !important; min-width:150px !important; max-width: 150px !important; white-space: nowrap !important; overflow:hidden !important; text-overflow:ellipsis !important;} tr:nth-child(even) {background: rgba(243, 243, 243, 0.75) !important;} td {border: 1px solid rgb(207, 207, 207) !important; border-collapse: collapse !important; padding: 2px 5px !important; font-size: 13px !important; min-width:150px !important; max-width: 150px !important; white-space: nowrap !important; overflow:hidden !important; text-overflow:ellipsis !important;}</style><table><thead><tr style= \"background: #efefef;\"><th>Site_ID</th><th>LogDate</th><th>User_Bucket</th><th>User_Department</th><th>DBSVersion</th><th>Request_Count</th><th>bit016</th><th>bit017</th><th>bit018</th><th>bit019</th><th>bit020</th><th>bit021</th><th>bit022</th><th>bit023</th><th>bit024</th><th>bit025</th><th>bit026</th><th>bit027</th><th>bit028</th><th>bit029</th><th>bit030</th><th>bit031</th><th>bit032</th><th>bit033</th><th>bit034</th><th>bit035</th><th>bit036</th><th>bit037</th><th>bit038</th><th>bit039</th><th>bit040</th><th>bit041</th><th>bit042</th><th>bit043</th><th>bit044</th><th>bit045</th><th>bit046</th><th>bit047</th><th>bit048</th><th>bit049</th><th>bit050</th><th>bit051</th><th>bit052</th><th>bit053</th><th>bit054</th><th>bit055</th><th>bit056</th><th>bit057</th><th>bit058</th><th>bit059</th><th>bit060</th><th>bit061</th><th>bit062</th><th>bit063</th><th>bit064</th><th>bit065</th><th>bit066</th><th>bit067</th><th>bit068</th><th>bit069</th><th>bit070</th><th>bit071</th><th>bit072</th><th>bit073</th><th>bit074</th><th>bit075</th><th>bit076</th><th>bit077</th><th>bit078</th><th>bit079</th><th>bit080</th><th>bit081</th><th>bit082</th><th>bit083</th><th>bit084</th><th>bit085</th><th>bit086</th><th>bit087</th><th>bit088</th><th>bit089</th><th>bit090</th><th>bit091</th><th>bit092</th><th>bit093</th><th>bit094</th><th>bit095</th><th>bit096</th><th>bit097</th><th>bit098</th><th>bit099</th><th>bit100</th><th>bit101</th><th>bit102</th><th>bit103</th><th>bit104</th><th>bit105</th><th>bit106</th><th>bit107</th><th>bit108</th><th>bit109</th><th>bit110</th><th>bit111</th><th>bit112</th><th>bit113</th><th>bit114</th><th>bit115</th><th>bit116</th><th>bit117</th><th>bit118</th><th>bit119</th><th>bit120</th><th>bit121</th><th>bit122</th><th>bit123</th><th>bit124</th><th>bit125</th><th>bit126</th><th>bit127</th><th>bit128</th><th>bit129</th><th>bit130</th><th>bit131</th><th>bit132</th><th>bit133</th><th>bit134</th><th>bit135</th><th>bit136</th><th>bit137</th></tr></thead><tr><td>{siteid}</td><td>2020-06-10</td><td>Admin</td><td>dept</td><td>16.20.32.1          </td><td>292114</td><td>124</td><td>158591</td><td>157838</td><td>1691</td><td>158591</td><td>0</td><td>158591</td><td>944</td><td>0</td><td>99</td><td>1801</td><td>282</td><td>282</td><td>1541</td><td>0</td><td>0</td><td>0</td><td>0</td><td>172</td><td>21389</td><td>102</td><td>7</td><td>164411</td><td>323</td><td>164893</td><td>172</td><td>20</td><td>0</td><td>0</td><td>0</td><td>0</td><td>0</td><td>172</td><td>0</td><td>0</td><td>16</td><td>66</td><td>0</td><td>497</td><td>0</td><td>0</td><td>0</td><td>0</td><td>42</td><td>289398</td><td>289398</td><td>289398</td><td>0</td><td>0</td><td>289398</td><td>0</td><td>289398</td><td>289398</td><td>0</td><td>200</td><td>0</td><td>0</td><td>3138</td><td>0</td><td>0</td><td>0</td><td>99107</td><td>0</td><td>0</td><td>0</td><td>1326</td><td>979</td><td>870</td><td>158591</td><td>40921</td><td>0</td><td>404</td><td>35737</td><td>0</td><td>7440</td><td>155506</td><td>0</td><td>900</td><td>0</td><td>468</td><td>0</td><td>76</td><td>0</td><td>0</td><td>0</td><td>11</td><td>0</td><td>0</td><td>0</td><td>0</td><td>0</td><td>0</td><td>0</td><td>0</td><td>0</td><td>0</td><td>0</td><td>404</td><td>0</td><td>0</td><td>0</td><td>1411</td><td>0</td><td>1149</td><td>1422</td><td>0</td><td>0</td><td>0</td><td>0</td><td>0</td><td>0</td><td>0</td><td>3235</td><td>0</td><td>0</td><td>0</td><td>0</td><td>0</td><td>0</td><td>0</td><td>22</td><td>0</td></tr><tr><td>{siteid}</td><td>2020-06-06</td><td>Admin</td><td>dept</td><td>16.20.32.1          </td><td>238602</td><td>124</td><td>125373</td><td>124748</td><td>1110</td><td>125373</td><td>0</td><td>125373</td><td>934</td><td>0</td><td>94</td><td>1804</td><td>285</td><td>285</td><td>1541</td><td>0</td><td>0</td><td>0</td><td>0</td><td>144</td><td>10381</td><td>9</td><td>8</td><td>130896</td><td>266</td><td>131266</td><td>144</td><td>18</td><td>0</td><td>0</td><td>0</td><td>0</td><td>0</td><td>144</td><td>0</td><td>0</td><td>16</td><td>62</td><td>0</td><td>497</td><td>0</td><td>0</td><td>0</td><td>0</td><td>48</td><td>235999</td><td>235999</td><td>235999</td><td>0</td><td>0</td><td>235999</td><td>0</td><td>235999</td><td>235999</td><td>0</td><td>194</td><td>0</td><td>0</td><td>0</td><td>0</td><td>0</td><td>0</td><td>73908</td><td>0</td><td>0</td><td>0</td><td>0</td><td>196</td><td>810</td><td>125373</td><td>28461</td><td>0</td><td>206</td><td>24342</td><td>0</td><td>2903</td><td>123155</td><td>0</td><td>882</td><td>0</td><td>679</td><td>0</td><td>73</td><td>0</td><td>0</td><td>0</td><td>11</td><td>0</td><td>0</td><td>0</td><td>0</td><td>0</td><td>0</td><td>0</td><td>0</td><td>0</td><td>0</td><td>0</td><td>0</td><td>0</td><td>0</td><td>0</td><td>1229</td><td>0</td><td>1149</td><td>1446</td><td>0</td><td>0</td><td>0</td><td>0</td><td>0</td><td>0</td><td>0</td><td>0</td><td>0</td><td>0</td><td>0</td><td>0</td><td>0</td><td>0</td><td>0</td><td>22</td><td>0</td></tr><tr><td>{siteid}</td><td>2020-06-08</td><td>Admin</td><td>dept</td><td>16.20.32.1          </td><td>258466</td><td>124</td><td>131994</td><td>129937</td><td>3736</td><td>131994</td><td>0</td><td>131994</td><td>947</td><td>0</td><td>169</td><td>1806</td><td>287</td><td>287</td><td>1541</td><td>0</td><td>0</td><td>0</td><td>0</td><td>192</td><td>11757</td><td>29</td><td>8</td><td>133711</td><td>282</td><td>134201</td><td>192</td><td>24</td><td>0</td><td>0</td><td>0</td><td>0</td><td>0</td><td>192</td><td>0</td><td>0</td><td>16</td><td>72</td><td>0</td><td>497</td><td>0</td><td>0</td><td>0</td><td>0</td><td>48</td><td>255844</td><td>255844</td><td>255844</td><td>0</td><td>0</td><td>255844</td><td>0</td><td>255844</td><td>255844</td><td>0</td><td>200</td><td>0</td><td>0</td><td>0</td><td>0</td><td>0</td><td>0</td><td>77383</td><td>0</td><td>0</td><td>0</td><td>44</td><td>539</td><td>1197</td><td>131994</td><td>30159</td><td>0</td><td>1369</td><td>26178</td><td>0</td><td>6525</td><td>128089</td><td>0</td><td>900</td><td>0</td><td>679</td><td>0</td><td>85</td><td>0</td><td>0</td><td>0</td><td>11</td><td>0</td><td>0</td><td>0</td><td>0</td><td>0</td><td>0</td><td>0</td><td>0</td><td>0</td><td>0</td><td>0</td><td>0</td><td>0</td><td>0</td><td>0</td><td>1390</td><td>0</td><td>1159</td><td>1466</td><td>0</td><td>0</td><td>0</td><td>0</td><td>0</td><td>0</td><td>0</td><td>0</td><td>0</td><td>0</td><td>0</td><td>0</td><td>0</td><td>0</td><td>0</td><td>24</td><td>0</td></tr><tr><td>{siteid}</td><td>2020-06-05</td><td>Unknown</td><td>Unknown</td><td>16.20.32.1          </td><td>4910921</td><td>5308</td><td>3423433</td><td>3138975</td><td>158022</td><td>3423433</td><td>0</td><td>3423435</td><td>43817</td><td>7</td><td>20330</td><td>47200</td><td>13618</td><td>39979</td><td>7230</td><td>6</td><td>2</td><td>5</td><td>0</td><td>3499</td><td>1374641</td><td>1</td><td>188486</td><td>1572675</td><td>6809</td><td>3327744</td><td>8961</td><td>60</td><td>78106</td><td>0</td><td>0</td><td>11</td><td>0</td><td>3078</td><td>2</td><td>3429</td><td>408896</td><td>1761</td><td>0</td><td>21620</td><td>0</td><td>0</td><td>3</td><td>3</td><td>16798</td><td>4877992</td><td>4877992</td><td>4877992</td><td>0</td><td>0</td><td>4877992</td><td>0</td><td>4877992</td><td>4877992</td><td>0</td><td>1936</td><td>0</td><td>0</td><td>0</td><td>3</td><td>4</td><td>0</td><td>978490</td><td>0</td><td>0</td><td>0</td><td>56372</td><td>109053</td><td>111719</td><td>3423435</td><td>2078103</td><td>185</td><td>26076</td><td>1606255</td><td>0</td><td>690981</td><td>3007948</td><td>49909</td><td>94214</td><td>221224</td><td>48166</td><td>0</td><td>5075</td><td>0</td><td>218</td><td>0</td><td>370</td><td>0</td><td>791</td><td>0</td><td>0</td><td>0</td><td>0</td><td>0</td><td>0</td><td>0</td><td>0</td><td>0</td><td>0</td><td>79</td><td>0</td><td>0</td><td>53151</td><td>0</td><td>27163</td><td>150220</td><td>127</td><td>0</td><td>0</td><td>0</td><td>0</td><td>0</td><td>0</td><td>0</td><td>0</td><td>0</td><td>0</td><td>0</td><td>0</td><td>0</td><td>0</td><td>709</td><td>0</td></tr><tr><td>{siteid}</td><td>2020-06-06</td><td>Unknown</td><td>Unknown</td><td>16.20.32.1          </td><td>4652806</td><td>4144</td><td>3360559</td><td>2960483</td><td>302773</td><td>3360559</td><td>0</td><td>3360559</td><td>33419</td><td>0</td><td>22223</td><td>43023</td><td>13655</td><td>36315</td><td>6714</td><td>0</td><td>0</td><td>0</td><td>0</td><td>3417</td><td>1301496</td><td>0</td><td>135359</td><td>1421100</td><td>6507</td><td>3174064</td><td>6813</td><td>65</td><td>80813</td><td>0</td><td>0</td><td>0</td><td>0</td><td>3160</td><td>0</td><td>3368</td><td>101279</td><td>1463</td><td>0</td><td>18133</td><td>0</td><td>0</td><td>3</td><td>3</td><td>22217</td><td>4627223</td><td>4627223</td><td>4627223</td><td>0</td><td>0</td><td>4627223</td><td>0</td><td>4627223</td><td>4627223</td><td>0</td><td>1610</td><td>0</td><td>0</td><td>0</td><td>3</td><td>4</td><td>0</td><td>928146</td><td>0</td><td>0</td><td>0</td><td>57047</td><td>108842</td><td>95975</td><td>3360559</td><td>1973725</td><td>175</td><td>17067</td><td>1495028</td><td>0</td><td>882469</td><td>2757149</td><td>46528</td><td>84419</td><td>178281</td><td>142805</td><td>0</td><td>4298</td><td>0</td><td>102</td><td>0</td><td>336</td><td>0</td><td>438</td><td>0</td><td>0</td><td>0</td><td>0</td><td>0</td><td>0</td><td>0</td><td>0</td><td>0</td><td>0</td><td>47</td><td>0</td><td>0</td><td>76138</td><td>0</td><td>18585</td><td>170519</td><td>123</td><td>0</td><td>0</td><td>0</td><td>0</td><td>0</td><td>0</td><td>0</td><td>0</td><td>0</td><td>0</td><td>0</td><td>0</td><td>0</td><td>0</td><td>610</td><td>0</td></tr><tr><td>{siteid}</td><td>2020-06-09</td><td>Admin</td><td>dept</td><td>16.20.32.1          </td><td>285571</td><td>124</td><td>143438</td><td>142653</td><td>1592</td><td>143438</td><td>0</td><td>143438</td><td>946</td><td>0</td><td>103</td><td>1804</td><td>285</td><td>285</td><td>1541</td><td>0</td><td>0</td><td>0</td><td>0</td><td>192</td><td>24247</td><td>21</td><td>8</td><td>151910</td><td>278</td><td>152347</td><td>192</td><td>24</td><td>0</td><td>0</td><td>0</td><td>0</td><td>0</td><td>192</td><td>0</td><td>0</td><td>16</td><td>70</td><td>0</td><td>497</td><td>0</td><td>0</td><td>0</td><td>0</td><td>48</td><td>281352</td><td>281352</td><td>281352</td><td>0</td><td>0</td><td>281352</td><td>0</td><td>281352</td><td>281352</td><td>0</td><td>193</td><td>0</td><td>0</td><td>0</td><td>0</td><td>0</td><td>0</td><td>116279</td><td>0</td><td>0</td><td>0</td><td>288</td><td>4161</td><td>859</td><td>143438</td><td>33943</td><td>0</td><td>475</td><td>31084</td><td>0</td><td>21277</td><td>136573</td><td>0</td><td>900</td><td>0</td><td>679</td><td>0</td><td>85</td><td>0</td><td>0</td><td>0</td><td>11</td><td>0</td><td>0</td><td>0</td><td>0</td><td>0</td><td>0</td><td>0</td><td>0</td><td>0</td><td>0</td><td>0</td><td>0</td><td>0</td><td>0</td><td>0</td><td>1438</td><td>0</td><td>1157</td><td>1456</td><td>0</td><td>0</td><td>0</td><td>0</td><td>0</td><td>0</td><td>0</td><td>0</td><td>0</td><td>0</td><td>0</td><td>0</td><td>0</td><td>0</td><td>0</td><td>22</td><td>0</td></tr><tr><td>{siteid}</td><td>2020-06-08</td><td>Unknown</td><td>Unknown</td><td>16.20.32.1          </td><td>4985990</td><td>5254</td><td>3384572</td><td>2846264</td><td>322701</td><td>3384572</td><td>0</td><td>3384574</td><td>34108</td><td>247</td><td>96684</td><td>48052</td><td>14112</td><td>39496</td><td>8568</td><td>246</td><td>2</td><td>245</td><td>0</td><td>5018</td><td>1413382</td><td>17</td><td>121244</td><td>1501509</td><td>9224</td><td>3134582</td><td>7239</td><td>55</td><td>75502</td><td>0</td><td>0</td><td>12</td><td>0</td><td>4515</td><td>0</td><td>3848</td><td>119463</td><td>2368</td><td>0</td><td>23645</td><td>0</td><td>0</td><td>64</td><td>78</td><td>14815</td><td>4949949</td><td>4949949</td><td>4949949</td><td>0</td><td>0</td><td>4949949</td><td>0</td><td>4949949</td><td>4949949</td><td>0</td><td>2880</td><td>0</td><td>0</td><td>0</td><td>3</td><td>4</td><td>0</td><td>1213616</td><td>0</td><td>0</td><td>0</td><td>68850</td><td>123161</td><td>122055</td><td>3384574</td><td>1887960</td><td>208</td><td>14302</td><td>1465092</td><td>0</td><td>935317</td><td>2768561</td><td>53413</td><td>96937</td><td>254587</td><td>49607</td><td>0</td><td>7671</td><td>0</td><td>811</td><td>0</td><td>401</td><td>0</td><td>2817</td><td>0</td><td>0</td><td>0</td><td>0</td><td>0</td><td>0</td><td>0</td><td>0</td><td>0</td><td>0</td><td>192</td><td>0</td><td>0</td><td>53566</td><td>0</td><td>29018</td><td>160716</td><td>134</td><td>0</td><td>0</td><td>0</td><td>0</td><td>0</td><td>0</td><td>0</td><td>0</td><td>0</td><td>0</td><td>0</td><td>0</td><td>0</td><td>0</td><td>1814</td><td>0</td></tr><tr><td>{siteid}</td><td>2020-06-08</td><td>TDInternal</td><td>dept</td><td>16.20.32.1          </td><td>69035</td><td>0</td><td>44256</td><td>22511</td><td>22129</td><td>44256</td><td>0</td><td>44256</td><td>26</td><td>0</td><td>0</td><td>3882</td><td>3870</td><td>3870</td><td>12</td><td>0</td><td>0</td><td>0</td><td>0</td><td>0</td><td>23511</td><td>0</td><td>0</td><td>49070</td><td>194</td><td>52018</td><td>0</td><td>0</td><td>0</td><td>0</td><td>0</td><td>0</td><td>0</td><td>0</td><td>0</td><td>0</td><td>0</td><td>0</td><td>0</td><td>2</td><td>0</td><td>0</td><td>0</td><td>0</td><td>0</td><td>69035</td><td>69035</td><td>69035</td><td>0</td><td>0</td><td>69035</td><td>0</td><td>69035</td><td>69035</td><td>0</td><td>4</td><td>0</td><td>0</td><td>0</td><td>0</td><td>0</td><td>0</td><td>51131</td><td>0</td><td>0</td><td>0</td><td>719</td><td>18</td><td>34</td><td>44256</td><td>9515</td><td>0</td><td>0</td><td>3269</td><td>0</td><td>31096</td><td>18063</td><td>0</td><td>0</td><td>0</td><td>0</td><td>0</td><td>11</td><td>0</td><td>0</td><td>0</td><td>18</td><td>0</td><td>50</td><td>0</td><td>0</td><td>0</td><td>0</td><td>0</td><td>0</td><td>0</td><td>0</td><td>0</td><td>0</td><td>0</td><td>0</td><td>0</td><td>1961</td><td>0</td><td>3289</td><td>32391</td><td>0</td><td>0</td><td>0</td><td>0</td><td>0</td><td>0</td><td>0</td><td>0</td><td>0</td><td>0</td><td>0</td><td>0</td><td>0</td><td>0</td><td>0</td><td>0</td><td>0</td></tr><tr><td>{siteid}</td><td>2020-06-10</td><td>TDInternal</td><td>dept</td><td>16.20.32.1          </td><td>66235</td><td>1</td><td>41523</td><td>22486</td><td>19422</td><td>41523</td><td>0</td><td>41523</td><td>24</td><td>0</td><td>1</td><td>3882</td><td>3858</td><td>3858</td><td>24</td><td>0</td><td>0</td><td>0</td><td>0</td><td>2</td><td>20836</td><td>0</td><td>0</td><td>48360</td><td>199</td><td>51827</td><td>2</td><td>0</td><td>0</td><td>0</td><td>0</td><td>0</td><td>0</td><td>2</td><td>0</td><td>0</td><td>0</td><td>5</td><td>0</td><td>2</td><td>0</td><td>0</td><td>0</td><td>0</td><td>0</td><td>66235</td><td>66235</td><td>66235</td><td>0</td><td>0</td><td>66235</td><td>0</td><td>66235</td><td>66235</td><td>0</td><td>0</td><td>0</td><td>0</td><td>923</td><td>0</td><td>0</td><td>0</td><td>50891</td><td>0</td><td>0</td><td>0</td><td>719</td><td>19</td><td>35</td><td>41523</td><td>9471</td><td>0</td><td>2</td><td>3274</td><td>0</td><td>28374</td><td>17996</td><td>0</td><td>0</td><td>0</td><td>0</td><td>0</td><td>17</td><td>0</td><td>0</td><td>0</td><td>4</td><td>0</td><td>58</td><td>0</td><td>0</td><td>0</td><td>0</td><td>0</td><td>0</td><td>0</td><td>0</td><td>0</td><td>156</td><td>0</td><td>0</td><td>0</td><td>1961</td><td>0</td><td>3294</td><td>29614</td><td>0</td><td>0</td><td>0</td><td>0</td><td>0</td><td>0</td><td>0</td><td>1337</td><td>0</td><td>0</td><td>0</td><td>0</td><td>0</td><td>0</td><td>0</td><td>0</td><td>0</td></tr><tr><td>{siteid}</td><td>2020-06-07</td><td>Unknown</td><td>Unknown</td><td>16.20.32.1          </td><td>4791225</td><td>4853</td><td>3475525</td><td>3084224</td><td>294741</td><td>3475525</td><td>0</td><td>3475527</td><td>38635</td><td>2</td><td>32658</td><td>50753</td><td>13961</td><td>44134</td><td>6628</td><td>1</td><td>2</td><td>0</td><td>0</td><td>3416</td><td>1369508</td><td>0</td><td>253931</td><td>1329958</td><td>6459</td><td>3251430</td><td>7876</td><td>45</td><td>82957</td><td>0</td><td>0</td><td>0</td><td>0</td><td>3221</td><td>0</td><td>3282</td><td>118945</td><td>1532</td><td>0</td><td>19827</td><td>0</td><td>0</td><td>3</td><td>3</td><td>10456</td><td>4764939</td><td>4764939</td><td>4764939</td><td>0</td><td>0</td><td>4764939</td><td>0</td><td>4764939</td><td>4764939</td><td>0</td><td>1797</td><td>0</td><td>0</td><td>0</td><td>3</td><td>4</td><td>0</td><td>950913</td><td>0</td><td>0</td><td>0</td><td>65408</td><td>117589</td><td>110574</td><td>3475527</td><td>2103439</td><td>200</td><td>20824</td><td>1644170</td><td>0</td><td>802099</td><td>2930321</td><td>53272</td><td>94576</td><td>188503</td><td>65357</td><td>0</td><td>4820</td><td>0</td><td>135</td><td>0</td><td>366</td><td>0</td><td>423</td><td>0</td><td>0</td><td>0</td><td>0</td><td>0</td><td>0</td><td>0</td><td>0</td><td>0</td><td>0</td><td>58</td><td>0</td><td>0</td><td>46706</td><td>0</td><td>21311</td><td>152451</td><td>122</td><td>0</td><td>0</td><td>0</td><td>0</td><td>0</td><td>0</td><td>0</td><td>0</td><td>0</td><td>0</td><td>0</td><td>0</td><td>0</td><td>0</td><td>726</td><td>0</td></tr><tr><td>{siteid}</td><td>2020-06-05</td><td>TDInternal</td><td>dept</td><td>16.20.32.1          </td><td>66913</td><td>0</td><td>42275</td><td>22453</td><td>20209</td><td>42275</td><td>0</td><td>42275</td><td>20</td><td>0</td><td>20</td><td>3875</td><td>3855</td><td>3855</td><td>20</td><td>0</td><td>0</td><td>0</td><td>0</td><td>19</td><td>21525</td><td>0</td><td>0</td><td>48885</td><td>198</td><td>51870</td><td>38</td><td>0</td><td>0</td><td>0</td><td>0</td><td>19</td><td>0</td><td>19</td><td>0</td><td>0</td><td>0</td><td>8</td><td>0</td><td>2</td><td>0</td><td>0</td><td>0</td><td>0</td><td>0</td><td>66913</td><td>66913</td><td>66913</td><td>0</td><td>0</td><td>66913</td><td>0</td><td>66913</td><td>66913</td><td>0</td><td>3</td><td>0</td><td>0</td><td>0</td><td>0</td><td>0</td><td>0</td><td>51008</td><td>0</td><td>0</td><td>0</td><td>720</td><td>31</td><td>119</td><td>42275</td><td>9465</td><td>0</td><td>0</td><td>3260</td><td>0</td><td>29112</td><td>17975</td><td>0</td><td>0</td><td>0</td><td>0</td><td>0</td><td>12</td><td>0</td><td>0</td><td>0</td><td>4</td><td>0</td><td>48</td><td>0</td><td>0</td><td>0</td><td>0</td><td>0</td><td>0</td><td>0</td><td>0</td><td>0</td><td>0</td><td>0</td><td>0</td><td>0</td><td>1941</td><td>0</td><td>3364</td><td>30424</td><td>0</td><td>0</td><td>0</td><td>0</td><td>0</td><td>0</td><td>0</td><td>0</td><td>0</td><td>0</td><td>0</td><td>0</td><td>0</td><td>0</td><td>0</td><td>0</td><td>0</td></tr><tr><td>{siteid}</td><td>2020-06-10</td><td>Unknown</td><td>Unknown</td><td>16.20.32.1          </td><td>5530918</td><td>4763</td><td>3742458</td><td>2989381</td><td>283162</td><td>3742458</td><td>0</td><td>3742461</td><td>40533</td><td>311</td><td>385613</td><td>49050</td><td>14798</td><td>40744</td><td>8326</td><td>311</td><td>0</td><td>311</td><td>0</td><td>6832</td><td>1783510</td><td>16</td><td>187735</td><td>1524598</td><td>8629</td><td>3366186</td><td>11121</td><td>44</td><td>71970</td><td>0</td><td>0</td><td>5</td><td>0</td><td>6196</td><td>9</td><td>3679</td><td>107938</td><td>2066</td><td>0</td><td>21172</td><td>0</td><td>0</td><td>30</td><td>33</td><td>13171</td><td>5494605</td><td>5494605</td><td>5494605</td><td>0</td><td>0</td><td>5494605</td><td>0</td><td>5494605</td><td>5494605</td><td>0</td><td>2200</td><td>0</td><td>0</td><td>39031</td><td>35</td><td>4</td><td>0</td><td>1643223</td><td>0</td><td>0</td><td>0</td><td>56779</td><td>111067</td><td>109392</td><td>3742458</td><td>2371159</td><td>169</td><td>23761</td><td>1885747</td><td>0</td><td>787844</td><td>3231483</td><td>45954</td><td>93154</td><td>192829</td><td>5509</td><td>0</td><td>8904</td><td>0</td><td>866</td><td>2</td><td>353</td><td>0</td><td>3151</td><td>0</td><td>0</td><td>0</td><td>0</td><td>0</td><td>0</td><td>0</td><td>9</td><td>0</td><td>6647</td><td>174</td><td>0</td><td>0</td><td>45056</td><td>0</td><td>31310</td><td>142158</td><td>131</td><td>0</td><td>0</td><td>0</td><td>0</td><td>0</td><td>0</td><td>48337</td><td>0</td><td>0</td><td>0</td><td>0</td><td>0</td><td>0</td><td>0</td><td>2870</td><td>0</td></tr><tr><td>{siteid}</td><td>2020-06-04</td><td>TDInternal</td><td>dept</td><td>16.20.32.1          </td><td>68102</td><td>0</td><td>43436</td><td>22480</td><td>21340</td><td>43436</td><td>0</td><td>43436</td><td>14</td><td>0</td><td>0</td><td>3836</td><td>3822</td><td>3822</td><td>14</td><td>0</td><td>0</td><td>0</td><td>0</td><td>0</td><td>22813</td><td>0</td><td>0</td><td>48877</td><td>192</td><td>51810</td><td>2</td><td>2</td><td>0</td><td>0</td><td>0</td><td>0</td><td>0</td><td>0</td><td>0</td><td>0</td><td>0</td><td>4</td><td>0</td><td>2</td><td>0</td><td>0</td><td>0</td><td>0</td><td>0</td><td>68102</td><td>68102</td><td>68102</td><td>0</td><td>0</td><td>68102</td><td>0</td><td>68102</td><td>68102</td><td>0</td><td>0</td><td>0</td><td>0</td><td>0</td><td>0</td><td>0</td><td>0</td><td>50997</td><td>0</td><td>0</td><td>0</td><td>720</td><td>28</td><td>33</td><td>43436</td><td>9376</td><td>0</td><td>0</td><td>3203</td><td>0</td><td>30342</td><td>17883</td><td>0</td><td>0</td><td>0</td><td>0</td><td>0</td><td>10</td><td>0</td><td>0</td><td>0</td><td>0</td><td>0</td><td>48</td><td>0</td><td>0</td><td>0</td><td>0</td><td>0</td><td>0</td><td>0</td><td>0</td><td>0</td><td>0</td><td>0</td><td>0</td><td>0</td><td>1927</td><td>0</td><td>3262</td><td>31459</td><td>0</td><td>0</td><td>0</td><td>0</td><td>0</td><td>0</td><td>0</td><td>0</td><td>0</td><td>0</td><td>0</td><td>0</td><td>0</td><td>0</td><td>0</td><td>0</td><td>0</td></tr><tr><td>{siteid}</td><td>2020-06-05</td><td>Admin</td><td>dept</td><td>16.20.32.1          </td><td>246609</td><td>124</td><td>123633</td><td>122912</td><td>1258</td><td>123633</td><td>0</td><td>123635</td><td>944</td><td>0</td><td>117</td><td>1895</td><td>312</td><td>312</td><td>1609</td><td>0</td><td>0</td><td>0</td><td>0</td><td>184</td><td>10245</td><td>8</td><td>8</td><td>119162</td><td>294</td><td>119588</td><td>184</td><td>23</td><td>0</td><td>0</td><td>0</td><td>0</td><td>0</td><td>184</td><td>0</td><td>0</td><td>16</td><td>69</td><td>0</td><td>501</td><td>0</td><td>0</td><td>0</td><td>0</td><td>48</td><td>244084</td><td>244084</td><td>244084</td><td>0</td><td>0</td><td>244084</td><td>0</td><td>244084</td><td>244084</td><td>0</td><td>212</td><td>0</td><td>0</td><td>0</td><td>0</td><td>0</td><td>0</td><td>71509</td><td>0</td><td>0</td><td>0</td><td>0</td><td>196</td><td>804</td><td>123635</td><td>26860</td><td>0</td><td>193</td><td>23608</td><td>0</td><td>3057</td><td>121314</td><td>0</td><td>900</td><td>0</td><td>679</td><td>0</td><td>141</td><td>0</td><td>8</td><td>0</td><td>27</td><td>0</td><td>0</td><td>0</td><td>0</td><td>0</td><td>0</td><td>0</td><td>0</td><td>0</td><td>0</td><td>0</td><td>0</td><td>2</td><td>0</td><td>0</td><td>1469</td><td>0</td><td>1238</td><td>1550</td><td>0</td><td>0</td><td>0</td><td>0</td><td>0</td><td>0</td><td>0</td><td>0</td><td>0</td><td>0</td><td>0</td><td>0</td><td>0</td><td>0</td><td>0</td><td>22</td><td>0</td></tr><tr><td>{siteid}</td><td>2020-06-09</td><td>TDInternal</td><td>dept</td><td>16.20.32.1          </td><td>69932</td><td>0</td><td>44841</td><td>22773</td><td>22429</td><td>44841</td><td>0</td><td>44841</td><td>29</td><td>0</td><td>1</td><td>3883</td><td>3856</td><td>3856</td><td>27</td><td>0</td><td>0</td><td>0</td><td>0</td><td>59</td><td>23879</td><td>0</td><td>0</td><td>48965</td><td>194</td><td>52603</td><td>12</td><td>0</td><td>2</td><td>0</td><td>0</td><td>0</td><td>0</td><td>12</td><td>0</td><td>0</td><td>0</td><td>23</td><td>0</td><td>2</td><td>0</td><td>0</td><td>0</td><td>0</td><td>0</td><td>69932</td><td>69932</td><td>69932</td><td>0</td><td>0</td><td>69932</td><td>0</td><td>69932</td><td>69932</td><td>0</td><td>0</td><td>0</td><td>0</td><td>0</td><td>0</td><td>0</td><td>0</td><td>51331</td><td>0</td><td>0</td><td>0</td><td>720</td><td>9</td><td>59</td><td>44841</td><td>9493</td><td>0</td><td>28</td><td>3246</td><td>0</td><td>31657</td><td>18020</td><td>0</td><td>0</td><td>0</td><td>0</td><td>0</td><td>21</td><td>0</td><td>0</td><td>0</td><td>5</td><td>0</td><td>49</td><td>0</td><td>0</td><td>0</td><td>0</td><td>0</td><td>0</td><td>0</td><td>0</td><td>0</td><td>0</td><td>0</td><td>0</td><td>0</td><td>1968</td><td>0</td><td>3291</td><td>32763</td><td>0</td><td>0</td><td>0</td><td>0</td><td>0</td><td>0</td><td>0</td><td>0</td><td>0</td><td>0</td><td>0</td><td>0</td><td>0</td><td>0</td><td>0</td><td>0</td><td>0</td></tr><tr><td>{siteid}</td><td>2020-06-04</td><td>Unknown</td><td>Unknown</td><td>16.20.32.1          </td><td>4480692</td><td>5057</td><td>3030776</td><td>2727222</td><td>199993</td><td>3030776</td><td>0</td><td>3030778</td><td>38057</td><td>351</td><td>33703</td><td>51630</td><td>15037</td><td>42028</td><td>9609</td><td>350</td><td>2</td><td>349</td><td>0</td><td>12183</td><td>1072133</td><td>34</td><td>106469</td><td>1417111</td><td>8841</td><td>3087833</td><td>15484</td><td>94</td><td>73163</td><td>0</td><td>0</td><td>12</td><td>0</td><td>11479</td><td>0</td><td>3581</td><td>105410</td><td>2277</td><td>0</td><td>23907</td><td>0</td><td>0</td><td>4</td><td>4</td><td>18585</td><td>4480543</td><td>4480543</td><td>4480543</td><td>0</td><td>0</td><td>4480543</td><td>0</td><td>4480543</td><td>4480543</td><td>0</td><td>2582</td><td>0</td><td>0</td><td>0</td><td>3</td><td>4</td><td>0</td><td>1110382</td><td>0</td><td>0</td><td>0</td><td>60943</td><td>113769</td><td>120160</td><td>3030778</td><td>1877982</td><td>192</td><td>22290</td><td>1408894</td><td>0</td><td>710213</td><td>2606055</td><td>52662</td><td>100190</td><td>258377</td><td>48225</td><td>0</td><td>11941</td><td>0</td><td>673</td><td>1</td><td>435</td><td>0</td><td>5455</td><td>0</td><td>0</td><td>0</td><td>0</td><td>0</td><td>0</td><td>0</td><td>0</td><td>0</td><td>0</td><td>108</td><td>0</td><td>0</td><td>67158</td><td>0</td><td>35471</td><td>155582</td><td>127</td><td>0</td><td>0</td><td>0</td><td>0</td><td>0</td><td>0</td><td>0</td><td>0</td><td>0</td><td>0</td><td>0</td><td>0</td><td>0</td><td>0</td><td>6164</td><td>0</td></tr><tr><td>{siteid}</td><td>2020-06-06</td><td>TDInternal</td><td>dept</td><td>16.20.32.1          </td><td>64284</td><td>0</td><td>39787</td><td>21989</td><td>18182</td><td>39787</td><td>0</td><td>39787</td><td>12</td><td>0</td><td>0</td><td>3810</td><td>3798</td><td>3798</td><td>12</td><td>0</td><td>0</td><td>0</td><td>0</td><td>0</td><td>19406</td><td>0</td><td>0</td><td>48591</td><td>198</td><td>51241</td><td>0</td><td>0</td><td>0</td><td>0</td><td>0</td><td>0</td><td>0</td><td>0</td><td>0</td><td>0</td><td>0</td><td>8</td><td>0</td><td>2</td><td>0</td><td>0</td><td>0</td><td>0</td><td>0</td><td>64284</td><td>64284</td><td>64284</td><td>0</td><td>0</td><td>64284</td><td>0</td><td>64284</td><td>64284</td><td>0</td><td>0</td><td>0</td><td>0</td><td>0</td><td>0</td><td>0</td><td>0</td><td>50493</td><td>0</td><td>0</td><td>0</td><td>707</td><td>28</td><td>38</td><td>39787</td><td>9275</td><td>0</td><td>0</td><td>3172</td><td>0</td><td>26782</td><td>17753</td><td>0</td><td>0</td><td>0</td><td>0</td><td>0</td><td>7</td><td>0</td><td>0</td><td>0</td><td>0</td><td>0</td><td>48</td><td>0</td><td>0</td><td>0</td><td>0</td><td>0</td><td>0</td><td>0</td><td>0</td><td>0</td><td>0</td><td>0</td><td>0</td><td>0</td><td>1908</td><td>0</td><td>3254</td><td>28188</td><td>0</td><td>0</td><td>0</td><td>0</td><td>0</td><td>0</td><td>0</td><td>0</td><td>0</td><td>0</td><td>0</td><td>0</td><td>0</td><td>0</td><td>0</td><td>0</td><td>0</td></tr><tr><td>{siteid}</td><td>2020-06-04</td><td>Admin</td><td>dept</td><td>16.20.32.1          </td><td>292779</td><td>138</td><td>151961</td><td>148077</td><td>5020</td><td>151961</td><td>0</td><td>151961</td><td>949</td><td>0</td><td>135</td><td>1826</td><td>291</td><td>291</td><td>1559</td><td>0</td><td>0</td><td>0</td><td>0</td><td>192</td><td>18833</td><td>57</td><td>8</td><td>162237</td><td>297</td><td>162795</td><td>192</td><td>24</td><td>0</td><td>0</td><td>0</td><td>0</td><td>0</td><td>192</td><td>0</td><td>0</td><td>38</td><td>71</td><td>0</td><td>497</td><td>0</td><td>0</td><td>0</td><td>0</td><td>48</td><td>287959</td><td>287959</td><td>287959</td><td>0</td><td>0</td><td>287959</td><td>0</td><td>287959</td><td>287959</td><td>0</td><td>202</td><td>0</td><td>0</td><td>0</td><td>0</td><td>0</td><td>0</td><td>101086</td><td>0</td><td>0</td><td>0</td><td>1702</td><td>2006</td><td>996</td><td>151961</td><td>35847</td><td>0</td><td>811</td><td>31222</td><td>0</td><td>13157</td><td>144941</td><td>0</td><td>900</td><td>0</td><td>679</td><td>0</td><td>85</td><td>0</td><td>0</td><td>0</td><td>12</td><td>0</td><td>0</td><td>0</td><td>0</td><td>0</td><td>0</td><td>0</td><td>0</td><td>0</td><td>0</td><td>0</td><td>0</td><td>0</td><td>0</td><td>0</td><td>1442</td><td>0</td><td>1161</td><td>1485</td><td>0</td><td>0</td><td>0</td><td>0</td><td>0</td><td>0</td><td>0</td><td>0</td><td>0</td><td>0</td><td>0</td><td>0</td><td>0</td><td>0</td><td>0</td><td>23</td><td>0</td></tr><tr><td>{siteid}</td><td>2020-06-07</td><td>Admin</td><td>dept</td><td>16.20.32.1          </td><td>257895</td><td>177</td><td>126147</td><td>125374</td><td>1358</td><td>126147</td><td>0</td><td>126147</td><td>948</td><td>0</td><td>98</td><td>2192</td><td>285</td><td>285</td><td>1929</td><td>0</td><td>0</td><td>0</td><td>0</td><td>192</td><td>11194</td><td>9</td><td>8</td><td>113896</td><td>273</td><td>114280</td><td>192</td><td>24</td><td>0</td><td>0</td><td>0</td><td>0</td><td>0</td><td>192</td><td>0</td><td>0</td><td>601</td><td>70</td><td>0</td><td>497</td><td>0</td><td>0</td><td>0</td><td>0</td><td>48</td><td>255351</td><td>255351</td><td>255351</td><td>0</td><td>0</td><td>255351</td><td>0</td><td>255351</td><td>255351</td><td>0</td><td>199</td><td>0</td><td>0</td><td>0</td><td>0</td><td>0</td><td>0</td><td>73493</td><td>0</td><td>0</td><td>0</td><td>0</td><td>196</td><td>972</td><td>126147</td><td>26555</td><td>0</td><td>266</td><td>23488</td><td>0</td><td>3673</td><td>123320</td><td>0</td><td>900</td><td>0</td><td>679</td><td>0</td><td>86</td><td>0</td><td>0</td><td>0</td><td>11</td><td>0</td><td>0</td><td>0</td><td>0</td><td>0</td><td>0</td><td>0</td><td>0</td><td>0</td><td>0</td><td>0</td><td>0</td><td>0</td><td>0</td><td>0</td><td>1480</td><td>0</td><td>1197</td><td>1692</td><td>0</td><td>0</td><td>0</td><td>0</td><td>0</td><td>0</td><td>0</td><td>0</td><td>0</td><td>0</td><td>0</td><td>0</td><td>0</td><td>0</td><td>0</td><td>22</td><td>0</td></tr><tr><td>{siteid}</td><td>2020-06-07</td><td>TDInternal</td><td>dept</td><td>16.20.32.1          </td><td>111682</td><td>0</td><td>41322</td><td>22381</td><td>19325</td><td>41322</td><td>0</td><td>41322</td><td>12</td><td>0</td><td>0</td><td>3854</td><td>3842</td><td>3842</td><td>12</td><td>0</td><td>0</td><td>0</td><td>0</td><td>0</td><td>20702</td><td>0</td><td>4</td><td>95133</td><td>192</td><td>97433</td><td>0</td><td>0</td><td>0</td><td>0</td><td>0</td><td>0</td><td>0</td><td>0</td><td>0</td><td>0</td><td>0</td><td>0</td><td>0</td><td>2</td><td>0</td><td>0</td><td>0</td><td>0</td><td>0</td><td>111682</td><td>111682</td><td>111682</td><td>0</td><td>0</td><td>111682</td><td>0</td><td>111682</td><td>111682</td><td>0</td><td>0</td><td>0</td><td>0</td><td>0</td><td>0</td><td>0</td><td>0</td><td>51198</td><td>0</td><td>0</td><td>0</td><td>720</td><td>16</td><td>45500</td><td>41322</td><td>9445</td><td>0</td><td>0</td><td>3232</td><td>0</td><td>28162</td><td>17978</td><td>0</td><td>0</td><td>0</td><td>0</td><td>0</td><td>7</td><td>0</td><td>0</td><td>0</td><td>0</td><td>0</td><td>48</td><td>0</td><td>0</td><td>0</td><td>0</td><td>0</td><td>0</td><td>0</td><td>0</td><td>0</td><td>0</td><td>0</td><td>0</td><td>0</td><td>1941</td><td>0</td><td>3279</td><td>29511</td><td>0</td><td>0</td><td>0</td><td>0</td><td>0</td><td>0</td><td>0</td><td>0</td><td>0</td><td>0</td><td>0</td><td>0</td><td>0</td><td>0</td><td>0</td><td>0</td><td>0</td></tr><tr><td>{siteid}</td><td>2020-06-09</td><td>Unknown</td><td>Unknown</td><td>16.20.32.1          </td><td>5534057</td><td>5174</td><td>3695751</td><td>2959968</td><td>319941</td><td>3695751</td><td>0</td><td>3695752</td><td>38272</td><td>376</td><td>316850</td><td>49549</td><td>14312</td><td>40990</td><td>8573</td><td>376</td><td>0</td><td>376</td><td>0</td><td>6325</td><td>1695474</td><td>0</td><td>151042</td><td>1587840</td><td>8541</td><td>3275730</td><td>9921</td><td>74</td><td>79913</td><td>0</td><td>0</td><td>3</td><td>0</td><td>5652</td><td>0</td><td>3497</td><td>115164</td><td>2485</td><td>0</td><td>23991</td><td>0</td><td>0</td><td>26</td><td>27</td><td>14749</td><td>5500072</td><td>5500072</td><td>5500072</td><td>0</td><td>0</td><td>5500072</td><td>0</td><td>5500072</td><td>5500072</td><td>0</td><td>2291</td><td>0</td><td>0</td><td>0</td><td>3</td><td>18</td><td>0</td><td>1632676</td><td>0</td><td>0</td><td>0</td><td>64781</td><td>118519</td><td>123016</td><td>3695751</td><td>2253170</td><td>169</td><td>21583</td><td>1749883</td><td>0</td><td>864120</td><td>3119941</td><td>57266</td><td>96595</td><td>271794</td><td>1405</td><td>0</td><td>8497</td><td>0</td><td>808</td><td>2</td><td>470</td><td>0</td><td>2857</td><td>0</td><td>0</td><td>0</td><td>0</td><td>0</td><td>0</td><td>0</td><td>0</td><td>0</td><td>0</td><td>369</td><td>0</td><td>0</td><td>49156</td><td>0</td><td>31268</td><td>149244</td><td>121</td><td>0</td><td>0</td><td>0</td><td>0</td><td>0</td><td>0</td><td>0</td><td>0</td><td>0</td><td>0</td><td>5</td><td>5</td><td>0</td><td>0</td><td>2365</td><td>0</td></tr></table></div>"
      ]
     },
     "execution_count": 140,
     "metadata": {
      "application/vnd.teradata.resultset": "{\"resultSetID\":\"/home/jovyan/JupyterLabRoot/Teradata/Resultsets/2020.06.12_00.26.36.835_UTC\",\"historyID\":1228,\"chunkID\":\"00001\",\"sessionid\":\"\",\"portnum\":\"\",\"dockermode\":\"docker\",\"totalRowCount\":21,\"rowLimit\":0,\"columnMetadata\":[{\"columnName\":\"Site_ID\",\"columnTypeName\":\"VARCHAR\",\"length\":128,\"scale\":128},{\"columnNumber\":1,\"columnName\":\"LogDate\",\"columnTypeName\":\"DATE\"},{\"columnNumber\":2,\"columnName\":\"User_Bucket\",\"columnTypeName\":\"VARCHAR\",\"length\":128,\"scale\":128},{\"columnNumber\":3,\"columnName\":\"User_Department\",\"columnTypeName\":\"VARCHAR\",\"length\":128,\"scale\":128},{\"columnNumber\":4,\"columnName\":\"DBSVersion\",\"columnTypeName\":\"CHAR\",\"length\":10,\"scale\":10},{\"columnNumber\":5,\"columnName\":\"Request_Count\",\"columnTypeName\":\"INTEGER\"},{\"columnNumber\":6,\"columnName\":\"bit016\",\"columnTypeName\":\"INTEGER\"},{\"columnNumber\":7,\"columnName\":\"bit017\",\"columnTypeName\":\"INTEGER\"},{\"columnNumber\":8,\"columnName\":\"bit018\",\"columnTypeName\":\"INTEGER\"},{\"columnNumber\":9,\"columnName\":\"bit019\",\"columnTypeName\":\"INTEGER\"},{\"columnNumber\":10,\"columnName\":\"bit020\",\"columnTypeName\":\"INTEGER\"},{\"columnNumber\":11,\"columnName\":\"bit021\",\"columnTypeName\":\"INTEGER\"},{\"columnNumber\":12,\"columnName\":\"bit022\",\"columnTypeName\":\"INTEGER\"},{\"columnNumber\":13,\"columnName\":\"bit023\",\"columnTypeName\":\"INTEGER\"},{\"columnNumber\":14,\"columnName\":\"bit024\",\"columnTypeName\":\"INTEGER\"},{\"columnNumber\":15,\"columnName\":\"bit025\",\"columnTypeName\":\"INTEGER\"},{\"columnNumber\":16,\"columnName\":\"bit026\",\"columnTypeName\":\"INTEGER\"},{\"columnNumber\":17,\"columnName\":\"bit027\",\"columnTypeName\":\"INTEGER\"},{\"columnNumber\":18,\"columnName\":\"bit028\",\"columnTypeName\":\"INTEGER\"},{\"columnNumber\":19,\"columnName\":\"bit029\",\"columnTypeName\":\"INTEGER\"},{\"columnNumber\":20,\"columnName\":\"bit030\",\"columnTypeName\":\"INTEGER\"},{\"columnNumber\":21,\"columnName\":\"bit031\",\"columnTypeName\":\"INTEGER\"},{\"columnNumber\":22,\"columnName\":\"bit032\",\"columnTypeName\":\"INTEGER\"},{\"columnNumber\":23,\"columnName\":\"bit033\",\"columnTypeName\":\"INTEGER\"},{\"columnNumber\":24,\"columnName\":\"bit034\",\"columnTypeName\":\"INTEGER\"},{\"columnNumber\":25,\"columnName\":\"bit035\",\"columnTypeName\":\"INTEGER\"},{\"columnNumber\":26,\"columnName\":\"bit036\",\"columnTypeName\":\"INTEGER\"},{\"columnNumber\":27,\"columnName\":\"bit037\",\"columnTypeName\":\"INTEGER\"},{\"columnNumber\":28,\"columnName\":\"bit038\",\"columnTypeName\":\"INTEGER\"},{\"columnNumber\":29,\"columnName\":\"bit039\",\"columnTypeName\":\"INTEGER\"},{\"columnNumber\":30,\"columnName\":\"bit040\",\"columnTypeName\":\"INTEGER\"},{\"columnNumber\":31,\"columnName\":\"bit041\",\"columnTypeName\":\"INTEGER\"},{\"columnNumber\":32,\"columnName\":\"bit042\",\"columnTypeName\":\"INTEGER\"},{\"columnNumber\":33,\"columnName\":\"bit043\",\"columnTypeName\":\"INTEGER\"},{\"columnNumber\":34,\"columnName\":\"bit044\",\"columnTypeName\":\"INTEGER\"},{\"columnNumber\":35,\"columnName\":\"bit045\",\"columnTypeName\":\"INTEGER\"},{\"columnNumber\":36,\"columnName\":\"bit046\",\"columnTypeName\":\"INTEGER\"},{\"columnNumber\":37,\"columnName\":\"bit047\",\"columnTypeName\":\"INTEGER\"},{\"columnNumber\":38,\"columnName\":\"bit048\",\"columnTypeName\":\"INTEGER\"},{\"columnNumber\":39,\"columnName\":\"bit049\",\"columnTypeName\":\"INTEGER\"},{\"columnNumber\":40,\"columnName\":\"bit050\",\"columnTypeName\":\"INTEGER\"},{\"columnNumber\":41,\"columnName\":\"bit051\",\"columnTypeName\":\"INTEGER\"},{\"columnNumber\":42,\"columnName\":\"bit052\",\"columnTypeName\":\"INTEGER\"},{\"columnNumber\":43,\"columnName\":\"bit053\",\"columnTypeName\":\"INTEGER\"},{\"columnNumber\":44,\"columnName\":\"bit054\",\"columnTypeName\":\"INTEGER\"},{\"columnNumber\":45,\"columnName\":\"bit055\",\"columnTypeName\":\"INTEGER\"},{\"columnNumber\":46,\"columnName\":\"bit056\",\"columnTypeName\":\"INTEGER\"},{\"columnNumber\":47,\"columnName\":\"bit057\",\"columnTypeName\":\"INTEGER\"},{\"columnNumber\":48,\"columnName\":\"bit058\",\"columnTypeName\":\"INTEGER\"},{\"columnNumber\":49,\"columnName\":\"bit059\",\"columnTypeName\":\"INTEGER\"},{\"columnNumber\":50,\"columnName\":\"bit060\",\"columnTypeName\":\"INTEGER\"},{\"columnNumber\":51,\"columnName\":\"bit061\",\"columnTypeName\":\"INTEGER\"},{\"columnNumber\":52,\"columnName\":\"bit062\",\"columnTypeName\":\"INTEGER\"},{\"columnNumber\":53,\"columnName\":\"bit063\",\"columnTypeName\":\"INTEGER\"},{\"columnNumber\":54,\"columnName\":\"bit064\",\"columnTypeName\":\"INTEGER\"},{\"columnNumber\":55,\"columnName\":\"bit065\",\"columnTypeName\":\"INTEGER\"},{\"columnNumber\":56,\"columnName\":\"bit066\",\"columnTypeName\":\"INTEGER\"},{\"columnNumber\":57,\"columnName\":\"bit067\",\"columnTypeName\":\"INTEGER\"},{\"columnNumber\":58,\"columnName\":\"bit068\",\"columnTypeName\":\"INTEGER\"},{\"columnNumber\":59,\"columnName\":\"bit069\",\"columnTypeName\":\"INTEGER\"},{\"columnNumber\":60,\"columnName\":\"bit070\",\"columnTypeName\":\"INTEGER\"},{\"columnNumber\":61,\"columnName\":\"bit071\",\"columnTypeName\":\"INTEGER\"},{\"columnNumber\":62,\"columnName\":\"bit072\",\"columnTypeName\":\"INTEGER\"},{\"columnNumber\":63,\"columnName\":\"bit073\",\"columnTypeName\":\"INTEGER\"},{\"columnNumber\":64,\"columnName\":\"bit074\",\"columnTypeName\":\"INTEGER\"},{\"columnNumber\":65,\"columnName\":\"bit075\",\"columnTypeName\":\"INTEGER\"},{\"columnNumber\":66,\"columnName\":\"bit076\",\"columnTypeName\":\"INTEGER\"},{\"columnNumber\":67,\"columnName\":\"bit077\",\"columnTypeName\":\"INTEGER\"},{\"columnNumber\":68,\"columnName\":\"bit078\",\"columnTypeName\":\"INTEGER\"},{\"columnNumber\":69,\"columnName\":\"bit079\",\"columnTypeName\":\"INTEGER\"},{\"columnNumber\":70,\"columnName\":\"bit080\",\"columnTypeName\":\"INTEGER\"},{\"columnNumber\":71,\"columnName\":\"bit081\",\"columnTypeName\":\"INTEGER\"},{\"columnNumber\":72,\"columnName\":\"bit082\",\"columnTypeName\":\"INTEGER\"},{\"columnNumber\":73,\"columnName\":\"bit083\",\"columnTypeName\":\"INTEGER\"},{\"columnNumber\":74,\"columnName\":\"bit084\",\"columnTypeName\":\"INTEGER\"},{\"columnNumber\":75,\"columnName\":\"bit085\",\"columnTypeName\":\"INTEGER\"},{\"columnNumber\":76,\"columnName\":\"bit086\",\"columnTypeName\":\"INTEGER\"},{\"columnNumber\":77,\"columnName\":\"bit087\",\"columnTypeName\":\"INTEGER\"},{\"columnNumber\":78,\"columnName\":\"bit088\",\"columnTypeName\":\"INTEGER\"},{\"columnNumber\":79,\"columnName\":\"bit089\",\"columnTypeName\":\"INTEGER\"},{\"columnNumber\":80,\"columnName\":\"bit090\",\"columnTypeName\":\"INTEGER\"},{\"columnNumber\":81,\"columnName\":\"bit091\",\"columnTypeName\":\"INTEGER\"},{\"columnNumber\":82,\"columnName\":\"bit092\",\"columnTypeName\":\"INTEGER\"},{\"columnNumber\":83,\"columnName\":\"bit093\",\"columnTypeName\":\"INTEGER\"},{\"columnNumber\":84,\"columnName\":\"bit094\",\"columnTypeName\":\"INTEGER\"},{\"columnNumber\":85,\"columnName\":\"bit095\",\"columnTypeName\":\"INTEGER\"},{\"columnNumber\":86,\"columnName\":\"bit096\",\"columnTypeName\":\"INTEGER\"},{\"columnNumber\":87,\"columnName\":\"bit097\",\"columnTypeName\":\"INTEGER\"},{\"columnNumber\":88,\"columnName\":\"bit098\",\"columnTypeName\":\"INTEGER\"},{\"columnNumber\":89,\"columnName\":\"bit099\",\"columnTypeName\":\"INTEGER\"},{\"columnNumber\":90,\"columnName\":\"bit100\",\"columnTypeName\":\"INTEGER\"},{\"columnNumber\":91,\"columnName\":\"bit101\",\"columnTypeName\":\"INTEGER\"},{\"columnNumber\":92,\"columnName\":\"bit102\",\"columnTypeName\":\"INTEGER\"},{\"columnNumber\":93,\"columnName\":\"bit103\",\"columnTypeName\":\"INTEGER\"},{\"columnNumber\":94,\"columnName\":\"bit104\",\"columnTypeName\":\"INTEGER\"},{\"columnNumber\":95,\"columnName\":\"bit105\",\"columnTypeName\":\"INTEGER\"},{\"columnNumber\":96,\"columnName\":\"bit106\",\"columnTypeName\":\"INTEGER\"},{\"columnNumber\":97,\"columnName\":\"bit107\",\"columnTypeName\":\"INTEGER\"},{\"columnNumber\":98,\"columnName\":\"bit108\",\"columnTypeName\":\"INTEGER\"},{\"columnNumber\":99,\"columnName\":\"bit109\",\"columnTypeName\":\"INTEGER\"},{\"columnNumber\":100,\"columnName\":\"bit110\",\"columnTypeName\":\"INTEGER\"},{\"columnNumber\":101,\"columnName\":\"bit111\",\"columnTypeName\":\"INTEGER\"},{\"columnNumber\":102,\"columnName\":\"bit112\",\"columnTypeName\":\"INTEGER\"},{\"columnNumber\":103,\"columnName\":\"bit113\",\"columnTypeName\":\"INTEGER\"},{\"columnNumber\":104,\"columnName\":\"bit114\",\"columnTypeName\":\"INTEGER\"},{\"columnNumber\":105,\"columnName\":\"bit115\",\"columnTypeName\":\"INTEGER\"},{\"columnNumber\":106,\"columnName\":\"bit116\",\"columnTypeName\":\"INTEGER\"},{\"columnNumber\":107,\"columnName\":\"bit117\",\"columnTypeName\":\"INTEGER\"},{\"columnNumber\":108,\"columnName\":\"bit118\",\"columnTypeName\":\"INTEGER\"},{\"columnNumber\":109,\"columnName\":\"bit119\",\"columnTypeName\":\"INTEGER\"},{\"columnNumber\":110,\"columnName\":\"bit120\",\"columnTypeName\":\"INTEGER\"},{\"columnNumber\":111,\"columnName\":\"bit121\",\"columnTypeName\":\"INTEGER\"},{\"columnNumber\":112,\"columnName\":\"bit122\",\"columnTypeName\":\"INTEGER\"},{\"columnNumber\":113,\"columnName\":\"bit123\",\"columnTypeName\":\"INTEGER\"},{\"columnNumber\":114,\"columnName\":\"bit124\",\"columnTypeName\":\"INTEGER\"},{\"columnNumber\":115,\"columnName\":\"bit125\",\"columnTypeName\":\"INTEGER\"},{\"columnNumber\":116,\"columnName\":\"bit126\",\"columnTypeName\":\"INTEGER\"},{\"columnNumber\":117,\"columnName\":\"bit127\",\"columnTypeName\":\"INTEGER\"},{\"columnNumber\":118,\"columnName\":\"bit128\",\"columnTypeName\":\"INTEGER\"},{\"columnNumber\":119,\"columnName\":\"bit129\",\"columnTypeName\":\"INTEGER\"},{\"columnNumber\":120,\"columnName\":\"bit130\",\"columnTypeName\":\"INTEGER\"},{\"columnNumber\":121,\"columnName\":\"bit131\",\"columnTypeName\":\"INTEGER\"},{\"columnNumber\":122,\"columnName\":\"bit132\",\"columnTypeName\":\"INTEGER\"},{\"columnNumber\":123,\"columnName\":\"bit133\",\"columnTypeName\":\"INTEGER\"},{\"columnNumber\":124,\"columnName\":\"bit134\",\"columnTypeName\":\"INTEGER\"},{\"columnNumber\":125,\"columnName\":\"bit135\",\"columnTypeName\":\"INTEGER\"},{\"columnNumber\":126,\"columnName\":\"bit136\",\"columnTypeName\":\"INTEGER\"},{\"columnNumber\":127,\"columnName\":\"bit137\",\"columnTypeName\":\"INTEGER\"}]}"
     },
     "output_type": "execute_result"
    }
   ],
   "source": [
    "select  * from adlste_coa_stg.stg_dat_feature_usage_log"
   ]
  },
  {
   "cell_type": "markdown",
   "metadata": {},
   "source": [
    "<br><br><br><br>\n",
    "# Test Process"
   ]
  },
  {
   "cell_type": "code",
   "execution_count": 2,
   "metadata": {},
   "outputs": [
    {
     "name": "stdin",
     "output_type": "stream",
     "text": [
      "Password ············\n"
     ]
    },
    {
     "name": "stdout",
     "output_type": "stream",
     "text": [
      "Success: 'Transcend' connection established\n"
     ]
    }
   ],
   "source": [
    "%connect name=Transcend"
   ]
  },
  {
   "cell_type": "markdown",
   "metadata": {},
   "source": [
    "###  Built Temp Table:   dim_users"
   ]
  },
  {
   "cell_type": "code",
   "execution_count": 3,
   "metadata": {},
   "outputs": [
    {
     "data": {
      "text/plain": [
       "Success: 0 rows affected"
      ]
     },
     "execution_count": 3,
     "metadata": {
      "application/vnd.teradata.resultset": ""
     },
     "output_type": "execute_result"
    }
   ],
   "source": [
    "\n",
    "CREATE MULTISET VOLATILE TABLE \"dim_user.csv\"\n",
    "(\"SiteID\"                      VARCHAR(111)  CHARACTER SET UNICODE \n",
    ",\"Pattern_Type\"                VARCHAR(105)  CHARACTER SET UNICODE \n",
    ",\"Pattern\"                     VARCHAR(116)  CHARACTER SET UNICODE \n",
    ",\"User_Bucket\"                 VARCHAR(110)  CHARACTER SET UNICODE \n",
    ",\"User_Department\"             VARCHAR(104)  CHARACTER SET UNICODE \n",
    ",\"User_SubDepartment\"          VARCHAR(107)  CHARACTER SET UNICODE \n",
    ",\"User_Region\"                 VARCHAR(103)  CHARACTER SET UNICODE \n",
    ",\"Priority\"                    BIGINT\n",
    ") NO PRIMARY INDEX\n",
    "ON COMMIT PRESERVE ROWS;"
   ]
  },
  {
   "cell_type": "code",
   "execution_count": 4,
   "metadata": {},
   "outputs": [
    {
     "data": {
      "text/plain": [
       "Success: 20 rows affected"
      ]
     },
     "execution_count": 4,
     "metadata": {
      "application/vnd.teradata.resultset": ""
     },
     "output_type": "execute_result"
    }
   ],
   "source": [
    "\n",
    "INSERT INTO \"dim_user.csv\"\n",
    "SELECT\n",
    "  cast('Default' as varchar(111))\n",
    " ,cast('Equal' as varchar(105))\n",
    " ,cast('Viewpoint' as varchar(116))\n",
    " ,cast('TDInternal' as varchar(110))\n",
    " ,cast('dept' as varchar(104))\n",
    " ,cast('subdept' as varchar(107))\n",
    " ,cast('rgn' as varchar(103))\n",
    " ,cast(100 as bigint)\n",
    "from (sel 1 one) i0    UNION ALL\n",
    "SELECT\n",
    "  cast('Default' as varchar(111))\n",
    " ,cast('Equal' as varchar(105))\n",
    " ,cast('TDWM' as varchar(116))\n",
    " ,cast('TDInternal' as varchar(110))\n",
    " ,cast('dept' as varchar(104))\n",
    " ,cast('subdept' as varchar(107))\n",
    " ,cast('rgn' as varchar(103))\n",
    " ,cast(100 as bigint)\n",
    "from (sel 1 one) i1    UNION ALL\n",
    "SELECT\n",
    "  cast('Default' as varchar(111))\n",
    " ,cast('Equal' as varchar(105))\n",
    " ,cast('CRASHDUMPS' as varchar(116))\n",
    " ,cast('TDInternal' as varchar(110))\n",
    " ,cast('dept' as varchar(104))\n",
    " ,cast('subdept' as varchar(107))\n",
    " ,cast('rgn' as varchar(103))\n",
    " ,cast(100 as bigint)\n",
    "from (sel 1 one) i2    UNION ALL\n",
    "SELECT\n",
    "  cast('Default' as varchar(111))\n",
    " ,cast('Equal' as varchar(105))\n",
    " ,cast('DBC' as varchar(116))\n",
    " ,cast('TDInternal' as varchar(110))\n",
    " ,cast('dept' as varchar(104))\n",
    " ,cast('subdept' as varchar(107))\n",
    " ,cast('rgn' as varchar(103))\n",
    " ,cast(100 as bigint)\n",
    "from (sel 1 one) i3    UNION ALL\n",
    "SELECT\n",
    "  cast('Default' as varchar(111))\n",
    " ,cast('Equal' as varchar(105))\n",
    " ,cast('DBMON' as varchar(116))\n",
    " ,cast('TDInternal' as varchar(110))\n",
    " ,cast('dept' as varchar(104))\n",
    " ,cast('subdept' as varchar(107))\n",
    " ,cast('rgn' as varchar(103))\n",
    " ,cast(100 as bigint)\n",
    "from (sel 1 one) i4    UNION ALL\n",
    "SELECT\n",
    "  cast('Default' as varchar(111))\n",
    " ,cast('Like' as varchar(105))\n",
    " ,cast('%STG%USER%' as varchar(116))\n",
    " ,cast('ETL' as varchar(110))\n",
    " ,cast('dept' as varchar(104))\n",
    " ,cast('subdept' as varchar(107))\n",
    " ,cast('rgn' as varchar(103))\n",
    " ,cast(2100 as bigint)\n",
    "from (sel 1 one) i5    UNION ALL\n",
    "SELECT\n",
    "  cast('Default' as varchar(111))\n",
    " ,cast('Like' as varchar(105))\n",
    " ,cast('BAR_%' as varchar(116))\n",
    " ,cast('Admin' as varchar(110))\n",
    " ,cast('dept' as varchar(104))\n",
    " ,cast('subdept' as varchar(107))\n",
    " ,cast('rgn' as varchar(103))\n",
    " ,cast(2125 as bigint)\n",
    "from (sel 1 one) i6    UNION ALL\n",
    "SELECT\n",
    "  cast('Default' as varchar(111))\n",
    " ,cast('Like' as varchar(105))\n",
    " ,cast('%_BAR' as varchar(116))\n",
    " ,cast('Admin' as varchar(110))\n",
    " ,cast('dept' as varchar(104))\n",
    " ,cast('subdept' as varchar(107))\n",
    " ,cast('rgn' as varchar(103))\n",
    " ,cast(2150 as bigint)\n",
    "from (sel 1 one) i7    UNION ALL\n",
    "SELECT\n",
    "  cast('Default' as varchar(111))\n",
    " ,cast('Like' as varchar(105))\n",
    " ,cast('DSA_%' as varchar(116))\n",
    " ,cast('Admin' as varchar(110))\n",
    " ,cast('dept' as varchar(104))\n",
    " ,cast('subdept' as varchar(107))\n",
    " ,cast('rgn' as varchar(103))\n",
    " ,cast(2175 as bigint)\n",
    "from (sel 1 one) i8    UNION ALL\n",
    "SELECT\n",
    "  cast('Default' as varchar(111))\n",
    " ,cast('Like' as varchar(105))\n",
    " ,cast('%_DSA' as varchar(116))\n",
    " ,cast('Admin' as varchar(110))\n",
    " ,cast('dept' as varchar(104))\n",
    " ,cast('subdept' as varchar(107))\n",
    " ,cast('rgn' as varchar(103))\n",
    " ,cast(2200 as bigint)\n",
    "from (sel 1 one) i9    UNION ALL\n",
    "SELECT\n",
    "  cast('Default' as varchar(111))\n",
    " ,cast('Like' as varchar(105))\n",
    " ,cast('ARC_%' as varchar(116))\n",
    " ,cast('Admin' as varchar(110))\n",
    " ,cast('dept' as varchar(104))\n",
    " ,cast('subdept' as varchar(107))\n",
    " ,cast('rgn' as varchar(103))\n",
    " ,cast(2225 as bigint)\n",
    "from (sel 1 one) i10    UNION ALL\n",
    "SELECT\n",
    "  cast('Default' as varchar(111))\n",
    " ,cast('Like' as varchar(105))\n",
    " ,cast('%_ARC' as varchar(116))\n",
    " ,cast('Admin' as varchar(110))\n",
    " ,cast('dept' as varchar(104))\n",
    " ,cast('subdept' as varchar(107))\n",
    " ,cast('rgn' as varchar(103))\n",
    " ,cast(2250 as bigint)\n",
    "from (sel 1 one) i11    UNION ALL\n",
    "SELECT\n",
    "  cast('Default' as varchar(111))\n",
    " ,cast('Like' as varchar(105))\n",
    " ,cast('DBADMIN%' as varchar(116))\n",
    " ,cast('Admin' as varchar(110))\n",
    " ,cast('dept' as varchar(104))\n",
    " ,cast('subdept' as varchar(107))\n",
    " ,cast('rgn' as varchar(103))\n",
    " ,cast(2500 as bigint)\n",
    "from (sel 1 one) i12    UNION ALL\n",
    "SELECT\n",
    "  cast('Default' as varchar(111))\n",
    " ,cast('Like' as varchar(105))\n",
    " ,cast('%_ADMIN' as varchar(116))\n",
    " ,cast('Admin' as varchar(110))\n",
    " ,cast('dept' as varchar(104))\n",
    " ,cast('subdept' as varchar(107))\n",
    " ,cast('rgn' as varchar(103))\n",
    " ,cast(2600 as bigint)\n",
    "from (sel 1 one) i13    UNION ALL\n",
    "SELECT\n",
    "  cast('Default' as varchar(111))\n",
    " ,cast('Like' as varchar(105))\n",
    " ,cast('%_DBA' as varchar(116))\n",
    " ,cast('Admin' as varchar(110))\n",
    " ,cast('dept' as varchar(104))\n",
    " ,cast('subdept' as varchar(107))\n",
    " ,cast('rgn' as varchar(103))\n",
    " ,cast(2800 as bigint)\n",
    "from (sel 1 one) i14    UNION ALL\n",
    "SELECT\n",
    "  cast('Default' as varchar(111))\n",
    " ,cast('Like' as varchar(105))\n",
    " ,cast('CALLREP%' as varchar(116))\n",
    " ,cast('Analytic' as varchar(110))\n",
    " ,cast('dept' as varchar(104))\n",
    " ,cast('subdept' as varchar(107))\n",
    " ,cast('rgn' as varchar(103))\n",
    " ,cast(4300 as bigint)\n",
    "from (sel 1 one) i15    UNION ALL\n",
    "SELECT\n",
    "  cast('Default' as varchar(111))\n",
    " ,cast('Like' as varchar(105))\n",
    " ,cast('%Tableau%' as varchar(116))\n",
    " ,cast('Analytic' as varchar(110))\n",
    " ,cast('dept' as varchar(104))\n",
    " ,cast('subdept' as varchar(107))\n",
    " ,cast('rgn' as varchar(103))\n",
    " ,cast(4400 as bigint)\n",
    "from (sel 1 one) i16    UNION ALL\n",
    "SELECT\n",
    "  cast('Default' as varchar(111))\n",
    " ,cast('Like' as varchar(105))\n",
    " ,cast('%BOBJ%' as varchar(116))\n",
    " ,cast('Analytic' as varchar(110))\n",
    " ,cast('dept' as varchar(104))\n",
    " ,cast('subdept' as varchar(107))\n",
    " ,cast('rgn' as varchar(103))\n",
    " ,cast(4500 as bigint)\n",
    "from (sel 1 one) i17    UNION ALL\n",
    "SELECT\n",
    "  cast('Default' as varchar(111))\n",
    " ,cast('Like' as varchar(105))\n",
    " ,cast('%_ETL_%' as varchar(116))\n",
    " ,cast('ETL' as varchar(110))\n",
    " ,cast('dept' as varchar(104))\n",
    " ,cast('subdept' as varchar(107))\n",
    " ,cast('rgn' as varchar(103))\n",
    " ,cast(6000 as bigint)\n",
    "from (sel 1 one) i18    UNION ALL\n",
    "SELECT\n",
    "  cast('TDCLOUD%TD%' as varchar(111))\n",
    " ,cast('RegEx' as varchar(105))\n",
    " ,cast('[a-z]{2}[0-9]{6}' as varchar(116))\n",
    " ,cast('Analytic' as varchar(110))\n",
    " ,cast('dept' as varchar(104))\n",
    " ,cast('subdept' as varchar(107))\n",
    " ,cast('rgn' as varchar(103))\n",
    " ,cast(7000 as bigint)\n",
    "from (sel 1 one) i19    ;"
   ]
  },
  {
   "cell_type": "code",
   "execution_count": 5,
   "metadata": {},
   "outputs": [
    {
     "data": {
      "text/plain": [
       "Success: 0 rows affected"
      ]
     },
     "execution_count": 5,
     "metadata": {
      "application/vnd.teradata.resultset": ""
     },
     "output_type": "execute_result"
    }
   ],
   "source": [
    "\n",
    "create volatile table dim_user as\n",
    "(\n",
    "  select\n",
    "   '{siteid}' as Site_ID\n",
    "  ,o.UserName\n",
    "  ,o.UserHash\n",
    "  ,coalesce(p.User_Bucket,'Unknown') as User_Bucket\n",
    "  ,coalesce(p.User_Department, 'Unknown') as User_Department\n",
    "  ,coalesce(p.User_SubDepartment, 'Unknown') as User_SubDepartment\n",
    "  ,coalesce(p.User_Region, 'Unknown') as User_Region\n",
    "  ,coalesce(p.Priority,1e6) as Priority_\n",
    "  ,coalesce(p.Pattern_Type,'Equal')  as Pattern_Type\n",
    "  ,coalesce(p.Pattern, o.UserName) as Pattern\n",
    "  ,coalesce(p.SiteID, 'None')        as SiteID_\n",
    "  from (select\n",
    "         trim(DatabaseName) as UserName\n",
    "        ,substr(Username,1,3) as first3\n",
    "        ,substr(Username,floor(character_length(Username)/2)-1,3) as middle3\n",
    "        ,substr(Username,character_length(Username)-3,3) as last3\n",
    "        /* generate UserHash value */\n",
    "        ,trim(cast(from_bytes(hashrow( Username),'base16') as char(9))) ||\n",
    "         trim(cast(from_bytes(hashrow( first3  ),'base16') as char(9))) ||\n",
    "         trim(cast(from_bytes(hashrow( middle3 ),'base16') as char(9))) ||\n",
    "         trim(cast(from_bytes(hashrow( last3   ),'base16') as char(9))) as UserHash\n",
    "        from dbc.DatabasesV where DBKind = 'U'\n",
    "        ) as o\n",
    "  left join \"dim_user.csv\" as p\n",
    "    on (case\n",
    "        when p.Pattern_Type = 'Equal' and o.UserName = p.Pattern then 1\n",
    "        when p.Pattern_Type = 'Like'  and o.UserName like p.Pattern then 1\n",
    "        when p.Pattern_Type = 'RegEx'\n",
    "         and character_length(regexp_substr(o.UserName, p.Pattern,1,1,'i'))>0 then 1\n",
    "        else 0 end) = 1\n",
    "    and SiteID_ in('default','None') or '{siteid}' like SiteID_\n",
    "  qualify Priority_ = min(Priority_)over(partition by o.UserName)\n",
    ") with data\n",
    "primary index (UserName)\n",
    "on commit preserve rows\n",
    ";\n"
   ]
  },
  {
   "cell_type": "code",
   "execution_count": 6,
   "metadata": {},
   "outputs": [
    {
     "data": {
      "text/plain": [
       "Success: 0 rows affected"
      ]
     },
     "execution_count": 6,
     "metadata": {
      "application/vnd.teradata.resultset": ""
     },
     "output_type": "execute_result"
    }
   ],
   "source": [
    "drop table \"dim_user.csv\"\n",
    ";"
   ]
  },
  {
   "cell_type": "code",
   "execution_count": 7,
   "metadata": {},
   "outputs": [
    {
     "data": {
      "text/plain": [
       "Success: 0 rows affected"
      ]
     },
     "execution_count": 7,
     "metadata": {
      "application/vnd.teradata.resultset": ""
     },
     "output_type": "execute_result"
    }
   ],
   "source": [
    "collect stats on dim_user column(UserName)\n",
    ";"
   ]
  },
  {
   "cell_type": "code",
   "execution_count": 8,
   "metadata": {},
   "outputs": [
    {
     "data": {
      "application/vnd.teradata.resultset": "[{\"UserHash\":\"8C8B809-1E8DFD02-160611713A7079E4\",\"UserName\":\"sr122317\",\"User_Bucket\":\"Unknown\",\"User_Department\":\"Unknown\",\"User_Region\":\"Unknown\",\"User_SubDepartment\":\"Unknown\"},{\"UserHash\":\"14481C8514481C857B3706027B370602\",\"UserName\":\"RJS\",\"User_Bucket\":\"Unknown\",\"User_Department\":\"Unknown\",\"User_Region\":\"Unknown\",\"User_SubDepartment\":\"Unknown\"},{\"UserHash\":\"1B1D1CC4-7994BF48ADCA16B-45B29228\",\"UserName\":\"KK250108\",\"User_Bucket\":\"Unknown\",\"User_Department\":\"Unknown\",\"User_Region\":\"Unknown\",\"User_SubDepartment\":\"Unknown\"},{\"UserHash\":\"24A01A003EF09E86972E40B202CD97E\",\"UserName\":\"ZR186002\",\"User_Bucket\":\"Unknown\",\"User_Department\":\"Unknown\",\"User_Region\":\"Unknown\",\"User_SubDepartment\":\"Unknown\"},{\"UserHash\":\"2E6C25925954C733972E40B5135C088\",\"UserName\":\"ND186026\",\"User_Bucket\":\"Unknown\",\"User_Department\":\"Unknown\",\"User_Region\":\"Unknown\",\"User_SubDepartment\":\"Unknown\"},{\"UserHash\":\"327EF82B-4C65D32DADCA16B51A8885B\",\"UserName\":\"ya250015\",\"User_Bucket\":\"Unknown\",\"User_Department\":\"Unknown\",\"User_Region\":\"Unknown\",\"User_SubDepartment\":\"Unknown\"},{\"UserHash\":\"28E1B844-2A1414F6972E40B1D95284\",\"UserName\":\"as186104\",\"User_Bucket\":\"Unknown\",\"User_Department\":\"Unknown\",\"User_Region\":\"Unknown\",\"User_SubDepartment\":\"Unknown\"},{\"UserHash\":\"E5F12FE-2F0895F157BD8F52-2758E714\",\"UserName\":\"tb185024\",\"User_Bucket\":\"Unknown\",\"User_Department\":\"Unknown\",\"User_Region\":\"Unknown\",\"User_SubDepartment\":\"Unknown\"},{\"UserHash\":\"48D24DB-5EAFEE3B34427A6E20A1C56B\",\"UserName\":\"zl255010\",\"User_Bucket\":\"Unknown\",\"User_Department\":\"Unknown\",\"User_Region\":\"Unknown\",\"User_SubDepartment\":\"Unknown\"},{\"UserHash\":\"31EC2A3-319A12CA972E40B1627B0E4\",\"UserName\":\"kk186073\",\"User_Bucket\":\"Unknown\",\"User_Department\":\"Unknown\",\"User_Region\":\"Unknown\",\"User_SubDepartment\":\"Unknown\"}]\n",
      "text/html": [
       "<div class = \"td-resultset-table-div\" style = \"max-height: 257px; overflow-y: auto\"><style> table {border: 1px solid rgb(207, 207, 207) !important; border-collapse: collapse !important; margin-top: 1px !important;} th {border: 1px solid rgb(198,198,198) !important; border-collapse: collapse !important; padding: 2px 5px !important; font-size: 13px !important; min-width:150px !important; max-width: 150px !important; white-space: nowrap !important; overflow:hidden !important; text-overflow:ellipsis !important;} tr:nth-child(even) {background: rgba(243, 243, 243, 0.75) !important;} td {border: 1px solid rgb(207, 207, 207) !important; border-collapse: collapse !important; padding: 2px 5px !important; font-size: 13px !important; min-width:150px !important; max-width: 150px !important; white-space: nowrap !important; overflow:hidden !important; text-overflow:ellipsis !important;}</style><table><thead><tr style= \"background: #efefef;\"><th>UserName</th><th>UserHash</th><th>User_Bucket</th><th>User_Department</th><th>User_SubDepartment</th><th>User_Region</th></tr></thead><tr><td>sr122317</td><td>8C8B809-1E8DFD02-160611713A7079E4</td><td>Unknown</td><td>Unknown</td><td>Unknown</td><td>Unknown</td></tr><tr><td>RJS</td><td>14481C8514481C857B3706027B370602</td><td>Unknown</td><td>Unknown</td><td>Unknown</td><td>Unknown</td></tr><tr><td>KK250108</td><td>1B1D1CC4-7994BF48ADCA16B-45B29228</td><td>Unknown</td><td>Unknown</td><td>Unknown</td><td>Unknown</td></tr><tr><td>ZR186002</td><td>24A01A003EF09E86972E40B202CD97E</td><td>Unknown</td><td>Unknown</td><td>Unknown</td><td>Unknown</td></tr><tr><td>ND186026</td><td>2E6C25925954C733972E40B5135C088</td><td>Unknown</td><td>Unknown</td><td>Unknown</td><td>Unknown</td></tr><tr><td>ya250015</td><td>327EF82B-4C65D32DADCA16B51A8885B</td><td>Unknown</td><td>Unknown</td><td>Unknown</td><td>Unknown</td></tr><tr><td>as186104</td><td>28E1B844-2A1414F6972E40B1D95284</td><td>Unknown</td><td>Unknown</td><td>Unknown</td><td>Unknown</td></tr><tr><td>tb185024</td><td>E5F12FE-2F0895F157BD8F52-2758E714</td><td>Unknown</td><td>Unknown</td><td>Unknown</td><td>Unknown</td></tr><tr><td>zl255010</td><td>48D24DB-5EAFEE3B34427A6E20A1C56B</td><td>Unknown</td><td>Unknown</td><td>Unknown</td><td>Unknown</td></tr><tr><td>kk186073</td><td>31EC2A3-319A12CA972E40B1627B0E4</td><td>Unknown</td><td>Unknown</td><td>Unknown</td><td>Unknown</td></tr></table></div>"
      ]
     },
     "execution_count": 8,
     "metadata": {
      "application/vnd.teradata.resultset": "{\"resultSetID\":\"/home/jovyan/JupyterLabRoot/Teradata/Resultsets/2020.06.16_15.39.07.685_UTC\",\"historyID\":1491,\"chunkID\":\"00001\",\"sessionid\":\"\",\"portnum\":\"\",\"dockermode\":\"docker\",\"totalRowCount\":10,\"rowLimit\":0,\"columnMetadata\":[{\"columnName\":\"UserName\",\"columnTypeName\":\"VARCHAR\",\"length\":128,\"scale\":128},{\"columnNumber\":1,\"columnName\":\"UserHash\",\"columnTypeName\":\"VARCHAR\",\"length\":36,\"scale\":36},{\"columnNumber\":2,\"columnName\":\"User_Bucket\",\"columnTypeName\":\"VARCHAR\",\"length\":110,\"scale\":110},{\"columnNumber\":3,\"columnName\":\"User_Department\",\"columnTypeName\":\"VARCHAR\",\"length\":104,\"scale\":104},{\"columnNumber\":4,\"columnName\":\"User_SubDepartment\",\"columnTypeName\":\"VARCHAR\",\"length\":107,\"scale\":107},{\"columnNumber\":5,\"columnName\":\"User_Region\",\"columnTypeName\":\"VARCHAR\",\"length\":103,\"scale\":103}]}"
     },
     "output_type": "execute_result"
    }
   ],
   "source": [
    "/*{{save:all_users.csv}}*/\n",
    "Select top 10\n",
    " UserName, UserHash, User_Bucket\n",
    ",User_Department, User_SubDepartment, User_Region\n",
    "from dim_user\n",
    ";"
   ]
  },
  {
   "cell_type": "code",
   "execution_count": 17,
   "metadata": {},
   "outputs": [
    {
     "data": {
      "text/plain": [
       "Success: 24 rows affected"
      ]
     },
     "execution_count": 17,
     "metadata": {
      "application/vnd.teradata.resultset": ""
     },
     "output_type": "execute_result"
    }
   ],
   "source": [
    "-- shortcut for testing purposes\n",
    "Insert into adlste_coa_stg.stg_dat_feature_usage_log\n",
    "SELECT\n",
    " 'TDCLOUD14TD03' (VARCHAR(100)) as SiteID\n",
    ",A.LogDate as LogDate\n",
    ",u.User_Bucket\n",
    ",u.User_Department\n",
    "/*  dbsversion is required */\n",
    ",(Select trim(infoData) as DBSVersion from dbc.dbcinfo where InfoKey = 'VERSION') AS DBSVersion\n",
    ",count(*) as Request_Count\n",
    ",ZEROIFNULL(SUM(GETBIT(A.FEATUREUSAGE,(2047 -016)))) AS bit016\n",
    ",ZEROIFNULL(SUM(GETBIT(A.FEATUREUSAGE,(2047 -017)))) AS bit017\n",
    ",ZEROIFNULL(SUM(GETBIT(A.FEATUREUSAGE,(2047 -018)))) AS bit018\n",
    ",ZEROIFNULL(SUM(GETBIT(A.FEATUREUSAGE,(2047 -019)))) AS bit019\n",
    ",ZEROIFNULL(SUM(GETBIT(A.FEATUREUSAGE,(2047 -020)))) AS bit020\n",
    ",ZEROIFNULL(SUM(GETBIT(A.FEATUREUSAGE,(2047 -021)))) AS bit021\n",
    ",ZEROIFNULL(SUM(GETBIT(A.FEATUREUSAGE,(2047 -022)))) AS bit022\n",
    ",ZEROIFNULL(SUM(GETBIT(A.FEATUREUSAGE,(2047 -023)))) AS bit023\n",
    ",ZEROIFNULL(SUM(GETBIT(A.FEATUREUSAGE,(2047 -024)))) AS bit024\n",
    ",ZEROIFNULL(SUM(GETBIT(A.FEATUREUSAGE,(2047 -025)))) AS bit025\n",
    ",ZEROIFNULL(SUM(GETBIT(A.FEATUREUSAGE,(2047 -026)))) AS bit026\n",
    ",ZEROIFNULL(SUM(GETBIT(A.FEATUREUSAGE,(2047 -027)))) AS bit027\n",
    ",ZEROIFNULL(SUM(GETBIT(A.FEATUREUSAGE,(2047 -028)))) AS bit028\n",
    ",ZEROIFNULL(SUM(GETBIT(A.FEATUREUSAGE,(2047 -029)))) AS bit029\n",
    ",ZEROIFNULL(SUM(GETBIT(A.FEATUREUSAGE,(2047 -030)))) AS bit030\n",
    ",ZEROIFNULL(SUM(GETBIT(A.FEATUREUSAGE,(2047 -031)))) AS bit031\n",
    ",ZEROIFNULL(SUM(GETBIT(A.FEATUREUSAGE,(2047 -032)))) AS bit032\n",
    ",ZEROIFNULL(SUM(GETBIT(A.FEATUREUSAGE,(2047 -033)))) AS bit033\n",
    ",ZEROIFNULL(SUM(GETBIT(A.FEATUREUSAGE,(2047 -034)))) AS bit034\n",
    ",ZEROIFNULL(SUM(GETBIT(A.FEATUREUSAGE,(2047 -035)))) AS bit035\n",
    ",ZEROIFNULL(SUM(GETBIT(A.FEATUREUSAGE,(2047 -036)))) AS bit036\n",
    ",ZEROIFNULL(SUM(GETBIT(A.FEATUREUSAGE,(2047 -037)))) AS bit037\n",
    ",ZEROIFNULL(SUM(GETBIT(A.FEATUREUSAGE,(2047 -038)))) AS bit038\n",
    ",ZEROIFNULL(SUM(GETBIT(A.FEATUREUSAGE,(2047 -039)))) AS bit039\n",
    ",ZEROIFNULL(SUM(GETBIT(A.FEATUREUSAGE,(2047 -040)))) AS bit040\n",
    ",ZEROIFNULL(SUM(GETBIT(A.FEATUREUSAGE,(2047 -041)))) AS bit041\n",
    ",ZEROIFNULL(SUM(GETBIT(A.FEATUREUSAGE,(2047 -042)))) AS bit042\n",
    ",ZEROIFNULL(SUM(GETBIT(A.FEATUREUSAGE,(2047 -043)))) AS bit043\n",
    ",ZEROIFNULL(SUM(GETBIT(A.FEATUREUSAGE,(2047 -044)))) AS bit044\n",
    ",ZEROIFNULL(SUM(GETBIT(A.FEATUREUSAGE,(2047 -045)))) AS bit045\n",
    ",ZEROIFNULL(SUM(GETBIT(A.FEATUREUSAGE,(2047 -046)))) AS bit046\n",
    ",ZEROIFNULL(SUM(GETBIT(A.FEATUREUSAGE,(2047 -047)))) AS bit047\n",
    ",ZEROIFNULL(SUM(GETBIT(A.FEATUREUSAGE,(2047 -048)))) AS bit048\n",
    ",ZEROIFNULL(SUM(GETBIT(A.FEATUREUSAGE,(2047 -049)))) AS bit049\n",
    ",ZEROIFNULL(SUM(GETBIT(A.FEATUREUSAGE,(2047 -050)))) AS bit050\n",
    ",ZEROIFNULL(SUM(GETBIT(A.FEATUREUSAGE,(2047 -051)))) AS bit051\n",
    ",ZEROIFNULL(SUM(GETBIT(A.FEATUREUSAGE,(2047 -052)))) AS bit052\n",
    ",ZEROIFNULL(SUM(GETBIT(A.FEATUREUSAGE,(2047 -053)))) AS bit053\n",
    ",ZEROIFNULL(SUM(GETBIT(A.FEATUREUSAGE,(2047 -054)))) AS bit054\n",
    ",ZEROIFNULL(SUM(GETBIT(A.FEATUREUSAGE,(2047 -055)))) AS bit055\n",
    ",ZEROIFNULL(SUM(GETBIT(A.FEATUREUSAGE,(2047 -056)))) AS bit056\n",
    ",ZEROIFNULL(SUM(GETBIT(A.FEATUREUSAGE,(2047 -057)))) AS bit057\n",
    ",ZEROIFNULL(SUM(GETBIT(A.FEATUREUSAGE,(2047 -058)))) AS bit058\n",
    ",ZEROIFNULL(SUM(GETBIT(A.FEATUREUSAGE,(2047 -059)))) AS bit059\n",
    ",ZEROIFNULL(SUM(GETBIT(A.FEATUREUSAGE,(2047 -060)))) AS bit060\n",
    ",ZEROIFNULL(SUM(GETBIT(A.FEATUREUSAGE,(2047 -061)))) AS bit061\n",
    ",ZEROIFNULL(SUM(GETBIT(A.FEATUREUSAGE,(2047 -062)))) AS bit062\n",
    ",ZEROIFNULL(SUM(GETBIT(A.FEATUREUSAGE,(2047 -063)))) AS bit063\n",
    ",ZEROIFNULL(SUM(GETBIT(A.FEATUREUSAGE,(2047 -064)))) AS bit064\n",
    ",ZEROIFNULL(SUM(GETBIT(A.FEATUREUSAGE,(2047 -065)))) AS bit065\n",
    ",ZEROIFNULL(SUM(GETBIT(A.FEATUREUSAGE,(2047 -066)))) AS bit066\n",
    ",ZEROIFNULL(SUM(GETBIT(A.FEATUREUSAGE,(2047 -067)))) AS bit067\n",
    ",ZEROIFNULL(SUM(GETBIT(A.FEATUREUSAGE,(2047 -068)))) AS bit068\n",
    ",ZEROIFNULL(SUM(GETBIT(A.FEATUREUSAGE,(2047 -069)))) AS bit069\n",
    ",ZEROIFNULL(SUM(GETBIT(A.FEATUREUSAGE,(2047 -070)))) AS bit070\n",
    ",ZEROIFNULL(SUM(GETBIT(A.FEATUREUSAGE,(2047 -071)))) AS bit071\n",
    ",ZEROIFNULL(SUM(GETBIT(A.FEATUREUSAGE,(2047 -072)))) AS bit072\n",
    ",ZEROIFNULL(SUM(GETBIT(A.FEATUREUSAGE,(2047 -073)))) AS bit073\n",
    ",ZEROIFNULL(SUM(GETBIT(A.FEATUREUSAGE,(2047 -074)))) AS bit074\n",
    ",ZEROIFNULL(SUM(GETBIT(A.FEATUREUSAGE,(2047 -075)))) AS bit075\n",
    ",ZEROIFNULL(SUM(GETBIT(A.FEATUREUSAGE,(2047 -076)))) AS bit076\n",
    ",ZEROIFNULL(SUM(GETBIT(A.FEATUREUSAGE,(2047 -077)))) AS bit077\n",
    ",ZEROIFNULL(SUM(GETBIT(A.FEATUREUSAGE,(2047 -078)))) AS bit078\n",
    ",ZEROIFNULL(SUM(GETBIT(A.FEATUREUSAGE,(2047 -079)))) AS bit079\n",
    ",ZEROIFNULL(SUM(GETBIT(A.FEATUREUSAGE,(2047 -080)))) AS bit080\n",
    ",ZEROIFNULL(SUM(GETBIT(A.FEATUREUSAGE,(2047 -081)))) AS bit081\n",
    ",ZEROIFNULL(SUM(GETBIT(A.FEATUREUSAGE,(2047 -082)))) AS bit082\n",
    ",ZEROIFNULL(SUM(GETBIT(A.FEATUREUSAGE,(2047 -083)))) AS bit083\n",
    ",ZEROIFNULL(SUM(GETBIT(A.FEATUREUSAGE,(2047 -084)))) AS bit084\n",
    ",ZEROIFNULL(SUM(GETBIT(A.FEATUREUSAGE,(2047 -085)))) AS bit085\n",
    ",ZEROIFNULL(SUM(GETBIT(A.FEATUREUSAGE,(2047 -086)))) AS bit086\n",
    ",ZEROIFNULL(SUM(GETBIT(A.FEATUREUSAGE,(2047 -087)))) AS bit087\n",
    ",ZEROIFNULL(SUM(GETBIT(A.FEATUREUSAGE,(2047 -088)))) AS bit088\n",
    ",ZEROIFNULL(SUM(GETBIT(A.FEATUREUSAGE,(2047 -089)))) AS bit089\n",
    ",ZEROIFNULL(SUM(GETBIT(A.FEATUREUSAGE,(2047 -090)))) AS bit090\n",
    ",ZEROIFNULL(SUM(GETBIT(A.FEATUREUSAGE,(2047 -091)))) AS bit091\n",
    ",ZEROIFNULL(SUM(GETBIT(A.FEATUREUSAGE,(2047 -092)))) AS bit092\n",
    ",ZEROIFNULL(SUM(GETBIT(A.FEATUREUSAGE,(2047 -093)))) AS bit093\n",
    ",ZEROIFNULL(SUM(GETBIT(A.FEATUREUSAGE,(2047 -094)))) AS bit094\n",
    ",ZEROIFNULL(SUM(GETBIT(A.FEATUREUSAGE,(2047 -095)))) AS bit095\n",
    ",ZEROIFNULL(SUM(GETBIT(A.FEATUREUSAGE,(2047 -096)))) AS bit096\n",
    ",ZEROIFNULL(SUM(GETBIT(A.FEATUREUSAGE,(2047 -097)))) AS bit097\n",
    ",ZEROIFNULL(SUM(GETBIT(A.FEATUREUSAGE,(2047 -098)))) AS bit098\n",
    ",ZEROIFNULL(SUM(GETBIT(A.FEATUREUSAGE,(2047 -099)))) AS bit099\n",
    ",ZEROIFNULL(SUM(GETBIT(A.FEATUREUSAGE,(2047 -100)))) AS bit100\n",
    ",ZEROIFNULL(SUM(GETBIT(A.FEATUREUSAGE,(2047 -101)))) AS bit101\n",
    ",ZEROIFNULL(SUM(GETBIT(A.FEATUREUSAGE,(2047 -102)))) AS bit102\n",
    ",ZEROIFNULL(SUM(GETBIT(A.FEATUREUSAGE,(2047 -103)))) AS bit103\n",
    ",ZEROIFNULL(SUM(GETBIT(A.FEATUREUSAGE,(2047 -104)))) AS bit104\n",
    ",ZEROIFNULL(SUM(GETBIT(A.FEATUREUSAGE,(2047 -105)))) AS bit105\n",
    ",ZEROIFNULL(SUM(GETBIT(A.FEATUREUSAGE,(2047 -106)))) AS bit106\n",
    ",ZEROIFNULL(SUM(GETBIT(A.FEATUREUSAGE,(2047 -107)))) AS bit107\n",
    ",ZEROIFNULL(SUM(GETBIT(A.FEATUREUSAGE,(2047 -108)))) AS bit108\n",
    ",ZEROIFNULL(SUM(GETBIT(A.FEATUREUSAGE,(2047 -109)))) AS bit109\n",
    ",ZEROIFNULL(SUM(GETBIT(A.FEATUREUSAGE,(2047 -110)))) AS bit110\n",
    ",ZEROIFNULL(SUM(GETBIT(A.FEATUREUSAGE,(2047 -111)))) AS bit111\n",
    ",ZEROIFNULL(SUM(GETBIT(A.FEATUREUSAGE,(2047 -112)))) AS bit112\n",
    ",ZEROIFNULL(SUM(GETBIT(A.FEATUREUSAGE,(2047 -113)))) AS bit113\n",
    ",ZEROIFNULL(SUM(GETBIT(A.FEATUREUSAGE,(2047 -114)))) AS bit114\n",
    ",ZEROIFNULL(SUM(GETBIT(A.FEATUREUSAGE,(2047 -115)))) AS bit115\n",
    ",ZEROIFNULL(SUM(GETBIT(A.FEATUREUSAGE,(2047 -116)))) AS bit116\n",
    ",ZEROIFNULL(SUM(GETBIT(A.FEATUREUSAGE,(2047 -117)))) AS bit117\n",
    ",ZEROIFNULL(SUM(GETBIT(A.FEATUREUSAGE,(2047 -118)))) AS bit118\n",
    ",ZEROIFNULL(SUM(GETBIT(A.FEATUREUSAGE,(2047 -119)))) AS bit119\n",
    ",ZEROIFNULL(SUM(GETBIT(A.FEATUREUSAGE,(2047 -120)))) AS bit120\n",
    ",ZEROIFNULL(SUM(GETBIT(A.FEATUREUSAGE,(2047 -121)))) AS bit121\n",
    ",ZEROIFNULL(SUM(GETBIT(A.FEATUREUSAGE,(2047 -122)))) AS bit122\n",
    ",ZEROIFNULL(SUM(GETBIT(A.FEATUREUSAGE,(2047 -123)))) AS bit123\n",
    ",ZEROIFNULL(SUM(GETBIT(A.FEATUREUSAGE,(2047 -124)))) AS bit124\n",
    ",ZEROIFNULL(SUM(GETBIT(A.FEATUREUSAGE,(2047 -125)))) AS bit125\n",
    ",ZEROIFNULL(SUM(GETBIT(A.FEATUREUSAGE,(2047 -126)))) AS bit126\n",
    ",ZEROIFNULL(SUM(GETBIT(A.FEATUREUSAGE,(2047 -127)))) AS bit127\n",
    ",ZEROIFNULL(SUM(GETBIT(A.FEATUREUSAGE,(2047 -128)))) AS bit128\n",
    ",ZEROIFNULL(SUM(GETBIT(A.FEATUREUSAGE,(2047 -129)))) AS bit129\n",
    ",ZEROIFNULL(SUM(GETBIT(A.FEATUREUSAGE,(2047 -130)))) AS bit130\n",
    ",ZEROIFNULL(SUM(GETBIT(A.FEATUREUSAGE,(2047 -131)))) AS bit131\n",
    ",ZEROIFNULL(SUM(GETBIT(A.FEATUREUSAGE,(2047 -132)))) AS bit132\n",
    ",ZEROIFNULL(SUM(GETBIT(A.FEATUREUSAGE,(2047 -133)))) AS bit133\n",
    ",ZEROIFNULL(SUM(GETBIT(A.FEATUREUSAGE,(2047 -134)))) AS bit134\n",
    ",ZEROIFNULL(SUM(GETBIT(A.FEATUREUSAGE,(2047 -135)))) AS bit135\n",
    ",ZEROIFNULL(SUM(GETBIT(A.FEATUREUSAGE,(2047 -136)))) AS bit136\n",
    ",ZEROIFNULL(SUM(GETBIT(A.FEATUREUSAGE,(2047 -137)))) AS bit137\n",
    "FROM PDCRINFO.DBQLOGTBL_HST as A \n",
    "JOIN dim_user as U\n",
    "  on a.UserName = u.UserName\n",
    "WHERE LogDate BETWEEN DATE-8 and DATE-1\n",
    "GROUP BY 1,2,3,4,5;"
   ]
  },
  {
   "cell_type": "code",
   "execution_count": 64,
   "metadata": {},
   "outputs": [
    {
     "data": {
      "text/plain": [
       "Success: 0 rows affected"
      ]
     },
     "execution_count": 64,
     "metadata": {
      "application/vnd.teradata.resultset": ""
     },
     "output_type": "execute_result"
    }
   ],
   "source": [
    "drop table feature_usage_unpivot"
   ]
  },
  {
   "cell_type": "code",
   "execution_count": 20,
   "metadata": {},
   "outputs": [
    {
     "data": {
      "text/plain": [
       "Success: 0 rows affected"
      ]
     },
     "execution_count": 20,
     "metadata": {
      "application/vnd.teradata.resultset": ""
     },
     "output_type": "execute_result"
    }
   ],
   "source": [
    "   /* unpivot data from source */\n",
    "    create volatile table feature_usage_unpivot as\n",
    "    (\n",
    "        select *\n",
    "        from adlste_coa_stg.stg_dat_feature_usage_log\n",
    "        unpivot(Usage_Cnt for BitPos in\n",
    "            (bit016 as '016' ,bit017 as '017' ,bit018 as '018' ,bit019 as '019' \n",
    "            ,bit020 as '020' ,bit021 as '021' ,bit022 as '022' ,bit023 as '023' ,bit024 as '024'\n",
    "            ,bit025 as '025' ,bit026 as '026' ,bit027 as '027' ,bit028 as '028' ,bit029 as '029'\n",
    "            ,bit030 as '030' ,bit031 as '031' ,bit032 as '032' ,bit033 as '033' ,bit034 as '034'\n",
    "            ,bit035 as '035' ,bit036 as '036' ,bit037 as '037' ,bit038 as '038' ,bit039 as '039'\n",
    "            ,bit040 as '040' ,bit041 as '041' ,bit042 as '042' ,bit043 as '043' ,bit044 as '044'\n",
    "            ,bit045 as '045' ,bit046 as '046' ,bit047 as '047' ,bit048 as '048' ,bit049 as '049'\n",
    "            ,bit050 as '050' ,bit051 as '051' ,bit052 as '052' ,bit053 as '053' ,bit054 as '054'\n",
    "            ,bit055 as '055' ,bit056 as '056' ,bit057 as '057' ,bit058 as '058' ,bit059 as '059'\n",
    "            ,bit060 as '060' ,bit061 as '061' ,bit062 as '062' ,bit063 as '063' ,bit064 as '064'\n",
    "            ,bit065 as '065' ,bit066 as '066' ,bit067 as '067' ,bit068 as '068' ,bit069 as '069'\n",
    "            ,bit070 as '070' ,bit071 as '071' ,bit072 as '072' ,bit073 as '073' ,bit074 as '074'\n",
    "            ,bit075 as '075' ,bit076 as '076' ,bit077 as '077' ,bit078 as '078' ,bit079 as '079'\n",
    "            ,bit080 as '080' ,bit081 as '081' ,bit082 as '082' ,bit083 as '083' ,bit084 as '084'\n",
    "            ,bit085 as '085' ,bit086 as '086' ,bit087 as '087' ,bit088 as '088' ,bit089 as '089'\n",
    "            ,bit090 as '090' ,bit091 as '091' ,bit092 as '092' ,bit093 as '093' ,bit094 as '094'\n",
    "            ,bit095 as '095' ,bit096 as '096' ,bit097 as '097' ,bit098 as '098' ,bit099 as '099'\n",
    "            ,bit100 as '100' ,bit101 as '101' ,bit102 as '102' ,bit103 as '103' ,bit104 as '104'\n",
    "            ,bit105 as '105' ,bit106 as '106' ,bit107 as '107' ,bit108 as '108' ,bit109 as '109'\n",
    "            ,bit110 as '110' ,bit111 as '111' ,bit112 as '112' ,bit113 as '113' ,bit114 as '114'\n",
    "            ,bit115 as '115' ,bit116 as '116' ,bit117 as '117' ,bit118 as '118' ,bit119 as '119'\n",
    "            ,bit120 as '120' ,bit121 as '121' ,bit122 as '122' ,bit123 as '123' ,bit124 as '124'\n",
    "            ,bit125 as '125' ,bit126 as '126' ,bit127 as '127' ,bit128 as '128' ,bit129 as '129'\n",
    "            ,bit130 as '130' ,bit131 as '131' ,bit132 as '132' ,bit133 as '133' ,bit134 as '134'\n",
    "            ,bit135 as '135' ,bit136 as '136' ,bit137 as '137' ) \n",
    "        ) tmp\n",
    "    ) with data \n",
    "      no primary index\n",
    "      on commit preserve rows;"
   ]
  },
  {
   "cell_type": "code",
   "execution_count": 60,
   "metadata": {},
   "outputs": [
    {
     "data": {
      "text/plain": [
       "Success: 2928 rows affected"
      ]
     },
     "execution_count": 60,
     "metadata": {
      "application/vnd.teradata.resultset": ""
     },
     "output_type": "execute_result"
    }
   ],
   "source": [
    "update feature_usage_unpivot set DBSVersion = '16.20.49.01'\n",
    "--update feature_usage_unpivot set DBSVersion = '16.20.33.00'"
   ]
  },
  {
   "cell_type": "code",
   "execution_count": 29,
   "metadata": {},
   "outputs": [],
   "source": [
    "select * from feature_usage_unpivot\n",
    "where DBSVersion between '16.20.33.01' and '16.20.53.07'"
   ]
  },
  {
   "cell_type": "code",
   "execution_count": 33,
   "metadata": {},
   "outputs": [
    {
     "data": {
      "application/vnd.teradata.resultset": "[{\"Business_Value_Desc\":\"Reduced time to insights, leverages Teradata expertise \\u0026 best practices\",\"DBQL_FeatureInfo_Flag\":\"N\",\"DBS_Version\":\"DEFAULT               \",\"Differentiator_Ind\":\"1\",\"Enabled_Thru\":\"TBD\",\"Feature_BitPos\":\"0\",\"Feature_Category\":\"Accelerator\",\"Feature_DataSource\":\"TBD\",\"Feature_Id\":\"12000\",\"Feature_Name\":\"Consumption Analytics\",\"Feature_Notes\":\"\",\"Feature_SQL_URL\":\"TBD\",\"Feature_SubCategory\":\"Data\",\"Feature_Weight\":\"0\",\"Initiator_Role_Category\":\"TBD\",\"MBO_Ind\":\"0\",\"Objective_Name\":\"Get help through services\",\"Playbook_URL\":\"TBD\",\"Product_Category\":\"Consulting\",\"Product_Name\":\"Service Catalysts\",\"Run_Id\":\"0\",\"Solution_Type\":\"Accelerator\",\"User_Experience_Level_Name\":\"\"},{\"Business_Value_Desc\":\"Scalable Advanced Analytics\",\"DBQL_FeatureInfo_Flag\":\"N\",\"DBS_Version\":\"DEFAULT               \",\"Differentiator_Ind\":\"1\",\"Enabled_Thru\":\"TBD\",\"Feature_BitPos\":\"0\",\"Feature_Category\":\"User Interface\",\"Feature_DataSource\":\"TBD\",\"Feature_Id\":\"15000\",\"Feature_Name\":\"Text\",\"Feature_Notes\":\"\",\"Feature_SQL_URL\":\"TBD\",\"Feature_SubCategory\":\"Analyst UI\",\"Feature_Weight\":\"5\",\"Initiator_Role_Category\":\"TBD\",\"MBO_Ind\":\"1\",\"Objective_Name\":\"Visualize Analytics\",\"Playbook_URL\":\"TBD\",\"Product_Category\":\"Vantage\",\"Product_Name\":\"Vantage Analyst\",\"Run_Id\":\"0\",\"Solution_Type\":\"Self-Service\",\"User_Experience_Level_Name\":\"\"},{\"Business_Value_Desc\":\"Scalable Advanced Analytics\",\"DBQL_FeatureInfo_Flag\":\"Y\",\"DBS_Version\":\"DEFAULT               \",\"Differentiator_Ind\":\"-9\",\"Enabled_Thru\":\"TBD\",\"Feature_BitPos\":\"100\",\"Feature_Category\":\"SQL Engine\",\"Feature_DataSource\":\"TBD\",\"Feature_Id\":\"24000\",\"Feature_Name\":\"Analytics Extensions\",\"Feature_Notes\":\"\",\"Feature_SQL_URL\":\"TBD\",\"Feature_SubCategory\":\"In-Database Programming\",\"Feature_Weight\":\"0\",\"Initiator_Role_Category\":\"TBD\",\"MBO_Ind\":\"-9\",\"Objective_Name\":\"Run SQL\",\"Playbook_URL\":\"TBD\",\"Product_Category\":\"Vantage\",\"Product_Name\":\"Vantage Database\",\"Run_Id\":\"0\",\"Solution_Type\":\"In-database Analytics\",\"User_Experience_Level_Name\":\"\"},{\"Business_Value_Desc\":\"Exploit new Data Types\",\"DBQL_FeatureInfo_Flag\":\"Y\",\"DBS_Version\":\"DEFAULT               \",\"Differentiator_Ind\":\"1\",\"Enabled_Thru\":\"TBD\",\"Feature_BitPos\":\"42\",\"Feature_Category\":\"SQL Engine\",\"Feature_DataSource\":\"TBD\",\"Feature_Id\":\"19900\",\"Feature_Name\":\"XML Data Type\",\"Feature_Notes\":\"\",\"Feature_SQL_URL\":\"TBD\",\"Feature_SubCategory\":\"Advanced Data Types\",\"Feature_Weight\":\"5\",\"Initiator_Role_Category\":\"TBD\",\"MBO_Ind\":\"1\",\"Objective_Name\":\"Load Data\",\"Playbook_URL\":\"TBD\",\"Product_Category\":\"Vantage\",\"Product_Name\":\"Vantage Database\",\"Run_Id\":\"0\",\"Solution_Type\":\"In-database Analytics\",\"User_Experience_Level_Name\":\"\"},{\"Business_Value_Desc\":\"Enhanced performance \",\"DBQL_FeatureInfo_Flag\":\"Y\",\"DBS_Version\":\"DEFAULT               \",\"Differentiator_Ind\":\"0\",\"Enabled_Thru\":\"TBD\",\"Feature_BitPos\":\"40\",\"Feature_Category\":\"SQL Engine\",\"Feature_DataSource\":\"TBD\",\"Feature_Id\":\"21800\",\"Feature_Name\":\"Statement Info Parcel\",\"Feature_Notes\":\"\",\"Feature_SQL_URL\":\"TBD\",\"Feature_SubCategory\":\"Connectivity - ODBC\",\"Feature_Weight\":\"0\",\"Initiator_Role_Category\":\"TBD\",\"MBO_Ind\":\"0\",\"Objective_Name\":\"Expose data to applications\",\"Playbook_URL\":\"TBD\",\"Product_Category\":\"Vantage\",\"Product_Name\":\"Vantage Database\",\"Run_Id\":\"0\",\"Solution_Type\":\"Connectivity\",\"User_Experience_Level_Name\":\"\"},{\"Business_Value_Desc\":\"Scalable Advanced Analytics\",\"DBQL_FeatureInfo_Flag\":\"Y\",\"DBS_Version\":\"DEFAULT               \",\"Differentiator_Ind\":\"1\",\"Enabled_Thru\":\"TBD\",\"Feature_BitPos\":\"53\",\"Feature_Category\":\"SQL Engine\",\"Feature_DataSource\":\"TBD\",\"Feature_Id\":\"27900\",\"Feature_Name\":\"External Stored Procedure\",\"Feature_Notes\":\"\",\"Feature_SQL_URL\":\"TBD\",\"Feature_SubCategory\":\"Programming Support\",\"Feature_Weight\":\"5\",\"Initiator_Role_Category\":\"TBD\",\"MBO_Ind\":\"1\",\"Objective_Name\":\"Run SQL\",\"Playbook_URL\":\"TBD\",\"Product_Category\":\"Vantage\",\"Product_Name\":\"Vantage Database\",\"Run_Id\":\"0\",\"Solution_Type\":\"In-database Analytics\",\"User_Experience_Level_Name\":\"\"},{\"Business_Value_Desc\":\"Enhanced performance \",\"DBQL_FeatureInfo_Flag\":\"Y\",\"DBS_Version\":\"DEFAULT               \",\"Differentiator_Ind\":\"-9\",\"Enabled_Thru\":\"TBD\",\"Feature_BitPos\":\"78\",\"Feature_Category\":\"SQL Engine\",\"Feature_DataSource\":\"TBD\",\"Feature_Id\":\"27700\",\"Feature_Name\":\"Index Analysis\",\"Feature_Notes\":\"\",\"Feature_SQL_URL\":\"TBD\",\"Feature_SubCategory\":\"Performance Management\",\"Feature_Weight\":\"0\",\"Initiator_Role_Category\":\"TBD\",\"MBO_Ind\":\"-9\",\"Objective_Name\":\"Manage my environment\",\"Playbook_URL\":\"TBD\",\"Product_Category\":\"Vantage\",\"Product_Name\":\"Vantage Database\",\"Run_Id\":\"0\",\"Solution_Type\":\"Administration\",\"User_Experience_Level_Name\":\"\"},{\"Business_Value_Desc\":\"Scalable Advanced Analytics\",\"DBQL_FeatureInfo_Flag\":\"Y\",\"DBS_Version\":\"DEFAULT               \",\"Differentiator_Ind\":\"1\",\"Enabled_Thru\":\"TBD\",\"Feature_BitPos\":\"123\",\"Feature_Category\":\"SQL Engine\",\"Feature_DataSource\":\"TBD\",\"Feature_Id\":\"23200\",\"Feature_Name\":\"Geospatial Index Single Table Distance Predicate\",\"Feature_Notes\":\"\",\"Feature_SQL_URL\":\"TBD\",\"Feature_SubCategory\":\"Geospatial\",\"Feature_Weight\":\"2\",\"Initiator_Role_Category\":\"TBD\",\"MBO_Ind\":\"1\",\"Objective_Name\":\"Run SQL\",\"Playbook_URL\":\"TBD\",\"Product_Category\":\"Vantage\",\"Product_Name\":\"Vantage Database\",\"Run_Id\":\"0\",\"Solution_Type\":\"In-database Analytics\",\"User_Experience_Level_Name\":\"\"},{\"Business_Value_Desc\":\"Simplified data management\",\"DBQL_FeatureInfo_Flag\":\"Y\",\"DBS_Version\":\"DEFAULT               \",\"Differentiator_Ind\":\"1\",\"Enabled_Thru\":\"TBD\",\"Feature_BitPos\":\"120\",\"Feature_Category\":\"SQL Engine\",\"Feature_DataSource\":\"TBD\",\"Feature_Id\":\"22100\",\"Feature_Name\":\"Not System-Default Map\",\"Feature_Notes\":\"\",\"Feature_SQL_URL\":\"TBD\",\"Feature_SubCategory\":\"Data Distribution\",\"Feature_Weight\":\"0\",\"Initiator_Role_Category\":\"TBD\",\"MBO_Ind\":\"0\",\"Objective_Name\":\"Load Data\",\"Playbook_URL\":\"TBD\",\"Product_Category\":\"Vantage\",\"Product_Name\":\"Vantage Database\",\"Run_Id\":\"0\",\"Solution_Type\":\"Performance\",\"User_Experience_Level_Name\":\"\"},{\"Business_Value_Desc\":\"Provides workload insights by user and data domain\",\"DBQL_FeatureInfo_Flag\":\"Y\",\"DBS_Version\":\"DEFAULT               \",\"Differentiator_Ind\":\"1\",\"Enabled_Thru\":\"TBD\",\"Feature_BitPos\":\"67\",\"Feature_Category\":\"SQL Engine\",\"Feature_DataSource\":\"TBD\",\"Feature_Id\":\"29500\",\"Feature_Name\":\"DBQL OBJECT USECOUNT Logging\",\"Feature_Notes\":\"\",\"Feature_SQL_URL\":\"TBD\",\"Feature_SubCategory\":\"Usage Analysis\",\"Feature_Weight\":\"0\",\"Initiator_Role_Category\":\"TBD\",\"MBO_Ind\":\"0\",\"Objective_Name\":\"Understand my usage\",\"Playbook_URL\":\"TBD\",\"Product_Category\":\"Vantage\",\"Product_Name\":\"Vantage Database\",\"Run_Id\":\"0\",\"Solution_Type\":\"Administration\",\"User_Experience_Level_Name\":\"\"}]\n",
      "text/html": [
       "<div class = \"td-resultset-table-div\" style = \"max-height: 257px; overflow-y: auto\"><style> table {border: 1px solid rgb(207, 207, 207) !important; border-collapse: collapse !important; margin-top: 1px !important;} th {border: 1px solid rgb(198,198,198) !important; border-collapse: collapse !important; padding: 2px 5px !important; font-size: 13px !important; min-width:150px !important; max-width: 150px !important; white-space: nowrap !important; overflow:hidden !important; text-overflow:ellipsis !important;} tr:nth-child(even) {background: rgba(243, 243, 243, 0.75) !important;} td {border: 1px solid rgb(207, 207, 207) !important; border-collapse: collapse !important; padding: 2px 5px !important; font-size: 13px !important; min-width:150px !important; max-width: 150px !important; white-space: nowrap !important; overflow:hidden !important; text-overflow:ellipsis !important;}</style><table><thead><tr style= \"background: #efefef;\"><th>Feature_Id</th><th>Product_Name</th><th>Feature_Name</th><th>DBS_Version</th><th>Feature_BitPos</th><th>Feature_SubCategory</th><th>Feature_Category</th><th>Product_Category</th><th>Objective_Name</th><th>Solution_Type</th><th>Business_Value_Desc</th><th>User_Experience_Level_Name</th><th>Initiator_Role_Category</th><th>Enabled_Thru</th><th>DBQL_FeatureInfo_Flag</th><th>Feature_DataSource</th><th>MBO_Ind</th><th>Differentiator_Ind</th><th>Feature_Weight</th><th>Feature_Notes</th><th>Feature_SQL_URL</th><th>Playbook_URL</th><th>Run_Id</th></tr></thead><tr><td>12000</td><td>Service Catalysts</td><td>Consumption Analytics</td><td>DEFAULT               </td><td>0</td><td>Data</td><td>Accelerator</td><td>Consulting</td><td>Get help through services</td><td>Accelerator</td><td>Reduced time to insights, leverages Teradata expertise & best practices</td><td></td><td>TBD</td><td>TBD</td><td>N</td><td>TBD</td><td>0</td><td>1</td><td>0</td><td></td><td>TBD</td><td>TBD</td><td>0</td></tr><tr><td>15000</td><td>Vantage Analyst</td><td>Text</td><td>DEFAULT               </td><td>0</td><td>Analyst UI</td><td>User Interface</td><td>Vantage</td><td>Visualize Analytics</td><td>Self-Service</td><td>Scalable Advanced Analytics</td><td></td><td>TBD</td><td>TBD</td><td>N</td><td>TBD</td><td>1</td><td>1</td><td>5</td><td></td><td>TBD</td><td>TBD</td><td>0</td></tr><tr><td>24000</td><td>Vantage Database</td><td>Analytics Extensions</td><td>DEFAULT               </td><td>100</td><td>In-Database Programming</td><td>SQL Engine</td><td>Vantage</td><td>Run SQL</td><td>In-database Analytics</td><td>Scalable Advanced Analytics</td><td></td><td>TBD</td><td>TBD</td><td>Y</td><td>TBD</td><td>-9</td><td>-9</td><td>0</td><td></td><td>TBD</td><td>TBD</td><td>0</td></tr><tr><td>19900</td><td>Vantage Database</td><td>XML Data Type</td><td>DEFAULT               </td><td>42</td><td>Advanced Data Types</td><td>SQL Engine</td><td>Vantage</td><td>Load Data</td><td>In-database Analytics</td><td>Exploit new Data Types</td><td></td><td>TBD</td><td>TBD</td><td>Y</td><td>TBD</td><td>1</td><td>1</td><td>5</td><td></td><td>TBD</td><td>TBD</td><td>0</td></tr><tr><td>21800</td><td>Vantage Database</td><td>Statement Info Parcel</td><td>DEFAULT               </td><td>40</td><td>Connectivity - ODBC</td><td>SQL Engine</td><td>Vantage</td><td>Expose data to applications</td><td>Connectivity</td><td>Enhanced performance </td><td></td><td>TBD</td><td>TBD</td><td>Y</td><td>TBD</td><td>0</td><td>0</td><td>0</td><td></td><td>TBD</td><td>TBD</td><td>0</td></tr><tr><td>27900</td><td>Vantage Database</td><td>External Stored Procedure</td><td>DEFAULT               </td><td>53</td><td>Programming Support</td><td>SQL Engine</td><td>Vantage</td><td>Run SQL</td><td>In-database Analytics</td><td>Scalable Advanced Analytics</td><td></td><td>TBD</td><td>TBD</td><td>Y</td><td>TBD</td><td>1</td><td>1</td><td>5</td><td></td><td>TBD</td><td>TBD</td><td>0</td></tr><tr><td>27700</td><td>Vantage Database</td><td>Index Analysis</td><td>DEFAULT               </td><td>78</td><td>Performance Management</td><td>SQL Engine</td><td>Vantage</td><td>Manage my environment</td><td>Administration</td><td>Enhanced performance </td><td></td><td>TBD</td><td>TBD</td><td>Y</td><td>TBD</td><td>-9</td><td>-9</td><td>0</td><td></td><td>TBD</td><td>TBD</td><td>0</td></tr><tr><td>23200</td><td>Vantage Database</td><td>Geospatial Index Single Table Distance Predicate</td><td>DEFAULT               </td><td>123</td><td>Geospatial</td><td>SQL Engine</td><td>Vantage</td><td>Run SQL</td><td>In-database Analytics</td><td>Scalable Advanced Analytics</td><td></td><td>TBD</td><td>TBD</td><td>Y</td><td>TBD</td><td>1</td><td>1</td><td>2</td><td></td><td>TBD</td><td>TBD</td><td>0</td></tr><tr><td>22100</td><td>Vantage Database</td><td>Not System-Default Map</td><td>DEFAULT               </td><td>120</td><td>Data Distribution</td><td>SQL Engine</td><td>Vantage</td><td>Load Data</td><td>Performance</td><td>Simplified data management</td><td></td><td>TBD</td><td>TBD</td><td>Y</td><td>TBD</td><td>0</td><td>1</td><td>0</td><td></td><td>TBD</td><td>TBD</td><td>0</td></tr><tr><td>29500</td><td>Vantage Database</td><td>DBQL OBJECT USECOUNT Logging</td><td>DEFAULT               </td><td>67</td><td>Usage Analysis</td><td>SQL Engine</td><td>Vantage</td><td>Understand my usage</td><td>Administration</td><td>Provides workload insights by user and data domain</td><td></td><td>TBD</td><td>TBD</td><td>Y</td><td>TBD</td><td>0</td><td>1</td><td>0</td><td></td><td>TBD</td><td>TBD</td><td>0</td></tr></table></div>"
      ]
     },
     "execution_count": 33,
     "metadata": {
      "application/vnd.teradata.resultset": "{\"resultSetID\":\"/home/jovyan/JupyterLabRoot/Teradata/Resultsets/2020.06.16_15.56.13.512_UTC\",\"historyID\":1516,\"chunkID\":\"00001\",\"sessionid\":\"\",\"portnum\":\"\",\"dockermode\":\"docker\",\"totalRowCount\":10,\"rowLimit\":0,\"columnMetadata\":[{\"columnName\":\"Feature_Id\",\"columnTypeName\":\"INTEGER\"},{\"columnNumber\":1,\"columnName\":\"Product_Name\",\"columnTypeName\":\"VARCHAR\",\"length\":100,\"scale\":100},{\"columnNumber\":2,\"columnName\":\"Feature_Name\",\"columnTypeName\":\"VARCHAR\",\"length\":100,\"scale\":100},{\"columnNumber\":3,\"columnName\":\"DBS_Version\",\"columnTypeName\":\"CHAR\",\"length\":11,\"scale\":11},{\"columnNumber\":4,\"columnName\":\"Feature_BitPos\",\"columnTypeName\":\"SMALLINT\"},{\"columnNumber\":5,\"columnName\":\"Feature_SubCategory\",\"columnTypeName\":\"VARCHAR\",\"length\":100,\"scale\":100},{\"columnNumber\":6,\"columnName\":\"Feature_Category\",\"columnTypeName\":\"VARCHAR\",\"length\":100,\"scale\":100},{\"columnNumber\":7,\"columnName\":\"Product_Category\",\"columnTypeName\":\"VARCHAR\",\"length\":100,\"scale\":100},{\"columnNumber\":8,\"columnName\":\"Objective_Name\",\"columnTypeName\":\"VARCHAR\",\"length\":100,\"scale\":100},{\"columnNumber\":9,\"columnName\":\"Solution_Type\",\"columnTypeName\":\"VARCHAR\",\"length\":100,\"scale\":100},{\"columnNumber\":10,\"columnName\":\"Business_Value_Desc\",\"columnTypeName\":\"VARCHAR\",\"length\":100,\"scale\":100},{\"columnNumber\":11,\"columnName\":\"User_Experience_Level_Name\",\"columnTypeName\":\"VARCHAR\",\"length\":100,\"scale\":100},{\"columnNumber\":12,\"columnName\":\"Initiator_Role_Category\",\"columnTypeName\":\"VARCHAR\",\"length\":64,\"scale\":64},{\"columnNumber\":13,\"columnName\":\"Enabled_Thru\",\"columnTypeName\":\"VARCHAR\",\"length\":64,\"scale\":64},{\"columnNumber\":14,\"columnName\":\"DBQL_FeatureInfo_Flag\",\"columnTypeName\":\"VARCHAR\",\"length\":3,\"scale\":3},{\"columnNumber\":15,\"columnName\":\"Feature_DataSource\",\"columnTypeName\":\"VARCHAR\",\"length\":32,\"scale\":32},{\"columnNumber\":16,\"columnName\":\"MBO_Ind\",\"columnTypeName\":\"BYTEINT\"},{\"columnNumber\":17,\"columnName\":\"Differentiator_Ind\",\"columnTypeName\":\"BYTEINT\"},{\"columnNumber\":18,\"columnName\":\"Feature_Weight\",\"columnTypeName\":\"SMALLINT\"},{\"columnNumber\":19,\"columnName\":\"Feature_Notes\",\"columnTypeName\":\"VARCHAR\",\"length\":1000,\"scale\":1000},{\"columnNumber\":20,\"columnName\":\"Feature_SQL_URL\",\"columnTypeName\":\"VARCHAR\",\"length\":1024,\"scale\":1024},{\"columnNumber\":21,\"columnName\":\"Playbook_URL\",\"columnTypeName\":\"VARCHAR\",\"length\":1024,\"scale\":1024},{\"columnNumber\":22,\"columnName\":\"Run_Id\",\"columnTypeName\":\"INTEGER\"}]}"
     },
     "output_type": "execute_result"
    }
   ],
   "source": [
    "select top 10 * from adlste_coa.coat_dim_feature"
   ]
  },
  {
   "cell_type": "code",
   "execution_count": 61,
   "metadata": {},
   "outputs": [],
   "source": [
    "\n",
    "    INSERT into adlste_coa.coat_dat_feature_usage_log \n",
    "    select u.Site_ID, u.LogDate, f.Feature_ID\n",
    "    ,case when u.DBSVersion between '16.20.33.01' and '16.20.53.07' then 'ALT01'\n",
    "          else 'DEFAULT' end as DBS_Version\n",
    "    ,u.User_Bucket, u.User_Department, 'na' as User_SubDepartment, 'na' as User_Region\n",
    "    ,Usage_Cnt as Feature_Usage_Cnt\n",
    "    ,0 as RunID\n",
    "    from feature_usage_unpivot u\n",
    "    join adlste_coa.coat_dim_feature f\n",
    "      on cast(u.BitPos as int) = f.Feature_BitPos\n",
    "     and f.DBS_Version = case \n",
    "                         when u.DBSVersion between '16.20.33.01' and '16.20.53.07' then 'ALT01'\n",
    "                         else 'DEFAULT' end"
   ]
  },
  {
   "cell_type": "code",
   "execution_count": 42,
   "metadata": {},
   "outputs": [
    {
     "data": {
      "application/vnd.teradata.resultset": "[{\"AccessCount\":\"\",\"BlockCompression\":\"\",\"BlockCompressionAlgorithm\":\"\",\"BlockCompressionLevel\":\"\",\"BlockSize\":\"\",\"CheckOpt\":\"N \",\"CheckSum\":\"\",\"ChildCount\":\"0\",\"ColocationName\":\"\",\"CommentString\":\"Returns Feature usage information in JSON format.\",\"CommitOpt\":\"N \",\"CreateTimeStamp\":\"2019-07-21 12:52:45\",\"CreatorName\":\"DBC\",\"CurrentLoadId\":\"\",\"DataBaseName\":\"DBC\",\"DelayedJI\":\"\",\"FastAlterTable\":\"\",\"FreeSpacePercent\":\"\",\"IncrementalRestoreEnabled\":\"\",\"JournalFlag\":\"NN  \",\"LastAccessTimeStamp\":\"\",\"LastAlterName\":\"DBC\",\"LastAlterTimeStamp\":\"2019-07-21 12:52:45\",\"LastArchiveId\":\"\",\"LastFullArchiveId\":\"\",\"LoadIdLayout\":\"\",\"LoadProperty\":\"\",\"MapName\":\"\",\"MergeBlockRatio\":\"\",\"NamedTblCheckCount\":\"0\",\"PIColumnCount\":\"0\",\"ParentCount\":\"0\",\"PartitioningLevels\":\"0\",\"PrimaryKeyIndexId\":\"\",\"ProtectionType\":\"F \",\"QueueFlag\":\"N \",\"RepStatus\":\"\",\"RequestText\":\"REPLACE VIEW DBC.QryLogFeatureUseJSON\\rAS\\rLOCKING TABLE DBC.DBQLogTbl FOR ACCESS\\rselect JsonTbl.QueryID (FORMAT '--Z(17)9'), CAST(JsonTbl.FeatureUsageJSON as JSON) FeatureUsageJSON from table \\r      (TD_SYSFNLIB.TD_DBQLFUL(DBC.DBQLogTbl.QueryID,DBC.DBQLogTbl.FeatureUsage)) \\r       as JsonTbl;\",\"RequestTxtOverflow\":\"\",\"ResolvedCurrent_Date\":\"\",\"ResolvedCurrent_Timestamp\":\"\",\"RowSizeFormat\":\"0\",\"SystemDefinedJI\":\"N \",\"TTQualifier\":\"\",\"TVMFlavor\":\"\",\"TableHeaderFormat\":\"\",\"TableKind\":\"V \",\"TableName\":\"QryLogFeatureUseJSON\",\"TemporalProperty\":\"N \",\"TransLog\":\"Y \",\"UnnamedTblCheckExist\":\"N \",\"UtilVersion\":\"\",\"VTQualifier\":\"\",\"Version\":\"1\"},{\"AccessCount\":\"\",\"BlockCompression\":\"\",\"BlockCompressionAlgorithm\":\"\",\"BlockCompressionLevel\":\"\",\"BlockSize\":\"\",\"CheckOpt\":\"N \",\"CheckSum\":\"\",\"ChildCount\":\"0\",\"ColocationName\":\"\",\"CommentString\":\"Static table function view to list all the features being tracked and logged by Feature Use Logging.\",\"CommitOpt\":\"N \",\"CreateTimeStamp\":\"2019-07-21 12:47:42\",\"CreatorName\":\"DBC\",\"CurrentLoadId\":\"\",\"DataBaseName\":\"DBC\",\"DelayedJI\":\"\",\"FastAlterTable\":\"\",\"FreeSpacePercent\":\"\",\"IncrementalRestoreEnabled\":\"\",\"JournalFlag\":\"NN  \",\"LastAccessTimeStamp\":\"\",\"LastAlterName\":\"DBC\",\"LastAlterTimeStamp\":\"2019-07-21 12:47:42\",\"LastArchiveId\":\"\",\"LastFullArchiveId\":\"\",\"LoadIdLayout\":\"\",\"LoadProperty\":\"\",\"MapName\":\"\",\"MergeBlockRatio\":\"\",\"NamedTblCheckCount\":\"0\",\"PIColumnCount\":\"0\",\"ParentCount\":\"0\",\"PartitioningLevels\":\"0\",\"PrimaryKeyIndexId\":\"\",\"ProtectionType\":\"F \",\"QueueFlag\":\"N \",\"RepStatus\":\"\",\"RequestText\":\"REPLACE VIEW DBC.QryLogFeatureListV AS \\r    SELECT FeatureBitPos, FeatureName \\r    FROM TABLE (SYSLIB.FeatureNames_TBF()) as t1;\",\"RequestTxtOverflow\":\"\",\"ResolvedCurrent_Date\":\"\",\"ResolvedCurrent_Timestamp\":\"\",\"RowSizeFormat\":\"0\",\"SystemDefinedJI\":\"N \",\"TTQualifier\":\"\",\"TVMFlavor\":\"\",\"TableHeaderFormat\":\"\",\"TableKind\":\"V \",\"TableName\":\"QryLogFeatureListV\",\"TemporalProperty\":\"N \",\"TransLog\":\"Y \",\"UnnamedTblCheckExist\":\"N \",\"UtilVersion\":\"\",\"VTQualifier\":\"\",\"Version\":\"1\"},{\"AccessCount\":\"\",\"BlockCompression\":\"\",\"BlockCompressionAlgorithm\":\"\",\"BlockCompressionLevel\":\"\",\"BlockSize\":\"\",\"CheckOpt\":\"N \",\"CheckSum\":\"\",\"ChildCount\":\"0\",\"ColocationName\":\"\",\"CommentString\":\"The DBC.QRYLOGFEATUREUSECOUNTV view provides feature names and usage count.\",\"CommitOpt\":\"N \",\"CreateTimeStamp\":\"2019-07-21 12:53:45\",\"CreatorName\":\"DBC\",\"CurrentLoadId\":\"\",\"DataBaseName\":\"DBC\",\"DelayedJI\":\"\",\"FastAlterTable\":\"\",\"FreeSpacePercent\":\"\",\"IncrementalRestoreEnabled\":\"\",\"JournalFlag\":\"NN  \",\"LastAccessTimeStamp\":\"\",\"LastAlterName\":\"DBC\",\"LastAlterTimeStamp\":\"2019-07-21 12:53:45\",\"LastArchiveId\":\"\",\"LastFullArchiveId\":\"\",\"LoadIdLayout\":\"\",\"LoadProperty\":\"\",\"MapName\":\"\",\"MergeBlockRatio\":\"\",\"NamedTblCheckCount\":\"0\",\"PIColumnCount\":\"0\",\"ParentCount\":\"0\",\"PartitioningLevels\":\"0\",\"PrimaryKeyIndexId\":\"\",\"ProtectionType\":\"F \",\"QueueFlag\":\"N \",\"RepStatus\":\"\",\"RequestText\":\"REPLACE VIEW DBC.QRYLOGFEATUREUSECOUNTV AS\\r    SELECT CAST(B.FEATURENAME AS CHAR(100)) AS FEATURENAME, \\r    SUM(GETBIT(A.FEATUREUSAGE,(2047 - B.FEATUREBITPOS))) AS FEATUREUSECOUNT \\r    FROM DBC.DBQLOGTBL A, DBC.QRYLOGFEATURELISTV B GROUP BY B.FEATURENAME;\",\"RequestTxtOverflow\":\"\",\"ResolvedCurrent_Date\":\"\",\"ResolvedCurrent_Timestamp\":\"\",\"RowSizeFormat\":\"0\",\"SystemDefinedJI\":\"N \",\"TTQualifier\":\"\",\"TVMFlavor\":\"\",\"TableHeaderFormat\":\"\",\"TableKind\":\"V \",\"TableName\":\"QRYLOGFEATUREUSECOUNTV\",\"TemporalProperty\":\"N \",\"TransLog\":\"Y \",\"UnnamedTblCheckExist\":\"N \",\"UtilVersion\":\"\",\"VTQualifier\":\"\",\"Version\":\"1\"}]\n",
      "text/html": [
       "<div class = \"td-resultset-table-div\" style = \"max-height: 117px; overflow-y: auto\"><style> table {border: 1px solid rgb(207, 207, 207) !important; border-collapse: collapse !important; margin-top: 1px !important;} th {border: 1px solid rgb(198,198,198) !important; border-collapse: collapse !important; padding: 2px 5px !important; font-size: 13px !important; min-width:150px !important; max-width: 150px !important; white-space: nowrap !important; overflow:hidden !important; text-overflow:ellipsis !important;} tr:nth-child(even) {background: rgba(243, 243, 243, 0.75) !important;} td {border: 1px solid rgb(207, 207, 207) !important; border-collapse: collapse !important; padding: 2px 5px !important; font-size: 13px !important; min-width:150px !important; max-width: 150px !important; white-space: nowrap !important; overflow:hidden !important; text-overflow:ellipsis !important;}</style><table><thead><tr style= \"background: #efefef;\"><th>DataBaseName</th><th>TableName</th><th>Version</th><th>TableKind</th><th>ProtectionType</th><th>JournalFlag</th><th>CreatorName</th><th>RequestText</th><th>CommentString</th><th>ParentCount</th><th>ChildCount</th><th>NamedTblCheckCount</th><th>UnnamedTblCheckExist</th><th>PrimaryKeyIndexId</th><th>RepStatus</th><th>CreateTimeStamp</th><th>LastAlterName</th><th>LastAlterTimeStamp</th><th>RequestTxtOverflow</th><th>AccessCount</th><th>LastAccessTimeStamp</th><th>UtilVersion</th><th>QueueFlag</th><th>CommitOpt</th><th>TransLog</th><th>CheckOpt</th><th>TemporalProperty</th><th>ResolvedCurrent_Date</th><th>ResolvedCurrent_Timestamp</th><th>SystemDefinedJI</th><th>VTQualifier</th><th>TTQualifier</th><th>PIColumnCount</th><th>PartitioningLevels</th><th>LoadProperty</th><th>CurrentLoadId</th><th>LoadIdLayout</th><th>DelayedJI</th><th>LastArchiveId</th><th>LastFullArchiveId</th><th>BlockSize</th><th>FreeSpacePercent</th><th>MergeBlockRatio</th><th>CheckSum</th><th>BlockCompression</th><th>BlockCompressionAlgorithm</th><th>BlockCompressionLevel</th><th>TableHeaderFormat</th><th>RowSizeFormat</th><th>MapName</th><th>ColocationName</th><th>TVMFlavor</th><th>FastAlterTable</th><th>IncrementalRestoreEnabled</th></tr></thead><tr><td>DBC</td><td>QryLogFeatureUseJSON</td><td>1</td><td>V </td><td>F </td><td>NN  </td><td>DBC</td><td>REPLACE VIEW DBC.QryLogFeatureUseJSON\r",
       "AS\r",
       "LOCKING TABLE DBC.DBQLogTbl FOR ACCESS\r",
       "select JsonTbl.QueryID (FORMAT '--Z(17)9'), CAST(JsonTbl.FeatureUsageJSON a</td><td>Returns Feature usage information in JSON format.</td><td>0</td><td>0</td><td>0</td><td>N </td><td></td><td></td><td>2019-07-21 12:52:45</td><td>DBC</td><td>2019-07-21 12:52:45</td><td></td><td></td><td></td><td></td><td>N </td><td>N </td><td>Y </td><td>N </td><td>N </td><td></td><td></td><td>N </td><td></td><td></td><td>0</td><td>0</td><td></td><td></td><td></td><td></td><td></td><td></td><td></td><td></td><td></td><td></td><td></td><td></td><td></td><td></td><td>0</td><td></td><td></td><td></td><td></td><td></td></tr><tr><td>DBC</td><td>QryLogFeatureListV</td><td>1</td><td>V </td><td>F </td><td>NN  </td><td>DBC</td><td>REPLACE VIEW DBC.QryLogFeatureListV AS \r",
       "    SELECT FeatureBitPos, FeatureName \r",
       "    FROM TABLE (SYSLIB.FeatureNames_TBF()) as t1;</td><td>Static table function view to list all the features being tracked and logged by Feature Use Logging.</td><td>0</td><td>0</td><td>0</td><td>N </td><td></td><td></td><td>2019-07-21 12:47:42</td><td>DBC</td><td>2019-07-21 12:47:42</td><td></td><td></td><td></td><td></td><td>N </td><td>N </td><td>Y </td><td>N </td><td>N </td><td></td><td></td><td>N </td><td></td><td></td><td>0</td><td>0</td><td></td><td></td><td></td><td></td><td></td><td></td><td></td><td></td><td></td><td></td><td></td><td></td><td></td><td></td><td>0</td><td></td><td></td><td></td><td></td><td></td></tr><tr><td>DBC</td><td>QRYLOGFEATUREUSECOUNTV</td><td>1</td><td>V </td><td>F </td><td>NN  </td><td>DBC</td><td>REPLACE VIEW DBC.QRYLOGFEATUREUSECOUNTV AS\r",
       "    SELECT CAST(B.FEATURENAME AS CHAR(100)) AS FEATURENAME, \r",
       "    SUM(GETBIT(A.FEATUREUSAGE,(2047 - B.FEATUREBITP</td><td>The DBC.QRYLOGFEATUREUSECOUNTV view provides feature names and usage count.</td><td>0</td><td>0</td><td>0</td><td>N </td><td></td><td></td><td>2019-07-21 12:53:45</td><td>DBC</td><td>2019-07-21 12:53:45</td><td></td><td></td><td></td><td></td><td>N </td><td>N </td><td>Y </td><td>N </td><td>N </td><td></td><td></td><td>N </td><td></td><td></td><td>0</td><td>0</td><td></td><td></td><td></td><td></td><td></td><td></td><td></td><td></td><td></td><td></td><td></td><td></td><td></td><td></td><td>0</td><td></td><td></td><td></td><td></td><td></td></tr></table></div>"
      ]
     },
     "execution_count": 42,
     "metadata": {
      "application/vnd.teradata.resultset": "{\"resultSetID\":\"/home/jovyan/JupyterLabRoot/Teradata/Resultsets/2020.06.16_16.04.00.543_UTC\",\"historyID\":1525,\"chunkID\":\"00001\",\"sessionid\":\"\",\"portnum\":\"\",\"dockermode\":\"docker\",\"totalRowCount\":3,\"rowLimit\":0,\"columnMetadata\":[{\"columnName\":\"DataBaseName\",\"columnTypeName\":\"VARCHAR\",\"length\":128,\"scale\":128},{\"columnNumber\":1,\"columnName\":\"TableName\",\"columnTypeName\":\"VARCHAR\",\"length\":128,\"scale\":128},{\"columnNumber\":2,\"columnName\":\"Version\",\"columnTypeName\":\"SMALLINT\"},{\"columnNumber\":3,\"columnName\":\"TableKind\",\"columnTypeName\":\"CHAR\",\"length\":1,\"scale\":1},{\"columnNumber\":4,\"columnName\":\"ProtectionType\",\"columnTypeName\":\"CHAR\",\"length\":1,\"scale\":1},{\"columnNumber\":5,\"columnName\":\"JournalFlag\",\"columnTypeName\":\"CHAR\",\"length\":2,\"scale\":2},{\"columnNumber\":6,\"columnName\":\"CreatorName\",\"columnTypeName\":\"VARCHAR\",\"length\":128,\"scale\":128},{\"columnNumber\":7,\"columnName\":\"RequestText\",\"columnTypeName\":\"VARCHAR\",\"length\":12500,\"scale\":12500},{\"columnNumber\":8,\"columnName\":\"CommentString\",\"columnTypeName\":\"VARCHAR\",\"length\":255,\"scale\":255},{\"columnNumber\":9,\"columnName\":\"ParentCount\",\"columnTypeName\":\"SMALLINT\"},{\"columnNumber\":10,\"columnName\":\"ChildCount\",\"columnTypeName\":\"SMALLINT\"},{\"columnNumber\":11,\"columnName\":\"NamedTblCheckCount\",\"columnTypeName\":\"SMALLINT\"},{\"columnNumber\":12,\"columnName\":\"UnnamedTblCheckExist\",\"columnTypeName\":\"CHAR\",\"length\":1,\"scale\":1},{\"columnNumber\":13,\"columnName\":\"PrimaryKeyIndexId\",\"columnTypeName\":\"SMALLINT\"},{\"columnNumber\":14,\"columnName\":\"RepStatus\",\"columnTypeName\":\"CHAR\",\"length\":1,\"scale\":1},{\"columnNumber\":15,\"columnName\":\"CreateTimeStamp\",\"columnTypeName\":\"TIMESTAMP\"},{\"columnNumber\":16,\"columnName\":\"LastAlterName\",\"columnTypeName\":\"VARCHAR\",\"length\":128,\"scale\":128},{\"columnNumber\":17,\"columnName\":\"LastAlterTimeStamp\",\"columnTypeName\":\"TIMESTAMP\"},{\"columnNumber\":18,\"columnName\":\"RequestTxtOverflow\",\"columnTypeName\":\"CHAR\",\"length\":1,\"scale\":1},{\"columnNumber\":19,\"columnName\":\"AccessCount\",\"columnTypeName\":\"BIGINT\"},{\"columnNumber\":20,\"columnName\":\"LastAccessTimeStamp\",\"columnTypeName\":\"TIMESTAMP\"},{\"columnNumber\":21,\"columnName\":\"UtilVersion\",\"columnTypeName\":\"SMALLINT\"},{\"columnNumber\":22,\"columnName\":\"QueueFlag\",\"columnTypeName\":\"CHAR\",\"length\":1,\"scale\":1},{\"columnNumber\":23,\"columnName\":\"CommitOpt\",\"columnTypeName\":\"CHAR\",\"length\":1,\"scale\":1},{\"columnNumber\":24,\"columnName\":\"TransLog\",\"columnTypeName\":\"CHAR\",\"length\":1,\"scale\":1},{\"columnNumber\":25,\"columnName\":\"CheckOpt\",\"columnTypeName\":\"CHAR\",\"length\":1,\"scale\":1},{\"columnNumber\":26,\"columnName\":\"TemporalProperty\",\"columnTypeName\":\"CHAR\",\"length\":1,\"scale\":1},{\"columnNumber\":27,\"columnName\":\"ResolvedCurrent_Date\",\"columnTypeName\":\"DATE\"},{\"columnNumber\":28,\"columnName\":\"ResolvedCurrent_Timestamp\",\"columnTypeName\":\"TIMESTAMP WITH TIME ZONE\",\"length\":6,\"scale\":6},{\"columnNumber\":29,\"columnName\":\"SystemDefinedJI\",\"columnTypeName\":\"CHAR\",\"length\":1,\"scale\":1},{\"columnNumber\":30,\"columnName\":\"VTQualifier\",\"columnTypeName\":\"CHAR\",\"length\":1,\"scale\":1},{\"columnNumber\":31,\"columnName\":\"TTQualifier\",\"columnTypeName\":\"CHAR\",\"length\":1,\"scale\":1},{\"columnNumber\":32,\"columnName\":\"PIColumnCount\",\"columnTypeName\":\"SMALLINT\"},{\"columnNumber\":33,\"columnName\":\"PartitioningLevels\",\"columnTypeName\":\"SMALLINT\"},{\"columnNumber\":34,\"columnName\":\"LoadProperty\",\"columnTypeName\":\"CHAR\",\"length\":1,\"scale\":1},{\"columnNumber\":35,\"columnName\":\"CurrentLoadId\",\"columnTypeName\":\"INTEGER\"},{\"columnNumber\":36,\"columnName\":\"LoadIdLayout\",\"columnTypeName\":\"CHAR\",\"length\":1,\"scale\":1},{\"columnNumber\":37,\"columnName\":\"DelayedJI\",\"columnTypeName\":\"CHAR\",\"length\":1,\"scale\":1},{\"columnNumber\":38,\"columnName\":\"LastArchiveId\",\"columnTypeName\":\"BIGINT\"},{\"columnNumber\":39,\"columnName\":\"LastFullArchiveId\",\"columnTypeName\":\"BIGINT\"},{\"columnNumber\":40,\"columnName\":\"BlockSize\",\"columnTypeName\":\"INTEGER\"},{\"columnNumber\":41,\"columnName\":\"FreeSpacePercent\",\"columnTypeName\":\"BYTEINT\"},{\"columnNumber\":42,\"columnName\":\"MergeBlockRatio\",\"columnTypeName\":\"BYTEINT\"},{\"columnNumber\":43,\"columnName\":\"CheckSum\",\"columnTypeName\":\"CHAR\",\"length\":1,\"scale\":1},{\"columnNumber\":44,\"columnName\":\"BlockCompression\",\"columnTypeName\":\"VARCHAR\",\"length\":8,\"scale\":8},{\"columnNumber\":45,\"columnName\":\"BlockCompressionAlgorithm\",\"columnTypeName\":\"VARCHAR\",\"length\":7,\"scale\":7},{\"columnNumber\":46,\"columnName\":\"BlockCompressionLevel\",\"columnTypeName\":\"VARCHAR\",\"length\":7,\"scale\":7},{\"columnNumber\":47,\"columnName\":\"TableHeaderFormat\",\"columnTypeName\":\"CHAR\",\"length\":1,\"scale\":1},{\"columnNumber\":48,\"columnName\":\"RowSizeFormat\",\"columnTypeName\":\"VARCHAR\",\"length\":1,\"scale\":1},{\"columnNumber\":49,\"columnName\":\"MapName\",\"columnTypeName\":\"VARCHAR\",\"length\":128,\"scale\":128},{\"columnNumber\":50,\"columnName\":\"ColocationName\",\"columnTypeName\":\"VARCHAR\",\"length\":128,\"scale\":128},{\"columnNumber\":51,\"columnName\":\"TVMFlavor\",\"columnTypeName\":\"CHAR\",\"length\":1,\"scale\":1},{\"columnNumber\":52,\"columnName\":\"FastAlterTable\",\"columnTypeName\":\"CHAR\",\"length\":1,\"scale\":1},{\"columnNumber\":53,\"columnName\":\"IncrementalRestoreEnabled\",\"columnTypeName\":\"INTEGER\"}]}"
     },
     "output_type": "execute_result"
    }
   ],
   "source": [
    "select * from dbc.tablesv \n",
    "where tablename like '%feature%'\n",
    "and databasename not like 'ADLSTE%'\n",
    "and databasename = 'DBC'"
   ]
  },
  {
   "cell_type": "code",
   "execution_count": null,
   "metadata": {},
   "outputs": [],
   "source": []
  }
 ],
 "metadata": {
  "kernelspec": {
   "display_name": "Teradata SQL",
   "language": "Teradata SQL",
   "name": "teradatasql"
  },
  "language_info": {
   "codemirror_mode": "Teradata SQL",
   "file_extension": ".tdrs",
   "mimetype": "application/vnd.teradata.resultset",
   "name": "Teradata SQL",
   "nbconvert_exporter": "",
   "pygments_lexer": "",
   "version": "16.20"
  }
 },
 "nbformat": 4,
 "nbformat_minor": 2
}
