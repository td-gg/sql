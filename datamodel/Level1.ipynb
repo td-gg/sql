{
 "cells": [
  {
   "cell_type": "markdown",
   "metadata": {},
   "source": [
    "# Create Level1 Objects (old CA) in ADLSTE_COA "
   ]
  },
  {
   "cell_type": "markdown",
   "metadata": {},
   "source": [
    "<br/><br/><br/>\n",
    "## CPU Trend"
   ]
  },
  {
   "cell_type": "code",
   "execution_count": null,
   "metadata": {},
   "outputs": [],
   "source": [
    "%connect name=Transcend"
   ]
  },
  {
   "cell_type": "code",
   "execution_count": null,
   "metadata": {},
   "outputs": [],
   "source": [
    "drop table ADLSTE_COA_Stg.stg_dat_level1_CPU_Forecast"
   ]
  },
  {
   "cell_type": "code",
   "execution_count": null,
   "metadata": {},
   "outputs": [],
   "source": [
    "CREATE MULTISET GLOBAL TEMPORARY TABLE ADLSTE_COA_Stg.stg_dat_level1_CPU_Forecast\n",
    "/* previously: ADLSTE_WestComm.consumption_cpu_forecast_stg */\n",
    "(\n",
    "    Site_ID VARCHAR(1024) CHARACTER SET UNICODE NOT CASESPECIFIC,\n",
    "    \"Report Date\" VARCHAR(1024) CHARACTER SET UNICODE NOT CASESPECIFIC,\n",
    "    \"Log Date\" VARCHAR(1024) CHARACTER SET UNICODE NOT CASESPECIFIC,\n",
    "    \"Peak Start\" VARCHAR(1024) CHARACTER SET UNICODE NOT CASESPECIFIC,\n",
    "    \"Peak End\" VARCHAR(1024) CHARACTER SET UNICODE NOT CASESPECIFIC,\n",
    "    \"Avg CPU Pct\" FLOAT,\n",
    "    \"Moving Avg\" FLOAT,\n",
    "    Trend FLOAT,\n",
    "    ReserveX BIGINT,\n",
    "    \"Reserve Horizon\" FLOAT,\n",
    "    SlopeX FLOAT\n",
    ") PRIMARY INDEX ( Site_ID ,\"Report Date\" ,\"Log Date\" )\n",
    "ON COMMIT PRESERVE ROWS;"
   ]
  },
  {
   "cell_type": "code",
   "execution_count": null,
   "metadata": {},
   "outputs": [],
   "source": [
    "/* make changes to table #1:  ARCHIVE EXISTING DATA\n",
    "*/\n",
    "rename table ADLSTE_coa.stg_dat_level1_CPU_Forecast \n",
    "          as ADLSTE_coa.stg_dat_level1_CPU_Forecast_orig"
   ]
  },
  {
   "cell_type": "code",
   "execution_count": null,
   "metadata": {},
   "outputs": [],
   "source": [
    "CREATE SET TABLE ADLSTE_COA.coat_dat_level1_CPU_Forecast  \n",
    "/* previously: ADLSTE_WestComm.Consumption_CPU_Forecast_V2 */\n",
    "(\n",
    "    SiteID VARCHAR(30) CHARACTER SET LATIN NOT CASESPECIFIC NOT NULL,\n",
    "    \"Report Date\" DATE FORMAT 'YYYY-MM-DD' NOT NULL,\n",
    "    \"Log Date\" DATE FORMAT 'YYYY-MM-DD' NOT NULL,\n",
    "    \"Peak Start\" VARCHAR(30) CHARACTER SET LATIN NOT CASESPECIFIC,\n",
    "    \"Peak End\" VARCHAR(30) CHARACTER SET LATIN NOT CASESPECIFIC,\n",
    "    \"Avg CPU Pct\" DECIMAL(18,4),\n",
    "    \"Moving Avg\" DECIMAL(18,4),\n",
    "    Trend DECIMAL(18,4),\n",
    "    ReserveX DECIMAL(18,4),\n",
    "    \"Reserve Horizon\" DECIMAL(18,4),\n",
    "    SlopeX DECIMAL(18,4)\n",
    ")\n",
    "UNIQUE PRIMARY INDEX ( SiteID ,\"Report Date\" ,\"Log Date\" );"
   ]
  },
  {
   "cell_type": "code",
   "execution_count": null,
   "metadata": {},
   "outputs": [],
   "source": [
    "/* make changes to table #2:  COPY DATA TO NEW STRUCTURE\n",
    "*/\n",
    "insert   into ADLSTE_COA.coat_dat_level1_CPU_Forecast \n",
    "Select * from ADLSTE_COA.coat_dat_level1_CPU_Forecast_orig;"
   ]
  },
  {
   "cell_type": "code",
   "execution_count": null,
   "metadata": {},
   "outputs": [],
   "source": [
    "replace view  ADLSTE_COA.coa_dat_level1_CPU_Forecast as locking row for access\n",
    "Select * from ADLSTE_COA.coat_dat_level1_CPU_Forecast"
   ]
  },
  {
   "cell_type": "code",
   "execution_count": null,
   "metadata": {},
   "outputs": [],
   "source": [
    "Select top 10 * \n",
    "from adlste_coa.coa_dat_level1_CPU_Forecast\n",
    "where site_id like 'BOEING%'"
   ]
  },
  {
   "cell_type": "code",
   "execution_count": null,
   "metadata": {},
   "outputs": [],
   "source": [
    "REPLACE PROCEDURE adlste_coa.sp_dat_level1_CPU_Forecast ( fileset_version VARCHAR(128) )\n",
    "/* previously: adlste_westcomm.consumption_cpu_forecast_sp  */\n",
    "SQL SECURITY CREATOR\n",
    "BEGIN\n",
    "  --call sp_audit_Account_Name ('adlste_coa.stg_dat_dbcinfo', 'sp_dat_dbcinfo', '{}');\n",
    "  --call sp_audit_Site_ID ('adlste_coa.stg_dat_dbcinfo', 'sp_dat_dbcinfo', '{}');\n",
    "\n",
    "  delete from ADLSTE_COA.coa_dat_level1_CPU_Forecast\n",
    "  where   (Site_ID, \"Log Date\") in\n",
    "   (Select Site_ID, \"Log Date\" From ADLSTE_COA_Stg.stg_dat_level1_CPU_Forecast);\n",
    "\n",
    "  Insert into ADLSTE_COA.coa_dat_level1_CPU_Forecast\n",
    "  Select * From ADLSTE_COA_Stg.stg_dat_level1_CPU_Forecast;\n",
    "  \n",
    "  delete from ADLSTE_COA_Stg.stg_dat_level1_CPU_Forecast;\n",
    "  \n",
    "END;\n"
   ]
  },
  {
   "cell_type": "markdown",
   "metadata": {},
   "source": [
    "### Test new process:"
   ]
  },
  {
   "cell_type": "code",
   "execution_count": null,
   "metadata": {},
   "outputs": [],
   "source": [
    "call adlste_coa.sp_dat_level1_CPU_Forecast('test');"
   ]
  },
  {
   "cell_type": "code",
   "execution_count": null,
   "metadata": {},
   "outputs": [],
   "source": [
    "Select top 10 site_id, count(*) \n",
    "from ADLSTE_COA.coat_dat_level1_CPU_Forecast\n",
    "Group by Site_ID;"
   ]
  },
  {
   "cell_type": "markdown",
   "metadata": {},
   "source": [
    "### Drop backup if good"
   ]
  },
  {
   "cell_type": "code",
   "execution_count": null,
   "metadata": {},
   "outputs": [],
   "source": [
    "/* make changes to table #3:  DROP ARCHIVE   \n",
    "   if above test = good\n",
    "*/\n",
    "drop table ADLSTE_COA.coat_dat_level1_CPU_Forecast_orig;"
   ]
  },
  {
   "cell_type": "markdown",
   "metadata": {},
   "source": [
    "<br/><br/><br/>\n",
    "## IO Trend"
   ]
  },
  {
   "cell_type": "code",
   "execution_count": null,
   "metadata": {},
   "outputs": [],
   "source": [
    "drop table ADLSTE_coa_stg.stg_dat_level1_IO_Forecast"
   ]
  },
  {
   "cell_type": "code",
   "execution_count": null,
   "metadata": {},
   "outputs": [],
   "source": [
    "CREATE MULTISET GLOBAL TEMPORARY TABLE ADLSTE_coa_stg.stg_dat_level1_IO_Forecast \n",
    "(\n",
    "    Site_ID VARCHAR(1024) CHARACTER SET UNICODE NOT CASESPECIFIC,\n",
    "    \"Report Date\" VARCHAR(1024) CHARACTER SET UNICODE NOT CASESPECIFIC,\n",
    "    \"Log Date\" VARCHAR(1024) CHARACTER SET UNICODE NOT CASESPECIFIC,\n",
    "    \"Peak Start\" VARCHAR(1024) CHARACTER SET UNICODE NOT CASESPECIFIC,\n",
    "    \"Peak End\" VARCHAR(1024) CHARACTER SET UNICODE NOT CASESPECIFIC,\n",
    "    \"Avg I/O Pct\" VARCHAR(1024) CHARACTER SET UNICODE NOT CASESPECIFIC,\n",
    "    \"Moving Avg\" VARCHAR(1024) CHARACTER SET UNICODE NOT CASESPECIFIC,\n",
    "    Trend VARCHAR(1024) CHARACTER SET UNICODE NOT CASESPECIFIC,\n",
    "    ReserveX BIGINT,\n",
    "    \"Reserve Horizon\" VARCHAR(1024) CHARACTER SET UNICODE NOT CASESPECIFIC,\n",
    "    SlopeX VARCHAR(1024) CHARACTER SET UNICODE NOT CASESPECIFIC)\n",
    "    PRIMARY INDEX ( Site_ID ,\"Report Date\" ,\"Log Date\" \n",
    ")\n",
    "ON COMMIT PRESERVE ROWS;"
   ]
  },
  {
   "cell_type": "code",
   "execution_count": null,
   "metadata": {},
   "outputs": [],
   "source": [
    "/* make changes to table #1:  ARCHIVE EXISTING DATA\n",
    "*/\n",
    "rename table ADLSTE_coa.coat_dat_level1_IO_Forecast \n",
    "          as ADLSTE_coa.coat_dat_level1_IO_Forecast_orig"
   ]
  },
  {
   "cell_type": "code",
   "execution_count": null,
   "metadata": {},
   "outputs": [],
   "source": [
    "CREATE SET TABLE ADLSTE_coa.coat_dat_level1_IO_Forecast  \n",
    "(\n",
    "    Site_ID VARCHAR(30) CHARACTER SET LATIN NOT CASESPECIFIC NOT NULL,\n",
    "    \"Report Date\" DATE FORMAT 'YYYY-MM-DD' NOT NULL,\n",
    "    \"Log Date\" DATE FORMAT 'YYYY-MM-DD' NOT NULL,\n",
    "    \"Peak Start\" VARCHAR(30) CHARACTER SET LATIN NOT CASESPECIFIC,\n",
    "    \"Peak End\" VARCHAR(30) CHARACTER SET LATIN NOT CASESPECIFIC,\n",
    "    \"Avg IO Pct\" DECIMAL(18,4),\n",
    "    \"Moving Avg\" DECIMAL(18,4),\n",
    "    Trend DECIMAL(18,4),\n",
    "    ReserveX DECIMAL(18,4),\n",
    "    \"Reserve Horizon\" DECIMAL(18,4),\n",
    "    SlopeX DECIMAL(18,4)\n",
    ")\n",
    "UNIQUE PRIMARY INDEX ( Site_ID ,\"Report Date\" ,\"Log Date\" );"
   ]
  },
  {
   "cell_type": "code",
   "execution_count": null,
   "metadata": {},
   "outputs": [],
   "source": [
    "/* make changes to table #2:  COPY DATA TO NEW STRUCTURE\n",
    "*/\n",
    "insert   into ADLSTE_COA.coat_dat_level1_IO_Forecast \n",
    "Select * from ADLSTE_COA.coat_dat_level1_IO_Forecast_orig;"
   ]
  },
  {
   "cell_type": "code",
   "execution_count": null,
   "metadata": {},
   "outputs": [],
   "source": [
    "replace view  ADLSTE_COA.coa_dat_level1_IO_Forecast as locking row for access\n",
    "Select * from ADLSTE_COA.coat_dat_level1_IO_Forecast"
   ]
  },
  {
   "cell_type": "code",
   "execution_count": null,
   "metadata": {},
   "outputs": [],
   "source": [
    "REPLACE PROCEDURE adlste_coa.sp_dat_level1_IO_Forecast ( fileset_version VARCHAR(128) )\n",
    "SQL SECURITY CREATOR\n",
    "BEGIN\n",
    "  --call sp_audit_Account_Name ('adlste_coa.stg_dat_dbcinfo', 'sp_dat_dbcinfo', '{}');\n",
    "  --call sp_audit_Site_ID ('adlste_coa.stg_dat_dbcinfo', 'sp_dat_dbcinfo', '{}');\n",
    "\n",
    "  delete from ADLSTE_COA.coa_dat_level1_IO_Forecast\n",
    "  where   (Site_ID, \"Log Date\") in\n",
    "   (Select Site_ID, \"Log Date\" From ADLSTE_COA_Stg.stg_dat_level1_IO_Forecast);\n",
    "\n",
    "  Insert into ADLSTE_COA.coa_dat_level1_IO_Forecast\n",
    "  Select * From ADLSTE_COA_Stg.stg_dat_level1_IO_Forecast;\n",
    "  \n",
    "  delete from ADLSTE_COA_Stg.stg_dat_level1_IO_Forecast;\n",
    "END;\n"
   ]
  },
  {
   "cell_type": "markdown",
   "metadata": {},
   "source": [
    "### Test new process:"
   ]
  },
  {
   "cell_type": "code",
   "execution_count": null,
   "metadata": {},
   "outputs": [],
   "source": [
    "call adlste_coa.sp_dat_level1_IO_Forecast('test');"
   ]
  },
  {
   "cell_type": "code",
   "execution_count": null,
   "metadata": {},
   "outputs": [],
   "source": [
    "Select top 10 site_id, count(*) \n",
    "from ADLSTE_COA.coat_dat_level1_IO_Forecast\n",
    "Group by Site_ID;"
   ]
  },
  {
   "cell_type": "markdown",
   "metadata": {},
   "source": [
    "### Drop backup if good"
   ]
  },
  {
   "cell_type": "code",
   "execution_count": null,
   "metadata": {},
   "outputs": [],
   "source": [
    "/* make changes to table #3:  DROP ARCHIVE   \n",
    "   if above test = good\n",
    "*/\n",
    "drop table ADLSTE_COA.coat_dat_level1_IO_Forecast_orig;"
   ]
  },
  {
   "cell_type": "markdown",
   "metadata": {},
   "source": [
    "<br/><br/><br/>\n",
    "## Storage Trend"
   ]
  },
  {
   "cell_type": "code",
   "execution_count": null,
   "metadata": {},
   "outputs": [],
   "source": [
    "drop table ADLSTE_coa_stg.stg_dat_level1_Storage_Forecast"
   ]
  },
  {
   "cell_type": "code",
   "execution_count": null,
   "metadata": {},
   "outputs": [],
   "source": [
    "CREATE MULTISET GLOBAL TEMPORARY TABLE ADLSTE_coa_stg.stg_dat_level1_Storage_Forecast \n",
    "(\n",
    "      Site_ID VARCHAR(30) CHARACTER SET LATIN NOT CASESPECIFIC NOT NULL,\n",
    "      \"Report Date\" DATE FORMAT 'YYYY-MM-DD' NOT NULL,\n",
    "      \"Log Date\" DATE FORMAT 'YYYY-MM-DD' NOT NULL,\n",
    "      \"Total Max Perm\" BIGINT,\n",
    "      \"Total Current Perm\" BIGINT,\n",
    "      \"Total Peak Perm\" BIGINT,\n",
    "      \"Total Available Perm\" BIGINT,\n",
    "      \"Total Current Pct\" DECIMAL(18,4),\n",
    "      \"Total Available Pct\" DECIMAL(18,4),\n",
    "      \"Moving Avg\" DECIMAL(18,4),\n",
    "      Trend DECIMAL(18,4),\n",
    "      ReserveX DECIMAL(18,4),\n",
    "      \"Reserve Horizon\" DECIMAL(18,4),\n",
    "      SlopeX DECIMAL(18,4)\n",
    ")\n",
    "UNIQUE PRIMARY INDEX ( Site_ID ,\"Report Date\" ,\"Log Date\" )\n",
    "ON COMMIT PRESERVE ROWS;"
   ]
  },
  {
   "cell_type": "code",
   "execution_count": null,
   "metadata": {},
   "outputs": [],
   "source": [
    "/* make changes to table #1:  ARCHIVE EXISTING DATA\n",
    "*/\n",
    "rename table ADLSTE_coa.coat_dat_level1_Storage_Forecast \n",
    "          as ADLSTE_coa.coat_dat_level1_Storage_Forecast_orig"
   ]
  },
  {
   "cell_type": "code",
   "execution_count": null,
   "metadata": {},
   "outputs": [],
   "source": [
    "CREATE SET TABLE ADLSTE_coa.coat_dat_level1_Storage_Forecast ,FALLBACK ,\n",
    "     NO BEFORE JOURNAL,\n",
    "     NO AFTER JOURNAL,\n",
    "     CHECKSUM = DEFAULT,\n",
    "     DEFAULT MERGEBLOCKRATIO\n",
    "     (\n",
    "      Site_ID VARCHAR(30) CHARACTER SET LATIN NOT CASESPECIFIC NOT NULL,\n",
    "      \"Report Date\" DATE FORMAT 'YYYY-MM-DD' NOT NULL,\n",
    "      \"Log Date\" DATE FORMAT 'YYYY-MM-DD' NOT NULL,\n",
    "      \"Total Max Perm\" BIGINT,\n",
    "      \"Total Current Perm\" BIGINT,\n",
    "      \"Total Peak Perm\" BIGINT,\n",
    "      \"Total Available Perm\" BIGINT,\n",
    "      \"Total Current Pct\" DECIMAL(18,4),\n",
    "      \"Total Available Pct\" DECIMAL(18,4),\n",
    "      \"Moving Avg\" DECIMAL(18,4),\n",
    "      Trend DECIMAL(18,4),\n",
    "      ReserveX DECIMAL(18,4),\n",
    "      \"Reserve Horizon\" DECIMAL(18,4),\n",
    "      SlopeX DECIMAL(18,4))\n",
    "UNIQUE PRIMARY INDEX ( Site_ID ,\"Report Date\" ,\"Log Date\" );"
   ]
  },
  {
   "cell_type": "code",
   "execution_count": null,
   "metadata": {},
   "outputs": [],
   "source": [
    "/* make changes to table #2:  COPY DATA TO NEW STRUCTURE\n",
    "*/\n",
    "insert into ADLSTE_COA.coat_dat_level1_Storage_Forecast\n",
    "Select * from ADLSTE_COA.coat_dat_level1_Storage_Forecast_orig;"
   ]
  },
  {
   "cell_type": "code",
   "execution_count": null,
   "metadata": {},
   "outputs": [],
   "source": [
    "replace view  ADLSTE_COA.coa_dat_level1_Storage_Forecast as locking row for access\n",
    "Select * from ADLSTE_COA.coat_dat_level1_Storage_Forecast"
   ]
  },
  {
   "cell_type": "code",
   "execution_count": null,
   "metadata": {},
   "outputs": [],
   "source": [
    "REPLACE PROCEDURE adlste_coa.sp_dat_level1_Storage_Forecast ( fileset_version VARCHAR(128) )\n",
    "SQL SECURITY CREATOR\n",
    "BEGIN\n",
    "  --call sp_audit_Account_Name ('adlste_coa.stg_dat_dbcinfo', 'sp_dat_dbcinfo', '{}');\n",
    "  --call sp_audit_Site_ID ('adlste_coa.stg_dat_dbcinfo', 'sp_dat_dbcinfo', '{}');\n",
    "\n",
    "  delete from ADLSTE_COA.coa_dat_level1_Storage_Forecast\n",
    "  where   (Site_ID, \"Log Date\") in\n",
    "   (Select Site_ID, \"Log Date\" From ADLSTE_COA_Stg.stg_dat_level1_Storage_Forecast);\n",
    "\n",
    "  Insert into ADLSTE_COA.coa_dat_level1_Storage_Forecast\n",
    "  Select * From ADLSTE_COA_Stg.stg_dat_level1_Storage_Forecast;\n",
    "  \n",
    "  Delete from ADLSTE_COA_Stg.stg_dat_level1_Storage_Forecast;\n",
    "  \n",
    "END;\n"
   ]
  },
  {
   "cell_type": "markdown",
   "metadata": {},
   "source": [
    "### Test new process:"
   ]
  },
  {
   "cell_type": "code",
   "execution_count": null,
   "metadata": {},
   "outputs": [],
   "source": [
    "call adlste_coa.sp_dat_level1_Storage_Forecast('test');"
   ]
  },
  {
   "cell_type": "code",
   "execution_count": null,
   "metadata": {},
   "outputs": [],
   "source": [
    "Select top 10 site_id, count(*) \n",
    "from ADLSTE_COA.coa_dat_level1_Storage_Forecast\n",
    "Group by Site_ID;"
   ]
  },
  {
   "cell_type": "markdown",
   "metadata": {},
   "source": [
    "### Drop backup if good"
   ]
  },
  {
   "cell_type": "code",
   "execution_count": null,
   "metadata": {},
   "outputs": [],
   "source": [
    "/* make changes to table #3:  DROP ARCHIVE   \n",
    "   if above test = good\n",
    "*/\n",
    "drop table ADLSTE_coa.coat_dat_level1_Storage_Forecast_orig;"
   ]
  },
  {
   "cell_type": "code",
   "execution_count": null,
   "metadata": {},
   "outputs": [],
   "source": [
    "select * from adlste_coa_stg.stg_dat_level1_Storage_Forecast_083120201731"
   ]
  },
  {
   "cell_type": "code",
   "execution_count": null,
   "metadata": {},
   "outputs": [],
   "source": []
  }
 ],
 "metadata": {
  "kernelspec": {
   "display_name": "Teradata SQL",
   "language": "Teradata SQL",
   "name": "teradatasql"
  },
  "language_info": {
   "codemirror_mode": "Teradata SQL",
   "file_extension": ".tdrs",
   "mimetype": "application/vnd.teradata.resultset",
   "name": "Teradata SQL",
   "nbconvert_exporter": "",
   "pygments_lexer": "",
   "version": "16.20"
  }
 },
 "nbformat": 4,
 "nbformat_minor": 2
}
