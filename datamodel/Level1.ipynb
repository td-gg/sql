{
 "cells": [
  {
   "cell_type": "markdown",
   "metadata": {},
   "source": [
    "# Create Level1 Objects (old CA) in ADLSTE_COA "
   ]
  },
  {
   "cell_type": "markdown",
   "metadata": {},
   "source": [
    "<br/><br/><br/>\n",
    "## CPU Trend"
   ]
  },
  {
   "cell_type": "code",
   "execution_count": 54,
   "metadata": {},
   "outputs": [
    {
     "name": "stdin",
     "output_type": "stream",
     "text": [
      "Password ············\n"
     ]
    },
    {
     "name": "stdout",
     "output_type": "stream",
     "text": [
      "Success: 'Transcend' connection established\n"
     ]
    }
   ],
   "source": [
    "%connect name=Transcend"
   ]
  },
  {
   "cell_type": "code",
   "execution_count": 27,
   "metadata": {},
   "outputs": [
    {
     "data": {
      "text/plain": [
       "Success: 28 rows affected"
      ]
     },
     "execution_count": 27,
     "metadata": {
      "application/vnd.teradata.resultset": ""
     },
     "output_type": "execute_result"
    }
   ],
   "source": [
    "drop table ADLSTE_COA_Stg.stg_dat_level1_CPU_Forecast"
   ]
  },
  {
   "cell_type": "code",
   "execution_count": 28,
   "metadata": {},
   "outputs": [
    {
     "data": {
      "text/plain": [
       "Success: 0 rows affected"
      ]
     },
     "execution_count": 28,
     "metadata": {
      "application/vnd.teradata.resultset": ""
     },
     "output_type": "execute_result"
    }
   ],
   "source": [
    "CREATE MULTISET GLOBAL TEMPORARY TABLE ADLSTE_COA_Stg.stg_dat_level1_CPU_Forecast\n",
    "/* previously: ADLSTE_WestComm.consumption_cpu_forecast_stg */\n",
    "(\n",
    "    SiteID VARCHAR(1024) CHARACTER SET UNICODE NOT CASESPECIFIC,\n",
    "    \"Report Date\" VARCHAR(1024) CHARACTER SET UNICODE NOT CASESPECIFIC,\n",
    "    \"Log Date\" VARCHAR(1024) CHARACTER SET UNICODE NOT CASESPECIFIC,\n",
    "    \"Peak Start\" VARCHAR(1024) CHARACTER SET UNICODE NOT CASESPECIFIC,\n",
    "    \"Peak End\" VARCHAR(1024) CHARACTER SET UNICODE NOT CASESPECIFIC,\n",
    "    \"Avg CPU Pct\" FLOAT,\n",
    "    \"Moving Avg\" FLOAT,\n",
    "    Trend FLOAT,\n",
    "    ReserveX BIGINT,\n",
    "    \"Reserve Horizon\" FLOAT,\n",
    "    SlopeX FLOAT\n",
    ") PRIMARY INDEX ( SiteID ,\"Report Date\" ,\"Log Date\" )\n",
    "ON COMMIT PRESERVE ROWS;"
   ]
  },
  {
   "cell_type": "code",
   "execution_count": 20,
   "metadata": {},
   "outputs": [
    {
     "data": {
      "text/plain": [
       "Success: 0 rows affected"
      ]
     },
     "execution_count": 20,
     "metadata": {
      "application/vnd.teradata.resultset": ""
     },
     "output_type": "execute_result"
    }
   ],
   "source": [
    "CREATE SET TABLE ADLSTE_COA.coat_dat_level1_CPU_Forecast  \n",
    "/* previously: ADLSTE_WestComm.Consumption_CPU_Forecast_V2 */\n",
    "(\n",
    "    SiteID VARCHAR(30) CHARACTER SET LATIN NOT CASESPECIFIC NOT NULL,\n",
    "    \"Report Date\" DATE FORMAT 'YYYY-MM-DD' NOT NULL,\n",
    "    \"Log Date\" DATE FORMAT 'YYYY-MM-DD' NOT NULL,\n",
    "    \"Peak Start\" VARCHAR(30) CHARACTER SET LATIN NOT CASESPECIFIC,\n",
    "    \"Peak End\" VARCHAR(30) CHARACTER SET LATIN NOT CASESPECIFIC,\n",
    "    \"Avg CPU Pct\" DECIMAL(18,4),\n",
    "    \"Moving Avg\" DECIMAL(18,4),\n",
    "    Trend DECIMAL(18,4),\n",
    "    ReserveX DECIMAL(18,4),\n",
    "    \"Reserve Horizon\" DECIMAL(18,4),\n",
    "    SlopeX DECIMAL(18,4)\n",
    ")\n",
    "UNIQUE PRIMARY INDEX ( SiteID ,\"Report Date\" ,\"Log Date\" );"
   ]
  },
  {
   "cell_type": "code",
   "execution_count": 55,
   "metadata": {},
   "outputs": [
    {
     "data": {
      "text/plain": [
       "Success: 12 rows affected"
      ]
     },
     "execution_count": 55,
     "metadata": {
      "application/vnd.teradata.resultset": ""
     },
     "output_type": "execute_result"
    }
   ],
   "source": [
    "replace view  ADLSTE_COA.coa_dat_level1_CPU_Forecast as locking row for access\n",
    "Select * from ADLSTE_COA.coat_dat_level1_CPU_Forecast"
   ]
  },
  {
   "cell_type": "code",
   "execution_count": 22,
   "metadata": {},
   "outputs": [
    {
     "data": {
      "text/plain": [
       "Success: 54078 rows affected"
      ]
     },
     "execution_count": 22,
     "metadata": {
      "application/vnd.teradata.resultset": ""
     },
     "output_type": "execute_result"
    }
   ],
   "source": [
    "--- insert into ADLSTE_COA.coat_dat_level1_CPU_Forecast Select * from ADLSTE_WestComm.Consumption_CPU_Forecast_V2;"
   ]
  },
  {
   "cell_type": "code",
   "execution_count": 57,
   "metadata": {},
   "outputs": [
    {
     "data": {
      "application/vnd.teradata.resultset": "[{\"Avg CPU Pct\":\"\",\"Log Date\":\"2021-04-16\",\"Moving Avg\":\"\",\"Peak End\":\"?\",\"Peak Start\":\"?\",\"Report Date\":\"2019-06-26\",\"Reserve Horizon\":\"\",\"ReserveX\":\"80.0000\",\"SiteID\":\"BOEINGDWF8\",\"SlopeX\":\"-.0127\",\"Trend\":\"16.2481\"},{\"Avg CPU Pct\":\"\",\"Log Date\":\"2020-09-24\",\"Moving Avg\":\"\",\"Peak End\":\"?\",\"Peak Start\":\"?\",\"Report Date\":\"2019-06-26\",\"Reserve Horizon\":\"\",\"ReserveX\":\"80.0000\",\"SiteID\":\"BOEINGDWF8\",\"SlopeX\":\"-.0127\",\"Trend\":\"18.1071\"},{\"Avg CPU Pct\":\"\",\"Log Date\":\"2020-12-09\",\"Moving Avg\":\"\",\"Peak End\":\"\",\"Peak Start\":\"\",\"Report Date\":\"2020-03-23\",\"Reserve Horizon\":\"\",\"ReserveX\":\"80.0000\",\"SiteID\":\"BOEINGDWPA\",\"SlopeX\":\"-.0111\",\"Trend\":\"55.6531\"},{\"Avg CPU Pct\":\"\",\"Log Date\":\"2021-08-20\",\"Moving Avg\":\"\",\"Peak End\":\"\",\"Peak Start\":\"\",\"Report Date\":\"2020-03-23\",\"Reserve Horizon\":\"\",\"ReserveX\":\"80.0000\",\"SiteID\":\"BOEINGDWPA\",\"SlopeX\":\"-.0111\",\"Trend\":\"53.6343\"},{\"Avg CPU Pct\":\"\",\"Log Date\":\"2020-06-19\",\"Moving Avg\":\"\",\"Peak End\":\"\",\"Peak Start\":\"\",\"Report Date\":\"2020-03-23\",\"Reserve Horizon\":\"\",\"ReserveX\":\"80.0000\",\"SiteID\":\"BOEINGDWP8\",\"SlopeX\":\"-.0879\",\"Trend\":\"58.1921\"},{\"Avg CPU Pct\":\"67.0321\",\"Log Date\":\"2020-01-27\",\"Moving Avg\":\"61.0485\",\"Peak End\":\"2020-01-27 19:00:00\",\"Peak Start\":\"2020-01-27 16:00:00\",\"Report Date\":\"2020-03-23\",\"Reserve Horizon\":\"\",\"ReserveX\":\"80.0000\",\"SiteID\":\"BOEINGDWPA\",\"SlopeX\":\"-.0111\",\"Trend\":\"58.1710\"},{\"Avg CPU Pct\":\"\",\"Log Date\":\"2021-01-07\",\"Moving Avg\":\"\",\"Peak End\":\"\",\"Peak Start\":\"\",\"Report Date\":\"2019-06-20\",\"Reserve Horizon\":\"\",\"ReserveX\":\"80.0000\",\"SiteID\":\"BOEINGDWF7\",\"SlopeX\":\"-.0037\",\"Trend\":\"48.3210\"},{\"Avg CPU Pct\":\"\",\"Log Date\":\"2019-11-29\",\"Moving Avg\":\"\",\"Peak End\":\"\",\"Peak Start\":\"\",\"Report Date\":\"2019-06-24\",\"Reserve Horizon\":\"\",\"ReserveX\":\"80.0000\",\"SiteID\":\"BOEINGDWF9\",\"SlopeX\":\".0787\",\"Trend\":\"48.8390\"},{\"Avg CPU Pct\":\"\",\"Log Date\":\"2020-07-30\",\"Moving Avg\":\"\",\"Peak End\":\"\",\"Peak Start\":\"\",\"Report Date\":\"2019-06-20\",\"Reserve Horizon\":\"\",\"ReserveX\":\"80.0000\",\"SiteID\":\"BOEINGDWF7\",\"SlopeX\":\"-.0037\",\"Trend\":\"48.7473\"},{\"Avg CPU Pct\":\"28.8948\",\"Log Date\":\"2018-10-04\",\"Moving Avg\":\"47.3690\",\"Peak End\":\"10/4/2018 14:00\",\"Peak Start\":\"10/4/2018 11:00\",\"Report Date\":\"2019-06-20\",\"Reserve Horizon\":\"\",\"ReserveX\":\"80.0000\",\"SiteID\":\"BOEINGDWF7\",\"SlopeX\":\"-.0037\",\"Trend\":\"50.5081\"}]\n",
      "text/html": [
       "<div class = \"td-resultset-table-div\" style = \"max-height: 257px; overflow-y: auto\"><style> table {border: 1px solid rgb(207, 207, 207) !important; border-collapse: collapse !important; margin-top: 1px !important;} th {border: 1px solid rgb(198,198,198) !important; border-collapse: collapse !important; padding: 2px 5px !important; font-size: 13px !important; min-width:150px !important; max-width: 150px !important; white-space: nowrap !important; overflow:hidden !important; text-overflow:ellipsis !important;} tr:nth-child(even) {background: rgba(243, 243, 243, 0.75) !important;} td {border: 1px solid rgb(207, 207, 207) !important; border-collapse: collapse !important; padding: 2px 5px !important; font-size: 13px !important; min-width:150px !important; max-width: 150px !important; white-space: nowrap !important; overflow:hidden !important; text-overflow:ellipsis !important;}</style><table><thead><tr style= \"background: #efefef;\"><th>SiteID</th><th>Report Date</th><th>Log Date</th><th>Peak Start</th><th>Peak End</th><th>Avg CPU Pct</th><th>Moving Avg</th><th>Trend</th><th>ReserveX</th><th>Reserve Horizon</th><th>SlopeX</th></tr></thead><tr><td>BOEINGDWF8</td><td>2019-06-26</td><td>2021-04-16</td><td>?</td><td>?</td><td></td><td></td><td>16.2481</td><td>80.0000</td><td></td><td>-.0127</td></tr><tr><td>BOEINGDWF8</td><td>2019-06-26</td><td>2020-09-24</td><td>?</td><td>?</td><td></td><td></td><td>18.1071</td><td>80.0000</td><td></td><td>-.0127</td></tr><tr><td>BOEINGDWPA</td><td>2020-03-23</td><td>2020-12-09</td><td></td><td></td><td></td><td></td><td>55.6531</td><td>80.0000</td><td></td><td>-.0111</td></tr><tr><td>BOEINGDWPA</td><td>2020-03-23</td><td>2021-08-20</td><td></td><td></td><td></td><td></td><td>53.6343</td><td>80.0000</td><td></td><td>-.0111</td></tr><tr><td>BOEINGDWP8</td><td>2020-03-23</td><td>2020-06-19</td><td></td><td></td><td></td><td></td><td>58.1921</td><td>80.0000</td><td></td><td>-.0879</td></tr><tr><td>BOEINGDWPA</td><td>2020-03-23</td><td>2020-01-27</td><td>2020-01-27 16:00:00</td><td>2020-01-27 19:00:00</td><td>67.0321</td><td>61.0485</td><td>58.1710</td><td>80.0000</td><td></td><td>-.0111</td></tr><tr><td>BOEINGDWF7</td><td>2019-06-20</td><td>2021-01-07</td><td></td><td></td><td></td><td></td><td>48.3210</td><td>80.0000</td><td></td><td>-.0037</td></tr><tr><td>BOEINGDWF9</td><td>2019-06-24</td><td>2019-11-29</td><td></td><td></td><td></td><td></td><td>48.8390</td><td>80.0000</td><td></td><td>.0787</td></tr><tr><td>BOEINGDWF7</td><td>2019-06-20</td><td>2020-07-30</td><td></td><td></td><td></td><td></td><td>48.7473</td><td>80.0000</td><td></td><td>-.0037</td></tr><tr><td>BOEINGDWF7</td><td>2019-06-20</td><td>2018-10-04</td><td>10/4/2018 11:00</td><td>10/4/2018 14:00</td><td>28.8948</td><td>47.3690</td><td>50.5081</td><td>80.0000</td><td></td><td>-.0037</td></tr></table></div>"
      ]
     },
     "execution_count": 57,
     "metadata": {
      "application/vnd.teradata.resultset": "{\"resultSetID\":\"/home/jovyan/JupyterLabRoot/Teradata/Resultsets/2020.06.04_23.29.22.636_UTC\",\"historyID\":1029,\"chunkID\":\"00001\",\"sessionid\":\"\",\"portnum\":\"\",\"dockermode\":\"docker\",\"totalRowCount\":10,\"rowLimit\":0,\"columnMetadata\":[{\"columnName\":\"SiteID\",\"columnTypeName\":\"VARCHAR\",\"length\":30,\"scale\":30},{\"columnNumber\":1,\"columnName\":\"Report Date\",\"columnTypeName\":\"DATE\"},{\"columnNumber\":2,\"columnName\":\"Log Date\",\"columnTypeName\":\"DATE\"},{\"columnNumber\":3,\"columnName\":\"Peak Start\",\"columnTypeName\":\"VARCHAR\",\"length\":30,\"scale\":30},{\"columnNumber\":4,\"columnName\":\"Peak End\",\"columnTypeName\":\"VARCHAR\",\"length\":30,\"scale\":30},{\"columnNumber\":5,\"columnName\":\"Avg CPU Pct\",\"columnTypeName\":\"DECIMAL\",\"length\":4,\"precision\":18,\"scale\":4},{\"columnNumber\":6,\"columnName\":\"Moving Avg\",\"columnTypeName\":\"DECIMAL\",\"length\":4,\"precision\":18,\"scale\":4},{\"columnNumber\":7,\"columnName\":\"Trend\",\"columnTypeName\":\"DECIMAL\",\"length\":4,\"precision\":18,\"scale\":4},{\"columnNumber\":8,\"columnName\":\"ReserveX\",\"columnTypeName\":\"DECIMAL\",\"length\":4,\"precision\":18,\"scale\":4},{\"columnNumber\":9,\"columnName\":\"Reserve Horizon\",\"columnTypeName\":\"DECIMAL\",\"length\":4,\"precision\":18,\"scale\":4},{\"columnNumber\":10,\"columnName\":\"SlopeX\",\"columnTypeName\":\"DECIMAL\",\"length\":4,\"precision\":18,\"scale\":4}]}"
     },
     "output_type": "execute_result"
    }
   ],
   "source": [
    "Select top 10 * \n",
    "from adlste_coa.coa_dat_level1_CPU_Forecast\n",
    "where siteid like 'BOEING%'"
   ]
  },
  {
   "cell_type": "code",
   "execution_count": 58,
   "metadata": {},
   "outputs": [
    {
     "data": {
      "text/plain": [
       "Success: 0 rows affected"
      ]
     },
     "execution_count": 58,
     "metadata": {
      "application/vnd.teradata.resultset": ""
     },
     "output_type": "execute_result"
    }
   ],
   "source": [
    "REPLACE PROCEDURE adlste_coa.sp_dat_level1_CPU_Forecast ( fileset_version VARCHAR(128) )\n",
    "/* previously: adlste_westcomm.consumption_cpu_forecast_sp  */\n",
    "SQL SECURITY CREATOR\n",
    "BEGIN\n",
    "  --call sp_audit_Account_Name ('adlste_coa.stg_dat_dbcinfo', 'sp_dat_dbcinfo', '{}');\n",
    "  --call sp_audit_Site_ID ('adlste_coa.stg_dat_dbcinfo', 'sp_dat_dbcinfo', '{}');\n",
    "\n",
    "  delete from ADLSTE_COA.coa_dat_level1_CPU_Forecast\n",
    "  where   (SiteID, \"Log Date\") in\n",
    "   (Select SiteID, \"Log Date\" From ADLSTE_COA_Stg.stg_dat_level1_CPU_Forecast);\n",
    "\n",
    "  Insert into ADLSTE_COA.coa_dat_level1_CPU_Forecast\n",
    "  Select * From ADLSTE_COA_Stg.stg_dat_level1_CPU_Forecast;\n",
    "END;\n"
   ]
  },
  {
   "cell_type": "code",
   "execution_count": 59,
   "metadata": {},
   "outputs": [
    {
     "data": {
      "text/plain": [
       "Success: 0 rows affected"
      ]
     },
     "execution_count": 59,
     "metadata": {
      "application/vnd.teradata.resultset": ""
     },
     "output_type": "execute_result"
    }
   ],
   "source": [
    "call adlste_coa.sp_dat_level1_CPU_Forecast('v1')"
   ]
  },
  {
   "cell_type": "markdown",
   "metadata": {},
   "source": [
    "<br/><br/><br/>\n",
    "## IO Trend"
   ]
  },
  {
   "cell_type": "code",
   "execution_count": null,
   "metadata": {},
   "outputs": [],
   "source": [
    "drop table ADLSTE_coa_stg.stg_dat_level1_IO_Forecast"
   ]
  },
  {
   "cell_type": "code",
   "execution_count": 33,
   "metadata": {},
   "outputs": [
    {
     "data": {
      "text/plain": [
       "Success: 0 rows affected"
      ]
     },
     "execution_count": 33,
     "metadata": {
      "application/vnd.teradata.resultset": ""
     },
     "output_type": "execute_result"
    }
   ],
   "source": [
    "CREATE MULTISET GLOBAL TEMPORARY TABLE ADLSTE_coa_stg.stg_dat_level1_IO_Forecast \n",
    "(\n",
    "    SiteID VARCHAR(1024) CHARACTER SET UNICODE NOT CASESPECIFIC,\n",
    "    \"Report Date\" VARCHAR(1024) CHARACTER SET UNICODE NOT CASESPECIFIC,\n",
    "    \"Log Date\" VARCHAR(1024) CHARACTER SET UNICODE NOT CASESPECIFIC,\n",
    "    \"Peak Start\" VARCHAR(1024) CHARACTER SET UNICODE NOT CASESPECIFIC,\n",
    "    \"Peak End\" VARCHAR(1024) CHARACTER SET UNICODE NOT CASESPECIFIC,\n",
    "    \"Avg I/O Pct\" VARCHAR(1024) CHARACTER SET UNICODE NOT CASESPECIFIC,\n",
    "    \"Moving Avg\" VARCHAR(1024) CHARACTER SET UNICODE NOT CASESPECIFIC,\n",
    "    Trend VARCHAR(1024) CHARACTER SET UNICODE NOT CASESPECIFIC,\n",
    "    ReserveX BIGINT,\n",
    "    \"Reserve Horizon\" VARCHAR(1024) CHARACTER SET UNICODE NOT CASESPECIFIC,\n",
    "    SlopeX VARCHAR(1024) CHARACTER SET UNICODE NOT CASESPECIFIC)\n",
    "    PRIMARY INDEX ( SiteID ,\"Report Date\" ,\"Log Date\" \n",
    ")\n",
    "ON COMMIT PRESERVE ROWS;"
   ]
  },
  {
   "cell_type": "code",
   "execution_count": 34,
   "metadata": {},
   "outputs": [
    {
     "data": {
      "text/plain": [
       "Success: 0 rows affected"
      ]
     },
     "execution_count": 34,
     "metadata": {
      "application/vnd.teradata.resultset": ""
     },
     "output_type": "execute_result"
    }
   ],
   "source": [
    "CREATE SET TABLE ADLSTE_coa.coat_dat_level1_IO_Forecast  \n",
    "(\n",
    "    SiteID VARCHAR(30) CHARACTER SET LATIN NOT CASESPECIFIC NOT NULL,\n",
    "    \"Report Date\" DATE FORMAT 'YYYY-MM-DD' NOT NULL,\n",
    "    \"Log Date\" DATE FORMAT 'YYYY-MM-DD' NOT NULL,\n",
    "    \"Peak Start\" VARCHAR(30) CHARACTER SET LATIN NOT CASESPECIFIC,\n",
    "    \"Peak End\" VARCHAR(30) CHARACTER SET LATIN NOT CASESPECIFIC,\n",
    "    \"Avg IO Pct\" DECIMAL(18,4),\n",
    "    \"Moving Avg\" DECIMAL(18,4),\n",
    "    Trend DECIMAL(18,4),\n",
    "    ReserveX DECIMAL(18,4),\n",
    "    \"Reserve Horizon\" DECIMAL(18,4),\n",
    "    SlopeX DECIMAL(18,4)\n",
    ")\n",
    "UNIQUE PRIMARY INDEX ( SiteID ,\"Report Date\" ,\"Log Date\" );"
   ]
  },
  {
   "cell_type": "code",
   "execution_count": 60,
   "metadata": {},
   "outputs": [
    {
     "data": {
      "text/plain": [
       "Success: 12 rows affected"
      ]
     },
     "execution_count": 60,
     "metadata": {
      "application/vnd.teradata.resultset": ""
     },
     "output_type": "execute_result"
    }
   ],
   "source": [
    "replace view  ADLSTE_COA.coa_dat_level1_IO_Forecast as locking row for access\n",
    "Select * from ADLSTE_COA.coat_dat_level1_IO_Forecast"
   ]
  },
  {
   "cell_type": "code",
   "execution_count": 38,
   "metadata": {},
   "outputs": [
    {
     "data": {
      "text/plain": [
       "Success: 42565 rows affected"
      ]
     },
     "execution_count": 38,
     "metadata": {
      "application/vnd.teradata.resultset": ""
     },
     "output_type": "execute_result"
    }
   ],
   "source": [
    "-- insert into ADLSTE_COA.coat_dat_level1_IO_Forecast Select * from ADLSTE_WestComm.Consumption_IO_Forecast_V2;"
   ]
  },
  {
   "cell_type": "code",
   "execution_count": 36,
   "metadata": {},
   "outputs": [
    {
     "data": {
      "text/plain": [
       "Success: 0 rows affected"
      ]
     },
     "execution_count": 36,
     "metadata": {
      "application/vnd.teradata.resultset": ""
     },
     "output_type": "execute_result"
    }
   ],
   "source": [
    "REPLACE PROCEDURE adlste_coa.sp_dat_level1_IO_Forecast ( fileset_version VARCHAR(128) )\n",
    "SQL SECURITY CREATOR\n",
    "BEGIN\n",
    "  --call sp_audit_Account_Name ('adlste_coa.stg_dat_dbcinfo', 'sp_dat_dbcinfo', '{}');\n",
    "  --call sp_audit_Site_ID ('adlste_coa.stg_dat_dbcinfo', 'sp_dat_dbcinfo', '{}');\n",
    "\n",
    "  delete from ADLSTE_COA.coa_dat_level1_IO_Forecast\n",
    "  where   (SiteID, \"Log Date\") in\n",
    "   (Select SiteID, \"Log Date\" From ADLSTE_COA_Stg.stg_dat_level1_IO_Forecast);\n",
    "\n",
    "  Insert into ADLSTE_COA.coa_dat_level1_IO_Forecast\n",
    "  Select * From ADLSTE_COA_Stg.stg_dat_level1_IO_Forecast;\n",
    "END;\n"
   ]
  },
  {
   "cell_type": "code",
   "execution_count": 37,
   "metadata": {},
   "outputs": [
    {
     "data": {
      "text/plain": [
       "Success: 0 rows affected"
      ]
     },
     "execution_count": 37,
     "metadata": {
      "application/vnd.teradata.resultset": ""
     },
     "output_type": "execute_result"
    }
   ],
   "source": [
    "call adlste_coa.sp_dat_level1_IO_Forecast('v2')"
   ]
  },
  {
   "cell_type": "code",
   "execution_count": 61,
   "metadata": {},
   "outputs": [
    {
     "data": {
      "application/vnd.teradata.resultset": "[{\"Avg IO Pct\":\"\",\"Log Date\":\"2020-10-13\",\"Moving Avg\":\"\",\"Peak End\":\"\",\"Peak Start\":\"\",\"Report Date\":\"2019-06-05\",\"Reserve Horizon\":\"\",\"ReserveX\":\"80.0000\",\"SiteID\":\"BOEINGDWP8\",\"SlopeX\":\".0005\",\"Trend\":\"37.4383\"},{\"Avg IO Pct\":\"\",\"Log Date\":\"2021-08-20\",\"Moving Avg\":\"\",\"Peak End\":\"\",\"Peak Start\":\"\",\"Report Date\":\"2020-03-23\",\"Reserve Horizon\":\"\",\"ReserveX\":\"80.0000\",\"SiteID\":\"BOEINGDWPA\",\"SlopeX\":\"-.0194\",\"Trend\":\"5.9746\"},{\"Avg IO Pct\":\"\",\"Log Date\":\"2021-04-09\",\"Moving Avg\":\"\",\"Peak End\":\"\",\"Peak Start\":\"\",\"Report Date\":\"2019-06-20\",\"Reserve Horizon\":\"\",\"ReserveX\":\"80.0000\",\"SiteID\":\"BOEINGDWPA\",\"SlopeX\":\".1125\",\"Trend\":\"64.2958\"},{\"Avg IO Pct\":\"\",\"Log Date\":\"2020-07-23\",\"Moving Avg\":\"\",\"Peak End\":\"\",\"Peak Start\":\"\",\"Report Date\":\"2019-06-05\",\"Reserve Horizon\":\"\",\"ReserveX\":\"80.0000\",\"SiteID\":\"BOEINGDWP8\",\"SlopeX\":\".0005\",\"Trend\":\"37.4088\"},{\"Avg IO Pct\":\"\",\"Log Date\":\"2019-10-03\",\"Moving Avg\":\"\",\"Peak End\":\"\",\"Peak Start\":\"\",\"Report Date\":\"2019-06-24\",\"Reserve Horizon\":\"\",\"ReserveX\":\"80.0000\",\"SiteID\":\"BOEINGDWF9\",\"SlopeX\":\"-.2210\",\"Trend\":\"6.3262\"},{\"Avg IO Pct\":\"\",\"Log Date\":\"2019-11-29\",\"Moving Avg\":\"\",\"Peak End\":\"\",\"Peak Start\":\"\",\"Report Date\":\"2019-06-24\",\"Reserve Horizon\":\"\",\"ReserveX\":\"80.0000\",\"SiteID\":\"BOEINGDWF9\",\"SlopeX\":\"-.2210\",\"Trend\":\"-2.7368\"},{\"Avg IO Pct\":\"\",\"Log Date\":\"2021-01-07\",\"Moving Avg\":\"\",\"Peak End\":\"\",\"Peak Start\":\"\",\"Report Date\":\"2019-06-20\",\"Reserve Horizon\":\"\",\"ReserveX\":\"80.0000\",\"SiteID\":\"BOEINGDWF7\",\"SlopeX\":\"-.3025\",\"Trend\":\"-69.5102\"},{\"Avg IO Pct\":\"\",\"Log Date\":\"2021-03-29\",\"Moving Avg\":\"\",\"Peak End\":\"?\",\"Peak Start\":\"?\",\"Report Date\":\"2019-06-26\",\"Reserve Horizon\":\"\",\"ReserveX\":\"80.0000\",\"SiteID\":\"BOEINGDWF8\",\"SlopeX\":\".0565\",\"Trend\":\"44.0396\"},{\"Avg IO Pct\":\"\",\"Log Date\":\"2019-08-01\",\"Moving Avg\":\"\",\"Peak End\":\"\",\"Peak Start\":\"\",\"Report Date\":\"2019-06-05\",\"Reserve Horizon\":\"\",\"ReserveX\":\"80.0000\",\"SiteID\":\"BOEINGDWP8\",\"SlopeX\":\".0005\",\"Trend\":\"37.2790\"},{\"Avg IO Pct\":\"\",\"Log Date\":\"2020-12-10\",\"Moving Avg\":\"\",\"Peak End\":\"\",\"Peak Start\":\"\",\"Report Date\":\"2019-06-20\",\"Reserve Horizon\":\"\",\"ReserveX\":\"80.0000\",\"SiteID\":\"BOEINGDWPA\",\"SlopeX\":\".1125\",\"Trend\":\"54.6179\"}]\n",
      "text/html": [
       "<div class = \"td-resultset-table-div\" style = \"max-height: 257px; overflow-y: auto\"><style> table {border: 1px solid rgb(207, 207, 207) !important; border-collapse: collapse !important; margin-top: 1px !important;} th {border: 1px solid rgb(198,198,198) !important; border-collapse: collapse !important; padding: 2px 5px !important; font-size: 13px !important; min-width:150px !important; max-width: 150px !important; white-space: nowrap !important; overflow:hidden !important; text-overflow:ellipsis !important;} tr:nth-child(even) {background: rgba(243, 243, 243, 0.75) !important;} td {border: 1px solid rgb(207, 207, 207) !important; border-collapse: collapse !important; padding: 2px 5px !important; font-size: 13px !important; min-width:150px !important; max-width: 150px !important; white-space: nowrap !important; overflow:hidden !important; text-overflow:ellipsis !important;}</style><table><thead><tr style= \"background: #efefef;\"><th>SiteID</th><th>Report Date</th><th>Log Date</th><th>Peak Start</th><th>Peak End</th><th>Avg IO Pct</th><th>Moving Avg</th><th>Trend</th><th>ReserveX</th><th>Reserve Horizon</th><th>SlopeX</th></tr></thead><tr><td>BOEINGDWP8</td><td>2019-06-05</td><td>2020-10-13</td><td></td><td></td><td></td><td></td><td>37.4383</td><td>80.0000</td><td></td><td>.0005</td></tr><tr><td>BOEINGDWPA</td><td>2020-03-23</td><td>2021-08-20</td><td></td><td></td><td></td><td></td><td>5.9746</td><td>80.0000</td><td></td><td>-.0194</td></tr><tr><td>BOEINGDWPA</td><td>2019-06-20</td><td>2021-04-09</td><td></td><td></td><td></td><td></td><td>64.2958</td><td>80.0000</td><td></td><td>.1125</td></tr><tr><td>BOEINGDWP8</td><td>2019-06-05</td><td>2020-07-23</td><td></td><td></td><td></td><td></td><td>37.4088</td><td>80.0000</td><td></td><td>.0005</td></tr><tr><td>BOEINGDWF9</td><td>2019-06-24</td><td>2019-10-03</td><td></td><td></td><td></td><td></td><td>6.3262</td><td>80.0000</td><td></td><td>-.2210</td></tr><tr><td>BOEINGDWF9</td><td>2019-06-24</td><td>2019-11-29</td><td></td><td></td><td></td><td></td><td>-2.7368</td><td>80.0000</td><td></td><td>-.2210</td></tr><tr><td>BOEINGDWF7</td><td>2019-06-20</td><td>2021-01-07</td><td></td><td></td><td></td><td></td><td>-69.5102</td><td>80.0000</td><td></td><td>-.3025</td></tr><tr><td>BOEINGDWF8</td><td>2019-06-26</td><td>2021-03-29</td><td>?</td><td>?</td><td></td><td></td><td>44.0396</td><td>80.0000</td><td></td><td>.0565</td></tr><tr><td>BOEINGDWP8</td><td>2019-06-05</td><td>2019-08-01</td><td></td><td></td><td></td><td></td><td>37.2790</td><td>80.0000</td><td></td><td>.0005</td></tr><tr><td>BOEINGDWPA</td><td>2019-06-20</td><td>2020-12-10</td><td></td><td></td><td></td><td></td><td>54.6179</td><td>80.0000</td><td></td><td>.1125</td></tr></table></div>"
      ]
     },
     "execution_count": 61,
     "metadata": {
      "application/vnd.teradata.resultset": "{\"resultSetID\":\"/home/jovyan/JupyterLabRoot/Teradata/Resultsets/2020.06.04_23.36.56.571_UTC\",\"historyID\":1033,\"chunkID\":\"00001\",\"sessionid\":\"\",\"portnum\":\"\",\"dockermode\":\"docker\",\"totalRowCount\":10,\"rowLimit\":0,\"columnMetadata\":[{\"columnName\":\"SiteID\",\"columnTypeName\":\"VARCHAR\",\"length\":30,\"scale\":30},{\"columnNumber\":1,\"columnName\":\"Report Date\",\"columnTypeName\":\"DATE\"},{\"columnNumber\":2,\"columnName\":\"Log Date\",\"columnTypeName\":\"DATE\"},{\"columnNumber\":3,\"columnName\":\"Peak Start\",\"columnTypeName\":\"VARCHAR\",\"length\":30,\"scale\":30},{\"columnNumber\":4,\"columnName\":\"Peak End\",\"columnTypeName\":\"VARCHAR\",\"length\":30,\"scale\":30},{\"columnNumber\":5,\"columnName\":\"Avg IO Pct\",\"columnTypeName\":\"DECIMAL\",\"length\":4,\"precision\":18,\"scale\":4},{\"columnNumber\":6,\"columnName\":\"Moving Avg\",\"columnTypeName\":\"DECIMAL\",\"length\":4,\"precision\":18,\"scale\":4},{\"columnNumber\":7,\"columnName\":\"Trend\",\"columnTypeName\":\"DECIMAL\",\"length\":4,\"precision\":18,\"scale\":4},{\"columnNumber\":8,\"columnName\":\"ReserveX\",\"columnTypeName\":\"DECIMAL\",\"length\":4,\"precision\":18,\"scale\":4},{\"columnNumber\":9,\"columnName\":\"Reserve Horizon\",\"columnTypeName\":\"DECIMAL\",\"length\":4,\"precision\":18,\"scale\":4},{\"columnNumber\":10,\"columnName\":\"SlopeX\",\"columnTypeName\":\"DECIMAL\",\"length\":4,\"precision\":18,\"scale\":4}]}"
     },
     "output_type": "execute_result"
    }
   ],
   "source": [
    "Select top 10 * \n",
    "from adlste_coa.coa_dat_level1_IO_Forecast\n",
    "where siteid like 'BOEING%'"
   ]
  },
  {
   "cell_type": "markdown",
   "metadata": {},
   "source": [
    "<br/><br/><br/>\n",
    "## Storage Trend"
   ]
  },
  {
   "cell_type": "code",
   "execution_count": 45,
   "metadata": {},
   "outputs": [
    {
     "data": {
      "text/plain": [
       "Success: 28 rows affected"
      ]
     },
     "execution_count": 45,
     "metadata": {
      "application/vnd.teradata.resultset": ""
     },
     "output_type": "execute_result"
    }
   ],
   "source": [
    "drop table ADLSTE_coa_stg.stg_dat_level1_Storage_Forecast"
   ]
  },
  {
   "cell_type": "code",
   "execution_count": 47,
   "metadata": {},
   "outputs": [
    {
     "data": {
      "text/plain": [
       "Success: 0 rows affected"
      ]
     },
     "execution_count": 47,
     "metadata": {
      "application/vnd.teradata.resultset": ""
     },
     "output_type": "execute_result"
    }
   ],
   "source": [
    "CREATE MULTISET GLOBAL TEMPORARY TABLE ADLSTE_coa_stg.stg_dat_level1_Storage_Forecast \n",
    "(\n",
    "      SiteID VARCHAR(30) CHARACTER SET LATIN NOT CASESPECIFIC NOT NULL,\n",
    "      \"Report Date\" DATE FORMAT 'YYYY-MM-DD' NOT NULL,\n",
    "      \"Log Date\" DATE FORMAT 'YYYY-MM-DD' NOT NULL,\n",
    "      \"Total Max Perm\" BIGINT,\n",
    "      \"Total Current Perm\" BIGINT,\n",
    "      \"Total Peak Perm\" BIGINT,\n",
    "      \"Total Available Perm\" BIGINT,\n",
    "      \"Total Current Pct\" DECIMAL(18,4),\n",
    "      \"Total Available Pct\" DECIMAL(18,4),\n",
    "      \"Moving Avg\" DECIMAL(18,4),\n",
    "      Trend DECIMAL(18,4),\n",
    "      ReserveX DECIMAL(18,4),\n",
    "      \"Reserve Horizon\" DECIMAL(18,4),\n",
    "      SlopeX DECIMAL(18,4)\n",
    ")\n",
    "ON COMMIT PRESERVE ROWS;"
   ]
  },
  {
   "cell_type": "code",
   "execution_count": 40,
   "metadata": {},
   "outputs": [
    {
     "data": {
      "text/plain": [
       "Success: 0 rows affected"
      ]
     },
     "execution_count": 40,
     "metadata": {
      "application/vnd.teradata.resultset": ""
     },
     "output_type": "execute_result"
    }
   ],
   "source": [
    "CREATE SET TABLE ADLSTE_coa.coat_dat_level1_Storage_Forecast ,FALLBACK ,\n",
    "     NO BEFORE JOURNAL,\n",
    "     NO AFTER JOURNAL,\n",
    "     CHECKSUM = DEFAULT,\n",
    "     DEFAULT MERGEBLOCKRATIO\n",
    "     (\n",
    "      SiteID VARCHAR(30) CHARACTER SET LATIN NOT CASESPECIFIC NOT NULL,\n",
    "      \"Report Date\" DATE FORMAT 'YYYY-MM-DD' NOT NULL,\n",
    "      \"Log Date\" DATE FORMAT 'YYYY-MM-DD' NOT NULL,\n",
    "      \"Total Max Perm\" BIGINT,\n",
    "      \"Total Current Perm\" BIGINT,\n",
    "      \"Total Peak Perm\" BIGINT,\n",
    "      \"Total Available Perm\" BIGINT,\n",
    "      \"Total Current Pct\" DECIMAL(18,4),\n",
    "      \"Total Available Pct\" DECIMAL(18,4),\n",
    "      \"Moving Avg\" DECIMAL(18,4),\n",
    "      Trend DECIMAL(18,4),\n",
    "      ReserveX DECIMAL(18,4),\n",
    "      \"Reserve Horizon\" DECIMAL(18,4),\n",
    "      SlopeX DECIMAL(18,4))\n",
    "UNIQUE PRIMARY INDEX ( SiteID ,\"Report Date\" ,\"Log Date\" );"
   ]
  },
  {
   "cell_type": "code",
   "execution_count": 48,
   "metadata": {},
   "outputs": [
    {
     "data": {
      "text/plain": [
       "Success: 0 rows affected"
      ]
     },
     "execution_count": 48,
     "metadata": {
      "application/vnd.teradata.resultset": ""
     },
     "output_type": "execute_result"
    }
   ],
   "source": [
    "insert into ADLSTE_COA.coat_dat_level1_Storage_Forecast\n",
    "Select * from ADLSTE_WestComm.Consumption_Storage_Forecast_V2;"
   ]
  },
  {
   "cell_type": "code",
   "execution_count": 49,
   "metadata": {},
   "outputs": [
    {
     "data": {
      "text/plain": [
       "Success: 15 rows affected"
      ]
     },
     "execution_count": 49,
     "metadata": {
      "application/vnd.teradata.resultset": ""
     },
     "output_type": "execute_result"
    }
   ],
   "source": [
    "replace view  ADLSTE_COA.coa_dat_level1_Storage_Forecast as locking row for access\n",
    "Select * from ADLSTE_COA.coat_dat_level1_Storage_Forecast"
   ]
  },
  {
   "cell_type": "code",
   "execution_count": 50,
   "metadata": {},
   "outputs": [
    {
     "data": {
      "text/plain": [
       "Success: 0 rows affected"
      ]
     },
     "execution_count": 50,
     "metadata": {
      "application/vnd.teradata.resultset": ""
     },
     "output_type": "execute_result"
    }
   ],
   "source": [
    "REPLACE PROCEDURE adlste_coa.sp_dat_level1_Storage_Forecast ( fileset_version VARCHAR(128) )\n",
    "SQL SECURITY CREATOR\n",
    "BEGIN\n",
    "  --call sp_audit_Account_Name ('adlste_coa.stg_dat_dbcinfo', 'sp_dat_dbcinfo', '{}');\n",
    "  --call sp_audit_Site_ID ('adlste_coa.stg_dat_dbcinfo', 'sp_dat_dbcinfo', '{}');\n",
    "\n",
    "  delete from ADLSTE_COA.coa_dat_level1_Storage_Forecast\n",
    "  where   (SiteID, \"Log Date\") in\n",
    "   (Select SiteID, \"Log Date\" From ADLSTE_COA_Stg.stg_dat_level1_Storage_Forecast);\n",
    "\n",
    "  Insert into ADLSTE_COA.coa_dat_level1_Storage_Forecast\n",
    "  Select * From ADLSTE_COA_Stg.stg_dat_level1_Storage_Forecast;\n",
    "END;\n"
   ]
  },
  {
   "cell_type": "code",
   "execution_count": 51,
   "metadata": {},
   "outputs": [
    {
     "data": {
      "text/plain": [
       "Success: 0 rows affected"
      ]
     },
     "execution_count": 51,
     "metadata": {
      "application/vnd.teradata.resultset": ""
     },
     "output_type": "execute_result"
    }
   ],
   "source": [
    "call adlste_coa.sp_dat_level1_Storage_Forecast('v2')"
   ]
  },
  {
   "cell_type": "code",
   "execution_count": 63,
   "metadata": {},
   "outputs": [
    {
     "data": {
      "application/vnd.teradata.resultset": "[{\"Log Date\":\"2020-09-24\",\"Moving Avg\":\"\",\"Report Date\":\"2019-06-26\",\"Reserve Horizon\":\"\",\"ReserveX\":\"70.0000\",\"SiteID\":\"BOEINGDWF8\",\"SlopeX\":\".0071\",\"Total Available Pct\":\"\",\"Total Available Perm\":\"\",\"Total Current Pct\":\"\",\"Total Current Perm\":\"\",\"Total Max Perm\":\"\",\"Total Peak Perm\":\"\",\"Trend\":\"22.3716\"},{\"Log Date\":\"2018-08-15\",\"Moving Avg\":\"18.1749\",\"Report Date\":\"2019-06-20\",\"Reserve Horizon\":\"\",\"ReserveX\":\"70.0000\",\"SiteID\":\"BOEINGDWF7\",\"SlopeX\":\".0070\",\"Total Available Pct\":\"81.5506\",\"Total Available Perm\":\"216996676557952\",\"Total Current Pct\":\"18.4494\",\"Total Current Perm\":\"49091563429888\",\"Total Max Perm\":\"266088239987840\",\"Total Peak Perm\":\"34307147829248\",\"Trend\":\"17.4804\"},{\"Log Date\":\"2020-07-30\",\"Moving Avg\":\"\",\"Report Date\":\"2019-06-20\",\"Reserve Horizon\":\"\",\"ReserveX\":\"70.0000\",\"SiteID\":\"BOEINGDWF7\",\"SlopeX\":\".0070\",\"Total Available Pct\":\"\",\"Total Available Perm\":\"\",\"Total Current Pct\":\"\",\"Total Current Perm\":\"\",\"Total Max Perm\":\"\",\"Total Peak Perm\":\"\",\"Trend\":\"21.0579\"},{\"Log Date\":\"2021-01-07\",\"Moving Avg\":\"\",\"Report Date\":\"2019-06-20\",\"Reserve Horizon\":\"\",\"ReserveX\":\"70.0000\",\"SiteID\":\"BOEINGDWF7\",\"SlopeX\":\".0070\",\"Total Available Pct\":\"\",\"Total Available Perm\":\"\",\"Total Current Pct\":\"\",\"Total Current Perm\":\"\",\"Total Max Perm\":\"\",\"Total Peak Perm\":\"\",\"Trend\":\"21.8645\"},{\"Log Date\":\"2018-08-14\",\"Moving Avg\":\"18.1631\",\"Report Date\":\"2019-06-20\",\"Reserve Horizon\":\"\",\"ReserveX\":\"70.0000\",\"SiteID\":\"BOEINGDWF7\",\"SlopeX\":\".0070\",\"Total Available Pct\":\"80.6225\",\"Total Available Perm\":\"214526939966592\",\"Total Current Pct\":\"19.3775\",\"Total Current Perm\":\"51561300021248\",\"Total Max Perm\":\"266088239987840\",\"Total Peak Perm\":\"55256349089792\",\"Trend\":\"17.4734\"},{\"Log Date\":\"2020-06-19\",\"Moving Avg\":\"\",\"Report Date\":\"2020-03-23\",\"Reserve Horizon\":\"\",\"ReserveX\":\"70.0000\",\"SiteID\":\"BOEINGDWP8\",\"SlopeX\":\".0222\",\"Total Available Pct\":\"\",\"Total Available Perm\":\"\",\"Total Current Pct\":\"\",\"Total Current Perm\":\"\",\"Total Max Perm\":\"\",\"Total Peak Perm\":\"\",\"Trend\":\"31.1080\"},{\"Log Date\":\"2021-08-20\",\"Moving Avg\":\"\",\"Report Date\":\"2020-03-23\",\"Reserve Horizon\":\"\",\"ReserveX\":\"70.0000\",\"SiteID\":\"BOEINGDWPA\",\"SlopeX\":\".0142\",\"Total Available Pct\":\"\",\"Total Available Perm\":\"\",\"Total Current Pct\":\"\",\"Total Current Perm\":\"\",\"Total Max Perm\":\"\",\"Total Peak Perm\":\"\",\"Trend\":\"17.8380\"},{\"Log Date\":\"2019-09-23\",\"Moving Avg\":\"\",\"Report Date\":\"2019-06-24\",\"Reserve Horizon\":\"\",\"ReserveX\":\"70.0000\",\"SiteID\":\"BOEINGDWF9\",\"SlopeX\":\".0325\",\"Total Available Pct\":\"\",\"Total Available Perm\":\"\",\"Total Current Pct\":\"\",\"Total Current Perm\":\"\",\"Total Max Perm\":\"\",\"Total Peak Perm\":\"\",\"Trend\":\"17.6559\"},{\"Log Date\":\"2020-12-09\",\"Moving Avg\":\"\",\"Report Date\":\"2020-03-23\",\"Reserve Horizon\":\"\",\"ReserveX\":\"70.0000\",\"SiteID\":\"BOEINGDWPA\",\"SlopeX\":\".0142\",\"Total Available Pct\":\"\",\"Total Available Perm\":\"\",\"Total Current Pct\":\"\",\"Total Current Perm\":\"\",\"Total Max Perm\":\"\",\"Total Peak Perm\":\"\",\"Trend\":\"15.2524\"},{\"Log Date\":\"2021-09-23\",\"Moving Avg\":\"\",\"Report Date\":\"2020-03-23\",\"Reserve Horizon\":\"\",\"ReserveX\":\"70.0000\",\"SiteID\":\"BOEINGDWP8\",\"SlopeX\":\".0222\",\"Total Available Pct\":\"\",\"Total Available Perm\":\"\",\"Total Current Pct\":\"\",\"Total Current Perm\":\"\",\"Total Max Perm\":\"\",\"Total Peak Perm\":\"\",\"Trend\":\"38.4084\"}]\n",
      "text/html": [
       "<div class = \"td-resultset-table-div\" style = \"max-height: 257px; overflow-y: auto\"><style> table {border: 1px solid rgb(207, 207, 207) !important; border-collapse: collapse !important; margin-top: 1px !important;} th {border: 1px solid rgb(198,198,198) !important; border-collapse: collapse !important; padding: 2px 5px !important; font-size: 13px !important; min-width:150px !important; max-width: 150px !important; white-space: nowrap !important; overflow:hidden !important; text-overflow:ellipsis !important;} tr:nth-child(even) {background: rgba(243, 243, 243, 0.75) !important;} td {border: 1px solid rgb(207, 207, 207) !important; border-collapse: collapse !important; padding: 2px 5px !important; font-size: 13px !important; min-width:150px !important; max-width: 150px !important; white-space: nowrap !important; overflow:hidden !important; text-overflow:ellipsis !important;}</style><table><thead><tr style= \"background: #efefef;\"><th>SiteID</th><th>Report Date</th><th>Log Date</th><th>Total Max Perm</th><th>Total Current Perm</th><th>Total Peak Perm</th><th>Total Available Perm</th><th>Total Current Pct</th><th>Total Available Pct</th><th>Moving Avg</th><th>Trend</th><th>ReserveX</th><th>Reserve Horizon</th><th>SlopeX</th></tr></thead><tr><td>BOEINGDWF8</td><td>2019-06-26</td><td>2020-09-24</td><td></td><td></td><td></td><td></td><td></td><td></td><td></td><td>22.3716</td><td>70.0000</td><td></td><td>.0071</td></tr><tr><td>BOEINGDWF7</td><td>2019-06-20</td><td>2018-08-15</td><td>266088239987840</td><td>49091563429888</td><td>34307147829248</td><td>216996676557952</td><td>18.4494</td><td>81.5506</td><td>18.1749</td><td>17.4804</td><td>70.0000</td><td></td><td>.0070</td></tr><tr><td>BOEINGDWF7</td><td>2019-06-20</td><td>2020-07-30</td><td></td><td></td><td></td><td></td><td></td><td></td><td></td><td>21.0579</td><td>70.0000</td><td></td><td>.0070</td></tr><tr><td>BOEINGDWF7</td><td>2019-06-20</td><td>2021-01-07</td><td></td><td></td><td></td><td></td><td></td><td></td><td></td><td>21.8645</td><td>70.0000</td><td></td><td>.0070</td></tr><tr><td>BOEINGDWF7</td><td>2019-06-20</td><td>2018-08-14</td><td>266088239987840</td><td>51561300021248</td><td>55256349089792</td><td>214526939966592</td><td>19.3775</td><td>80.6225</td><td>18.1631</td><td>17.4734</td><td>70.0000</td><td></td><td>.0070</td></tr><tr><td>BOEINGDWP8</td><td>2020-03-23</td><td>2020-06-19</td><td></td><td></td><td></td><td></td><td></td><td></td><td></td><td>31.1080</td><td>70.0000</td><td></td><td>.0222</td></tr><tr><td>BOEINGDWPA</td><td>2020-03-23</td><td>2021-08-20</td><td></td><td></td><td></td><td></td><td></td><td></td><td></td><td>17.8380</td><td>70.0000</td><td></td><td>.0142</td></tr><tr><td>BOEINGDWF9</td><td>2019-06-24</td><td>2019-09-23</td><td></td><td></td><td></td><td></td><td></td><td></td><td></td><td>17.6559</td><td>70.0000</td><td></td><td>.0325</td></tr><tr><td>BOEINGDWPA</td><td>2020-03-23</td><td>2020-12-09</td><td></td><td></td><td></td><td></td><td></td><td></td><td></td><td>15.2524</td><td>70.0000</td><td></td><td>.0142</td></tr><tr><td>BOEINGDWP8</td><td>2020-03-23</td><td>2021-09-23</td><td></td><td></td><td></td><td></td><td></td><td></td><td></td><td>38.4084</td><td>70.0000</td><td></td><td>.0222</td></tr></table></div>"
      ]
     },
     "execution_count": 63,
     "metadata": {
      "application/vnd.teradata.resultset": "{\"resultSetID\":\"/home/jovyan/JupyterLabRoot/Teradata/Resultsets/2020.06.04_23.38.53.358_UTC\",\"historyID\":1035,\"chunkID\":\"00001\",\"sessionid\":\"\",\"portnum\":\"\",\"dockermode\":\"docker\",\"totalRowCount\":10,\"rowLimit\":0,\"columnMetadata\":[{\"columnName\":\"SiteID\",\"columnTypeName\":\"VARCHAR\",\"length\":30,\"scale\":30},{\"columnNumber\":1,\"columnName\":\"Report Date\",\"columnTypeName\":\"DATE\"},{\"columnNumber\":2,\"columnName\":\"Log Date\",\"columnTypeName\":\"DATE\"},{\"columnNumber\":3,\"columnName\":\"Total Max Perm\",\"columnTypeName\":\"BIGINT\"},{\"columnNumber\":4,\"columnName\":\"Total Current Perm\",\"columnTypeName\":\"BIGINT\"},{\"columnNumber\":5,\"columnName\":\"Total Peak Perm\",\"columnTypeName\":\"BIGINT\"},{\"columnNumber\":6,\"columnName\":\"Total Available Perm\",\"columnTypeName\":\"BIGINT\"},{\"columnNumber\":7,\"columnName\":\"Total Current Pct\",\"columnTypeName\":\"DECIMAL\",\"length\":4,\"precision\":18,\"scale\":4},{\"columnNumber\":8,\"columnName\":\"Total Available Pct\",\"columnTypeName\":\"DECIMAL\",\"length\":4,\"precision\":18,\"scale\":4},{\"columnNumber\":9,\"columnName\":\"Moving Avg\",\"columnTypeName\":\"DECIMAL\",\"length\":4,\"precision\":18,\"scale\":4},{\"columnNumber\":10,\"columnName\":\"Trend\",\"columnTypeName\":\"DECIMAL\",\"length\":4,\"precision\":18,\"scale\":4},{\"columnNumber\":11,\"columnName\":\"ReserveX\",\"columnTypeName\":\"DECIMAL\",\"length\":4,\"precision\":18,\"scale\":4},{\"columnNumber\":12,\"columnName\":\"Reserve Horizon\",\"columnTypeName\":\"DECIMAL\",\"length\":4,\"precision\":18,\"scale\":4},{\"columnNumber\":13,\"columnName\":\"SlopeX\",\"columnTypeName\":\"DECIMAL\",\"length\":4,\"precision\":18,\"scale\":4}]}"
     },
     "output_type": "execute_result"
    }
   ],
   "source": [
    "Select top 10 * \n",
    "from adlste_coa.coa_dat_level1_Storage_Forecast\n",
    "where siteid like 'BOEING%'"
   ]
  },
  {
   "cell_type": "code",
   "execution_count": null,
   "metadata": {},
   "outputs": [],
   "source": []
  }
 ],
 "metadata": {
  "kernelspec": {
   "display_name": "Teradata SQL",
   "language": "Teradata SQL",
   "name": "teradatasql"
  },
  "language_info": {
   "codemirror_mode": "Teradata SQL",
   "file_extension": ".tdrs",
   "mimetype": "application/vnd.teradata.resultset",
   "name": "Teradata SQL",
   "nbconvert_exporter": "",
   "pygments_lexer": "",
   "version": "16.20"
  }
 },
 "nbformat": 4,
 "nbformat_minor": 2
}
