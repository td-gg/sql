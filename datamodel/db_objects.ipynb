{
 "cells": [
  {
   "cell_type": "markdown",
   "metadata": {},
   "source": [
    "# Deploy COA Objects in Transcend:   DB_Objects"
   ]
  },
  {
   "cell_type": "code",
   "execution_count": null,
   "metadata": {},
   "outputs": [],
   "source": [
    "%addconnect name=Transcend, user=sh186014, host=tdprdcop3.td.teradata.com, props=\"LOGMECH=LDAP\""
   ]
  },
  {
   "cell_type": "code",
   "execution_count": null,
   "metadata": {},
   "outputs": [],
   "source": [
    "%connect Transcend"
   ]
  },
  {
   "cell_type": "code",
   "execution_count": null,
   "metadata": {},
   "outputs": [],
   "source": [
    "database adlste_coa;"
   ]
  },
  {
   "cell_type": "markdown",
   "metadata": {},
   "source": [
    "# DB_Objects including CDS"
   ]
  },
  {
   "cell_type": "code",
   "execution_count": null,
   "metadata": {},
   "outputs": [],
   "source": [
    "--Drop Table adlste_coa_stg.stg_dat_DB_Objects"
   ]
  },
  {
   "cell_type": "code",
   "execution_count": null,
   "metadata": {},
   "outputs": [],
   "source": [
    "-- GLOBAL TEMP TABLE:\n",
    "CREATE MULTISET GLOBAL TEMPORARY TABLE adlste_coa_stg.stg_dat_DB_Objects \n",
    "(  Site_ID          VARCHAR(128)  CHARACTER SET LATIN\n",
    " , WeekID           INTEGER\n",
    " , DatabaseName     VARCHAR(128)  CHARACTER SET UNICODE \n",
    " , CurrPermGB_Rank  INTEGER       \n",
    " , CommentString    VARCHAR(1024) CHARACTER SET UNICODE \n",
    " , MaxPermGB        DECIMAL(18,2)  \n",
    " , CurrentPermGB    DECIMAL(18,2)  \n",
    " , FilledPct        DECIMAL(9,4)\n",
    " , Table_Count      INTEGER    \n",
    " , View_Count       INTEGER   \n",
    " , Index_Count      INTEGER    \n",
    " , Macro_Count      INTEGER    \n",
    " , SPTrig_Count     INTEGER     \n",
    " , UDObject_Count   INTEGER       \n",
    " , Other_Count      INTEGER    \n",
    ") NO PRIMARY INDEX \n",
    "  ON COMMIT PRESERVE ROWS;"
   ]
  },
  {
   "cell_type": "code",
   "execution_count": null,
   "metadata": {},
   "outputs": [],
   "source": [
    "--DROP TABLE adlste_coa.coat_dat_DB_Objects"
   ]
  },
  {
   "cell_type": "code",
   "execution_count": null,
   "metadata": {},
   "outputs": [],
   "source": [
    "-- PERM Table\n",
    "CREATE MULTISET TABLE adlste_coa.coat_dat_DB_Objects \n",
    "(  Site_ID          VARCHAR(128)  CHARACTER SET LATIN\n",
    " , WeekID           INTEGER\n",
    " , DatabaseName     VARCHAR(128)  CHARACTER SET UNICODE \n",
    " , CurrPermGB_Rank  INTEGER       COMPRESS(0,1,2,3,4,5,6,7,8,9,10,11,12,13,14,15,16,17,18,19,20,21,22,23,24,25,26,27,28,29,30,31,32,33,34,35,36,37,38,39,40,41,42,43,44,45,46,47,48,49,50,51,52,53,54,55,56,57,58,59,60,61,62,63,64,65,66,67,68,69,70,71,72,73,74,75,76,77,78,79,80,81,82,83,84,85,86,87,88,89,90,91,92,93,94,95,96,97,98,99,100,101,102,103,104,105,106,107,108,109,110,111,112,113,114,115,116,117,118,119,120,121,122,123,124,125,126,127,128,129,130,131,132,133,134,135,136,137,138,139,140,141,142,143,144,145,146,147,148,149,150,151,152,153,154,155,156,157,158,159,160,161,162,163,164,165,166,167,168,169,170,171,172,173,174,175,176,177,178,179,180,181,182,183,184,185,186,187,188,189,190,191,192,193,194,195,196,197,198,199,200,201,202,203,204,205,206,207,208,209,210,211,212,213,214,215,216,217,218,219,220,221,222,223,224,225,226,227,228,229,230,231,232,233,234,235,236,237,238,239,240,241,242,243,244,245,246,247,248,249,250)\n",
    " , CommentString    VARCHAR(1024) CHARACTER SET UNICODE \n",
    " , MaxPermGB        DECIMAL(18,2) COMPRESS(0) \n",
    " , CurrentPermGB    DECIMAL(18,2) COMPRESS(0) \n",
    " , FilledPct        DECIMAL(9,4)  COMPRESS(0.0000)\n",
    " , Table_Count      INTEGER       COMPRESS(0) \n",
    " , View_Count       INTEGER       COMPRESS(0)\n",
    " , Index_Count      INTEGER       COMPRESS(0) \n",
    " , Macro_Count      INTEGER       COMPRESS(0) \n",
    " , SPTrig_Count     INTEGER       COMPRESS(0)  \n",
    " , UDObject_Count   INTEGER       COMPRESS(0)    \n",
    " , Other_Count      INTEGER       COMPRESS(0) \n",
    " , Run_ID           INTEGER\n",
    ") PRIMARY INDEX (Site_ID, WeekID, DatabaseName);"
   ]
  },
  {
   "cell_type": "code",
   "execution_count": null,
   "metadata": {},
   "outputs": [],
   "source": [
    "replace view adlste_coa.coa_dat_DB_Objects\n",
    "as  locking row for access\n",
    "select * from adlste_coa.coat_dat_DB_Objects"
   ]
  },
  {
   "cell_type": "code",
   "execution_count": null,
   "metadata": {},
   "outputs": [],
   "source": [
    "REPLACE PROCEDURE adlste_coa.sp_dat_DB_Objects ( spversion VARCHAR(128) ) \n",
    "SQL SECURITY CREATOR\n",
    "BEGIN \n",
    "\n",
    "    /* start setup audit process */\n",
    "    \n",
    "    DECLARE runid  INTEGER;\n",
    "    DECLARE siteid VARCHAR(128);\n",
    "    DECLARE tablename VARCHAR(128);\n",
    "    DECLARE callingsp VARCHAR(128); \n",
    "    DECLARE startdate DATE;\n",
    "    DECLARE enddate DATE;\n",
    "    \n",
    "    SET runid = 0;\n",
    "    SET tablename = 'adlste_coa.coat_dat_DB_Objects';\n",
    "    SET callingsp = 'adlste_coa.sp_dat_DB_Objects';\n",
    "    SET siteid = 'Empty Table';\n",
    "    SET startdate = DATE;\n",
    "    SET enddate = DATE;\n",
    "\n",
    "    SELECT \n",
    "     coalesce(Site_ID,'empty table')       \n",
    "    ,min(substr(trim(WeekID),1,4)||'-'||substr(trim(WeekID),5,2)||'-'||\n",
    "     cast(cast((cast(substr(trim(WeekID),7,1) as int)*7)-6 as int format'99') as char(2)) )(DATE) as StartDate\n",
    "    ,max(substr(trim(WeekID),1,4)||'-'||substr(trim(WeekID),5,2)||'-'||\n",
    "     cast(cast((cast(substr(trim(WeekID),7,1) as int)*7)-6 as int format'99') as char(2)) )(DATE) as EndDate\n",
    "    INTO siteid, startdate, enddate\n",
    "    FROM adlste_coa_stg.stg_dat_DB_Objects\n",
    "    Group by 1\n",
    "    ;\n",
    "    \n",
    "    /* end setup audit process */\n",
    "    \n",
    "    \n",
    "    \n",
    "    CALL adlste_coa.sp_audit_log(runid, :siteid, :tablename, :callingsp, :spversion, :startdate, :enddate,\n",
    "                              'normal run', 'START',  '') ;\n",
    "\n",
    "    DELETE FROM adlste_coa.coat_dat_DB_Objects \n",
    "    WHERE (Site_ID, WeekID) IN\n",
    "    (Select Site_ID, WeekID From adlste_coa_stg.stg_dat_DB_Objects );\n",
    "    \n",
    "    Insert into adlste_coa.coat_dat_DB_Objects \n",
    "    Select \n",
    "      Site_ID          \n",
    "    , WeekID          \n",
    "    , DatabaseName           \n",
    "    , CurrPermGB_Rank  \n",
    "    , CommentString    \n",
    "    , MaxPermGB        \n",
    "    , CurrentPermGB    \n",
    "    , FilledPct        \n",
    "    , Table_Count      \n",
    "    , View_Count       \n",
    "    , Index_Count      \n",
    "    , Macro_Count      \n",
    "    , SPTrig_Count     \n",
    "    , UDObject_Count   \n",
    "    , Other_Count      \n",
    "    , :runid\n",
    "    from adlste_coa_stg.stg_dat_DB_Objects ; \n",
    "    \n",
    "    delete from adlste_coa_stg.stg_dat_DB_Objects;\n",
    "        \n",
    "    CALL adlste_coa.sp_audit_log(runid, :siteid, :tablename, :callingsp, :spversion, :startdate, :enddate,\n",
    "                              'normal run', 'END', '') ;\n",
    "\n",
    "END;"
   ]
  },
  {
   "cell_type": "code",
   "execution_count": null,
   "metadata": {},
   "outputs": [],
   "source": [
    "select top 10 * from adlste_coa.coat_dat_DB_Objects"
   ]
  },
  {
   "cell_type": "code",
   "execution_count": 15,
   "metadata": {},
   "outputs": [
    {
     "data": {
      "application/vnd.teradata.resultset": "[{\"CallingSP\":\"adlste_coa.sp_dat_DB_Objects\",\"EndDate\":\"2020-07-01\",\"ParentRun_ID\":\"786\",\"Run_ID\":\"787\",\"Run_Message\":\"\",\"Run_Status\":\"END\",\"Run_TS\":\"2020-07-06 16:29:40\",\"Run_Type\":\"normal run\",\"Run_User\":\"SH186014\",\"SQLVersion\":\"1.0\",\"Site_ID\":\"APPLE50BLANEY\",\"StartDate\":\"2020-05-22\",\"TableName\":\"adlste_coa.coat_dat_DB_Objects\"},{\"CallingSP\":\"adlste_coa.sp_dat_DB_Objects\",\"EndDate\":\"2020-07-01\",\"ParentRun_ID\":\"0\",\"Run_ID\":\"786\",\"Run_Message\":\"\",\"Run_Status\":\"START\",\"Run_TS\":\"2020-07-06 16:29:40\",\"Run_Type\":\"normal run\",\"Run_User\":\"SH186014\",\"SQLVersion\":\"1.0\",\"Site_ID\":\"APPLE50BLANEY\",\"StartDate\":\"2020-05-22\",\"TableName\":\"adlste_coa.coat_dat_DB_Objects\"},{\"CallingSP\":\"adlste_coa.sp_dat_DB_Objects\",\"EndDate\":\"2020-07-01\",\"ParentRun_ID\":\"784\",\"Run_ID\":\"785\",\"Run_Message\":\"\",\"Run_Status\":\"END\",\"Run_TS\":\"2020-07-06 16:29:35\",\"Run_Type\":\"normal run\",\"Run_User\":\"SH186014\",\"SQLVersion\":\"1.0\",\"Site_ID\":\"APPLE46REDWOOD\",\"StartDate\":\"2020-05-22\",\"TableName\":\"adlste_coa.coat_dat_DB_Objects\"},{\"CallingSP\":\"adlste_coa.sp_dat_DB_Objects\",\"EndDate\":\"2020-07-01\",\"ParentRun_ID\":\"0\",\"Run_ID\":\"784\",\"Run_Message\":\"\",\"Run_Status\":\"START\",\"Run_TS\":\"2020-07-06 16:29:34\",\"Run_Type\":\"normal run\",\"Run_User\":\"SH186014\",\"SQLVersion\":\"1.0\",\"Site_ID\":\"APPLE46REDWOOD\",\"StartDate\":\"2020-05-22\",\"TableName\":\"adlste_coa.coat_dat_DB_Objects\"},{\"CallingSP\":\"adlste_coa.sp_dat_DB_Objects\",\"EndDate\":\"2020-07-01\",\"ParentRun_ID\":\"782\",\"Run_ID\":\"783\",\"Run_Message\":\"\",\"Run_Status\":\"END\",\"Run_TS\":\"2020-07-06 16:29:28\",\"Run_Type\":\"normal run\",\"Run_User\":\"SH186014\",\"SQLVersion\":\"1.0\",\"Site_ID\":\"APPLE48EDDIES\",\"StartDate\":\"2020-06-15\",\"TableName\":\"adlste_coa.coat_dat_DB_Objects\"},{\"CallingSP\":\"adlste_coa.sp_dat_DB_Objects\",\"EndDate\":\"2020-07-01\",\"ParentRun_ID\":\"0\",\"Run_ID\":\"782\",\"Run_Message\":\"\",\"Run_Status\":\"START\",\"Run_TS\":\"2020-07-06 16:29:27\",\"Run_Type\":\"normal run\",\"Run_User\":\"SH186014\",\"SQLVersion\":\"1.0\",\"Site_ID\":\"APPLE48EDDIES\",\"StartDate\":\"2020-06-15\",\"TableName\":\"adlste_coa.coat_dat_DB_Objects\"},{\"CallingSP\":\"adlste_coa.sp_dat_DB_Objects\",\"EndDate\":\"2020-07-01\",\"ParentRun_ID\":\"780\",\"Run_ID\":\"781\",\"Run_Message\":\"\",\"Run_Status\":\"END\",\"Run_TS\":\"2020-07-06 16:29:22\",\"Run_Type\":\"normal run\",\"Run_User\":\"SH186014\",\"SQLVersion\":\"1.0\",\"Site_ID\":\"APPLE62SEDONA\",\"StartDate\":\"2020-05-22\",\"TableName\":\"adlste_coa.coat_dat_DB_Objects\"},{\"CallingSP\":\"adlste_coa.sp_dat_DB_Objects\",\"EndDate\":\"2020-07-01\",\"ParentRun_ID\":\"0\",\"Run_ID\":\"780\",\"Run_Message\":\"\",\"Run_Status\":\"START\",\"Run_TS\":\"2020-07-06 16:29:22\",\"Run_Type\":\"normal run\",\"Run_User\":\"SH186014\",\"SQLVersion\":\"1.0\",\"Site_ID\":\"APPLE62SEDONA\",\"StartDate\":\"2020-05-22\",\"TableName\":\"adlste_coa.coat_dat_DB_Objects\"},{\"CallingSP\":\"adlste_coa.sp_dat_DB_Objects\",\"EndDate\":\"2020-07-01\",\"ParentRun_ID\":\"778\",\"Run_ID\":\"779\",\"Run_Message\":\"\",\"Run_Status\":\"END\",\"Run_TS\":\"2020-07-06 16:29:16\",\"Run_Type\":\"normal run\",\"Run_User\":\"SH186014\",\"SQLVersion\":\"1.0\",\"Site_ID\":\"APPLE57CRESCENT\",\"StartDate\":\"2020-05-22\",\"TableName\":\"adlste_coa.coat_dat_DB_Objects\"},{\"CallingSP\":\"adlste_coa.sp_dat_DB_Objects\",\"EndDate\":\"2020-07-01\",\"ParentRun_ID\":\"0\",\"Run_ID\":\"778\",\"Run_Message\":\"\",\"Run_Status\":\"START\",\"Run_TS\":\"2020-07-06 16:29:16\",\"Run_Type\":\"normal run\",\"Run_User\":\"SH186014\",\"SQLVersion\":\"1.0\",\"Site_ID\":\"APPLE57CRESCENT\",\"StartDate\":\"2020-05-22\",\"TableName\":\"adlste_coa.coat_dat_DB_Objects\"},{\"CallingSP\":\"adlste_coa.sp_dat_DB_Objects\",\"EndDate\":\"2020-06-22\",\"ParentRun_ID\":\"776\",\"Run_ID\":\"777\",\"Run_Message\":\"\",\"Run_Status\":\"END\",\"Run_TS\":\"2020-07-06 16:18:08\",\"Run_Type\":\"normal run\",\"Run_User\":\"SH186014\",\"SQLVersion\":\"1.0\",\"Site_ID\":\"TDCLOUD14TD03\",\"StartDate\":\"2020-05-15\",\"TableName\":\"adlste_coa.coat_dat_DB_Objects\"},{\"CallingSP\":\"adlste_coa.sp_dat_DB_Objects\",\"EndDate\":\"2020-06-22\",\"ParentRun_ID\":\"0\",\"Run_ID\":\"776\",\"Run_Message\":\"\",\"Run_Status\":\"START\",\"Run_TS\":\"2020-07-06 16:18:08\",\"Run_Type\":\"normal run\",\"Run_User\":\"SH186014\",\"SQLVersion\":\"1.0\",\"Site_ID\":\"TDCLOUD14TD03\",\"StartDate\":\"2020-05-15\",\"TableName\":\"adlste_coa.coat_dat_DB_Objects\"},{\"CallingSP\":\"adlste_coa.sp_dat_DB_Objects\",\"EndDate\":\"2020-07-08\",\"ParentRun_ID\":\"774\",\"Run_ID\":\"775\",\"Run_Message\":\"\",\"Run_Status\":\"END\",\"Run_TS\":\"2020-07-06 16:16:38\",\"Run_Type\":\"normal run\",\"Run_User\":\"SH186014\",\"SQLVersion\":\"1.0\",\"Site_ID\":\"TRNAWS01\",\"StartDate\":\"2020-07-08\",\"TableName\":\"adlste_coa.coat_dat_DB_Objects\"},{\"CallingSP\":\"adlste_coa.sp_dat_DB_Objects\",\"EndDate\":\"2020-07-08\",\"ParentRun_ID\":\"0\",\"Run_ID\":\"774\",\"Run_Message\":\"\",\"Run_Status\":\"START\",\"Run_TS\":\"2020-07-06 16:16:38\",\"Run_Type\":\"normal run\",\"Run_User\":\"SH186014\",\"SQLVersion\":\"1.0\",\"Site_ID\":\"TRNAWS01\",\"StartDate\":\"2020-07-08\",\"TableName\":\"adlste_coa.coat_dat_DB_Objects\"},{\"CallingSP\":\"adlste_coa.sp_dat_DB_Objects\",\"EndDate\":\"2020-06-22\",\"ParentRun_ID\":\"772\",\"Run_ID\":\"773\",\"Run_Message\":\"\",\"Run_Status\":\"END\",\"Run_TS\":\"2020-07-06 15:57:59\",\"Run_Type\":\"normal run\",\"Run_User\":\"SH186014\",\"SQLVersion\":\"1.0\",\"Site_ID\":\"TDCLOUD14TD03\",\"StartDate\":\"2020-05-15\",\"TableName\":\"adlste_coa.coat_dat_DB_Objects\"},{\"CallingSP\":\"adlste_coa.sp_dat_DB_Objects\",\"EndDate\":\"2020-06-22\",\"ParentRun_ID\":\"0\",\"Run_ID\":\"772\",\"Run_Message\":\"\",\"Run_Status\":\"START\",\"Run_TS\":\"2020-07-06 15:57:59\",\"Run_Type\":\"normal run\",\"Run_User\":\"SH186014\",\"SQLVersion\":\"1.0\",\"Site_ID\":\"TDCLOUD14TD03\",\"StartDate\":\"2020-05-15\",\"TableName\":\"adlste_coa.coat_dat_DB_Objects\"},{\"CallingSP\":\"adlste_coa.sp_dat_DB_Objects\",\"EndDate\":\"2020-07-02\",\"ParentRun_ID\":\"758\",\"Run_ID\":\"759\",\"Run_Message\":\"\",\"Run_Status\":\"END\",\"Run_TS\":\"2020-07-02 02:36:39\",\"Run_Type\":\"normal run\",\"Run_User\":\"SH186014\",\"SQLVersion\":\"1.0\",\"Site_ID\":\"TDCLOUD14TD03\",\"StartDate\":\"2020-07-02\",\"TableName\":\"adlste_coa.coat_dat_DB_Objects\"},{\"CallingSP\":\"adlste_coa.sp_dat_DB_Objects\",\"EndDate\":\"2020-07-02\",\"ParentRun_ID\":\"0\",\"Run_ID\":\"758\",\"Run_Message\":\"\",\"Run_Status\":\"START\",\"Run_TS\":\"2020-07-02 02:36:39\",\"Run_Type\":\"normal run\",\"Run_User\":\"SH186014\",\"SQLVersion\":\"1.0\",\"Site_ID\":\"TDCLOUD14TD03\",\"StartDate\":\"2020-07-02\",\"TableName\":\"adlste_coa.coat_dat_DB_Objects\"},{\"CallingSP\":\"adlste_coa.sp_dat_DB_Objects\",\"EndDate\":\"2020-07-02\",\"ParentRun_ID\":\"752\",\"Run_ID\":\"753\",\"Run_Message\":\"\",\"Run_Status\":\"END\",\"Run_TS\":\"2020-07-02 02:36:10\",\"Run_Type\":\"normal run\",\"Run_User\":\"SH186014\",\"SQLVersion\":\"1.0\",\"Site_ID\":\"TRNAWS01\",\"StartDate\":\"2020-07-02\",\"TableName\":\"adlste_coa.coat_dat_DB_Objects\"},{\"CallingSP\":\"adlste_coa.sp_dat_DB_Objects\",\"EndDate\":\"2020-07-02\",\"ParentRun_ID\":\"0\",\"Run_ID\":\"752\",\"Run_Message\":\"\",\"Run_Status\":\"START\",\"Run_TS\":\"2020-07-02 02:36:10\",\"Run_Type\":\"normal run\",\"Run_User\":\"SH186014\",\"SQLVersion\":\"1.0\",\"Site_ID\":\"TRNAWS01\",\"StartDate\":\"2020-07-02\",\"TableName\":\"adlste_coa.coat_dat_DB_Objects\"},{\"CallingSP\":\"adlste_coa.sp_dat_DB_Objects\",\"EndDate\":\"2020-06-30\",\"ParentRun_ID\":\"738\",\"Run_ID\":\"739\",\"Run_Message\":\"\",\"Run_Status\":\"END\",\"Run_TS\":\"2020-06-30 09:56:02\",\"Run_Type\":\"normal run\",\"Run_User\":\"SH186014\",\"SQLVersion\":\"1.0\",\"Site_ID\":\"TDCLOUD14TD03\",\"StartDate\":\"2020-06-30\",\"TableName\":\"adlste_coa.coat_dat_DB_Objects\"},{\"CallingSP\":\"adlste_coa.sp_dat_DB_Objects\",\"EndDate\":\"2020-06-30\",\"ParentRun_ID\":\"0\",\"Run_ID\":\"738\",\"Run_Message\":\"\",\"Run_Status\":\"START\",\"Run_TS\":\"2020-06-30 09:56:01\",\"Run_Type\":\"normal run\",\"Run_User\":\"SH186014\",\"SQLVersion\":\"1.0\",\"Site_ID\":\"TDCLOUD14TD03\",\"StartDate\":\"2020-06-30\",\"TableName\":\"adlste_coa.coat_dat_DB_Objects\"},{\"CallingSP\":\"adlste_coa.sp_dat_DB_Objects\",\"EndDate\":\"2020-06-30\",\"ParentRun_ID\":\"732\",\"Run_ID\":\"733\",\"Run_Message\":\"\",\"Run_Status\":\"END\",\"Run_TS\":\"2020-06-30 09:55:37\",\"Run_Type\":\"normal run\",\"Run_User\":\"SH186014\",\"SQLVersion\":\"1.0\",\"Site_ID\":\"TRNAWS01\",\"StartDate\":\"2020-06-30\",\"TableName\":\"adlste_coa.coat_dat_DB_Objects\"},{\"CallingSP\":\"adlste_coa.sp_dat_DB_Objects\",\"EndDate\":\"2020-06-30\",\"ParentRun_ID\":\"0\",\"Run_ID\":\"732\",\"Run_Message\":\"\",\"Run_Status\":\"START\",\"Run_TS\":\"2020-06-30 09:55:37\",\"Run_Type\":\"normal run\",\"Run_User\":\"SH186014\",\"SQLVersion\":\"1.0\",\"Site_ID\":\"TRNAWS01\",\"StartDate\":\"2020-06-30\",\"TableName\":\"adlste_coa.coat_dat_DB_Objects\"},{\"CallingSP\":\"adlste_coa.sp_dat_DB_Objects\",\"EndDate\":\"2020-06-30\",\"ParentRun_ID\":\"726\",\"Run_ID\":\"727\",\"Run_Message\":\"\",\"Run_Status\":\"END\",\"Run_TS\":\"2020-06-30 02:26:05\",\"Run_Type\":\"normal run\",\"Run_User\":\"SH186014\",\"SQLVersion\":\"1.0\",\"Site_ID\":\"TDCLOUD14TD03\",\"StartDate\":\"2020-06-30\",\"TableName\":\"adlste_coa.coat_dat_DB_Objects\"},{\"CallingSP\":\"adlste_coa.sp_dat_DB_Objects\",\"EndDate\":\"2020-06-30\",\"ParentRun_ID\":\"0\",\"Run_ID\":\"726\",\"Run_Message\":\"\",\"Run_Status\":\"START\",\"Run_TS\":\"2020-06-30 02:26:05\",\"Run_Type\":\"normal run\",\"Run_User\":\"SH186014\",\"SQLVersion\":\"1.0\",\"Site_ID\":\"TDCLOUD14TD03\",\"StartDate\":\"2020-06-30\",\"TableName\":\"adlste_coa.coat_dat_DB_Objects\"},{\"CallingSP\":\"adlste_coa.sp_dat_DB_Objects\",\"EndDate\":\"2020-06-30\",\"ParentRun_ID\":\"720\",\"Run_ID\":\"721\",\"Run_Message\":\"\",\"Run_Status\":\"END\",\"Run_TS\":\"2020-06-30 02:25:39\",\"Run_Type\":\"normal run\",\"Run_User\":\"SH186014\",\"SQLVersion\":\"1.0\",\"Site_ID\":\"TRNAWS01\",\"StartDate\":\"2020-06-30\",\"TableName\":\"adlste_coa.coat_dat_DB_Objects\"},{\"CallingSP\":\"adlste_coa.sp_dat_DB_Objects\",\"EndDate\":\"2020-06-30\",\"ParentRun_ID\":\"0\",\"Run_ID\":\"720\",\"Run_Message\":\"\",\"Run_Status\":\"START\",\"Run_TS\":\"2020-06-30 02:25:38\",\"Run_Type\":\"normal run\",\"Run_User\":\"SH186014\",\"SQLVersion\":\"1.0\",\"Site_ID\":\"TRNAWS01\",\"StartDate\":\"2020-06-30\",\"TableName\":\"adlste_coa.coat_dat_DB_Objects\"},{\"CallingSP\":\"adlste_coa.sp_dat_DB_Objects\",\"EndDate\":\"2020-06-30\",\"ParentRun_ID\":\"710\",\"Run_ID\":\"711\",\"Run_Message\":\"\",\"Run_Status\":\"END\",\"Run_TS\":\"2020-06-30 01:36:49\",\"Run_Type\":\"normal run\",\"Run_User\":\"SH186014\",\"SQLVersion\":\"1.0\",\"Site_ID\":\"APPLE46REDWOOD\",\"StartDate\":\"2020-06-30\",\"TableName\":\"adlste_coa.coat_dat_DB_Objects\"},{\"CallingSP\":\"adlste_coa.sp_dat_DB_Objects\",\"EndDate\":\"2020-06-30\",\"ParentRun_ID\":\"0\",\"Run_ID\":\"710\",\"Run_Message\":\"\",\"Run_Status\":\"START\",\"Run_TS\":\"2020-06-30 01:36:48\",\"Run_Type\":\"normal run\",\"Run_User\":\"SH186014\",\"SQLVersion\":\"1.0\",\"Site_ID\":\"APPLE46REDWOOD\",\"StartDate\":\"2020-06-30\",\"TableName\":\"adlste_coa.coat_dat_DB_Objects\"},{\"CallingSP\":\"adlste_coa.sp_dat_DB_Objects\",\"EndDate\":\"2020-06-30\",\"ParentRun_ID\":\"704\",\"Run_ID\":\"705\",\"Run_Message\":\"\",\"Run_Status\":\"END\",\"Run_TS\":\"2020-06-30 01:36:07\",\"Run_Type\":\"normal run\",\"Run_User\":\"SH186014\",\"SQLVersion\":\"1.0\",\"Site_ID\":\"APPLE62SEDONA\",\"StartDate\":\"2020-06-30\",\"TableName\":\"adlste_coa.coat_dat_DB_Objects\"},{\"CallingSP\":\"adlste_coa.sp_dat_DB_Objects\",\"EndDate\":\"2020-06-30\",\"ParentRun_ID\":\"0\",\"Run_ID\":\"704\",\"Run_Message\":\"\",\"Run_Status\":\"START\",\"Run_TS\":\"2020-06-30 01:36:07\",\"Run_Type\":\"normal run\",\"Run_User\":\"SH186014\",\"SQLVersion\":\"1.0\",\"Site_ID\":\"APPLE62SEDONA\",\"StartDate\":\"2020-06-30\",\"TableName\":\"adlste_coa.coat_dat_DB_Objects\"},{\"CallingSP\":\"adlste_coa.sp_dat_DB_Objects\",\"EndDate\":\"2020-06-30\",\"ParentRun_ID\":\"698\",\"Run_ID\":\"699\",\"Run_Message\":\"\",\"Run_Status\":\"END\",\"Run_TS\":\"2020-06-30 01:35:40\",\"Run_Type\":\"normal run\",\"Run_User\":\"SH186014\",\"SQLVersion\":\"1.0\",\"Site_ID\":\"APPLE57CRESCENT\",\"StartDate\":\"2020-06-30\",\"TableName\":\"adlste_coa.coat_dat_DB_Objects\"},{\"CallingSP\":\"adlste_coa.sp_dat_DB_Objects\",\"EndDate\":\"2020-06-30\",\"ParentRun_ID\":\"0\",\"Run_ID\":\"698\",\"Run_Message\":\"\",\"Run_Status\":\"START\",\"Run_TS\":\"2020-06-30 01:35:40\",\"Run_Type\":\"normal run\",\"Run_User\":\"SH186014\",\"SQLVersion\":\"1.0\",\"Site_ID\":\"APPLE57CRESCENT\",\"StartDate\":\"2020-06-30\",\"TableName\":\"adlste_coa.coat_dat_DB_Objects\"},{\"CallingSP\":\"adlste_coa.sp_dat_DB_Objects\",\"EndDate\":\"2020-06-29\",\"ParentRun_ID\":\"694\",\"Run_ID\":\"695\",\"Run_Message\":\"\",\"Run_Status\":\"END\",\"Run_TS\":\"2020-06-29 20:41:08\",\"Run_Type\":\"normal run\",\"Run_User\":\"SH186014\",\"SQLVersion\":\"1.0\",\"Site_ID\":\"TDCLOUD14TD03\",\"StartDate\":\"2020-06-29\",\"TableName\":\"adlste_coa.coat_dat_DB_Objects\"},{\"CallingSP\":\"adlste_coa.sp_dat_DB_Objects\",\"EndDate\":\"2020-06-29\",\"ParentRun_ID\":\"0\",\"Run_ID\":\"694\",\"Run_Message\":\"\",\"Run_Status\":\"START\",\"Run_TS\":\"2020-06-29 20:41:08\",\"Run_Type\":\"normal run\",\"Run_User\":\"SH186014\",\"SQLVersion\":\"1.0\",\"Site_ID\":\"TDCLOUD14TD03\",\"StartDate\":\"2020-06-29\",\"TableName\":\"adlste_coa.coat_dat_DB_Objects\"},{\"CallingSP\":\"adlste_coa.sp_dat_DB_Objects\",\"EndDate\":\"2020-06-29\",\"ParentRun_ID\":\"690\",\"Run_ID\":\"691\",\"Run_Message\":\"\",\"Run_Status\":\"END\",\"Run_TS\":\"2020-06-29 20:31:26\",\"Run_Type\":\"normal run\",\"Run_User\":\"SH186014\",\"SQLVersion\":\"1.0\",\"Site_ID\":\"Empty Table\",\"StartDate\":\"2020-06-29\",\"TableName\":\"adlste_coa.coat_dat_DB_Objects\"},{\"CallingSP\":\"adlste_coa.sp_dat_DB_Objects\",\"EndDate\":\"2020-06-29\",\"ParentRun_ID\":\"0\",\"Run_ID\":\"690\",\"Run_Message\":\"\",\"Run_Status\":\"START\",\"Run_TS\":\"2020-06-29 20:31:26\",\"Run_Type\":\"normal run\",\"Run_User\":\"SH186014\",\"SQLVersion\":\"1.0\",\"Site_ID\":\"Empty Table\",\"StartDate\":\"2020-06-29\",\"TableName\":\"adlste_coa.coat_dat_DB_Objects\"},{\"CallingSP\":\"adlste_coa.sp_dat_DB_Objects\",\"EndDate\":\"2020-06-29\",\"ParentRun_ID\":\"686\",\"Run_ID\":\"687\",\"Run_Message\":\"\",\"Run_Status\":\"END\",\"Run_TS\":\"2020-06-29 20:15:23\",\"Run_Type\":\"normal run\",\"Run_User\":\"SH186014\",\"SQLVersion\":\"1.0\",\"Site_ID\":\"Empty Table\",\"StartDate\":\"2020-06-29\",\"TableName\":\"adlste_coa.coat_dat_DB_Objects\"},{\"CallingSP\":\"adlste_coa.sp_dat_DB_Objects\",\"EndDate\":\"2020-06-29\",\"ParentRun_ID\":\"0\",\"Run_ID\":\"686\",\"Run_Message\":\"\",\"Run_Status\":\"START\",\"Run_TS\":\"2020-06-29 20:15:22\",\"Run_Type\":\"normal run\",\"Run_User\":\"SH186014\",\"SQLVersion\":\"1.0\",\"Site_ID\":\"Empty Table\",\"StartDate\":\"2020-06-29\",\"TableName\":\"adlste_coa.coat_dat_DB_Objects\"},{\"CallingSP\":\"adlste_coa.sp_dat_DB_Objects\",\"EndDate\":\"2020-06-29\",\"ParentRun_ID\":\"682\",\"Run_ID\":\"683\",\"Run_Message\":\"\",\"Run_Status\":\"END\",\"Run_TS\":\"2020-06-29 20:11:39\",\"Run_Type\":\"normal run\",\"Run_User\":\"SH186014\",\"SQLVersion\":\"1.0\",\"Site_ID\":\"Empty Table\",\"StartDate\":\"2020-06-29\",\"TableName\":\"adlste_coa.coat_dat_DB_Objects\"},{\"CallingSP\":\"adlste_coa.sp_dat_DB_Objects\",\"EndDate\":\"2020-06-29\",\"ParentRun_ID\":\"0\",\"Run_ID\":\"682\",\"Run_Message\":\"\",\"Run_Status\":\"START\",\"Run_TS\":\"2020-06-29 20:11:39\",\"Run_Type\":\"normal run\",\"Run_User\":\"SH186014\",\"SQLVersion\":\"1.0\",\"Site_ID\":\"Empty Table\",\"StartDate\":\"2020-06-29\",\"TableName\":\"adlste_coa.coat_dat_DB_Objects\"}]\n",
      "text/html": [
       "<div class = \"td-resultset-table-div\" style = \"max-height: 588px; overflow-y: auto\">\n",
       "  <table class=\"tdhistory741359\"><style>\n",
       "    table.tdhistory741359 { display: block !important; min-height: 588px !important; overflow: auto !important; height: 588px !important; width: 100% !important; border: 1px solid rgb(207, 207, 207) !important; border-collapse: collapse !important; ; color: var(--jp-ui-font-color1) !important; }\n",
       "    th.tdhistory741359 { border: 1px solid rgb(198,198,198) !important; border-collapse: collapse !important; ; padding: 2px 5px !important; ; font-size: 13px !important; ; text-align: center !important; white-space: normal !important; color: var(--jp-ui-font-color1) !important; }\n",
       "    th.tdhistory741359:last-child { text-align: left !important; }\n",
       "    tbody.tdhistory741359 tr:nth-child(even) { background: rgba(243, 243, 243, 0.75) !important; }\n",
       "    tbody.tdhistory741359 tr:nth-child(odd) { background: var(--jp-ui-inverse-font-color1) !important; }\n",
       "  td.tdhistory741359 { border: 1px solid rgb(207, 207, 207) !important; border-collapse: collapse !important; ; padding: 2px 5px !important; ; font-size: 13px !important; ; min-width:150px !important; max-width: 150px !important;text-align: left !important;        white-space: nowrap !important; overflow:hidden !important; text-overflow:ellipsis !important;; }\n",
       "  </style><thead><tr style= \"background: #bababa;\"><th class=\"tdhistory741359\">Run_ID</th><th class=\"tdhistory741359\">ParentRun_ID</th><th class=\"tdhistory741359\">Site_ID</th><th class=\"tdhistory741359\">TableName</th><th class=\"tdhistory741359\">StartDate</th><th class=\"tdhistory741359\">EndDate</th><th class=\"tdhistory741359\">CallingSP</th><th class=\"tdhistory741359\">SQLVersion</th><th class=\"tdhistory741359\">Run_Type</th><th class=\"tdhistory741359\">Run_Status</th><th class=\"tdhistory741359\">Run_Message</th><th class=\"tdhistory741359\">Run_User</th><th class=\"tdhistory741359\">Run_TS</th></tr></thead><tbody class=\"tdhistory741359 resultset-body\"><tr><td class=\"tdhistory741359\">787</td><td class=\"tdhistory741359\">786</td><td class=\"tdhistory741359\">APPLE50BLANEY</td><td class=\"tdhistory741359\">adlste_coa.coat_dat_DB_Objects</td><td class=\"tdhistory741359\">2020-05-22</td><td class=\"tdhistory741359\">2020-07-01</td><td class=\"tdhistory741359\">adlste_coa.sp_dat_DB_Objects</td><td class=\"tdhistory741359\">1.0</td><td class=\"tdhistory741359\">normal run</td><td class=\"tdhistory741359\">END</td><td class=\"tdhistory741359\"></td><td class=\"tdhistory741359\">SH186014</td><td class=\"tdhistory741359\">2020-07-06 16:29:40</td></tr><tr><td class=\"tdhistory741359\">786</td><td class=\"tdhistory741359\">0</td><td class=\"tdhistory741359\">APPLE50BLANEY</td><td class=\"tdhistory741359\">adlste_coa.coat_dat_DB_Objects</td><td class=\"tdhistory741359\">2020-05-22</td><td class=\"tdhistory741359\">2020-07-01</td><td class=\"tdhistory741359\">adlste_coa.sp_dat_DB_Objects</td><td class=\"tdhistory741359\">1.0</td><td class=\"tdhistory741359\">normal run</td><td class=\"tdhistory741359\">START</td><td class=\"tdhistory741359\"></td><td class=\"tdhistory741359\">SH186014</td><td class=\"tdhistory741359\">2020-07-06 16:29:40</td></tr><tr><td class=\"tdhistory741359\">785</td><td class=\"tdhistory741359\">784</td><td class=\"tdhistory741359\">APPLE46REDWOOD</td><td class=\"tdhistory741359\">adlste_coa.coat_dat_DB_Objects</td><td class=\"tdhistory741359\">2020-05-22</td><td class=\"tdhistory741359\">2020-07-01</td><td class=\"tdhistory741359\">adlste_coa.sp_dat_DB_Objects</td><td class=\"tdhistory741359\">1.0</td><td class=\"tdhistory741359\">normal run</td><td class=\"tdhistory741359\">END</td><td class=\"tdhistory741359\"></td><td class=\"tdhistory741359\">SH186014</td><td class=\"tdhistory741359\">2020-07-06 16:29:35</td></tr><tr><td class=\"tdhistory741359\">784</td><td class=\"tdhistory741359\">0</td><td class=\"tdhistory741359\">APPLE46REDWOOD</td><td class=\"tdhistory741359\">adlste_coa.coat_dat_DB_Objects</td><td class=\"tdhistory741359\">2020-05-22</td><td class=\"tdhistory741359\">2020-07-01</td><td class=\"tdhistory741359\">adlste_coa.sp_dat_DB_Objects</td><td class=\"tdhistory741359\">1.0</td><td class=\"tdhistory741359\">normal run</td><td class=\"tdhistory741359\">START</td><td class=\"tdhistory741359\"></td><td class=\"tdhistory741359\">SH186014</td><td class=\"tdhistory741359\">2020-07-06 16:29:34</td></tr><tr><td class=\"tdhistory741359\">783</td><td class=\"tdhistory741359\">782</td><td class=\"tdhistory741359\">APPLE48EDDIES</td><td class=\"tdhistory741359\">adlste_coa.coat_dat_DB_Objects</td><td class=\"tdhistory741359\">2020-06-15</td><td class=\"tdhistory741359\">2020-07-01</td><td class=\"tdhistory741359\">adlste_coa.sp_dat_DB_Objects</td><td class=\"tdhistory741359\">1.0</td><td class=\"tdhistory741359\">normal run</td><td class=\"tdhistory741359\">END</td><td class=\"tdhistory741359\"></td><td class=\"tdhistory741359\">SH186014</td><td class=\"tdhistory741359\">2020-07-06 16:29:28</td></tr><tr><td class=\"tdhistory741359\">782</td><td class=\"tdhistory741359\">0</td><td class=\"tdhistory741359\">APPLE48EDDIES</td><td class=\"tdhistory741359\">adlste_coa.coat_dat_DB_Objects</td><td class=\"tdhistory741359\">2020-06-15</td><td class=\"tdhistory741359\">2020-07-01</td><td class=\"tdhistory741359\">adlste_coa.sp_dat_DB_Objects</td><td class=\"tdhistory741359\">1.0</td><td class=\"tdhistory741359\">normal run</td><td class=\"tdhistory741359\">START</td><td class=\"tdhistory741359\"></td><td class=\"tdhistory741359\">SH186014</td><td class=\"tdhistory741359\">2020-07-06 16:29:27</td></tr><tr><td class=\"tdhistory741359\">781</td><td class=\"tdhistory741359\">780</td><td class=\"tdhistory741359\">APPLE62SEDONA</td><td class=\"tdhistory741359\">adlste_coa.coat_dat_DB_Objects</td><td class=\"tdhistory741359\">2020-05-22</td><td class=\"tdhistory741359\">2020-07-01</td><td class=\"tdhistory741359\">adlste_coa.sp_dat_DB_Objects</td><td class=\"tdhistory741359\">1.0</td><td class=\"tdhistory741359\">normal run</td><td class=\"tdhistory741359\">END</td><td class=\"tdhistory741359\"></td><td class=\"tdhistory741359\">SH186014</td><td class=\"tdhistory741359\">2020-07-06 16:29:22</td></tr><tr><td class=\"tdhistory741359\">780</td><td class=\"tdhistory741359\">0</td><td class=\"tdhistory741359\">APPLE62SEDONA</td><td class=\"tdhistory741359\">adlste_coa.coat_dat_DB_Objects</td><td class=\"tdhistory741359\">2020-05-22</td><td class=\"tdhistory741359\">2020-07-01</td><td class=\"tdhistory741359\">adlste_coa.sp_dat_DB_Objects</td><td class=\"tdhistory741359\">1.0</td><td class=\"tdhistory741359\">normal run</td><td class=\"tdhistory741359\">START</td><td class=\"tdhistory741359\"></td><td class=\"tdhistory741359\">SH186014</td><td class=\"tdhistory741359\">2020-07-06 16:29:22</td></tr><tr><td class=\"tdhistory741359\">779</td><td class=\"tdhistory741359\">778</td><td class=\"tdhistory741359\">APPLE57CRESCENT</td><td class=\"tdhistory741359\">adlste_coa.coat_dat_DB_Objects</td><td class=\"tdhistory741359\">2020-05-22</td><td class=\"tdhistory741359\">2020-07-01</td><td class=\"tdhistory741359\">adlste_coa.sp_dat_DB_Objects</td><td class=\"tdhistory741359\">1.0</td><td class=\"tdhistory741359\">normal run</td><td class=\"tdhistory741359\">END</td><td class=\"tdhistory741359\"></td><td class=\"tdhistory741359\">SH186014</td><td class=\"tdhistory741359\">2020-07-06 16:29:16</td></tr><tr><td class=\"tdhistory741359\">778</td><td class=\"tdhistory741359\">0</td><td class=\"tdhistory741359\">APPLE57CRESCENT</td><td class=\"tdhistory741359\">adlste_coa.coat_dat_DB_Objects</td><td class=\"tdhistory741359\">2020-05-22</td><td class=\"tdhistory741359\">2020-07-01</td><td class=\"tdhistory741359\">adlste_coa.sp_dat_DB_Objects</td><td class=\"tdhistory741359\">1.0</td><td class=\"tdhistory741359\">normal run</td><td class=\"tdhistory741359\">START</td><td class=\"tdhistory741359\"></td><td class=\"tdhistory741359\">SH186014</td><td class=\"tdhistory741359\">2020-07-06 16:29:16</td></tr><tr><td class=\"tdhistory741359\">777</td><td class=\"tdhistory741359\">776</td><td class=\"tdhistory741359\">TDCLOUD14TD03</td><td class=\"tdhistory741359\">adlste_coa.coat_dat_DB_Objects</td><td class=\"tdhistory741359\">2020-05-15</td><td class=\"tdhistory741359\">2020-06-22</td><td class=\"tdhistory741359\">adlste_coa.sp_dat_DB_Objects</td><td class=\"tdhistory741359\">1.0</td><td class=\"tdhistory741359\">normal run</td><td class=\"tdhistory741359\">END</td><td class=\"tdhistory741359\"></td><td class=\"tdhistory741359\">SH186014</td><td class=\"tdhistory741359\">2020-07-06 16:18:08</td></tr><tr><td class=\"tdhistory741359\">776</td><td class=\"tdhistory741359\">0</td><td class=\"tdhistory741359\">TDCLOUD14TD03</td><td class=\"tdhistory741359\">adlste_coa.coat_dat_DB_Objects</td><td class=\"tdhistory741359\">2020-05-15</td><td class=\"tdhistory741359\">2020-06-22</td><td class=\"tdhistory741359\">adlste_coa.sp_dat_DB_Objects</td><td class=\"tdhistory741359\">1.0</td><td class=\"tdhistory741359\">normal run</td><td class=\"tdhistory741359\">START</td><td class=\"tdhistory741359\"></td><td class=\"tdhistory741359\">SH186014</td><td class=\"tdhistory741359\">2020-07-06 16:18:08</td></tr><tr><td class=\"tdhistory741359\">775</td><td class=\"tdhistory741359\">774</td><td class=\"tdhistory741359\">TRNAWS01</td><td class=\"tdhistory741359\">adlste_coa.coat_dat_DB_Objects</td><td class=\"tdhistory741359\">2020-07-08</td><td class=\"tdhistory741359\">2020-07-08</td><td class=\"tdhistory741359\">adlste_coa.sp_dat_DB_Objects</td><td class=\"tdhistory741359\">1.0</td><td class=\"tdhistory741359\">normal run</td><td class=\"tdhistory741359\">END</td><td class=\"tdhistory741359\"></td><td class=\"tdhistory741359\">SH186014</td><td class=\"tdhistory741359\">2020-07-06 16:16:38</td></tr><tr><td class=\"tdhistory741359\">774</td><td class=\"tdhistory741359\">0</td><td class=\"tdhistory741359\">TRNAWS01</td><td class=\"tdhistory741359\">adlste_coa.coat_dat_DB_Objects</td><td class=\"tdhistory741359\">2020-07-08</td><td class=\"tdhistory741359\">2020-07-08</td><td class=\"tdhistory741359\">adlste_coa.sp_dat_DB_Objects</td><td class=\"tdhistory741359\">1.0</td><td class=\"tdhistory741359\">normal run</td><td class=\"tdhistory741359\">START</td><td class=\"tdhistory741359\"></td><td class=\"tdhistory741359\">SH186014</td><td class=\"tdhistory741359\">2020-07-06 16:16:38</td></tr><tr><td class=\"tdhistory741359\">773</td><td class=\"tdhistory741359\">772</td><td class=\"tdhistory741359\">TDCLOUD14TD03</td><td class=\"tdhistory741359\">adlste_coa.coat_dat_DB_Objects</td><td class=\"tdhistory741359\">2020-05-15</td><td class=\"tdhistory741359\">2020-06-22</td><td class=\"tdhistory741359\">adlste_coa.sp_dat_DB_Objects</td><td class=\"tdhistory741359\">1.0</td><td class=\"tdhistory741359\">normal run</td><td class=\"tdhistory741359\">END</td><td class=\"tdhistory741359\"></td><td class=\"tdhistory741359\">SH186014</td><td class=\"tdhistory741359\">2020-07-06 15:57:59</td></tr><tr><td class=\"tdhistory741359\">772</td><td class=\"tdhistory741359\">0</td><td class=\"tdhistory741359\">TDCLOUD14TD03</td><td class=\"tdhistory741359\">adlste_coa.coat_dat_DB_Objects</td><td class=\"tdhistory741359\">2020-05-15</td><td class=\"tdhistory741359\">2020-06-22</td><td class=\"tdhistory741359\">adlste_coa.sp_dat_DB_Objects</td><td class=\"tdhistory741359\">1.0</td><td class=\"tdhistory741359\">normal run</td><td class=\"tdhistory741359\">START</td><td class=\"tdhistory741359\"></td><td class=\"tdhistory741359\">SH186014</td><td class=\"tdhistory741359\">2020-07-06 15:57:59</td></tr><tr><td class=\"tdhistory741359\">759</td><td class=\"tdhistory741359\">758</td><td class=\"tdhistory741359\">TDCLOUD14TD03</td><td class=\"tdhistory741359\">adlste_coa.coat_dat_DB_Objects</td><td class=\"tdhistory741359\">2020-07-02</td><td class=\"tdhistory741359\">2020-07-02</td><td class=\"tdhistory741359\">adlste_coa.sp_dat_DB_Objects</td><td class=\"tdhistory741359\">1.0</td><td class=\"tdhistory741359\">normal run</td><td class=\"tdhistory741359\">END</td><td class=\"tdhistory741359\"></td><td class=\"tdhistory741359\">SH186014</td><td class=\"tdhistory741359\">2020-07-02 02:36:39</td></tr><tr><td class=\"tdhistory741359\">758</td><td class=\"tdhistory741359\">0</td><td class=\"tdhistory741359\">TDCLOUD14TD03</td><td class=\"tdhistory741359\">adlste_coa.coat_dat_DB_Objects</td><td class=\"tdhistory741359\">2020-07-02</td><td class=\"tdhistory741359\">2020-07-02</td><td class=\"tdhistory741359\">adlste_coa.sp_dat_DB_Objects</td><td class=\"tdhistory741359\">1.0</td><td class=\"tdhistory741359\">normal run</td><td class=\"tdhistory741359\">START</td><td class=\"tdhistory741359\"></td><td class=\"tdhistory741359\">SH186014</td><td class=\"tdhistory741359\">2020-07-02 02:36:39</td></tr><tr><td class=\"tdhistory741359\">753</td><td class=\"tdhistory741359\">752</td><td class=\"tdhistory741359\">TRNAWS01</td><td class=\"tdhistory741359\">adlste_coa.coat_dat_DB_Objects</td><td class=\"tdhistory741359\">2020-07-02</td><td class=\"tdhistory741359\">2020-07-02</td><td class=\"tdhistory741359\">adlste_coa.sp_dat_DB_Objects</td><td class=\"tdhistory741359\">1.0</td><td class=\"tdhistory741359\">normal run</td><td class=\"tdhistory741359\">END</td><td class=\"tdhistory741359\"></td><td class=\"tdhistory741359\">SH186014</td><td class=\"tdhistory741359\">2020-07-02 02:36:10</td></tr><tr><td class=\"tdhistory741359\">752</td><td class=\"tdhistory741359\">0</td><td class=\"tdhistory741359\">TRNAWS01</td><td class=\"tdhistory741359\">adlste_coa.coat_dat_DB_Objects</td><td class=\"tdhistory741359\">2020-07-02</td><td class=\"tdhistory741359\">2020-07-02</td><td class=\"tdhistory741359\">adlste_coa.sp_dat_DB_Objects</td><td class=\"tdhistory741359\">1.0</td><td class=\"tdhistory741359\">normal run</td><td class=\"tdhistory741359\">START</td><td class=\"tdhistory741359\"></td><td class=\"tdhistory741359\">SH186014</td><td class=\"tdhistory741359\">2020-07-02 02:36:10</td></tr><tr><td class=\"tdhistory741359\">739</td><td class=\"tdhistory741359\">738</td><td class=\"tdhistory741359\">TDCLOUD14TD03</td><td class=\"tdhistory741359\">adlste_coa.coat_dat_DB_Objects</td><td class=\"tdhistory741359\">2020-06-30</td><td class=\"tdhistory741359\">2020-06-30</td><td class=\"tdhistory741359\">adlste_coa.sp_dat_DB_Objects</td><td class=\"tdhistory741359\">1.0</td><td class=\"tdhistory741359\">normal run</td><td class=\"tdhistory741359\">END</td><td class=\"tdhistory741359\"></td><td class=\"tdhistory741359\">SH186014</td><td class=\"tdhistory741359\">2020-06-30 09:56:02</td></tr><tr><td class=\"tdhistory741359\">738</td><td class=\"tdhistory741359\">0</td><td class=\"tdhistory741359\">TDCLOUD14TD03</td><td class=\"tdhistory741359\">adlste_coa.coat_dat_DB_Objects</td><td class=\"tdhistory741359\">2020-06-30</td><td class=\"tdhistory741359\">2020-06-30</td><td class=\"tdhistory741359\">adlste_coa.sp_dat_DB_Objects</td><td class=\"tdhistory741359\">1.0</td><td class=\"tdhistory741359\">normal run</td><td class=\"tdhistory741359\">START</td><td class=\"tdhistory741359\"></td><td class=\"tdhistory741359\">SH186014</td><td class=\"tdhistory741359\">2020-06-30 09:56:01</td></tr><tr><td class=\"tdhistory741359\">733</td><td class=\"tdhistory741359\">732</td><td class=\"tdhistory741359\">TRNAWS01</td><td class=\"tdhistory741359\">adlste_coa.coat_dat_DB_Objects</td><td class=\"tdhistory741359\">2020-06-30</td><td class=\"tdhistory741359\">2020-06-30</td><td class=\"tdhistory741359\">adlste_coa.sp_dat_DB_Objects</td><td class=\"tdhistory741359\">1.0</td><td class=\"tdhistory741359\">normal run</td><td class=\"tdhistory741359\">END</td><td class=\"tdhistory741359\"></td><td class=\"tdhistory741359\">SH186014</td><td class=\"tdhistory741359\">2020-06-30 09:55:37</td></tr><tr><td class=\"tdhistory741359\">732</td><td class=\"tdhistory741359\">0</td><td class=\"tdhistory741359\">TRNAWS01</td><td class=\"tdhistory741359\">adlste_coa.coat_dat_DB_Objects</td><td class=\"tdhistory741359\">2020-06-30</td><td class=\"tdhistory741359\">2020-06-30</td><td class=\"tdhistory741359\">adlste_coa.sp_dat_DB_Objects</td><td class=\"tdhistory741359\">1.0</td><td class=\"tdhistory741359\">normal run</td><td class=\"tdhistory741359\">START</td><td class=\"tdhistory741359\"></td><td class=\"tdhistory741359\">SH186014</td><td class=\"tdhistory741359\">2020-06-30 09:55:37</td></tr><tr><td class=\"tdhistory741359\">727</td><td class=\"tdhistory741359\">726</td><td class=\"tdhistory741359\">TDCLOUD14TD03</td><td class=\"tdhistory741359\">adlste_coa.coat_dat_DB_Objects</td><td class=\"tdhistory741359\">2020-06-30</td><td class=\"tdhistory741359\">2020-06-30</td><td class=\"tdhistory741359\">adlste_coa.sp_dat_DB_Objects</td><td class=\"tdhistory741359\">1.0</td><td class=\"tdhistory741359\">normal run</td><td class=\"tdhistory741359\">END</td><td class=\"tdhistory741359\"></td><td class=\"tdhistory741359\">SH186014</td><td class=\"tdhistory741359\">2020-06-30 02:26:05</td></tr><tr><td class=\"tdhistory741359\">726</td><td class=\"tdhistory741359\">0</td><td class=\"tdhistory741359\">TDCLOUD14TD03</td><td class=\"tdhistory741359\">adlste_coa.coat_dat_DB_Objects</td><td class=\"tdhistory741359\">2020-06-30</td><td class=\"tdhistory741359\">2020-06-30</td><td class=\"tdhistory741359\">adlste_coa.sp_dat_DB_Objects</td><td class=\"tdhistory741359\">1.0</td><td class=\"tdhistory741359\">normal run</td><td class=\"tdhistory741359\">START</td><td class=\"tdhistory741359\"></td><td class=\"tdhistory741359\">SH186014</td><td class=\"tdhistory741359\">2020-06-30 02:26:05</td></tr><tr><td class=\"tdhistory741359\">721</td><td class=\"tdhistory741359\">720</td><td class=\"tdhistory741359\">TRNAWS01</td><td class=\"tdhistory741359\">adlste_coa.coat_dat_DB_Objects</td><td class=\"tdhistory741359\">2020-06-30</td><td class=\"tdhistory741359\">2020-06-30</td><td class=\"tdhistory741359\">adlste_coa.sp_dat_DB_Objects</td><td class=\"tdhistory741359\">1.0</td><td class=\"tdhistory741359\">normal run</td><td class=\"tdhistory741359\">END</td><td class=\"tdhistory741359\"></td><td class=\"tdhistory741359\">SH186014</td><td class=\"tdhistory741359\">2020-06-30 02:25:39</td></tr><tr><td class=\"tdhistory741359\">720</td><td class=\"tdhistory741359\">0</td><td class=\"tdhistory741359\">TRNAWS01</td><td class=\"tdhistory741359\">adlste_coa.coat_dat_DB_Objects</td><td class=\"tdhistory741359\">2020-06-30</td><td class=\"tdhistory741359\">2020-06-30</td><td class=\"tdhistory741359\">adlste_coa.sp_dat_DB_Objects</td><td class=\"tdhistory741359\">1.0</td><td class=\"tdhistory741359\">normal run</td><td class=\"tdhistory741359\">START</td><td class=\"tdhistory741359\"></td><td class=\"tdhistory741359\">SH186014</td><td class=\"tdhistory741359\">2020-06-30 02:25:38</td></tr><tr><td class=\"tdhistory741359\">711</td><td class=\"tdhistory741359\">710</td><td class=\"tdhistory741359\">APPLE46REDWOOD</td><td class=\"tdhistory741359\">adlste_coa.coat_dat_DB_Objects</td><td class=\"tdhistory741359\">2020-06-30</td><td class=\"tdhistory741359\">2020-06-30</td><td class=\"tdhistory741359\">adlste_coa.sp_dat_DB_Objects</td><td class=\"tdhistory741359\">1.0</td><td class=\"tdhistory741359\">normal run</td><td class=\"tdhistory741359\">END</td><td class=\"tdhistory741359\"></td><td class=\"tdhistory741359\">SH186014</td><td class=\"tdhistory741359\">2020-06-30 01:36:49</td></tr><tr><td class=\"tdhistory741359\">710</td><td class=\"tdhistory741359\">0</td><td class=\"tdhistory741359\">APPLE46REDWOOD</td><td class=\"tdhistory741359\">adlste_coa.coat_dat_DB_Objects</td><td class=\"tdhistory741359\">2020-06-30</td><td class=\"tdhistory741359\">2020-06-30</td><td class=\"tdhistory741359\">adlste_coa.sp_dat_DB_Objects</td><td class=\"tdhistory741359\">1.0</td><td class=\"tdhistory741359\">normal run</td><td class=\"tdhistory741359\">START</td><td class=\"tdhistory741359\"></td><td class=\"tdhistory741359\">SH186014</td><td class=\"tdhistory741359\">2020-06-30 01:36:48</td></tr><tr><td class=\"tdhistory741359\">705</td><td class=\"tdhistory741359\">704</td><td class=\"tdhistory741359\">APPLE62SEDONA</td><td class=\"tdhistory741359\">adlste_coa.coat_dat_DB_Objects</td><td class=\"tdhistory741359\">2020-06-30</td><td class=\"tdhistory741359\">2020-06-30</td><td class=\"tdhistory741359\">adlste_coa.sp_dat_DB_Objects</td><td class=\"tdhistory741359\">1.0</td><td class=\"tdhistory741359\">normal run</td><td class=\"tdhistory741359\">END</td><td class=\"tdhistory741359\"></td><td class=\"tdhistory741359\">SH186014</td><td class=\"tdhistory741359\">2020-06-30 01:36:07</td></tr><tr><td class=\"tdhistory741359\">704</td><td class=\"tdhistory741359\">0</td><td class=\"tdhistory741359\">APPLE62SEDONA</td><td class=\"tdhistory741359\">adlste_coa.coat_dat_DB_Objects</td><td class=\"tdhistory741359\">2020-06-30</td><td class=\"tdhistory741359\">2020-06-30</td><td class=\"tdhistory741359\">adlste_coa.sp_dat_DB_Objects</td><td class=\"tdhistory741359\">1.0</td><td class=\"tdhistory741359\">normal run</td><td class=\"tdhistory741359\">START</td><td class=\"tdhistory741359\"></td><td class=\"tdhistory741359\">SH186014</td><td class=\"tdhistory741359\">2020-06-30 01:36:07</td></tr><tr><td class=\"tdhistory741359\">699</td><td class=\"tdhistory741359\">698</td><td class=\"tdhistory741359\">APPLE57CRESCENT</td><td class=\"tdhistory741359\">adlste_coa.coat_dat_DB_Objects</td><td class=\"tdhistory741359\">2020-06-30</td><td class=\"tdhistory741359\">2020-06-30</td><td class=\"tdhistory741359\">adlste_coa.sp_dat_DB_Objects</td><td class=\"tdhistory741359\">1.0</td><td class=\"tdhistory741359\">normal run</td><td class=\"tdhistory741359\">END</td><td class=\"tdhistory741359\"></td><td class=\"tdhistory741359\">SH186014</td><td class=\"tdhistory741359\">2020-06-30 01:35:40</td></tr><tr><td class=\"tdhistory741359\">698</td><td class=\"tdhistory741359\">0</td><td class=\"tdhistory741359\">APPLE57CRESCENT</td><td class=\"tdhistory741359\">adlste_coa.coat_dat_DB_Objects</td><td class=\"tdhistory741359\">2020-06-30</td><td class=\"tdhistory741359\">2020-06-30</td><td class=\"tdhistory741359\">adlste_coa.sp_dat_DB_Objects</td><td class=\"tdhistory741359\">1.0</td><td class=\"tdhistory741359\">normal run</td><td class=\"tdhistory741359\">START</td><td class=\"tdhistory741359\"></td><td class=\"tdhistory741359\">SH186014</td><td class=\"tdhistory741359\">2020-06-30 01:35:40</td></tr><tr><td class=\"tdhistory741359\">695</td><td class=\"tdhistory741359\">694</td><td class=\"tdhistory741359\">TDCLOUD14TD03</td><td class=\"tdhistory741359\">adlste_coa.coat_dat_DB_Objects</td><td class=\"tdhistory741359\">2020-06-29</td><td class=\"tdhistory741359\">2020-06-29</td><td class=\"tdhistory741359\">adlste_coa.sp_dat_DB_Objects</td><td class=\"tdhistory741359\">1.0</td><td class=\"tdhistory741359\">normal run</td><td class=\"tdhistory741359\">END</td><td class=\"tdhistory741359\"></td><td class=\"tdhistory741359\">SH186014</td><td class=\"tdhistory741359\">2020-06-29 20:41:08</td></tr><tr><td class=\"tdhistory741359\">694</td><td class=\"tdhistory741359\">0</td><td class=\"tdhistory741359\">TDCLOUD14TD03</td><td class=\"tdhistory741359\">adlste_coa.coat_dat_DB_Objects</td><td class=\"tdhistory741359\">2020-06-29</td><td class=\"tdhistory741359\">2020-06-29</td><td class=\"tdhistory741359\">adlste_coa.sp_dat_DB_Objects</td><td class=\"tdhistory741359\">1.0</td><td class=\"tdhistory741359\">normal run</td><td class=\"tdhistory741359\">START</td><td class=\"tdhistory741359\"></td><td class=\"tdhistory741359\">SH186014</td><td class=\"tdhistory741359\">2020-06-29 20:41:08</td></tr><tr><td class=\"tdhistory741359\">691</td><td class=\"tdhistory741359\">690</td><td class=\"tdhistory741359\">Empty Table</td><td class=\"tdhistory741359\">adlste_coa.coat_dat_DB_Objects</td><td class=\"tdhistory741359\">2020-06-29</td><td class=\"tdhistory741359\">2020-06-29</td><td class=\"tdhistory741359\">adlste_coa.sp_dat_DB_Objects</td><td class=\"tdhistory741359\">1.0</td><td class=\"tdhistory741359\">normal run</td><td class=\"tdhistory741359\">END</td><td class=\"tdhistory741359\"></td><td class=\"tdhistory741359\">SH186014</td><td class=\"tdhistory741359\">2020-06-29 20:31:26</td></tr><tr><td class=\"tdhistory741359\">690</td><td class=\"tdhistory741359\">0</td><td class=\"tdhistory741359\">Empty Table</td><td class=\"tdhistory741359\">adlste_coa.coat_dat_DB_Objects</td><td class=\"tdhistory741359\">2020-06-29</td><td class=\"tdhistory741359\">2020-06-29</td><td class=\"tdhistory741359\">adlste_coa.sp_dat_DB_Objects</td><td class=\"tdhistory741359\">1.0</td><td class=\"tdhistory741359\">normal run</td><td class=\"tdhistory741359\">START</td><td class=\"tdhistory741359\"></td><td class=\"tdhistory741359\">SH186014</td><td class=\"tdhistory741359\">2020-06-29 20:31:26</td></tr><tr><td class=\"tdhistory741359\">687</td><td class=\"tdhistory741359\">686</td><td class=\"tdhistory741359\">Empty Table</td><td class=\"tdhistory741359\">adlste_coa.coat_dat_DB_Objects</td><td class=\"tdhistory741359\">2020-06-29</td><td class=\"tdhistory741359\">2020-06-29</td><td class=\"tdhistory741359\">adlste_coa.sp_dat_DB_Objects</td><td class=\"tdhistory741359\">1.0</td><td class=\"tdhistory741359\">normal run</td><td class=\"tdhistory741359\">END</td><td class=\"tdhistory741359\"></td><td class=\"tdhistory741359\">SH186014</td><td class=\"tdhistory741359\">2020-06-29 20:15:23</td></tr><tr><td class=\"tdhistory741359\">686</td><td class=\"tdhistory741359\">0</td><td class=\"tdhistory741359\">Empty Table</td><td class=\"tdhistory741359\">adlste_coa.coat_dat_DB_Objects</td><td class=\"tdhistory741359\">2020-06-29</td><td class=\"tdhistory741359\">2020-06-29</td><td class=\"tdhistory741359\">adlste_coa.sp_dat_DB_Objects</td><td class=\"tdhistory741359\">1.0</td><td class=\"tdhistory741359\">normal run</td><td class=\"tdhistory741359\">START</td><td class=\"tdhistory741359\"></td><td class=\"tdhistory741359\">SH186014</td><td class=\"tdhistory741359\">2020-06-29 20:15:22</td></tr><tr><td class=\"tdhistory741359\">683</td><td class=\"tdhistory741359\">682</td><td class=\"tdhistory741359\">Empty Table</td><td class=\"tdhistory741359\">adlste_coa.coat_dat_DB_Objects</td><td class=\"tdhistory741359\">2020-06-29</td><td class=\"tdhistory741359\">2020-06-29</td><td class=\"tdhistory741359\">adlste_coa.sp_dat_DB_Objects</td><td class=\"tdhistory741359\">1.0</td><td class=\"tdhistory741359\">normal run</td><td class=\"tdhistory741359\">END</td><td class=\"tdhistory741359\"></td><td class=\"tdhistory741359\">SH186014</td><td class=\"tdhistory741359\">2020-06-29 20:11:39</td></tr><tr><td class=\"tdhistory741359\">682</td><td class=\"tdhistory741359\">0</td><td class=\"tdhistory741359\">Empty Table</td><td class=\"tdhistory741359\">adlste_coa.coat_dat_DB_Objects</td><td class=\"tdhistory741359\">2020-06-29</td><td class=\"tdhistory741359\">2020-06-29</td><td class=\"tdhistory741359\">adlste_coa.sp_dat_DB_Objects</td><td class=\"tdhistory741359\">1.0</td><td class=\"tdhistory741359\">normal run</td><td class=\"tdhistory741359\">START</td><td class=\"tdhistory741359\"></td><td class=\"tdhistory741359\">SH186014</td><td class=\"tdhistory741359\">2020-06-29 20:11:39</td></tr></tbody></table></div>"
      ]
     },
     "execution_count": 15,
     "metadata": {
      "application/vnd.teradata.resultset": "{\"resultSetID\":\"/home/jovyan/JupyterLabRoot/Teradata/Resultsets/2020.07.06_20.46.08.233_UTC\",\"historyID\":482,\"chunkID\":\"00001\",\"sessionid\":\"\",\"portnum\":\"\",\"dockermode\":\"docker\",\"totalRowCount\":42,\"chunkCount\":0,\"rowLimit\":0,\"columnMetadata\":[{\"columnName\":\"Run_ID\",\"columnTypeName\":\"INTEGER\"},{\"columnNumber\":1,\"columnName\":\"ParentRun_ID\",\"columnTypeName\":\"INTEGER\"},{\"columnNumber\":2,\"columnName\":\"Site_ID\",\"columnTypeName\":\"VARCHAR\",\"length\":128,\"scale\":128},{\"columnNumber\":3,\"columnName\":\"TableName\",\"columnTypeName\":\"VARCHAR\",\"length\":128,\"scale\":128},{\"columnNumber\":4,\"columnName\":\"StartDate\",\"columnTypeName\":\"DATE\"},{\"columnNumber\":5,\"columnName\":\"EndDate\",\"columnTypeName\":\"DATE\"},{\"columnNumber\":6,\"columnName\":\"CallingSP\",\"columnTypeName\":\"VARCHAR\",\"length\":128,\"scale\":128},{\"columnNumber\":7,\"columnName\":\"SQLVersion\",\"columnTypeName\":\"VARCHAR\",\"length\":128,\"scale\":128},{\"columnNumber\":8,\"columnName\":\"Run_Type\",\"columnTypeName\":\"VARCHAR\",\"length\":128,\"scale\":128},{\"columnNumber\":9,\"columnName\":\"Run_Status\",\"columnTypeName\":\"VARCHAR\",\"length\":128,\"scale\":128},{\"columnNumber\":10,\"columnName\":\"Run_Message\",\"columnTypeName\":\"VARCHAR\",\"length\":512,\"scale\":512},{\"columnNumber\":11,\"columnName\":\"Run_User\",\"columnTypeName\":\"VARCHAR\",\"length\":128,\"scale\":128},{\"columnNumber\":12,\"columnName\":\"Run_TS\",\"columnTypeName\":\"TIMESTAMP\"}]}"
     },
     "output_type": "execute_result"
    }
   ],
   "source": [
    "select top 100 * from adlste_coa.coa_audit_log where TableName = 'adlste_coa.coat_dat_DB_Objects'\n",
    "order by 1 desc"
   ]
  },
  {
   "cell_type": "code",
   "execution_count": null,
   "metadata": {},
   "outputs": [],
   "source": []
  },
  {
   "cell_type": "markdown",
   "metadata": {},
   "source": [
    "<br/><br/><br/><br/>\n",
    "# Column Type"
   ]
  },
  {
   "cell_type": "code",
   "execution_count": null,
   "metadata": {},
   "outputs": [],
   "source": [
    "drop table adlste_coa_stg.stg_dat_column_type ;"
   ]
  },
  {
   "cell_type": "code",
   "execution_count": null,
   "metadata": {},
   "outputs": [],
   "source": [
    "CREATE MULTISET GLOBAL TEMPORARY TABLE adlste_coa_stg.stg_dat_column_type \n",
    "( Site_ID          VARCHAR(128) CHARACTER SET LATIN\n",
    ", LogDate          DATE \n",
    ", Column_Type      VARCHAR(256) CHARACTER SET LATIN \n",
    ", Column_Category  VARCHAR(128) CHARACTER SET LATIN \n",
    ", Total_Cnt        INT\n",
    ")\n",
    "NO PRIMARY INDEX \n",
    "ON COMMIT PRESERVE ROWS;"
   ]
  },
  {
   "cell_type": "code",
   "execution_count": null,
   "metadata": {},
   "outputs": [],
   "source": [
    "drop table adlste_coa.coat_dat_column_type"
   ]
  },
  {
   "cell_type": "code",
   "execution_count": null,
   "metadata": {},
   "outputs": [],
   "source": [
    "CREATE MULTISET TABLE adlste_coa.coat_dat_column_type \n",
    "( Site_ID          VARCHAR(128) CHARACTER SET LATIN\n",
    ", LogDate          DATE\n",
    ", Column_Type      VARCHAR(256) CHARACTER SET LATIN \n",
    ", Column_Category  VARCHAR(128) CHARACTER SET LATIN \n",
    ", Total_Cnt        INT\n",
    ", Run_ID           INT\n",
    ")\n",
    "PRIMARY INDEX (Site_ID, LogDate);"
   ]
  },
  {
   "cell_type": "code",
   "execution_count": null,
   "metadata": {},
   "outputs": [],
   "source": [
    "replace view adlste_coa.coa_dat_column_type\n",
    "as locking row for access\n",
    "select * from adlste_coa.coat_dat_column_type"
   ]
  },
  {
   "cell_type": "code",
   "execution_count": null,
   "metadata": {},
   "outputs": [],
   "source": [
    "REPLACE PROCEDURE adlste_coa.sp_dat_column_type ( spversion VARCHAR(128) ) \n",
    "SQL SECURITY CREATOR\n",
    "BEGIN \n",
    "\n",
    "    /* start setup audit process */\n",
    "    \n",
    "    DECLARE runid  INTEGER;\n",
    "    DECLARE siteid VARCHAR(128);\n",
    "    DECLARE tablename VARCHAR(128);\n",
    "    DECLARE callingsp VARCHAR(128); \n",
    "    DECLARE startdate DATE;\n",
    "    DECLARE enddate DATE;\n",
    "    \n",
    "    SET runid = 0;\n",
    "    SET tablename = 'adlste_coa.coat_dat_column_type';\n",
    "    SET callingsp = 'adlste_coa.sp_dat_column_type';\n",
    "    SET siteid = 'Empty Table';\n",
    "    SET startdate = DATE;\n",
    "    SET enddate = DATE;\n",
    "\n",
    "    SELECT \n",
    "     coalesce(Site_ID,'empty table')       \n",
    "    ,min(LogDate) as StartDate\n",
    "    ,max(LogDate) as EndDate\n",
    "    INTO siteid, startdate, enddate\n",
    "    FROM adlste_coa_stg.stg_dat_column_type\n",
    "    Group by 1\n",
    "    ;\n",
    "    \n",
    "    /* end setup audit process */\n",
    "    \n",
    "    \n",
    "    \n",
    "    CALL adlste_coa.sp_audit_log(runid, :siteid, :tablename, :callingsp, :spversion, :startdate, :enddate,\n",
    "                              'normal run', 'START',  '') ;\n",
    "\n",
    "    DELETE FROM adlste_coa.coat_dat_column_type \n",
    "    WHERE (Site_ID, LogDate) IN\n",
    "    (Select Site_ID, LogDate From adlste_coa_stg.stg_dat_column_type );\n",
    "    \n",
    "    Insert into adlste_coa.coat_dat_column_type \n",
    "    Select\n",
    "     Site_ID\n",
    "    ,LogDate\n",
    "    ,Column_Type\n",
    "    ,Column_Category\n",
    "    ,Total_Cnt\n",
    "    , :runid\n",
    "    from adlste_coa_stg.stg_dat_column_type as a ; \n",
    "    \n",
    "    delete from adlste_coa_stg.stg_dat_column_type;\n",
    "        \n",
    "    CALL adlste_coa.sp_audit_log(runid, :siteid, :tablename, :callingsp, :spversion, :startdate, :enddate,\n",
    "                              'normal run', 'END', '') ;\n",
    "\n",
    "END;"
   ]
  },
  {
   "cell_type": "code",
   "execution_count": null,
   "metadata": {},
   "outputs": [],
   "source": [
    "select * from adlste_coa.coat_dat_column_type"
   ]
  },
  {
   "cell_type": "code",
   "execution_count": null,
   "metadata": {},
   "outputs": [],
   "source": [
    "select top 100 * from adlste_coa.coa_audit_log \n",
    "where TableName = 'adlste_coa.coat_dat_column_type'\n",
    "order by 1 desc"
   ]
  }
 ],
 "metadata": {
  "kernelspec": {
   "display_name": "Teradata SQL",
   "language": "Teradata SQL",
   "name": "teradatasql"
  },
  "language_info": {
   "codemirror_mode": "Teradata SQL",
   "file_extension": ".tdrs",
   "mimetype": "application/vnd.teradata.resultset",
   "name": "Teradata SQL",
   "nbconvert_exporter": "",
   "pygments_lexer": "",
   "version": "16.20"
  }
 },
 "nbformat": 4,
 "nbformat_minor": 4
}
