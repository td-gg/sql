{
 "cells": [
  {
   "cell_type": "markdown",
   "metadata": {},
   "source": [
    "# Deploy COA Objects in Transcend:   DBInfo (Demo Project)"
   ]
  },
  {
   "cell_type": "code",
   "execution_count": null,
   "metadata": {},
   "outputs": [],
   "source": [
    "%addconnect name=Transcend, user=sh186014, host=tdprdcop3.td.teradata.com, props=\"LOGMECH=LDAP\""
   ]
  },
  {
   "cell_type": "code",
   "execution_count": 2,
   "metadata": {},
   "outputs": [
    {
     "name": "stdin",
     "output_type": "stream",
     "text": [
      "Password ············\n"
     ]
    },
    {
     "name": "stdout",
     "output_type": "stream",
     "text": [
      "Success: 'Transcend' connection established\n"
     ]
    }
   ],
   "source": [
    "%connect name=Transcend"
   ]
  },
  {
   "cell_type": "code",
   "execution_count": null,
   "metadata": {},
   "outputs": [],
   "source": [
    "call adlste_coa.sp_meta_objects_refresh('DBCInfo') "
   ]
  },
  {
   "cell_type": "markdown",
   "metadata": {},
   "source": [
    "## Stage Object (adlste_coa_stg)"
   ]
  },
  {
   "cell_type": "code",
   "execution_count": 7,
   "metadata": {},
   "outputs": [
    {
     "data": {
      "text/plain": [
       "Success: 22 rows affected"
      ]
     },
     "execution_count": 7,
     "metadata": {
      "application/vnd.teradata.resultset": ""
     },
     "output_type": "execute_result"
    }
   ],
   "source": [
    "drop table adlste_coa_stg.stg_dat_dbcinfo;"
   ]
  },
  {
   "cell_type": "code",
   "execution_count": 8,
   "metadata": {},
   "outputs": [
    {
     "data": {
      "text/plain": [
       "Success: 0 rows affected"
      ]
     },
     "execution_count": 8,
     "metadata": {
      "application/vnd.teradata.resultset": ""
     },
     "output_type": "execute_result"
    }
   ],
   "source": [
    "CREATE MULTISET GLOBAL TEMPORARY TABLE adlste_coa_stg.stg_dat_DBCinfo\n",
    "( Account_Name   VARCHAR(128) CHARACTER SET LATIN NOT CASESPECIFIC\n",
    ", Site_ID        VARCHAR(128) CHARACTER SET LATIN NOT CASESPECIFIC\n",
    ", InfoKey        VARCHAR(128) CHARACTER SET LATIN NOT CASESPECIFIC\n",
    ", InfoData       VARCHAR(128) CHARACTER SET LATIN NOT CASESPECIFIC\n",
    ") NO PRIMARY INDEX \n",
    "ON COMMIT PRESERVE ROWS;"
   ]
  },
  {
   "cell_type": "code",
   "execution_count": 11,
   "metadata": {},
   "outputs": [
    {
     "data": {
      "application/vnd.teradata.resultset": "[{\"Count(*)\":\"0\"}]\n",
      "text/html": [
       "<div class = \"td-resultset-table-div\" style = \"max-height: 77px; overflow-y: auto\"><style> table {border: 1px solid rgb(207, 207, 207) !important; border-collapse: collapse !important; margin-top: 1px !important;} th {border: 1px solid rgb(198,198,198) !important; border-collapse: collapse !important; padding: 2px 5px !important; font-size: 13px !important; min-width:150px !important; max-width: 150px !important; white-space: nowrap !important; overflow:hidden !important; text-overflow:ellipsis !important;} tr:nth-child(even) {background: rgba(243, 243, 243, 0.75) !important;} td {border: 1px solid rgb(207, 207, 207) !important; border-collapse: collapse !important; padding: 2px 5px !important; font-size: 13px !important; min-width:150px !important; max-width: 150px !important; white-space: nowrap !important; overflow:hidden !important; text-overflow:ellipsis !important;}</style><table><thead><tr style= \"background: #efefef;\"><th>Count(*)</th></tr></thead><tr><td>0</td></tr></table></div>"
      ]
     },
     "execution_count": 11,
     "metadata": {
      "application/vnd.teradata.resultset": "{\"resultSetID\":\"/home/jovyan/JupyterLabRoot/Teradata/Resultsets/2020.05.22_23.19.06.944_UTC\",\"historyID\":60,\"chunkID\":\"00001\",\"sessionid\":\"\",\"portnum\":\"\",\"dockermode\":\"docker\",\"totalRowCount\":1,\"rowLimit\":0,\"columnMetadata\":[{\"columnName\":\"Count(*)\",\"columnTypeName\":\"INTEGER\"}]}"
     },
     "output_type": "execute_result"
    }
   ],
   "source": [
    "select count(*) from adlste_coa_stg.stg_dat_dbcinfo;"
   ]
  },
  {
   "cell_type": "markdown",
   "metadata": {},
   "source": [
    "## Target Table and View (adlste_coa)"
   ]
  },
  {
   "cell_type": "code",
   "execution_count": null,
   "metadata": {},
   "outputs": [],
   "source": [
    "DROP TABLE adlste_coa.coat_dat_DBCinfo;"
   ]
  },
  {
   "cell_type": "code",
   "execution_count": null,
   "metadata": {},
   "outputs": [],
   "source": [
    "CREATE MULTISET TABLE adlste_coa.coat_dat_DBCinfo\n",
    "( Account_Name   VARCHAR(128) CHARACTER SET LATIN NOT CASESPECIFIC\n",
    ", Site_ID        VARCHAR(128) CHARACTER SET LATIN NOT CASESPECIFIC\n",
    ", LogDate        DATE Default Current_Date\n",
    ", InfoKey        VARCHAR(128) CHARACTER SET LATIN NOT CASESPECIFIC\n",
    ", InfoData       VARCHAR(128) CHARACTER SET LATIN NOT CASESPECIFIC\n",
    ") Primary Index(Site_ID, LogDate);"
   ]
  },
  {
   "cell_type": "code",
   "execution_count": null,
   "metadata": {},
   "outputs": [],
   "source": [
    "REPLACE VIEW adlste_coa.coa_dat_DBCinfo\n",
    "as locking row for access\n",
    "Select * from adlste_coa.coat_dat_DBCinfo;"
   ]
  },
  {
   "cell_type": "markdown",
   "metadata": {},
   "source": [
    "## Stored Proc to manage the merge"
   ]
  },
  {
   "cell_type": "code",
   "execution_count": 3,
   "metadata": {},
   "outputs": [
    {
     "data": {
      "text/plain": [
       "Success: 0 rows affected"
      ]
     },
     "execution_count": 3,
     "metadata": {
      "application/vnd.teradata.resultset": ""
     },
     "output_type": "execute_result"
    }
   ],
   "source": [
    "REPLACE PROCEDURE adlste_coa.sp_dat_dbcinfo ( spversion VARCHAR(128) ) \n",
    "SQL SECURITY CREATOR\n",
    "BEGIN \n",
    "\n",
    "    /* start setup audit process */\n",
    "    \n",
    "    DECLARE runid  INTEGER;\n",
    "    DECLARE siteid VARCHAR(128);\n",
    "    DECLARE tablename VARCHAR(128);\n",
    "    DECLARE callingsp VARCHAR(128); \n",
    "    DECLARE startdate DATE;\n",
    "    DECLARE enddate DATE;\n",
    "    \n",
    "    SET runid = 0;\n",
    "    SET tablename = 'adlste_coa.coat_dat_dbcinfo';\n",
    "    SET callingsp = 'adlste_coa.sp_dat_dbcinfo';\n",
    "    SET siteid = 'Empty Table';\n",
    "    SET startdate = DATE;\n",
    "    SET enddate = DATE;\n",
    "\n",
    "    SELECT \n",
    "     coalesce(Site_ID,'empty table')       \n",
    "    ,current_date as StartDate\n",
    "    ,current_date as EndDate\n",
    "    INTO siteid, startdate, enddate\n",
    "    FROM adlste_coa_stg.stg_dat_dbcinfo \n",
    "    Group by  1,2,3\n",
    "    ;\n",
    "    \n",
    "    /* end setup audit process */\n",
    "    \n",
    "    \n",
    "    \n",
    "    CALL adlste_coa.sp_audit_log(runid, :siteid, :tablename, :callingsp, :spversion, :startdate, :enddate,\n",
    "                              'normal run', 'START', '') ;\n",
    "\n",
    "    DELETE FROM adlste_coa.coat_dat_dbcinfo WHERE (Site_ID, LogDate) IN\n",
    "    (Select Site_ID, Current_Date From adlste_coa_stg.stg_dat_dbcinfo );\n",
    "    \n",
    "    Insert into adlste_coa.coat_dat_dbcinfo \n",
    "    Select Account_Name, Site_ID, Current_Date, InfoKey, InfoData \n",
    "    from adlste_coa_stg.stg_dat_dbcinfo\n",
    "    group  by 1,2,3,4,5; \n",
    "        \n",
    "    delete from adlste_coa_stg.stg_dat_dbcinfo;\n",
    "    \n",
    "    CALL adlste_coa.sp_audit_log(runid, :siteid, :tablename, :callingsp, :spversion, :startdate, :enddate,\n",
    "                              'normal run', 'END', '') ;\n",
    "\n",
    "END;"
   ]
  },
  {
   "cell_type": "code",
   "execution_count": null,
   "metadata": {},
   "outputs": [],
   "source": [
    "-- Generate Test Data\n",
    "insert into adlste_coa_stg.stg_dat_DBCinfo\n",
    "select 'test account', 'testsiteid123', infokey, infodata from dbc.dbcinfo;"
   ]
  },
  {
   "cell_type": "code",
   "execution_count": 12,
   "metadata": {},
   "outputs": [
    {
     "data": {
      "text/plain": [
       "Success: 0 rows affected"
      ]
     },
     "execution_count": 12,
     "metadata": {
      "application/vnd.teradata.resultset": ""
     },
     "output_type": "execute_result"
    }
   ],
   "source": [
    "call adlste_coa.sp_dat_dbcinfo('1.1')"
   ]
  },
  {
   "cell_type": "code",
   "execution_count": null,
   "metadata": {},
   "outputs": [],
   "source": [
    "select * from adlste_coa.coa_audit_runlog order by 1"
   ]
  },
  {
   "cell_type": "code",
   "execution_count": null,
   "metadata": {},
   "outputs": [],
   "source": [
    "select * from adlste_coa.coa_audit_summary order by 1"
   ]
  },
  {
   "cell_type": "code",
   "execution_count": null,
   "metadata": {},
   "outputs": [],
   "source": []
  },
  {
   "cell_type": "markdown",
   "metadata": {},
   "source": [
    "## Report Success"
   ]
  },
  {
   "cell_type": "code",
   "execution_count": 24,
   "metadata": {},
   "outputs": [
    {
     "data": {
      "application/vnd.teradata.resultset": "[{\"CallingSP\":\"adlste_coa.sp_dat_dbcinfo\",\"End_TS\":\"2020-05-22 19:25:21\",\"Errors\":\"0\",\"LogDate\":\"2020-05-22\",\"Run_ID\":\"77\",\"Run_Type\":\"normal run\",\"SQLVersion\":\"1.1\",\"Site_ID\":\"Test_SiteID\",\"Start_TS\":\"2020-05-22 19:25:21\",\"Steps\":\"2\",\"TableName\":\"adlste_coa.coat_dat_dbcinfo\",\"Warnings\":\"0\"},{\"CallingSP\":\"adlste_coa.sp_dat_dbcinfo\",\"End_TS\":\"2020-05-22 19:18:45\",\"Errors\":\"0\",\"LogDate\":\"2020-05-22\",\"Run_ID\":\"73\",\"Run_Type\":\"normal run\",\"SQLVersion\":\"1.15\",\"Site_ID\":\"Transcend_IFX\",\"Start_TS\":\"2020-05-22 19:18:44\",\"Steps\":\"2\",\"TableName\":\"adlste_coa.coat_dat_dbcinfo\",\"Warnings\":\"0\"},{\"CallingSP\":\"adlste_coa.sp_dat_dbcinfo\",\"End_TS\":\"2020-05-22 19:19:30\",\"Errors\":\"0\",\"LogDate\":\"2020-05-22\",\"Run_ID\":\"75\",\"Run_Type\":\"normal run\",\"SQLVersion\":\"1.1\",\"Site_ID\":\"Empty Table\",\"Start_TS\":\"2020-05-22 19:19:30\",\"Steps\":\"2\",\"TableName\":\"adlste_coa.coat_dat_dbcinfo\",\"Warnings\":\"0\"}]\n",
      "text/html": [
       "<div class = \"td-resultset-table-div\" style = \"max-height: 117px; overflow-y: auto\"><style> table {border: 1px solid rgb(207, 207, 207) !important; border-collapse: collapse !important; margin-top: 1px !important;} th {border: 1px solid rgb(198,198,198) !important; border-collapse: collapse !important; padding: 2px 5px !important; font-size: 13px !important; min-width:150px !important; max-width: 150px !important; white-space: nowrap !important; overflow:hidden !important; text-overflow:ellipsis !important;} tr:nth-child(even) {background: rgba(243, 243, 243, 0.75) !important;} td {border: 1px solid rgb(207, 207, 207) !important; border-collapse: collapse !important; padding: 2px 5px !important; font-size: 13px !important; min-width:150px !important; max-width: 150px !important; white-space: nowrap !important; overflow:hidden !important; text-overflow:ellipsis !important;}</style><table><thead><tr style= \"background: #efefef;\"><th>Run_ID</th><th>Site_ID</th><th>LogDate</th><th>TableName</th><th>CallingSP</th><th>SQLVersion</th><th>Run_Type</th><th>Steps</th><th>Errors</th><th>Warnings</th><th>Start_TS</th><th>End_TS</th></tr></thead><tr><td>77</td><td>Test_SiteID</td><td>2020-05-22</td><td>adlste_coa.coat_dat_dbcinfo</td><td>adlste_coa.sp_dat_dbcinfo</td><td>1.1</td><td>normal run</td><td>2</td><td>0</td><td>0</td><td>2020-05-22 19:25:21</td><td>2020-05-22 19:25:21</td></tr><tr><td>73</td><td>Transcend_IFX</td><td>2020-05-22</td><td>adlste_coa.coat_dat_dbcinfo</td><td>adlste_coa.sp_dat_dbcinfo</td><td>1.15</td><td>normal run</td><td>2</td><td>0</td><td>0</td><td>2020-05-22 19:18:44</td><td>2020-05-22 19:18:45</td></tr><tr><td>75</td><td>Empty Table</td><td>2020-05-22</td><td>adlste_coa.coat_dat_dbcinfo</td><td>adlste_coa.sp_dat_dbcinfo</td><td>1.1</td><td>normal run</td><td>2</td><td>0</td><td>0</td><td>2020-05-22 19:19:30</td><td>2020-05-22 19:19:30</td></tr></table></div>"
      ]
     },
     "execution_count": 24,
     "metadata": {
      "application/vnd.teradata.resultset": "{\"resultSetID\":\"/home/jovyan/JupyterLabRoot/Teradata/Resultsets/2020.05.22_23.25.25.798_UTC\",\"historyID\":73,\"chunkID\":\"00001\",\"sessionid\":\"\",\"portnum\":\"\",\"dockermode\":\"docker\",\"totalRowCount\":3,\"rowLimit\":0,\"columnMetadata\":[{\"columnName\":\"Run_ID\",\"columnTypeName\":\"INTEGER\"},{\"columnNumber\":1,\"columnName\":\"Site_ID\",\"columnTypeName\":\"VARCHAR\",\"length\":128,\"scale\":128},{\"columnNumber\":2,\"columnName\":\"LogDate\",\"columnTypeName\":\"DATE\"},{\"columnNumber\":3,\"columnName\":\"TableName\",\"columnTypeName\":\"VARCHAR\",\"length\":128,\"scale\":128},{\"columnNumber\":4,\"columnName\":\"CallingSP\",\"columnTypeName\":\"VARCHAR\",\"length\":128,\"scale\":128},{\"columnNumber\":5,\"columnName\":\"SQLVersion\",\"columnTypeName\":\"VARCHAR\",\"length\":128,\"scale\":128},{\"columnNumber\":6,\"columnName\":\"Run_Type\",\"columnTypeName\":\"VARCHAR\",\"length\":128,\"scale\":128},{\"columnNumber\":7,\"columnName\":\"Steps\",\"columnTypeName\":\"INTEGER\"},{\"columnNumber\":8,\"columnName\":\"Errors\",\"columnTypeName\":\"INTEGER\"},{\"columnNumber\":9,\"columnName\":\"Warnings\",\"columnTypeName\":\"INTEGER\"},{\"columnNumber\":10,\"columnName\":\"Start_TS\",\"columnTypeName\":\"TIMESTAMP\"},{\"columnNumber\":11,\"columnName\":\"End_TS\",\"columnTypeName\":\"TIMESTAMP\"}]}"
     },
     "output_type": "execute_result"
    }
   ],
   "source": [
    "select * \n",
    "from adlste_coa.coa_audit_summary\n",
    "where LogDate = DATE\n",
    "  and CallingSP = 'adlste_coa.sp_dat_dbcinfo'\n",
    "order by 1 desc"
   ]
  },
  {
   "cell_type": "markdown",
   "metadata": {},
   "source": [
    "## Test the Process"
   ]
  },
  {
   "cell_type": "code",
   "execution_count": 21,
   "metadata": {},
   "outputs": [
    {
     "data": {
      "text/plain": [
       "Success: 3 rows affected"
      ]
     },
     "execution_count": 21,
     "metadata": {
      "application/vnd.teradata.resultset": ""
     },
     "output_type": "execute_result"
    },
    {
     "data": {
      "application/vnd.teradata.resultset": "[{\"Account_Name\":\"Test_Account\",\"InfoData\":\"16.20.32.11\",\"InfoKey\":\"RELEASE\",\"Site_ID\":\"Test_SiteID\"},{\"Account_Name\":\"Test_Account\",\"InfoData\":\"16.20.32.11\",\"InfoKey\":\"VERSION\",\"Site_ID\":\"Test_SiteID\"},{\"Account_Name\":\"Test_Account\",\"InfoData\":\"Standard\",\"InfoKey\":\"LANGUAGE SUPPORT MODE\",\"Site_ID\":\"Test_SiteID\"}]\n",
      "text/html": [
       "<div class = \"td-resultset-table-div\" style = \"max-height: 117px; overflow-y: auto\"><style> table {border: 1px solid rgb(207, 207, 207) !important; border-collapse: collapse !important; margin-top: 1px !important;} th {border: 1px solid rgb(198,198,198) !important; border-collapse: collapse !important; padding: 2px 5px !important; font-size: 13px !important; min-width:150px !important; max-width: 150px !important; white-space: nowrap !important; overflow:hidden !important; text-overflow:ellipsis !important;} tr:nth-child(even) {background: rgba(243, 243, 243, 0.75) !important;} td {border: 1px solid rgb(207, 207, 207) !important; border-collapse: collapse !important; padding: 2px 5px !important; font-size: 13px !important; min-width:150px !important; max-width: 150px !important; white-space: nowrap !important; overflow:hidden !important; text-overflow:ellipsis !important;}</style><table><thead><tr style= \"background: #efefef;\"><th>Account_Name</th><th>Site_ID</th><th>InfoKey</th><th>InfoData</th></tr></thead><tr><td>Test_Account</td><td>Test_SiteID</td><td>RELEASE</td><td>16.20.32.11</td></tr><tr><td>Test_Account</td><td>Test_SiteID</td><td>VERSION</td><td>16.20.32.11</td></tr><tr><td>Test_Account</td><td>Test_SiteID</td><td>LANGUAGE SUPPORT MODE</td><td>Standard</td></tr></table></div>"
      ]
     },
     "execution_count": 21,
     "metadata": {
      "application/vnd.teradata.resultset": "{\"resultSetID\":\"/home/jovyan/JupyterLabRoot/Teradata/Resultsets/2020.05.22_23.25.17.487_UTC\",\"historyID\":70,\"chunkID\":\"00001\",\"sessionid\":\"\",\"portnum\":\"\",\"dockermode\":\"docker\",\"totalRowCount\":3,\"rowLimit\":0,\"columnMetadata\":[{\"columnName\":\"Account_Name\",\"columnTypeName\":\"VARCHAR\",\"length\":128,\"scale\":128},{\"columnNumber\":1,\"columnName\":\"Site_ID\",\"columnTypeName\":\"VARCHAR\",\"length\":128,\"scale\":128},{\"columnNumber\":2,\"columnName\":\"InfoKey\",\"columnTypeName\":\"VARCHAR\",\"length\":128,\"scale\":128},{\"columnNumber\":3,\"columnName\":\"InfoData\",\"columnTypeName\":\"VARCHAR\",\"length\":128,\"scale\":128}]}"
     },
     "output_type": "execute_result"
    }
   ],
   "source": [
    "insert into adlste_coa_stg.stg_dat_dbcinfo \n",
    "Select 'Test_Account',  'Test_SiteID', InfoKey, InfoData from dbc.dbcinfo;\n",
    "\n",
    "Select * from adlste_coa_stg.stg_dat_dbcinfo "
   ]
  },
  {
   "cell_type": "code",
   "execution_count": 22,
   "metadata": {},
   "outputs": [
    {
     "data": {
      "text/plain": [
       "Success: 0 rows affected"
      ]
     },
     "execution_count": 22,
     "metadata": {
      "application/vnd.teradata.resultset": ""
     },
     "output_type": "execute_result"
    }
   ],
   "source": [
    "call adlste_coa.sp_dat_dbcinfo('1.1');"
   ]
  },
  {
   "cell_type": "code",
   "execution_count": 23,
   "metadata": {},
   "outputs": [
    {
     "data": {
      "application/vnd.teradata.resultset": "[{\"Account_Name\":\"Demo Customer\",\"InfoData\":\"16.20.32.11\",\"InfoKey\":\"VERSION\",\"LogDate\":\"2020-05-13\",\"Site_ID\":\"transcend\"},{\"Account_Name\":\"test account\",\"InfoData\":\"Standard\",\"InfoKey\":\"LANGUAGE SUPPORT MODE\",\"LogDate\":\"2020-05-07\",\"Site_ID\":\"testsiteid123\"},{\"Account_Name\":\"Test_Account\",\"InfoData\":\"Standard\",\"InfoKey\":\"LANGUAGE SUPPORT MODE\",\"LogDate\":\"2020-05-22\",\"Site_ID\":\"Test_SiteID\"},{\"Account_Name\":\"Demo Customer\",\"InfoData\":\"16.20.32.11\",\"InfoKey\":\"RELEASE\",\"LogDate\":\"2020-05-20\",\"Site_ID\":\"trancend_target_01\"},{\"Account_Name\":\"Demo Customer\",\"InfoData\":\"16.20.32.11\",\"InfoKey\":\"RELEASE\",\"LogDate\":\"2020-05-13\",\"Site_ID\":\"trancend_target_01\"},{\"Account_Name\":\"Demo Customer\",\"InfoData\":\"16.20.32.11\",\"InfoKey\":\"VERSION\",\"LogDate\":\"2020-05-19\",\"Site_ID\":\"trancend_target_01\"},{\"Account_Name\":\"test account\",\"InfoData\":\"Standard\",\"InfoKey\":\"LANGUAGE SUPPORT MODE\",\"LogDate\":\"2020-05-08\",\"Site_ID\":\"testsiteid123\"},{\"Account_Name\":\"Testing\",\"InfoData\":\"Standard\",\"InfoKey\":\"LANGUAGE SUPPORT MODE\",\"LogDate\":\"2020-05-22\",\"Site_ID\":\"Transcend_IFX\"},{\"Account_Name\":\"Demo Customer\",\"InfoData\":\"Standard\",\"InfoKey\":\"LANGUAGE SUPPORT MODE\",\"LogDate\":\"2020-05-17\",\"Site_ID\":\"tdtranscend\"},{\"Account_Name\":\"Demo Customer\",\"InfoData\":\"Standard\",\"InfoKey\":\"LANGUAGE SUPPORT MODE\",\"LogDate\":\"2020-05-11\",\"Site_ID\":\"trancend_target_01\"},{\"Account_Name\":\"Demo Customer\",\"InfoData\":\"16.20.32.11\",\"InfoKey\":\"RELEASE\",\"LogDate\":\"2020-05-12\",\"Site_ID\":\"siteid123\"},{\"Account_Name\":\"Demo Customer\",\"InfoData\":\"Standard\",\"InfoKey\":\"LANGUAGE SUPPORT MODE\",\"LogDate\":\"2020-05-15\",\"Site_ID\":\"tdaltanvbd01\"},{\"Account_Name\":\"Demo Customer\",\"InfoData\":\"Standard\",\"InfoKey\":\"LANGUAGE SUPPORT MODE\",\"LogDate\":\"2020-05-13\",\"Site_ID\":\"transcend\"},{\"Account_Name\":\"test account\",\"InfoData\":\"16.20.32.11\",\"InfoKey\":\"RELEASE\",\"LogDate\":\"2020-05-07\",\"Site_ID\":\"testsiteid123\"},{\"Account_Name\":\"Test_Account\",\"InfoData\":\"16.20.32.11\",\"InfoKey\":\"RELEASE\",\"LogDate\":\"2020-05-22\",\"Site_ID\":\"Test_SiteID\"},{\"Account_Name\":\"Demo Customer\",\"InfoData\":\"16.20.32.11\",\"InfoKey\":\"VERSION\",\"LogDate\":\"2020-05-20\",\"Site_ID\":\"trancend_target_01\"},{\"Account_Name\":\"Demo Customer\",\"InfoData\":\"Standard\",\"InfoKey\":\"LANGUAGE SUPPORT MODE\",\"LogDate\":\"2020-05-13\",\"Site_ID\":\"trancend_target_01\"},{\"Account_Name\":\"Demo Customer\",\"InfoData\":\"Standard\",\"InfoKey\":\"LANGUAGE SUPPORT MODE\",\"LogDate\":\"2020-05-19\",\"Site_ID\":\"trancend_target_01\"},{\"Account_Name\":\"test account\",\"InfoData\":\"16.20.32.11\",\"InfoKey\":\"RELEASE\",\"LogDate\":\"2020-05-08\",\"Site_ID\":\"testsiteid123\"},{\"Account_Name\":\"Testing\",\"InfoData\":\"16.20.32.11\",\"InfoKey\":\"RELEASE\",\"LogDate\":\"2020-05-22\",\"Site_ID\":\"Transcend_IFX\"},{\"Account_Name\":\"Demo Customer\",\"InfoData\":\"16.20.32.11\",\"InfoKey\":\"VERSION\",\"LogDate\":\"2020-05-17\",\"Site_ID\":\"tdtranscend\"},{\"Account_Name\":\"Demo Customer\",\"InfoData\":\"16.20.32.11\",\"InfoKey\":\"VERSION\",\"LogDate\":\"2020-05-11\",\"Site_ID\":\"trancend_target_01\"},{\"Account_Name\":\"Demo Customer\",\"InfoData\":\"Standard\",\"InfoKey\":\"LANGUAGE SUPPORT MODE\",\"LogDate\":\"2020-05-12\",\"Site_ID\":\"siteid123\"},{\"Account_Name\":\"Demo Customer\",\"InfoData\":\"16.20.32.11\",\"InfoKey\":\"VERSION\",\"LogDate\":\"2020-05-15\",\"Site_ID\":\"tdaltanvbd01\"},{\"Account_Name\":\"Demo Customer\",\"InfoData\":\"16.20.32.11\",\"InfoKey\":\"RELEASE\",\"LogDate\":\"2020-05-13\",\"Site_ID\":\"transcend\"},{\"Account_Name\":\"test account\",\"InfoData\":\"16.20.32.11\",\"InfoKey\":\"VERSION\",\"LogDate\":\"2020-05-07\",\"Site_ID\":\"testsiteid123\"},{\"Account_Name\":\"Test_Account\",\"InfoData\":\"16.20.32.11\",\"InfoKey\":\"VERSION\",\"LogDate\":\"2020-05-22\",\"Site_ID\":\"Test_SiteID\"},{\"Account_Name\":\"Demo Customer\",\"InfoData\":\"Standard\",\"InfoKey\":\"LANGUAGE SUPPORT MODE\",\"LogDate\":\"2020-05-20\",\"Site_ID\":\"trancend_target_01\"},{\"Account_Name\":\"Demo Customer\",\"InfoData\":\"16.20.32.11\",\"InfoKey\":\"VERSION\",\"LogDate\":\"2020-05-13\",\"Site_ID\":\"trancend_target_01\"},{\"Account_Name\":\"Demo Customer\",\"InfoData\":\"16.20.32.11\",\"InfoKey\":\"RELEASE\",\"LogDate\":\"2020-05-19\",\"Site_ID\":\"trancend_target_01\"},{\"Account_Name\":\"test account\",\"InfoData\":\"16.20.32.11\",\"InfoKey\":\"VERSION\",\"LogDate\":\"2020-05-08\",\"Site_ID\":\"testsiteid123\"},{\"Account_Name\":\"Testing\",\"InfoData\":\"16.20.32.11\",\"InfoKey\":\"VERSION\",\"LogDate\":\"2020-05-22\",\"Site_ID\":\"Transcend_IFX\"},{\"Account_Name\":\"Demo Customer\",\"InfoData\":\"16.20.32.11\",\"InfoKey\":\"RELEASE\",\"LogDate\":\"2020-05-17\",\"Site_ID\":\"tdtranscend\"},{\"Account_Name\":\"Demo Customer\",\"InfoData\":\"16.20.32.11\",\"InfoKey\":\"RELEASE\",\"LogDate\":\"2020-05-11\",\"Site_ID\":\"trancend_target_01\"},{\"Account_Name\":\"Demo Customer\",\"InfoData\":\"16.20.32.11\",\"InfoKey\":\"VERSION\",\"LogDate\":\"2020-05-12\",\"Site_ID\":\"siteid123\"},{\"Account_Name\":\"Demo Customer\",\"InfoData\":\"16.20.32.11\",\"InfoKey\":\"RELEASE\",\"LogDate\":\"2020-05-15\",\"Site_ID\":\"tdaltanvbd01\"}]\n",
      "text/html": [
       "<div class = \"td-resultset-table-div\" style = \"max-height: 537px; overflow-y: auto\"><style> table {border: 1px solid rgb(207, 207, 207) !important; border-collapse: collapse !important; margin-top: 1px !important;} th {border: 1px solid rgb(198,198,198) !important; border-collapse: collapse !important; padding: 2px 5px !important; font-size: 13px !important; min-width:150px !important; max-width: 150px !important; white-space: nowrap !important; overflow:hidden !important; text-overflow:ellipsis !important;} tr:nth-child(even) {background: rgba(243, 243, 243, 0.75) !important;} td {border: 1px solid rgb(207, 207, 207) !important; border-collapse: collapse !important; padding: 2px 5px !important; font-size: 13px !important; min-width:150px !important; max-width: 150px !important; white-space: nowrap !important; overflow:hidden !important; text-overflow:ellipsis !important;}</style><table><thead><tr style= \"background: #efefef;\"><th>Account_Name</th><th>Site_ID</th><th>LogDate</th><th>InfoKey</th><th>InfoData</th></tr></thead><tr><td>Demo Customer</td><td>transcend</td><td>2020-05-13</td><td>VERSION</td><td>16.20.32.11</td></tr><tr><td>test account</td><td>testsiteid123</td><td>2020-05-07</td><td>LANGUAGE SUPPORT MODE</td><td>Standard</td></tr><tr><td>Test_Account</td><td>Test_SiteID</td><td>2020-05-22</td><td>LANGUAGE SUPPORT MODE</td><td>Standard</td></tr><tr><td>Demo Customer</td><td>trancend_target_01</td><td>2020-05-20</td><td>RELEASE</td><td>16.20.32.11</td></tr><tr><td>Demo Customer</td><td>trancend_target_01</td><td>2020-05-13</td><td>RELEASE</td><td>16.20.32.11</td></tr><tr><td>Demo Customer</td><td>trancend_target_01</td><td>2020-05-19</td><td>VERSION</td><td>16.20.32.11</td></tr><tr><td>test account</td><td>testsiteid123</td><td>2020-05-08</td><td>LANGUAGE SUPPORT MODE</td><td>Standard</td></tr><tr><td>Testing</td><td>Transcend_IFX</td><td>2020-05-22</td><td>LANGUAGE SUPPORT MODE</td><td>Standard</td></tr><tr><td>Demo Customer</td><td>tdtranscend</td><td>2020-05-17</td><td>LANGUAGE SUPPORT MODE</td><td>Standard</td></tr><tr><td>Demo Customer</td><td>trancend_target_01</td><td>2020-05-11</td><td>LANGUAGE SUPPORT MODE</td><td>Standard</td></tr><tr><td>Demo Customer</td><td>siteid123</td><td>2020-05-12</td><td>RELEASE</td><td>16.20.32.11</td></tr><tr><td>Demo Customer</td><td>tdaltanvbd01</td><td>2020-05-15</td><td>LANGUAGE SUPPORT MODE</td><td>Standard</td></tr><tr><td>Demo Customer</td><td>transcend</td><td>2020-05-13</td><td>LANGUAGE SUPPORT MODE</td><td>Standard</td></tr><tr><td>test account</td><td>testsiteid123</td><td>2020-05-07</td><td>RELEASE</td><td>16.20.32.11</td></tr><tr><td>Test_Account</td><td>Test_SiteID</td><td>2020-05-22</td><td>RELEASE</td><td>16.20.32.11</td></tr><tr><td>Demo Customer</td><td>trancend_target_01</td><td>2020-05-20</td><td>VERSION</td><td>16.20.32.11</td></tr><tr><td>Demo Customer</td><td>trancend_target_01</td><td>2020-05-13</td><td>LANGUAGE SUPPORT MODE</td><td>Standard</td></tr><tr><td>Demo Customer</td><td>trancend_target_01</td><td>2020-05-19</td><td>LANGUAGE SUPPORT MODE</td><td>Standard</td></tr><tr><td>test account</td><td>testsiteid123</td><td>2020-05-08</td><td>RELEASE</td><td>16.20.32.11</td></tr><tr><td>Testing</td><td>Transcend_IFX</td><td>2020-05-22</td><td>RELEASE</td><td>16.20.32.11</td></tr><tr><td>Demo Customer</td><td>tdtranscend</td><td>2020-05-17</td><td>VERSION</td><td>16.20.32.11</td></tr><tr><td>Demo Customer</td><td>trancend_target_01</td><td>2020-05-11</td><td>VERSION</td><td>16.20.32.11</td></tr><tr><td>Demo Customer</td><td>siteid123</td><td>2020-05-12</td><td>LANGUAGE SUPPORT MODE</td><td>Standard</td></tr><tr><td>Demo Customer</td><td>tdaltanvbd01</td><td>2020-05-15</td><td>VERSION</td><td>16.20.32.11</td></tr><tr><td>Demo Customer</td><td>transcend</td><td>2020-05-13</td><td>RELEASE</td><td>16.20.32.11</td></tr><tr><td>test account</td><td>testsiteid123</td><td>2020-05-07</td><td>VERSION</td><td>16.20.32.11</td></tr><tr><td>Test_Account</td><td>Test_SiteID</td><td>2020-05-22</td><td>VERSION</td><td>16.20.32.11</td></tr><tr><td>Demo Customer</td><td>trancend_target_01</td><td>2020-05-20</td><td>LANGUAGE SUPPORT MODE</td><td>Standard</td></tr><tr><td>Demo Customer</td><td>trancend_target_01</td><td>2020-05-13</td><td>VERSION</td><td>16.20.32.11</td></tr><tr><td>Demo Customer</td><td>trancend_target_01</td><td>2020-05-19</td><td>RELEASE</td><td>16.20.32.11</td></tr><tr><td>test account</td><td>testsiteid123</td><td>2020-05-08</td><td>VERSION</td><td>16.20.32.11</td></tr><tr><td>Testing</td><td>Transcend_IFX</td><td>2020-05-22</td><td>VERSION</td><td>16.20.32.11</td></tr><tr><td>Demo Customer</td><td>tdtranscend</td><td>2020-05-17</td><td>RELEASE</td><td>16.20.32.11</td></tr><tr><td>Demo Customer</td><td>trancend_target_01</td><td>2020-05-11</td><td>RELEASE</td><td>16.20.32.11</td></tr><tr><td>Demo Customer</td><td>siteid123</td><td>2020-05-12</td><td>VERSION</td><td>16.20.32.11</td></tr><tr><td>Demo Customer</td><td>tdaltanvbd01</td><td>2020-05-15</td><td>RELEASE</td><td>16.20.32.11</td></tr></table></div>"
      ]
     },
     "execution_count": 23,
     "metadata": {
      "application/vnd.teradata.resultset": "{\"resultSetID\":\"/home/jovyan/JupyterLabRoot/Teradata/Resultsets/2020.05.22_23.25.22.315_UTC\",\"historyID\":72,\"chunkID\":\"00001\",\"sessionid\":\"\",\"portnum\":\"\",\"dockermode\":\"docker\",\"totalRowCount\":36,\"rowLimit\":0,\"columnMetadata\":[{\"columnName\":\"Account_Name\",\"columnTypeName\":\"VARCHAR\",\"length\":128,\"scale\":128},{\"columnNumber\":1,\"columnName\":\"Site_ID\",\"columnTypeName\":\"VARCHAR\",\"length\":128,\"scale\":128},{\"columnNumber\":2,\"columnName\":\"LogDate\",\"columnTypeName\":\"DATE\"},{\"columnNumber\":3,\"columnName\":\"InfoKey\",\"columnTypeName\":\"VARCHAR\",\"length\":128,\"scale\":128},{\"columnNumber\":4,\"columnName\":\"InfoData\",\"columnTypeName\":\"VARCHAR\",\"length\":128,\"scale\":128}]}"
     },
     "output_type": "execute_result"
    }
   ],
   "source": [
    "Select * from adlste_coa.coa_dat_dbcinfo "
   ]
  },
  {
   "cell_type": "code",
   "execution_count": 13,
   "metadata": {},
   "outputs": [],
   "source": []
  },
  {
   "cell_type": "code",
   "execution_count": 6,
   "metadata": {},
   "outputs": [
    {
     "data": {
      "application/vnd.teradata.resultset": "[{\"Request Text\":\"CREATE MULTISET TABLE adlste_coa_stg.stg_dat_dbcinfo ,FALLBACK ,\\r     NO BEFORE JOURNAL,\\r     NO AFTER JOURNAL,\\r     CHECKSUM = DEFAULT,\\r     DEFAULT MERGEBLOCKRATIO\\r     (\\r      Account_Name VARCHAR(1024) CHARACTER SET UNICODE NOT CASESPECIFIC,\\r      Site_ID VARCHAR(1024) CHARACTER SET UNICODE NOT CASESPECIFIC,\\r      InfoKey VARCHAR(1024) CHARACTER SET UNICODE NOT CASESPECIFIC,\\r      InfoData VARCHAR(1024) CHARACTER SET UNICODE NOT CASESPECIFIC)\\rNO PRIMARY INDEX ;\"}]\n",
      "text/html": [
       "<div class = \"td-resultset-table-div\" style = \"max-height: 77px; overflow-y: auto\"><style> table {border: 1px solid rgb(207, 207, 207) !important; border-collapse: collapse !important; margin-top: 1px !important;} th {border: 1px solid rgb(198,198,198) !important; border-collapse: collapse !important; padding: 2px 5px !important; font-size: 13px !important; min-width:150px !important; max-width: 150px !important; white-space: nowrap !important; overflow:hidden !important; text-overflow:ellipsis !important;} tr:nth-child(even) {background: rgba(243, 243, 243, 0.75) !important;} td {border: 1px solid rgb(207, 207, 207) !important; border-collapse: collapse !important; padding: 2px 5px !important; font-size: 13px !important; min-width:150px !important; max-width: 150px !important; white-space: nowrap !important; overflow:hidden !important; text-overflow:ellipsis !important;}</style><table><thead><tr style= \"background: #efefef;\"><th>Request Text</th></tr></thead><tr><td>CREATE MULTISET TABLE adlste_coa_stg.stg_dat_dbcinfo ,FALLBACK ,\r",
       "     NO BEFORE JOURNAL,\r",
       "     NO AFTER JOURNAL,\r",
       "     CHECKSUM = DEFAULT,\r",
       "     DEFAULT MERGE</td></tr></table></div>"
      ]
     },
     "execution_count": 6,
     "metadata": {
      "application/vnd.teradata.resultset": "{\"resultSetID\":\"/home/jovyan/JupyterLabRoot/Teradata/Resultsets/2020.05.22_23.17.14.316_UTC\",\"historyID\":55,\"chunkID\":\"00001\",\"sessionid\":\"\",\"portnum\":\"\",\"dockermode\":\"docker\",\"totalRowCount\":1,\"rowLimit\":0,\"columnMetadata\":[{\"columnName\":\"Request Text\",\"columnTypeName\":\"VARCHAR\",\"length\":469,\"scale\":469}]}"
     },
     "output_type": "execute_result"
    }
   ],
   "source": [
    "show table adlste_coa_stg.stg_dat_dbcinfo"
   ]
  },
  {
   "cell_type": "code",
   "execution_count": null,
   "metadata": {},
   "outputs": [],
   "source": []
  }
 ],
 "metadata": {
  "kernelspec": {
   "display_name": "Teradata SQL",
   "language": "Teradata SQL",
   "name": "teradatasql"
  },
  "language_info": {
   "codemirror_mode": "Teradata SQL",
   "file_extension": ".tdrs",
   "mimetype": "application/vnd.teradata.resultset",
   "name": "Teradata SQL",
   "nbconvert_exporter": "",
   "pygments_lexer": "",
   "version": "16.20"
  }
 },
 "nbformat": 4,
 "nbformat_minor": 2
}
