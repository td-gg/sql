{
 "cells": [
  {
   "cell_type": "markdown",
   "metadata": {},
   "source": [
    "# Deploy COA Objects in Transcend:   DBQL_CORE"
   ]
  },
  {
   "cell_type": "code",
   "execution_count": null,
   "metadata": {},
   "outputs": [],
   "source": [
    "%addconnect name=Transcend, user=sh186014, host=tdprdcop3.td.teradata.com, props=\"LOGMECH=LDAP\""
   ]
  },
  {
   "cell_type": "code",
   "execution_count": null,
   "metadata": {},
   "outputs": [],
   "source": [
    "%disconnect name=Transcend"
   ]
  },
  {
   "cell_type": "code",
   "execution_count": null,
   "metadata": {},
   "outputs": [],
   "source": [
    "%connect name=Transcend"
   ]
  },
  {
   "cell_type": "code",
   "execution_count": null,
   "metadata": {},
   "outputs": [],
   "source": [
    "select * from adlste_coa.coa_audit_summary \n",
    "where end_ts >= current_timestamp - interval '10' minute\n",
    "order by Run_ID desc"
   ]
  },
  {
   "cell_type": "code",
   "execution_count": null,
   "metadata": {},
   "outputs": [],
   "source": [
    "Select 'dat_DBQL_Core_QryCnt_Ranges' as tbl, count(*) as cnt \n",
    "  from adlste_coa.coa_dat_DBQL_Core_QryCnt_Ranges \n",
    " where site_id='TDCLOUD14TD03' and LogDate=DATE-2 union all\n",
    "Select 'dat_DBQL_Core_MaxCPU'        as tbl, count(*) as cnt \n",
    "  from adlste_coa.coa_dat_dbql_core_MaxCPU \n",
    " where site_id='TDCLOUD14TD03' and LogDate=DATE-2 union all\n",
    "Select 'dat_dbql_core'               as tbl, count(*) as cnt \n",
    "  from adlste_coa.coa_dat_dbql_core \n",
    " where site_id='TDCLOUD14TD03' and LogDate=DATE-2 ;"
   ]
  },
  {
   "cell_type": "markdown",
   "metadata": {},
   "source": [
    "# dat_DBQL_Core\n",
    "Process to catch DBQL_Core fileset.    Contains 3 major processes:\n",
    "- dat_DBQL_Core\n",
    "- dat_DBQL_Core_MaxCPU\n",
    "- dat_DBQL_Core_QryCnt_Ranges"
   ]
  },
  {
   "cell_type": "markdown",
   "metadata": {},
   "source": [
    "<br/><br/><br/><hr>\n",
    "## dat_DBQL_Core_QryCnt_Ranges"
   ]
  },
  {
   "cell_type": "markdown",
   "metadata": {},
   "source": [
    "### STAGE"
   ]
  },
  {
   "cell_type": "code",
   "execution_count": null,
   "metadata": {},
   "outputs": [],
   "source": [
    "DROP TABLE adlste_coa_stg.stg_dat_DBQL_Core_QryCnt_Ranges"
   ]
  },
  {
   "cell_type": "code",
   "execution_count": null,
   "metadata": {},
   "outputs": [],
   "source": [
    "CREATE MULTISET GLOBAL TEMPORARY TABLE adlste_coa_stg.stg_dat_DBQL_Core_QryCnt_Ranges\n",
    " (Site_ID                          VARCHAR(64)  CHARACTER SET LATIN\n",
    " ,LogDate                          DATE FORMAT 'yyyy-mm-dd'\n",
    " ,User_Bucket                      VARCHAR(256) CHARACTER SET LATIN\n",
    " ,User_Department                  VARCHAR(256) CHARACTER SET LATIN\n",
    " ,User_SubDepartment               VARCHAR(256) CHARACTER SET LATIN\n",
    " ,qrycnt_in_runtime_0000_0001      BIGINT\n",
    " ,qrycnt_in_runtime_0001_0005      BIGINT\n",
    " ,qrycnt_in_runtime_0005_0010      BIGINT\n",
    " ,qrycnt_in_runtime_0010_0030      BIGINT\n",
    " ,qrycnt_in_runtime_0030_0060      BIGINT\n",
    " ,qrycnt_in_runtime_0060_0300      BIGINT\n",
    " ,qrycnt_in_runtime_0300_0600      BIGINT\n",
    " ,qrycnt_in_runtime_0600_1800      BIGINT\n",
    " ,qrycnt_in_runtime_1800_3600      BIGINT\n",
    " ,qrycnt_in_runtime_3600_plus      BIGINT\n",
    " ,cpusec_in_runtime_0000_0001      DECIMAL(18,4)\n",
    " ,cpusec_in_runtime_0001_0005      DECIMAL(18,4)\n",
    " ,cpusec_in_runtime_0005_0010      DECIMAL(18,4)\n",
    " ,cpusec_in_runtime_0010_0030      DECIMAL(18,4)\n",
    " ,cpusec_in_runtime_0030_0060      DECIMAL(18,4)\n",
    " ,cpusec_in_runtime_0060_0300      DECIMAL(18,4)\n",
    " ,cpusec_in_runtime_0300_0600      DECIMAL(18,4)\n",
    " ,cpusec_in_runtime_0600_1800      DECIMAL(18,4)\n",
    " ,cpusec_in_runtime_1800_3600      DECIMAL(18,4)\n",
    " ,cpusec_in_runtime_3600_plus      DECIMAL(18,4)\n",
    " ,iogb_in_runtime_0000_0001        DECIMAL(18,4)\n",
    " ,iogb_in_runtime_0001_0005        DECIMAL(18,4)\n",
    " ,iogb_in_runtime_0005_0010        DECIMAL(18,4)\n",
    " ,iogb_in_runtime_0010_0030        DECIMAL(18,4)\n",
    " ,iogb_in_runtime_0030_0060        DECIMAL(18,4)\n",
    " ,iogb_in_runtime_0060_0300        DECIMAL(18,4)\n",
    " ,iogb_in_runtime_0300_0600        DECIMAL(18,4)\n",
    " ,iogb_in_runtime_0600_1800        DECIMAL(18,4)\n",
    " ,iogb_in_runtime_1800_3600        DECIMAL(18,4)\n",
    " ,iogb_in_runtime_3600_plus        DECIMAL(18,4)\n",
    " ,qrycnt_in_delaytime_0000_0001    BIGINT\n",
    " ,qrycnt_in_delaytime_0001_0005    BIGINT\n",
    " ,qrycnt_in_delaytime_0005_0010    BIGINT\n",
    " ,qrycnt_in_delaytime_0010_0030    BIGINT\n",
    " ,qrycnt_in_delaytime_0030_0060    BIGINT\n",
    " ,qrycnt_in_delaytime_0060_0300    BIGINT\n",
    " ,qrycnt_in_delaytime_0300_0600    BIGINT\n",
    " ,qrycnt_in_delaytime_0600_1800    BIGINT\n",
    " ,qrycnt_in_delaytime_1800_3600    BIGINT\n",
    " ,qrycnt_in_delaytime_3600_plus    BIGINT\n",
    " ,cpusec_in_delaytime_0000_0001    DECIMAL(18,4)\n",
    " ,cpusec_in_delaytime_0001_0005    DECIMAL(18,4)\n",
    " ,cpusec_in_delaytime_0005_0010    DECIMAL(18,4)\n",
    " ,cpusec_in_delaytime_0010_0030    DECIMAL(18,4)\n",
    " ,cpusec_in_delaytime_0030_0060    DECIMAL(18,4)\n",
    " ,cpusec_in_delaytime_0060_0300    DECIMAL(18,4)\n",
    " ,cpusec_in_delaytime_0300_0600    DECIMAL(18,4)\n",
    " ,cpusec_in_delaytime_0600_1800    DECIMAL(18,4)\n",
    " ,cpusec_in_delaytime_1800_3600    DECIMAL(18,4)\n",
    " ,cpusec_in_delaytime_3600_plus    DECIMAL(18,4)\n",
    " ,iogb_in_delaytime_0000_0001      DECIMAL(18,4)\n",
    " ,iogb_in_delaytime_0001_0005      DECIMAL(18,4)\n",
    " ,iogb_in_delaytime_0005_0010      DECIMAL(18,4)\n",
    " ,iogb_in_delaytime_0010_0030      DECIMAL(18,4)\n",
    " ,iogb_in_delaytime_0030_0060      DECIMAL(18,4)\n",
    " ,iogb_in_delaytime_0060_0300      DECIMAL(18,4)\n",
    " ,iogb_in_delaytime_0300_0600      DECIMAL(18,4)\n",
    " ,iogb_in_delaytime_0600_1800      DECIMAL(18,4)\n",
    " ,iogb_in_delaytime_1800_3600      DECIMAL(18,4)\n",
    " ,iogb_in_delaytime_3600_plus      DECIMAL(18,4)     \n",
    " ) No Primary index\n",
    " on commit preserve rows;"
   ]
  },
  {
   "cell_type": "markdown",
   "metadata": {},
   "source": [
    "### PERM"
   ]
  },
  {
   "cell_type": "code",
   "execution_count": null,
   "metadata": {},
   "outputs": [],
   "source": [
    "DROP TABLE adlste_coa.coat_dat_DBQL_Core_QryCnt_Ranges"
   ]
  },
  {
   "cell_type": "code",
   "execution_count": null,
   "metadata": {},
   "outputs": [],
   "source": [
    "CREATE MULTISET TABLE adlste_coa.coat_dat_DBQL_Core_QryCnt_Ranges\n",
    "   (Site_ID                          VARCHAR(64)  CHARACTER SET LATIN,\n",
    "    LogDate                          DATE FORMAT 'yyyy-mm-dd',\n",
    "    User_Bucket                      VARCHAR(256) CHARACTER SET LATIN,\n",
    "    User_Department                  VARCHAR(256) CHARACTER SET LATIN,\n",
    "    User_SubDepartment               VARCHAR(256) CHARACTER SET LATIN,\n",
    "    qrycnt_in_runtime_0000_0001 BIGINT COMPRESS (0 ,256 ,1 ,2 ,258 ,3 ,4 ,5 ,6 ,262 ,7 ,519 ,8 ,264 ,9 ,10 ,11 ,12 ,13 ,525 ,14 ,270 ,15 ,16 ,272 ,17 ,18 ,19 ,20 ,21 ,22 ,23 ,24 ,25 ,26 ,27 ,28 ,540 ,29 ,30 ,31 ,32 ,288 ,33 ,34 ,35 ,36 ,292 ,37 ,38 ,294 ,39 ,40 ,41 ,42 ,43 ,299 ,44 ,45 ,46 ,47 ,48 ,49 ,50 ,51 ,52 ,53 ,54 ,55 ,56 ,57 ,313 ,58 ,59 ,60 ,61 ,62 ,63 ,64 ,576 ,65 ,66 ,67 ,68 ,69 ,70 ,71 ,72 ,73 ,74 ,75 ,76 ,77 ,78 ,79 ,80 ,336 ,81 ,82 ,83 ,84 ,340 ,85 ,86 ,87 ,88 ,600 ,89 ,345 ,90 ,91 ,92 ,93 ,349 ,94 ,95 ,96 ,97 ,98 ,99 ,100 ,101 ,102 ,103 ,104 ,360 ,105 ,106 ,107 ,108 ,109 ,110 ,111 ,112 ,368 ,113 ,369 ,114 ,115 ,116 ,117 ,118 ,119 ,120 ,121 ,122 ,123 ,124 ,125 ,126 ,127 ,128 ,129 ,130 ,131 ,132 ,133 ,134 ,135 ,136 ,137 ,138 ,139 ,140 ,141 ,142 ,143 ,144 ,145 ,146 ,147 ,148 ,149 ,150 ,151 ,152 ,153 ,154 ,155 ,156 ,157 ,158 ,159 ,160 ,416 ,161 ,162 ,163 ,164 ,165 ,166 ,167 ,168 ,169 ,170 ,171 ,172 ,173 ,174 ,175 ,176 ,432 ,177 ,178 ,179 ,180 ,181 ,182 ,183 ,184 ,185 ,186 ,187 ,188 ,189 ,190 ,191 ,1215 ,192 ,193 ,194 ,196 ,197 ,198 ,200 ,202 ,204 ,206 ,207 ,208 ,209 ,210 ,211 ,212 ,214 ,215 ,216 ,217 ,218 ,219 ,220 ,222 ,224 ,226 ,228 ,232 ,239 ,240 ,241 ,246 ,248 ,504 ,252 ,255 ),\n",
    "    qrycnt_in_runtime_0001_0005 BIGINT COMPRESS (0 ,1 ,2 ,3 ,4 ,5 ,6 ,7 ,8 ,9 ,10 ,11 ,12 ,13 ,14 ,15 ,16 ,17 ,18 ,19 ,20 ,21 ,22 ,23 ,24 ,25 ,26 ,27 ,28 ,29 ,30 ,31 ,32 ,33 ,34 ,35 ,36 ,37 ,38 ,39 ,40 ,41 ,42 ,43 ,44 ,45 ,46 ,47 ,48 ,49 ,50 ,51 ,52 ,53 ,54 ,55 ,56 ,57 ,58 ,59 ,60 ,61 ,62 ,63 ,64 ,65 ,66 ,67 ,68 ,69 ,70 ,71 ,72 ,73 ,74 ,75 ,76 ,77 ,78 ,79 ,80 ,81 ,82 ,83 ,84 ,85 ,86 ,87 ,88 ,89 ,90 ,91 ,92 ,93 ,94 ,95 ,96 ,97 ,98 ,99 ,100 ,101 ,102 ,103 ,104 ,105 ,106 ,107 ,108 ,109 ,110 ,111 ,112 ,113 ,114 ,115 ,116 ,117 ,118 ,119 ,120 ,122 ,124 ,126 ,128 ,176 ),\n",
    "    qrycnt_in_runtime_0005_0010 BIGINT COMPRESS (0 ,1 ,2 ,3 ,4 ,5 ,6 ,7 ,8 ,9 ,10 ,11 ,12 ,13 ,14 ,15 ,16 ,17 ,18 ,19 ,20 ,21 ,22 ,23 ,24 ,25 ,26 ,27 ,28 ,30 ),\n",
    "    qrycnt_in_runtime_0010_0030 BIGINT COMPRESS (0 ,1 ,2 ,3 ,4 ,5 ,6 ,7 ,8 ,9 ,10 ,11 ,12 ,13 ),\n",
    "    qrycnt_in_runtime_0030_0060 BIGINT COMPRESS (0 ,1 ,2 ,3 ,4 ,5 ),\n",
    "    qrycnt_in_runtime_0060_0300 BIGINT COMPRESS (0 ,1 ,2 ,3 ,4 ,5 ),\n",
    "    qrycnt_in_runtime_0300_0600 BIGINT COMPRESS (0 ,1 ),\n",
    "    qrycnt_in_runtime_0600_1800 BIGINT COMPRESS (0 ,1 ),\n",
    "    qrycnt_in_runtime_1800_3600 BIGINT COMPRESS (0 ,1 ),\n",
    "    qrycnt_in_runtime_3600_plus BIGINT COMPRESS (0 ,1 ),\n",
    "    cpusec_in_runtime_0000_0001 DECIMAL(18,4) COMPRESS (0.0000 ,0.1280 ,0.2560 ,0.3840 ,0.5120 ,0.6400 ,0.7680 ,0.8960 ,0.0520 ,0.1800 ,0.3080 ,0.4360 ,0.5640 ,0.6920 ,0.8200 ,0.1040 ,0.2320 ,0.3600 ,0.4880 ,0.6160 ,0.7440 ,0.8720 ,0.0280 ,0.1560 ,0.2840 ,0.4120 ,0.5400 ,0.6680 ,0.7960 ,0.9240 ,1.0520 ,0.0800 ,0.2080 ,0.3360 ,0.4640 ,0.5920 ,0.7200 ,0.8480 ,0.9760 ,0.0040 ,0.1320 ,0.2600 ,0.3880 ,0.5160 ,0.6440 ,0.7720 ,0.9000 ,1.0280 ,0.0560 ,0.1840 ,0.3120 ,0.4400 ,0.5680 ,0.6960 ,0.8240 ,0.9520 ,0.1080 ,0.2360 ,0.3640 ,0.4920 ,0.6200 ,0.7480 ,0.8760 ,0.0320 ,0.1600 ,0.2880 ,0.4160 ,0.5440 ,0.6720 ,0.8000 ,0.9280 ,0.0840 ,0.2120 ,0.3400 ,0.4680 ,0.5960 ,0.7240 ,0.8520 ,0.9800 ,1.1080 ,0.0080 ,0.1360 ,0.2640 ,0.3920 ,0.5200 ,0.6480 ,0.7760 ,0.9040 ,0.0600 ,0.1880 ,0.3160 ,0.4440 ,0.5720 ,0.7000 ,0.8280 ,0.9560 ,0.1120 ,0.2400 ,0.3680 ,0.4960 ,0.6240 ,0.7520 ,0.8800 ,1.0080 ,0.0360 ,0.1640 ,0.2920 ,0.4200 ,0.5480 ,0.6760 ,0.8040 ,0.9320 ,0.0880 ,0.2160 ,0.3440 ,0.4720 ,0.6000 ,0.7280 ,0.8560 ,0.9840 ,0.0120 ,0.1400 ,0.2680 ,0.3960 ,0.5240 ,0.6520 ,0.7800 ,0.9080 ,0.0640 ,0.1920 ,0.3200 ,0.4480 ,0.5760 ,0.7040 ,0.8320 ,0.1160 ,0.2440 ,0.3720 ,0.5000 ,0.6280 ,0.7560 ,0.8840 ,0.0400 ,0.1680 ,0.2960 ,0.4240 ,0.5520 ,0.6800 ,0.8080 ,0.9360 ,0.0920 ,0.2200 ,0.3480 ,0.4760 ,0.6040 ,0.7320 ,0.8600 ,0.0160 ,0.1440 ,0.2720 ,0.4000 ,0.5280 ,0.6560 ,0.7840 ,0.9120 ,0.0680 ,0.1960 ,0.3240 ,0.4520 ,0.5800 ,0.7080 ,0.8360 ,0.9640 ,0.1200 ,0.2480 ,0.3760 ,0.5040 ,0.6320 ,0.7600 ,0.8880 ,1.0160 ,0.0440 ,0.1720 ,0.3000 ,0.4280 ,0.5560 ,0.6840 ,0.8120 ,0.9400 ,0.0960 ,0.2240 ,0.3520 ,0.4800 ,0.6080 ,0.7360 ,0.8640 ,0.9920 ,0.0200 ,0.1480 ,0.2760 ,0.4040 ,0.5320 ,0.6600 ,0.7880 ,0.9160 ,1.0440 ,0.0720 ,0.2000 ,0.3280 ,0.4560 ,0.5840 ,0.7120 ,0.8400 ,0.9680 ,0.1240 ,0.2520 ,0.3800 ,0.5080 ,0.6360 ,0.7640 ,0.8920 ,1.0200 ,0.0480 ,0.1760 ,0.3040 ,0.4320 ,0.5600 ,0.6880 ,0.8160 ,0.9440 ,0.1000 ,0.2280 ,0.3560 ,0.4840 ,0.6120 ,0.7400 ,0.8680 ,0.0240 ,0.1520 ,0.2800 ,0.4080 ,0.5360 ,0.6640 ,0.7920 ,0.9200 ,1.0480 ,0.0760 ,0.2040 ,0.3320 ,0.4600 ,0.5880 ,0.7160 ,0.8440 ,0.9720 ),\n",
    "    cpusec_in_runtime_0001_0005 DECIMAL(18,4) COMPRESS (0.0000 ,0.0040 ),\n",
    "    cpusec_in_runtime_0005_0010 DECIMAL(18,4) COMPRESS (0.0000 ,0.0040 ),\n",
    "    cpusec_in_runtime_0010_0030 DECIMAL(18,4) COMPRESS (0.0000 ,0.0040 ),\n",
    "    cpusec_in_runtime_0030_0060 DECIMAL(18,4) COMPRESS (0.0000 ,0.0040 ),\n",
    "    cpusec_in_runtime_0060_0300 DECIMAL(18,4) COMPRESS (0.0000 ,0.0040 ),\n",
    "    cpusec_in_runtime_0300_0600 DECIMAL(18,4) COMPRESS (0.0000 ,0.0040 ),\n",
    "    cpusec_in_runtime_0600_1800 DECIMAL(18,4) COMPRESS (0.0000 ,0.0040 ),\n",
    "    cpusec_in_runtime_1800_3600 DECIMAL(18,4) COMPRESS (0.0000 ,0.0040 ),\n",
    "    cpusec_in_runtime_3600_plus DECIMAL(18,4) COMPRESS (0.0000 ,0.0040 ),\n",
    "    iogb_in_runtime_0000_0001   DECIMAL(18,4) COMPRESS (0.0000 ,0.0001 ,0.0002 ,0.0003 ,0.0004 ,0.0005 ,0.0006 ,0.1030 ,0.0007 ,0.0008 ,0.0009 ,0.0010 ,0.0266 ,0.0011 ,0.0012 ,0.2060 ,0.0013 ,0.0014 ,0.0015 ,0.0016 ,0.0272 ,0.0017 ,0.0273 ,0.0018 ,0.0274 ,0.0019 ,0.0020 ,0.0021 ,0.0022 ,0.0023 ,0.0024 ,0.4120 ,0.0025 ,0.0026 ,0.0027 ,0.0028 ,0.0029 ,0.0030 ,0.0031 ,0.0032 ,0.0033 ,0.8225 ,0.0034 ,0.0035 ,0.0036 ,0.0292 ,0.0037 ,0.0038 ,0.0294 ,0.0039 ,0.0040 ,0.0041 ,0.0042 ,0.0043 ,0.0044 ,0.0045 ,0.0046 ,0.0047 ,0.0048 ,0.0049 ,0.0050 ,0.0051 ,0.0052 ,0.0053 ,0.0054 ,0.0055 ,0.0056 ,0.0057 ,0.0058 ,0.0059 ,0.0060 ,0.0061 ,0.0062 ,0.0063 ,0.0064 ,0.0065 ,0.0066 ,1.6450 ,0.0067 ,0.0068 ,0.0069 ,0.0070 ,1.3638 ,0.0071 ,0.0072 ,0.0073 ,0.0074 ,0.0075 ,0.0076 ,0.0077 ,0.0078 ,0.0079 ,0.0080 ,0.0081 ,0.0082 ,0.0083 ,0.0084 ,0.0085 ,0.0086 ,0.0087 ,0.0599 ,0.0088 ,0.0600 ,0.0089 ,0.0090 ,0.0091 ,0.0092 ,0.0093 ,0.0094 ,0.0095 ,0.0096 ,0.0097 ,0.0098 ,0.0099 ,2.4675 ,0.0100 ,0.0101 ,0.0102 ,0.0103 ,0.0104 ,0.0105 ,0.0106 ,0.0107 ,0.0108 ,0.0109 ,0.0110 ,0.0111 ,0.0112 ,0.0113 ,0.0114 ,0.0115 ,0.0116 ,0.0117 ,0.0118 ,0.0119 ,0.0120 ,0.0121 ,0.0122 ,0.0123 ,0.0124 ,0.0125 ,0.0126 ,0.0127 ,0.0128 ,0.0129 ,0.0130 ,0.0131 ,0.0132 ,0.0133 ,0.0134 ,0.0135 ,0.0136 ,0.0137 ,0.0138 ,0.0139 ,0.0140 ,0.0141 ,0.0142 ,0.0143 ,0.0144 ,0.0912 ,0.0145 ,0.0146 ,0.3986 ,0.0147 ,0.0148 ,0.0149 ,0.0150 ,0.0151 ,0.0152 ,0.0153 ,0.0154 ,2.4474 ,0.0155 ,0.0667 ,0.0156 ,0.0157 ,0.0158 ,0.0159 ,0.0160 ,0.0161 ,0.0162 ,0.0418 ,0.0163 ,0.0164 ,0.0165 ,0.0166 ,0.0167 ,0.0168 ,0.0169 ,0.0170 ,0.0171 ,0.0172 ,0.0684 ,0.0173 ,0.0174 ,0.0175 ,0.0176 ,0.0432 ,0.0177 ,0.0178 ,0.0179 ,0.0180 ,0.0181 ,0.0182 ,0.0183 ,0.0184 ,0.0185 ,0.0186 ,0.0187 ,0.0188 ,0.0189 ,0.0190 ,0.0191 ,0.0192 ,0.0193 ,0.0194 ,0.0195 ,0.0196 ,0.0197 ,0.0198 ,0.0200 ,0.0456 ,0.0201 ,0.0202 ,0.0203 ,0.0204 ,0.0205 ,0.0206 ,0.0207 ,0.0208 ,0.0209 ,0.0210 ,0.0211 ,0.0212 ,0.0213 ,0.0214 ,1.2246 ,0.0215 ,0.0218 ,0.0224 ,0.0226 ,0.0227 ,0.0228 ,0.0229 ,0.0230 ,0.0234 ,0.0235 ,0.0237 ,0.0238 ,0.0239 ,0.0240 ,0.3568 ,2.7640 ),\n",
    "    iogb_in_runtime_0001_0005   DECIMAL(18,4) COMPRESS (0.0000 ,0.0001 ),\n",
    "    iogb_in_runtime_0005_0010   DECIMAL(18,4) COMPRESS (0.0000 ,0.0001 ),\n",
    "    iogb_in_runtime_0010_0030   DECIMAL(18,4) COMPRESS (0.0000 ,0.0001 ),\n",
    "    iogb_in_runtime_0030_0060   DECIMAL(18,4) COMPRESS (0.0000 ,0.0001 ),\n",
    "    iogb_in_runtime_0060_0300   DECIMAL(18,4) COMPRESS (0.0000 ,0.0001 ),\n",
    "    iogb_in_runtime_0300_0600   DECIMAL(18,4) COMPRESS 0.0000 ,\n",
    "    iogb_in_runtime_0600_1800   DECIMAL(18,4) COMPRESS 0.0000 ,\n",
    "    iogb_in_runtime_1800_3600   DECIMAL(18,4) COMPRESS 0.0000 ,\n",
    "    iogb_in_runtime_3600_plus   DECIMAL(18,4) COMPRESS 0.0000 ,\n",
    "    qrycnt_in_delaytime_0000_0001 BIGINT COMPRESS (0 ,256 ,1 ,2 ,258 ,3 ,4 ,516 ,5 ,6 ,7 ,519 ,8 ,264 ,9 ,10 ,11 ,12 ,13 ,14 ,270 ,15 ,16 ,272 ,17 ,18 ,19 ,20 ,21 ,22 ,23 ,24 ,25 ,26 ,27 ,28 ,540 ,29 ,30 ,31 ,32 ,288 ,33 ,34 ,35 ,36 ,292 ,37 ,38 ,294 ,39 ,40 ,41 ,42 ,43 ,299 ,44 ,45 ,46 ,47 ,48 ,49 ,50 ,51 ,52 ,53 ,54 ,55 ,56 ,57 ,313 ,58 ,59 ,60 ,61 ,62 ,63 ,64 ,576 ,832 ,65 ,66 ,67 ,68 ,69 ,70 ,71 ,72 ,73 ,74 ,75 ,76 ,77 ,78 ,846 ,79 ,80 ,336 ,81 ,82 ,83 ,84 ,340 ,85 ,86 ,598 ,87 ,88 ,344 ,600 ,89 ,345 ,90 ,91 ,92 ,348 ,93 ,349 ,94 ,95 ,96 ,97 ,98 ,99 ,100 ,101 ,102 ,103 ,104 ,360 ,105 ,106 ,107 ,108 ,109 ,110 ,111 ,112 ,368 ,113 ,114 ,370 ,115 ,116 ,117 ,118 ,374 ,119 ,120 ,121 ,122 ,123 ,124 ,125 ,126 ,127 ,128 ,384 ,129 ,130 ,131 ,643 ,132 ,133 ,134 ,135 ,136 ,137 ,138 ,139 ,140 ,141 ,142 ,143 ,144 ,145 ,146 ,147 ,148 ,404 ,149 ,150 ,151 ,152 ,153 ,154 ,155 ,667 ,156 ,157 ,158 ,159 ,160 ,416 ,161 ,162 ,163 ,164 ,420 ,165 ,166 ,167 ,168 ,169 ,170 ,171 ,172 ,428 ,173 ,174 ,175 ,176 ,432 ,177 ,178 ,179 ,180 ,181 ,182 ,183 ,184 ,185 ,186 ,187 ,188 ,189 ,190 ,191 ,1215 ,192 ,193 ,194 ,195 ,196 ,198 ,200 ,202 ,204 ,208 ,210 ,214 ,216 ,217 ,219 ,220 ,222 ,224 ,736 ,226 ,228 ,240 ,246 ,504 ,252 ),\n",
    "    qrycnt_in_delaytime_0001_0005 BIGINT COMPRESS (0 ,1 ,2 ,3 ,4 ,5 ),\n",
    "    qrycnt_in_delaytime_0005_0010 BIGINT COMPRESS (0 ,1 ),\n",
    "    qrycnt_in_delaytime_0010_0030 BIGINT COMPRESS (0 ,1 ),\n",
    "    qrycnt_in_delaytime_0030_0060 BIGINT COMPRESS (0 ,1 ),\n",
    "    qrycnt_in_delaytime_0060_0300 BIGINT COMPRESS (0 ,1 ),\n",
    "    qrycnt_in_delaytime_0300_0600 BIGINT COMPRESS (0 ,1 ),\n",
    "    qrycnt_in_delaytime_0600_1800 BIGINT COMPRESS (0 ,1 ),\n",
    "    qrycnt_in_delaytime_1800_3600 BIGINT COMPRESS 0 ,\n",
    "    qrycnt_in_delaytime_3600_plus BIGINT COMPRESS 0 ,\n",
    "    cpusec_in_delaytime_0000_0001 DECIMAL(18,4) COMPRESS (0.0000 ,0.1280 ,0.2560 ,0.3840 ,0.5120 ,0.6400 ,0.7680 ,0.8960 ,0.0520 ,0.1800 ,0.3080 ,0.4360 ,0.5640 ,0.6920 ,0.8200 ,0.9480 ,0.1040 ,0.2320 ,0.3600 ,0.4880 ,0.6160 ,0.7440 ,0.8720 ,0.0280 ,0.1560 ,0.2840 ,0.4120 ,0.5400 ,0.6680 ,0.7960 ,0.9240 ,1.0520 ,0.0800 ,0.2080 ,0.3360 ,0.4640 ,0.5920 ,0.7200 ,0.8480 ,0.9760 ,0.0040 ,0.1320 ,0.2600 ,0.3880 ,0.5160 ,0.6440 ,0.7720 ,0.9000 ,0.0560 ,0.1840 ,0.3120 ,0.4400 ,0.5680 ,0.6960 ,0.8240 ,0.9520 ,0.1080 ,0.2360 ,0.3640 ,0.4920 ,0.6200 ,0.7480 ,0.8760 ,0.0320 ,0.1600 ,0.2880 ,0.4160 ,0.5440 ,0.6720 ,0.8000 ,0.9280 ,0.0840 ,0.2120 ,0.3400 ,0.4680 ,0.5960 ,0.7240 ,0.8520 ,0.9800 ,1.1080 ,0.0080 ,0.1360 ,0.2640 ,0.3920 ,0.5200 ,0.6480 ,0.7760 ,0.9040 ,0.0600 ,0.1880 ,0.3160 ,0.4440 ,0.5720 ,0.7000 ,0.8280 ,0.9560 ,0.1120 ,0.2400 ,0.3680 ,0.4960 ,0.6240 ,0.7520 ,0.8800 ,0.0360 ,0.1640 ,0.2920 ,0.4200 ,0.5480 ,0.6760 ,0.8040 ,0.9320 ,1.0600 ,0.0880 ,0.2160 ,0.3440 ,0.4720 ,0.6000 ,0.7280 ,0.8560 ,0.9840 ,0.0120 ,0.1400 ,0.2680 ,0.3960 ,0.5240 ,0.6520 ,0.7800 ,0.9080 ,0.0640 ,0.1920 ,0.3200 ,0.4480 ,0.5760 ,0.7040 ,0.8320 ,0.1160 ,0.2440 ,0.3720 ,0.5000 ,0.6280 ,0.7560 ,0.8840 ,0.0400 ,0.1680 ,0.2960 ,0.4240 ,0.5520 ,0.6800 ,0.8080 ,0.9360 ,0.0920 ,0.2200 ,0.3480 ,0.4760 ,0.6040 ,0.7320 ,0.8600 ,0.0160 ,0.1440 ,0.2720 ,0.4000 ,0.5280 ,0.6560 ,0.7840 ,0.9120 ,0.0680 ,0.1960 ,0.3240 ,0.4520 ,0.5800 ,0.7080 ,0.8360 ,0.9640 ,0.1200 ,0.2480 ,0.3760 ,0.5040 ,0.6320 ,0.7600 ,0.8880 ,1.0160 ,0.0440 ,0.1720 ,0.3000 ,0.4280 ,0.5560 ,0.6840 ,0.8120 ,0.9400 ,0.0960 ,0.2240 ,0.3520 ,0.4800 ,0.6080 ,0.7360 ,0.8640 ,0.9920 ,0.0200 ,0.1480 ,0.2760 ,0.4040 ,0.5320 ,0.6600 ,0.7880 ,0.9160 ,1.0440 ,0.0720 ,0.2000 ,0.3280 ,0.4560 ,0.5840 ,0.7120 ,0.8400 ,0.9680 ,0.1240 ,0.2520 ,0.3800 ,0.5080 ,0.6360 ,0.7640 ,0.8920 ,1.0200 ,0.0480 ,0.1760 ,0.3040 ,0.4320 ,0.5600 ,0.6880 ,0.8160 ,0.9440 ,0.1000 ,0.2280 ,0.3560 ,0.4840 ,0.6120 ,0.7400 ,0.8680 ,0.0240 ,0.1520 ,0.2800 ,0.4080 ,0.5360 ,0.6640 ,0.7920 ,0.9200 ,1.0480 ,0.0760 ,0.2040 ,0.3320 ,0.4600 ,0.5880 ,0.7160 ,0.8440 ,0.9720 ),\n",
    "    cpusec_in_delaytime_0001_0005 DECIMAL(18,4) COMPRESS (0.0000 ,0.0040 ),\n",
    "    cpusec_in_delaytime_0005_0010 DECIMAL(18,4) COMPRESS (0.0000 ,0.0040 ),\n",
    "    cpusec_in_delaytime_0010_0030 DECIMAL(18,4) COMPRESS (0.0000 ,0.0040 ),\n",
    "    cpusec_in_delaytime_0030_0060 DECIMAL(18,4) COMPRESS (0.0000 ,0.0040 ),\n",
    "    cpusec_in_delaytime_0060_0300 DECIMAL(18,4) COMPRESS (0.0000 ,0.0040 ),\n",
    "    cpusec_in_delaytime_0300_0600 DECIMAL(18,4) COMPRESS (0.0000 ,0.0040 ),\n",
    "    cpusec_in_delaytime_0600_1800 DECIMAL(18,4) COMPRESS 0.0000 ,\n",
    "    cpusec_in_delaytime_1800_3600 DECIMAL(18,4) COMPRESS 0.0000 ,\n",
    "    cpusec_in_delaytime_3600_plus DECIMAL(18,4) COMPRESS 0.0000 ,\n",
    "    iogb_in_delaytime_0000_0001   DECIMAL(18,4) COMPRESS (0.0000 ,0.0001 ,0.0002 ,0.0003 ,0.0004 ,0.0005 ,0.0006 ,0.0007 ,0.0008 ,0.0009 ,0.0010 ,0.0011 ,0.0012 ,0.1548 ,0.2060 ,0.0013 ,0.0014 ,0.0015 ,0.0016 ,0.0272 ,0.0017 ,0.0273 ,0.0018 ,0.0019 ,0.0020 ,0.0021 ,0.0277 ,0.0022 ,0.0023 ,0.0024 ,0.4120 ,0.0025 ,0.0026 ,0.0027 ,0.0028 ,0.0029 ,0.0030 ,0.0031 ,0.0032 ,0.0033 ,0.8225 ,0.0034 ,0.0035 ,0.0036 ,0.0292 ,0.0037 ,0.0038 ,0.0294 ,0.0039 ,0.0040 ,0.0041 ,0.0042 ,0.0043 ,0.0044 ,0.0045 ,0.0046 ,0.0047 ,0.0048 ,0.0049 ,0.0050 ,0.0051 ,0.0052 ,0.0053 ,0.0309 ,0.0054 ,0.0055 ,0.0056 ,0.0057 ,0.0058 ,0.0059 ,0.0060 ,0.0061 ,0.0062 ,0.0063 ,0.0064 ,0.0065 ,0.0066 ,1.6450 ,0.0067 ,0.0068 ,0.0069 ,0.0070 ,1.3638 ,0.0071 ,0.0072 ,0.0073 ,0.0074 ,0.0075 ,0.0076 ,0.0077 ,0.0078 ,0.0079 ,0.0080 ,0.0081 ,0.0082 ,0.0083 ,0.0084 ,0.0085 ,0.0086 ,0.0087 ,0.0599 ,0.0088 ,0.0600 ,0.0089 ,0.0090 ,0.0091 ,0.0092 ,0.0093 ,0.0094 ,0.0095 ,0.0096 ,0.0097 ,0.0098 ,0.0099 ,2.4675 ,0.0100 ,0.0101 ,0.0102 ,0.0103 ,0.0104 ,0.0105 ,0.0106 ,0.0107 ,0.0108 ,0.0109 ,0.0110 ,0.0111 ,0.0112 ,0.0113 ,0.0114 ,0.0115 ,0.0116 ,0.0117 ,0.0118 ,0.0119 ,0.0120 ,0.0121 ,0.0122 ,0.0123 ,0.0124 ,0.0125 ,0.0126 ,0.0127 ,0.0128 ,0.0129 ,0.0130 ,0.0131 ,0.0643 ,0.0132 ,0.0133 ,0.0134 ,0.0135 ,0.0136 ,0.0137 ,0.0138 ,0.0139 ,0.0140 ,0.0141 ,0.0142 ,0.0143 ,0.0144 ,0.0912 ,0.0145 ,0.0146 ,0.3986 ,0.0147 ,0.0148 ,0.0149 ,0.0150 ,0.0151 ,0.0152 ,0.0153 ,0.0154 ,2.4474 ,0.0155 ,0.0667 ,0.0156 ,0.0157 ,0.0158 ,0.0159 ,0.0160 ,0.0161 ,0.0162 ,0.0163 ,0.0164 ,0.0165 ,0.0166 ,0.0167 ,0.0168 ,0.0169 ,0.0170 ,0.0171 ,0.0172 ,0.0684 ,0.0173 ,0.0174 ,0.0175 ,0.0176 ,0.0432 ,0.0177 ,0.0178 ,0.0179 ,0.0180 ,0.0181 ,0.0182 ,0.0183 ,0.0184 ,0.0185 ,0.0186 ,0.0187 ,0.0188 ,0.0189 ,0.0190 ,0.0191 ,0.0192 ,0.0193 ,0.0194 ,0.0195 ,0.0196 ,0.0198 ,0.0199 ,0.0200 ,0.0456 ,0.0201 ,0.0202 ,0.0203 ,0.0204 ,0.0205 ,0.0206 ,0.0207 ,0.0208 ,0.0209 ,0.0210 ,0.0212 ,0.0213 ,0.0214 ,1.2246 ,0.0215 ,0.0216 ,0.0217 ,0.0218 ,0.0222 ,0.0224 ,0.0226 ,0.0227 ,0.0228 ,0.0229 ,0.0230 ,0.0234 ,0.0235 ,0.0238 ,0.0239 ,0.0240 ,0.3568 ),\n",
    "    iogb_in_delaytime_0001_0005   DECIMAL(18,4) COMPRESS (0.0000 ,0.0001 ),\n",
    "    iogb_in_delaytime_0005_0010   DECIMAL(18,4) COMPRESS (0.0000 ,0.0001 ),\n",
    "    iogb_in_delaytime_0010_0030   DECIMAL(18,4) COMPRESS (0.0000 ,0.0001 ),\n",
    "    iogb_in_delaytime_0030_0060   DECIMAL(18,4) COMPRESS (0.0000 ,0.0001 ),\n",
    "    iogb_in_delaytime_0060_0300   DECIMAL(18,4) COMPRESS (0.0000 ,0.0001 ),\n",
    "    iogb_in_delaytime_0300_0600   DECIMAL(18,4) COMPRESS 0.0000 ,\n",
    "    iogb_in_delaytime_0600_1800   DECIMAL(18,4) COMPRESS 0.0000 ,\n",
    "    iogb_in_delaytime_1800_3600   DECIMAL(18,4) COMPRESS 0.0000 ,\n",
    "    iogb_in_delaytime_3600_plus   DECIMAL(18,4) COMPRESS 0.0000 ,  \n",
    "    Run_ID INTEGER\n",
    " ) PRIMARY INDEX ( Site_ID, LogDate )\n",
    "   PARTITION BY (  COLUMN (Site_ID) ADD 10,\n",
    "                RANGE_N(LogDate \n",
    "                        BETWEEN DATE '2019-01-01'  AND DATE '2021-12-31' \n",
    "                        EACH INTERVAL '1' DAY,\n",
    "                NO RANGE OR UNKNOWN) );"
   ]
  },
  {
   "cell_type": "markdown",
   "metadata": {},
   "source": [
    "### TAL View"
   ]
  },
  {
   "cell_type": "code",
   "execution_count": null,
   "metadata": {},
   "outputs": [],
   "source": [
    "Replace view adlste_coa.coa_dat_DBQL_Core_QryCnt_Ranges\n",
    "as locking row for access\n",
    "select a.* from adlste_coa.coat_dat_DBQL_Core_QryCnt_Ranges a"
   ]
  },
  {
   "cell_type": "markdown",
   "metadata": {},
   "source": [
    "### Stored Proc"
   ]
  },
  {
   "cell_type": "code",
   "execution_count": null,
   "metadata": {},
   "outputs": [],
   "source": [
    "REPLACE PROCEDURE adlste_coa.sp_dat_DBQL_Core_QryCnt_Ranges ( spversion VARCHAR(128) )\n",
    "SQL SECURITY Creator\n",
    "BEGIN\n",
    "    \n",
    "  DECLARE runid  INTEGER;\n",
    "  DECLARE parentrunid INTEGER;\n",
    "  DECLARE siteid VARCHAR(128);\n",
    "  DECLARE tablename VARCHAR(128);\n",
    "  DECLARE callingsp VARCHAR(128); \n",
    "  DECLARE startdate DATE;\n",
    "  DECLARE enddate DATE;\n",
    "  DECLARE SQL_ERROR_CODE INTEGER;\n",
    "  DECLARE SQL_STATE VARCHAR(5);\n",
    "  DECLARE ERROR_MESSAGE VARCHAR(256);\n",
    "  \n",
    "  DECLARE EXIT HANDLER FOR SqlException\n",
    "  BEGIN\n",
    "   \n",
    "     SET SQL_ERROR_CODE = SqlCode;\n",
    "     SET SQL_STATE = SqlState;\n",
    "     \n",
    "     GET DIAGNOSTICS EXCEPTION 1 ERROR_MESSAGE = Message_Text;\n",
    "     \n",
    "     CALL adlste_coa.sp_audit_log(:runid, :siteid, :tablename, :callingsp, :spversion, :startdate, :enddate, 'normal run', 'ERROR', :ERROR_MESSAGE );\n",
    "     \n",
    "  END;\n",
    "  \n",
    "  SET runid = 0;\n",
    "  SET parentrunid = 0 ;\n",
    "  SET tablename = 'adlste_coa.coat_dat_DBQL_Core_QryCnt_Ranges';\n",
    "  SET callingsp = 'adlste_coa.sp_dat_DBQL_Core_QryCnt_Ranges';\n",
    "  SET siteid = 'Empty Table';\n",
    "    \n",
    "  SELECT \n",
    "     Site_Id\n",
    "    ,Min(LogDate) AS StartDate\n",
    "    ,Max(LogDate) AS EndDate\n",
    "  INTO siteid, startdate, enddate\n",
    "  FROM adlste_coa_stg.stg_dat_DBQL_core_QryCnt_Ranges \n",
    "  GROUP BY 1;\n",
    "   \n",
    "  CALL adlste_coa.sp_audit_log(:runid, :siteid, :tablename, :callingsp, :spversion, :startdate, :enddate, 'normal run', 'START', '');\n",
    "  SET parentrunid = runid;\n",
    "\n",
    "  /* end setup audit process */\n",
    "\n",
    "    DELETE FROM adlste_coa.coat_dat_DBQL_core_QryCnt_Ranges\n",
    "    WHERE   (Site_ID, LogDate) IN\n",
    "    (SELECT Site_ID, LogDate FROM adlste_coa_STG.stg_dat_DBQL_core_QryCnt_Ranges);\n",
    "\n",
    "    SET runid = parentrunid;\n",
    "    CALL adlste_coa.sp_audit_log(:runid, :siteid, :tablename, :callingsp, :spversion, :startdate, :enddate, \n",
    "                               'normal run', 'STEP', 'Removed overlaping records from Target COAT');\n",
    "\n",
    "    INSERT INTO adlste_coa.coat_dat_DBQL_core_QryCnt_Ranges\n",
    "    (Site_ID, LogDate, User_Bucket, User_Department, User_SubDepartment                      \n",
    "    ,qrycnt_in_runtime_0000_0001,qrycnt_in_runtime_0001_0005,qrycnt_in_runtime_0005_0010,qrycnt_in_runtime_0010_0030,qrycnt_in_runtime_0030_0060   \n",
    "    ,qrycnt_in_runtime_0060_0300,qrycnt_in_runtime_0300_0600,qrycnt_in_runtime_0600_1800,qrycnt_in_runtime_1800_3600,qrycnt_in_runtime_3600_plus   \n",
    "    ,cpusec_in_runtime_0000_0001,cpusec_in_runtime_0001_0005,cpusec_in_runtime_0005_0010,cpusec_in_runtime_0010_0030,cpusec_in_runtime_0030_0060   \n",
    "    ,cpusec_in_runtime_0060_0300,cpusec_in_runtime_0300_0600,cpusec_in_runtime_0600_1800,cpusec_in_runtime_1800_3600,cpusec_in_runtime_3600_plus   \n",
    "    ,iogb_in_runtime_0000_0001,iogb_in_runtime_0001_0005,iogb_in_runtime_0005_0010,iogb_in_runtime_0010_0030,iogb_in_runtime_0030_0060     \n",
    "    ,iogb_in_runtime_0060_0300,iogb_in_runtime_0300_0600,iogb_in_runtime_0600_1800,iogb_in_runtime_1800_3600,iogb_in_runtime_3600_plus     \n",
    "    ,qrycnt_in_delaytime_0000_0001,qrycnt_in_delaytime_0001_0005,qrycnt_in_delaytime_0005_0010,qrycnt_in_delaytime_0010_0030,qrycnt_in_delaytime_0030_0060 \n",
    "    ,qrycnt_in_delaytime_0060_0300,qrycnt_in_delaytime_0300_0600,qrycnt_in_delaytime_0600_1800,qrycnt_in_delaytime_1800_3600,qrycnt_in_delaytime_3600_plus \n",
    "    ,cpusec_in_delaytime_0000_0001,cpusec_in_delaytime_0001_0005,cpusec_in_delaytime_0005_0010,cpusec_in_delaytime_0010_0030,cpusec_in_delaytime_0030_0060 \n",
    "    ,cpusec_in_delaytime_0060_0300,cpusec_in_delaytime_0300_0600,cpusec_in_delaytime_0600_1800,cpusec_in_delaytime_1800_3600,cpusec_in_delaytime_3600_plus \n",
    "    ,iogb_in_delaytime_0000_0001,iogb_in_delaytime_0001_0005,iogb_in_delaytime_0005_0010,iogb_in_delaytime_0010_0030,iogb_in_delaytime_0030_0060   \n",
    "    ,iogb_in_delaytime_0060_0300,iogb_in_delaytime_0300_0600,iogb_in_delaytime_0600_1800,iogb_in_delaytime_1800_3600,iogb_in_delaytime_3600_plus   \n",
    "    ,Run_ID)\n",
    "    SELECT \n",
    "     Site_ID, LogDate, User_Bucket, User_Department, User_SubDepartment    \n",
    "    ,qrycnt_in_runtime_0000_0001,qrycnt_in_runtime_0001_0005,qrycnt_in_runtime_0005_0010,qrycnt_in_runtime_0010_0030,qrycnt_in_runtime_0030_0060   \n",
    "    ,qrycnt_in_runtime_0060_0300,qrycnt_in_runtime_0300_0600,qrycnt_in_runtime_0600_1800,qrycnt_in_runtime_1800_3600,qrycnt_in_runtime_3600_plus   \n",
    "    ,cpusec_in_runtime_0000_0001,cpusec_in_runtime_0001_0005,cpusec_in_runtime_0005_0010,cpusec_in_runtime_0010_0030,cpusec_in_runtime_0030_0060   \n",
    "    ,cpusec_in_runtime_0060_0300,cpusec_in_runtime_0300_0600,cpusec_in_runtime_0600_1800,cpusec_in_runtime_1800_3600,cpusec_in_runtime_3600_plus   \n",
    "    ,iogb_in_runtime_0000_0001,iogb_in_runtime_0001_0005,iogb_in_runtime_0005_0010,iogb_in_runtime_0010_0030,iogb_in_runtime_0030_0060     \n",
    "    ,iogb_in_runtime_0060_0300,iogb_in_runtime_0300_0600,iogb_in_runtime_0600_1800,iogb_in_runtime_1800_3600,iogb_in_runtime_3600_plus     \n",
    "    ,qrycnt_in_delaytime_0000_0001,qrycnt_in_delaytime_0001_0005,qrycnt_in_delaytime_0005_0010,qrycnt_in_delaytime_0010_0030,qrycnt_in_delaytime_0030_0060 \n",
    "    ,qrycnt_in_delaytime_0060_0300,qrycnt_in_delaytime_0300_0600,qrycnt_in_delaytime_0600_1800,qrycnt_in_delaytime_1800_3600,qrycnt_in_delaytime_3600_plus \n",
    "    ,cpusec_in_delaytime_0000_0001,cpusec_in_delaytime_0001_0005,cpusec_in_delaytime_0005_0010,cpusec_in_delaytime_0010_0030,cpusec_in_delaytime_0030_0060 \n",
    "    ,cpusec_in_delaytime_0060_0300,cpusec_in_delaytime_0300_0600,cpusec_in_delaytime_0600_1800,cpusec_in_delaytime_1800_3600,cpusec_in_delaytime_3600_plus \n",
    "    ,iogb_in_delaytime_0000_0001,iogb_in_delaytime_0001_0005,iogb_in_delaytime_0005_0010,iogb_in_delaytime_0010_0030,iogb_in_delaytime_0030_0060   \n",
    "    ,iogb_in_delaytime_0060_0300,iogb_in_delaytime_0300_0600,iogb_in_delaytime_0600_1800,iogb_in_delaytime_1800_3600,iogb_in_delaytime_3600_plus   \n",
    "    ,:runid AS Run_ID\n",
    "    FROM adlste_coa_stg.stg_dat_DBQL_Core_QryCnt_Ranges ;\n",
    "\n",
    "    SET runid = parentrunid;\n",
    "    CALL adlste_coa.sp_audit_log(:runid, :siteid, :tablename, :callingsp, :spversion, :startdate, :enddate, \n",
    "                               'normal run', 'STEP', 'Inserted stg records into Target COAT Table');\n",
    "\n",
    "    DELETE From adlste_coa_stg.stg_dat_DBQL_Core_QryCnt_Ranges;\n",
    "\n",
    "    SET runid = parentrunid;\n",
    "    CALL adlste_coa.sp_audit_log(:runid, :siteid, :tablename, :callingsp, :spversion, :startdate, :enddate, 'normal run', 'END', '');\n",
    "\n",
    "END;"
   ]
  },
  {
   "cell_type": "markdown",
   "metadata": {},
   "source": [
    "### TEST"
   ]
  },
  {
   "cell_type": "code",
   "execution_count": null,
   "metadata": {},
   "outputs": [],
   "source": [
    "delete from adlste_coa_stg.stg_dat_DBQL_Core_QryCnt_Ranges;\n",
    "insert into  adlste_coa_stg.stg_dat_DBQL_Core_QryCnt_Ranges\n",
    "SELECT\n",
    " '{siteid}'  as Site_ID\n",
    ",LogDate\n",
    ",'na' as  User_Bucket\n",
    ",'na' as  User_Department\n",
    ",'na' as  User_SubDepartment\n",
    "\n",
    "/* Query Runtime by [query count | cpu | iogb] */\n",
    ",zeroifnull(SUM(CAST(CASE WHEN  dbql.TotalFirstRespTime  is NULL OR  dbql.TotalFirstRespTime <1     THEN dbql.Statements ELSE 0 END AS INTEGER)))   as qrycnt_in_runtime_0000_0001\n",
    ",zeroifnull(SUM(CAST(CASE WHEN  dbql.TotalFirstRespTime  >=1    AND  dbql.TotalFirstRespTime <5     THEN dbql.Statements ELSE 0 END AS INTEGER)))   as qrycnt_in_runtime_0001_0005\n",
    ",zeroifnull(SUM(CAST(CASE WHEN  dbql.TotalFirstRespTime  >=5    AND  dbql.TotalFirstRespTime <10    THEN dbql.Statements ELSE 0 END AS INTEGER)))   as qrycnt_in_runtime_0005_0010\n",
    ",zeroifnull(SUM(CAST(CASE WHEN  dbql.TotalFirstRespTime  >=10   AND  dbql.TotalFirstRespTime <30    THEN dbql.Statements ELSE 0 END AS INTEGER)))   as qrycnt_in_runtime_0010_0030\n",
    ",zeroifnull(SUM(CAST(CASE WHEN  dbql.TotalFirstRespTime  >=30   AND  dbql.TotalFirstRespTime <60    THEN dbql.Statements ELSE 0 END AS INTEGER)))   as qrycnt_in_runtime_0030_0060\n",
    ",zeroifnull(SUM(CAST(CASE WHEN  dbql.TotalFirstRespTime  >=60   AND  dbql.TotalFirstRespTime <300   THEN dbql.Statements ELSE 0 END AS INTEGER)))   as qrycnt_in_runtime_0060_0300\n",
    ",zeroifnull(SUM(CAST(CASE WHEN  dbql.TotalFirstRespTime  >=300  AND  dbql.TotalFirstRespTime <600   THEN dbql.Statements ELSE 0 END AS INTEGER)))   as qrycnt_in_runtime_0300_0600\n",
    ",zeroifnull(SUM(CAST(CASE WHEN  dbql.TotalFirstRespTime  >=600  AND  dbql.TotalFirstRespTime <1800  THEN dbql.Statements ELSE 0 END AS INTEGER)))   as qrycnt_in_runtime_0600_1800\n",
    ",zeroifnull(SUM(CAST(CASE WHEN  dbql.TotalFirstRespTime  >=1800 AND  dbql.TotalFirstRespTime <3600  THEN dbql.Statements ELSE 0 END AS INTEGER)))   as qrycnt_in_runtime_1800_3600\n",
    ",zeroifnull(SUM(CAST(CASE WHEN  dbql.TotalFirstRespTime  >3600                                      THEN dbql.Statements ELSE 0 END AS INTEGER)))   as qrycnt_in_runtime_3600_plus\n",
    "\n",
    ",zeroifnull(SUM(CAST(CASE WHEN  dbql.TotalFirstRespTime  is NULL OR  dbql.TotalFirstRespTime <1     THEN dbql.AMPCPUtime + dbql.ParserCPUTime ELSE 0 END AS INTEGER)))  as cpusec_in_runtime_0000_0001\n",
    ",zeroifnull(SUM(CAST(CASE WHEN  dbql.TotalFirstRespTime  >=1    AND  dbql.TotalFirstRespTime <5     THEN dbql.AMPCPUtime + dbql.ParserCPUTime ELSE 0 END AS INTEGER)))  as cpusec_in_runtime_0001_0005\n",
    ",zeroifnull(SUM(CAST(CASE WHEN  dbql.TotalFirstRespTime  >=5    AND  dbql.TotalFirstRespTime <10    THEN dbql.AMPCPUtime + dbql.ParserCPUTime ELSE 0 END AS INTEGER)))  as cpusec_in_runtime_0005_0010\n",
    ",zeroifnull(SUM(CAST(CASE WHEN  dbql.TotalFirstRespTime  >=10   AND  dbql.TotalFirstRespTime <30    THEN dbql.AMPCPUtime + dbql.ParserCPUTime ELSE 0 END AS INTEGER)))  as cpusec_in_runtime_0010_0030\n",
    ",zeroifnull(SUM(CAST(CASE WHEN  dbql.TotalFirstRespTime  >=30   AND  dbql.TotalFirstRespTime <60    THEN dbql.AMPCPUtime + dbql.ParserCPUTime ELSE 0 END AS INTEGER)))  as cpusec_in_runtime_0030_0060\n",
    ",zeroifnull(SUM(CAST(CASE WHEN  dbql.TotalFirstRespTime  >=60   AND  dbql.TotalFirstRespTime <300   THEN dbql.AMPCPUtime + dbql.ParserCPUTime ELSE 0 END AS INTEGER)))  as cpusec_in_runtime_0060_0300\n",
    ",zeroifnull(SUM(CAST(CASE WHEN  dbql.TotalFirstRespTime  >=300  AND  dbql.TotalFirstRespTime <600   THEN dbql.AMPCPUtime + dbql.ParserCPUTime ELSE 0 END AS INTEGER)))  as cpusec_in_runtime_0300_0600\n",
    ",zeroifnull(SUM(CAST(CASE WHEN  dbql.TotalFirstRespTime  >=600  AND  dbql.TotalFirstRespTime <1800  THEN dbql.AMPCPUtime + dbql.ParserCPUTime ELSE 0 END AS INTEGER)))  as cpusec_in_runtime_0600_1800\n",
    ",zeroifnull(SUM(CAST(CASE WHEN  dbql.TotalFirstRespTime  >=1800 AND  dbql.TotalFirstRespTime <3600  THEN dbql.AMPCPUtime + dbql.ParserCPUTime ELSE 0 END AS INTEGER)))  as cpusec_in_runtime_1800_3600\n",
    ",zeroifnull(SUM(CAST(CASE WHEN  dbql.TotalFirstRespTime  >3600                                      THEN dbql.AMPCPUtime + dbql.ParserCPUTime ELSE 0 END AS INTEGER)))  as cpusec_in_runtime_3600_plus\n",
    "\n",
    ",zeroifnull(SUM(CAST(CASE WHEN  dbql.TotalFirstRespTime  is NULL OR  dbql.TotalFirstRespTime <1     THEN ReqIOKB/1e6 ELSE 0 END AS INTEGER)))   as iogb_in_runtime_0000_0001\n",
    ",zeroifnull(SUM(CAST(CASE WHEN  dbql.TotalFirstRespTime  >=1    AND  dbql.TotalFirstRespTime <5     THEN ReqIOKB/1e6 ELSE 0 END AS INTEGER)))   as iogb_in_runtime_0001_0005\n",
    ",zeroifnull(SUM(CAST(CASE WHEN  dbql.TotalFirstRespTime  >=5    AND  dbql.TotalFirstRespTime <10    THEN ReqIOKB/1e6 ELSE 0 END AS INTEGER)))   as iogb_in_runtime_0005_0010\n",
    ",zeroifnull(SUM(CAST(CASE WHEN  dbql.TotalFirstRespTime  >=10   AND  dbql.TotalFirstRespTime <30    THEN ReqIOKB/1e6 ELSE 0 END AS INTEGER)))   as iogb_in_runtime_0010_0030\n",
    ",zeroifnull(SUM(CAST(CASE WHEN  dbql.TotalFirstRespTime  >=30   AND  dbql.TotalFirstRespTime <60    THEN ReqIOKB/1e6 ELSE 0 END AS INTEGER)))   as iogb_in_runtime_0030_0060\n",
    ",zeroifnull(SUM(CAST(CASE WHEN  dbql.TotalFirstRespTime  >=60   AND  dbql.TotalFirstRespTime <300   THEN ReqIOKB/1e6 ELSE 0 END AS INTEGER)))   as iogb_in_runtime_0060_0300\n",
    ",zeroifnull(SUM(CAST(CASE WHEN  dbql.TotalFirstRespTime  >=300  AND  dbql.TotalFirstRespTime <600   THEN ReqIOKB/1e6 ELSE 0 END AS INTEGER)))   as iogb_in_runtime_0300_0600\n",
    ",zeroifnull(SUM(CAST(CASE WHEN  dbql.TotalFirstRespTime  >=600  AND  dbql.TotalFirstRespTime <1800  THEN ReqIOKB/1e6 ELSE 0 END AS INTEGER)))   as iogb_in_runtime_0600_1800\n",
    ",zeroifnull(SUM(CAST(CASE WHEN  dbql.TotalFirstRespTime  >=1800 AND  dbql.TotalFirstRespTime <3600  THEN ReqIOKB/1e6 ELSE 0 END AS INTEGER)))   as iogb_in_runtime_1800_3600\n",
    ",zeroifnull(SUM(CAST(CASE WHEN  dbql.TotalFirstRespTime  >3600                                      THEN ReqIOKB/1e6 ELSE 0 END AS INTEGER)))   as iogb_in_runtime_3600_plus\n",
    "\n",
    "\n",
    "/* delaytime by [query count | cpu | iogb] */\n",
    ",zeroifnull(SUM(CAST(CASE WHEN  dbql.delaytime  is NULL OR  dbql.delaytime <1     THEN dbql.Statements ELSE 0 END AS INTEGER))) as qrycnt_in_delaytime_0000_0001\n",
    ",zeroifnull(SUM(CAST(CASE WHEN  dbql.delaytime  >=1    AND  dbql.delaytime <5     THEN dbql.Statements ELSE 0 END AS INTEGER))) as qrycnt_in_delaytime_0001_0005\n",
    ",zeroifnull(SUM(CAST(CASE WHEN  dbql.delaytime  >=5    AND  dbql.delaytime <10    THEN dbql.Statements ELSE 0 END AS INTEGER))) as qrycnt_in_delaytime_0005_0010\n",
    ",zeroifnull(SUM(CAST(CASE WHEN  dbql.delaytime  >=10   AND  dbql.delaytime <30    THEN dbql.Statements ELSE 0 END AS INTEGER))) as qrycnt_in_delaytime_0010_0030\n",
    ",zeroifnull(SUM(CAST(CASE WHEN  dbql.delaytime  >=30   AND  dbql.delaytime <60    THEN dbql.Statements ELSE 0 END AS INTEGER))) as qrycnt_in_delaytime_0030_0060\n",
    ",zeroifnull(SUM(CAST(CASE WHEN  dbql.delaytime  >=60   AND  dbql.delaytime <300   THEN dbql.Statements ELSE 0 END AS INTEGER))) as qrycnt_in_delaytime_0060_0300\n",
    ",zeroifnull(SUM(CAST(CASE WHEN  dbql.delaytime  >=300  AND  dbql.delaytime <600   THEN dbql.Statements ELSE 0 END AS INTEGER))) as qrycnt_in_delaytime_0300_0600\n",
    ",zeroifnull(SUM(CAST(CASE WHEN  dbql.delaytime  >=600  AND  dbql.delaytime <1800  THEN dbql.Statements ELSE 0 END AS INTEGER))) as qrycnt_in_delaytime_0600_1800\n",
    ",zeroifnull(SUM(CAST(CASE WHEN  dbql.delaytime  >=1800 AND  dbql.delaytime <3600  THEN dbql.Statements ELSE 0 END AS INTEGER))) as qrycnt_in_delaytime_1800_3600\n",
    ",zeroifnull(SUM(CAST(CASE WHEN  dbql.delaytime  >3600                             THEN dbql.Statements ELSE 0 END AS INTEGER))) as qrycnt_in_delaytime_3600_plus\n",
    "\n",
    ",zeroifnull(SUM(CAST(CASE WHEN  dbql.delaytime  is NULL OR  dbql.delaytime <1     THEN dbql.AMPCPUtime + dbql.ParserCPUTime ELSE 0 END AS INTEGER))) as cpusec_in_delaytime_0000_0001\n",
    ",zeroifnull(SUM(CAST(CASE WHEN  dbql.delaytime  >=1    AND  dbql.delaytime <5     THEN dbql.AMPCPUtime + dbql.ParserCPUTime ELSE 0 END AS INTEGER))) as cpusec_in_delaytime_0001_0005\n",
    ",zeroifnull(SUM(CAST(CASE WHEN  dbql.delaytime  >=5    AND  dbql.delaytime <10    THEN dbql.AMPCPUtime + dbql.ParserCPUTime ELSE 0 END AS INTEGER))) as cpusec_in_delaytime_0005_0010\n",
    ",zeroifnull(SUM(CAST(CASE WHEN  dbql.delaytime  >=10   AND  dbql.delaytime <30    THEN dbql.AMPCPUtime + dbql.ParserCPUTime ELSE 0 END AS INTEGER))) as cpusec_in_delaytime_0010_0030\n",
    ",zeroifnull(SUM(CAST(CASE WHEN  dbql.delaytime  >=30   AND  dbql.delaytime <60    THEN dbql.AMPCPUtime + dbql.ParserCPUTime ELSE 0 END AS INTEGER))) as cpusec_in_delaytime_0030_0060\n",
    ",zeroifnull(SUM(CAST(CASE WHEN  dbql.delaytime  >=60   AND  dbql.delaytime <300   THEN dbql.AMPCPUtime + dbql.ParserCPUTime ELSE 0 END AS INTEGER))) as cpusec_in_delaytime_0060_0300\n",
    ",zeroifnull(SUM(CAST(CASE WHEN  dbql.delaytime  >=300  AND  dbql.delaytime <600   THEN dbql.AMPCPUtime + dbql.ParserCPUTime ELSE 0 END AS INTEGER))) as cpusec_in_delaytime_0300_0600\n",
    ",zeroifnull(SUM(CAST(CASE WHEN  dbql.delaytime  >=600  AND  dbql.delaytime <1800  THEN dbql.AMPCPUtime + dbql.ParserCPUTime ELSE 0 END AS INTEGER))) as cpusec_in_delaytime_0600_1800\n",
    ",zeroifnull(SUM(CAST(CASE WHEN  dbql.delaytime  >=1800 AND  dbql.delaytime <3600  THEN dbql.AMPCPUtime + dbql.ParserCPUTime ELSE 0 END AS INTEGER))) as cpusec_in_delaytime_1800_3600\n",
    ",zeroifnull(SUM(CAST(CASE WHEN  dbql.delaytime  >3600                             THEN dbql.AMPCPUtime + dbql.ParserCPUTime ELSE 0 END AS INTEGER))) as cpusec_in_delaytime_3600_plus\n",
    "\n",
    ",zeroifnull(SUM(CAST(CASE WHEN dbql.delaytime  is NULL OR  dbql.delaytime <1     THEN ReqIOKB/1e6 ELSE 0 END AS INTEGER))) as iogb_in_delaytime_0000_0001\n",
    ",zeroifnull(SUM(CAST(CASE WHEN dbql.delaytime  >=1    AND  dbql.delaytime <5     THEN ReqIOKB/1e6 ELSE 0 END AS INTEGER))) as iogb_in_delaytime_0001_0005\n",
    ",zeroifnull(SUM(CAST(CASE WHEN dbql.delaytime  >=5    AND  dbql.delaytime <10    THEN ReqIOKB/1e6 ELSE 0 END AS INTEGER))) as iogb_in_delaytime_0005_0010\n",
    ",zeroifnull(SUM(CAST(CASE WHEN dbql.delaytime  >=10   AND  dbql.delaytime <30    THEN ReqIOKB/1e6 ELSE 0 END AS INTEGER))) as iogb_in_delaytime_0010_0030\n",
    ",zeroifnull(SUM(CAST(CASE WHEN dbql.delaytime  >=30   AND  dbql.delaytime <60    THEN ReqIOKB/1e6 ELSE 0 END AS INTEGER))) as iogb_in_delaytime_0030_0060\n",
    ",zeroifnull(SUM(CAST(CASE WHEN dbql.delaytime  >=60   AND  dbql.delaytime <300   THEN ReqIOKB/1e6 ELSE 0 END AS INTEGER))) as iogb_in_delaytime_0060_0300\n",
    ",zeroifnull(SUM(CAST(CASE WHEN dbql.delaytime  >=300  AND  dbql.delaytime <600   THEN ReqIOKB/1e6 ELSE 0 END AS INTEGER))) as iogb_in_delaytime_0300_0600\n",
    ",zeroifnull(SUM(CAST(CASE WHEN dbql.delaytime  >=600  AND  dbql.delaytime <1800  THEN ReqIOKB/1e6 ELSE 0 END AS INTEGER))) as iogb_in_delaytime_0600_1800\n",
    ",zeroifnull(SUM(CAST(CASE WHEN dbql.delaytime  >=1800 AND  dbql.delaytime <3600  THEN ReqIOKB/1e6 ELSE 0 END AS INTEGER))) as iogb_in_delaytime_1800_3600\n",
    ",zeroifnull(SUM(CAST(CASE WHEN dbql.delaytime  >3600                             THEN ReqIOKB/1e6 ELSE 0 END AS INTEGER))) as iogb_in_delaytime_3600_plus\n",
    "From pdcrinfo.dbqlogtbl_hst  as dbql\n",
    "where dbql.LogDate = DATE-2\n",
    "Group by LogDate;\n"
   ]
  },
  {
   "cell_type": "code",
   "execution_count": null,
   "metadata": {},
   "outputs": [],
   "source": [
    "call adlste_coa.sp_dat_DBQL_Core_QryCnt_Ranges('test')"
   ]
  },
  {
   "cell_type": "code",
   "execution_count": null,
   "metadata": {},
   "outputs": [],
   "source": [
    "select count(*) from adlste_coa.coa_dat_DBQL_Core_QryCnt_Ranges"
   ]
  },
  {
   "cell_type": "markdown",
   "metadata": {},
   "source": [
    "<br/><br/><br/><hr>\n",
    "## dat_DBQL_Core_MaxCPU"
   ]
  },
  {
   "cell_type": "code",
   "execution_count": null,
   "metadata": {},
   "outputs": [],
   "source": [
    "--DROP TABLE adlste_coa_stg.stg_dat_dbql_core_maxcpu\n",
    "--DROP TABLE adlste_coa.coat_dat_dbql_core_maxcpu"
   ]
  },
  {
   "cell_type": "markdown",
   "metadata": {},
   "source": [
    "### STAGE"
   ]
  },
  {
   "cell_type": "code",
   "execution_count": null,
   "metadata": {},
   "outputs": [],
   "source": [
    "CREATE MULTISET GLOBAL TEMPORARY TABLE adlste_coa_stg.stg_dat_dbql_core_maxcpu\n",
    "(\n",
    "   Site_ID        VARCHAR(128)  CHARACTER SET LATIN\n",
    " , LogDate        DATE          FORMAT 'yyyy-mm-dd'\n",
    " , LogHour        SMALLINT\n",
    " , UTC_Offset     CHAR(6)       \n",
    " , Node_Type      VARCHAR(16)   \n",
    " , Node_Cnt       SMALLINT\n",
    " , vCPU_per_Node  INT\n",
    " , MaxIOTA_cntB   DECIMAL(18,2)\n",
    " , CPU_Idle       DECIMAL(18,2)\n",
    " , CPU_IOWait     DECIMAL(18,2)\n",
    " , CPU_OS         DECIMAL(18,2)\n",
    " , CPU_DBS        DECIMAL(18,2)\n",
    " , CPU_Total      DECIMAL(18,2)\n",
    " ) NO PRIMARY INDEX \n",
    " on commit preserve rows;"
   ]
  },
  {
   "cell_type": "markdown",
   "metadata": {},
   "source": [
    "### PERM"
   ]
  },
  {
   "cell_type": "code",
   "execution_count": null,
   "metadata": {},
   "outputs": [],
   "source": [
    "CREATE MULTISET TABLE adlste_coa.coat_dat_dbql_core_maxcpu\n",
    "(\n",
    "   Site_ID        VARCHAR(128)  CHARACTER SET LATIN\n",
    " , LogDate        DATE          FORMAT 'yyyy-mm-dd'\n",
    " , LogTS          TIMESTAMP(0) \n",
    " , UTC_Offset     CHAR(6)       CHARACTER SET UNICODE COMPRESS('−12:00','−11:00','−10:00','−09:30','−09:00','−08:00','−07:00','−06:00','−05:00','−04:00','−03:30','−03:00','−02:00','−01:00','00:00','+01:00','+02:00','+03:00','+03:30','+04:00','+04:30','+05:00','+05:30','+05:45','+06:00','+06:30','+07:00','+08:00','+08:45','+09:00','+09:30','+10:00','+10:30','+11:00','+12:00','+12:45','+13:00','+14:00')\n",
    " , Node_Type      VARCHAR(16)   COMPRESS (Null, 'Unknown','','1650','1700','1700T','1750T','1800E','1800T','200CL','210','210CL','2500','2550','2555','2580','2650','2690','2700','2750','2800','2850','4300','4400','4475','4800','4855','4950','5350','5380','5400','5450','5500','550P','550S','551P','5550','5555','5600','560P','5650','6650','6680','6690','670','6700','6750','680','6800','700','7000','7010','7011','7015','720','7200','7210','750','9156','9195','9211','9212','9230','9231','9232','9233','9234','CO-EXIST','N/A','S55','SWS','TBD','Third Party','Third Party Amazon','Third Party Azure','Third Party TVME','UNDEFINED') \n",
    " , Node_Cnt       SMALLINT\n",
    " , vCPU_per_Node  SMALLINT\n",
    " , MaxIOTA_cntB   DECIMAL(18,2)\n",
    " , CPU_Idle       DECIMAL(18,2)\n",
    " , CPU_IOWait     DECIMAL(18,2)\n",
    " , CPU_OS         DECIMAL(18,2)\n",
    " , CPU_DBS        DECIMAL(18,2)\n",
    " , CPU_Total      DECIMAL(18,2)\n",
    " , Run_ID         INTEGER         COMPRESS(0)\n",
    " ) PRIMARY INDEX (Site_ID, LogTS)\n",
    ";"
   ]
  },
  {
   "cell_type": "markdown",
   "metadata": {},
   "source": [
    "### TAL View"
   ]
  },
  {
   "cell_type": "code",
   "execution_count": null,
   "metadata": {},
   "outputs": [],
   "source": [
    "Replace View adlste_coa.coa_dat_dbql_core_maxcpu \n",
    "as locking row for access\n",
    "Select * from adlste_coa.coat_dat_dbql_core_maxcpu"
   ]
  },
  {
   "cell_type": "markdown",
   "metadata": {},
   "source": [
    "### Stored Proc"
   ]
  },
  {
   "cell_type": "code",
   "execution_count": null,
   "metadata": {},
   "outputs": [],
   "source": [
    "REPLACE PROCEDURE adlste_coa.sp_dat_DBQL_Core_MaxCPU ( spversion VARCHAR(128) ) \n",
    "SQL SECURITY CREATOR\n",
    "BEGIN \n",
    "\n",
    "    /* start setup audit process */\n",
    "    \n",
    "    DECLARE runid  INTEGER;\n",
    "    DECLARE siteid VARCHAR(128);\n",
    "    DECLARE tablename VARCHAR(128);\n",
    "    DECLARE callingsp VARCHAR(128); \n",
    "    DECLARE startdate DATE;\n",
    "    DECLARE enddate DATE;\n",
    "    \n",
    "    SET runid = 0;\n",
    "    SET tablename = 'adlste_coa.coat_dat_DBQL_Core_MaxCPU';\n",
    "    SET callingsp = 'adlste_coa.sp_dat_DBQL_Core_MaxCPU';\n",
    "    SET siteid = 'Empty Table';\n",
    "    SET startdate = DATE;\n",
    "    SET enddate = DATE;\n",
    "\n",
    "    SELECT \n",
    "     coalesce(Site_ID,'empty table')       \n",
    "    ,min(LogDate) as StartDate\n",
    "    ,max(LogDate) as EndDate\n",
    "    INTO siteid, startdate, enddate\n",
    "    FROM adlste_coa_stg.stg_dat_dbql_core_maxcpu\n",
    "    Group by  1\n",
    "    ;\n",
    "    \n",
    "    /* end setup audit process */\n",
    "    \n",
    "    \n",
    "    \n",
    "    CALL adlste_coa.sp_audit_log(runid, :siteid, :tablename, :callingsp, :spversion, :startdate, :enddate,\n",
    "                              'normal run', 'START', '') ;\n",
    "\n",
    "    DELETE FROM    adlste_coa.coat_dat_dbql_core_maxcpu \n",
    "    WHERE (Site_ID, LogTS) IN\n",
    "    (Select Site_ID, \n",
    "            cast(cast(LogDate as date format 'yyyy-mm-dd') as char(10))||' '||\n",
    "            cast(cast(LogHour as INT format '99') as char(2)) || ':00:00' || UTC_Offset as LogTS\n",
    "           FROM adlste_coa_stg.stg_dat_dbql_core_maxcpu )\n",
    "    ;\n",
    "    \n",
    "    \n",
    "    Insert into adlste_coa.coat_dat_dbql_core_maxcpu \n",
    "    Select \n",
    "          Site_ID\n",
    "        , LogDate\n",
    "        , cast(cast(LogDate as date format 'yyyy-mm-dd') as char(10))||' '||\n",
    "          cast(cast(LogHour as INT format '99') as char(2)) || ':00:00' || UTC_Offset as LogTS\n",
    "        , UTC_Offset\n",
    "        , Node_Type\n",
    "        , Node_Cnt\n",
    "        , vCPU_per_Node\n",
    "        , MaxIOTA_cntB\n",
    "        , CPU_Idle\n",
    "        , CPU_IOWait\n",
    "        , CPU_OS\n",
    "        , CPU_DBS\n",
    "        , CPU_Total\n",
    "        , :runid as Run_ID\n",
    "    from adlste_coa_stg.stg_dat_dbql_core_maxcpu\n",
    "    ; \n",
    "        \n",
    "    delete from adlste_coa_stg.stg_dat_dbql_core_maxcpu\n",
    "    ;\n",
    "    \n",
    "    CALL adlste_coa.sp_audit_log(runid, :siteid, :tablename, :callingsp, :spversion, :startdate, :enddate,\n",
    "                              'normal run', 'END', '') ;\n",
    "\n",
    "END;"
   ]
  },
  {
   "cell_type": "markdown",
   "metadata": {},
   "source": [
    "### TEST"
   ]
  },
  {
   "cell_type": "code",
   "execution_count": null,
   "metadata": {},
   "outputs": [],
   "source": [
    "Delete from adlste_coa_stg.stg_dat_dbql_core_maxcpu;\n",
    "insert into adlste_coa_stg.stg_dat_dbql_core_maxcpu\n",
    "Select 'test' as Site_ID\n",
    ",TheDate as LogDate, Floor(TheTime/1e4) as LogHour\n",
    ",SUBSTRING ((Current_Time (FORMAT 'HH:MI:SS.S(F)Z') (VARCHAR (20))) FROM 9 FOR 6) as UTC_Offset\n",
    ",cast(max(NodeType) as varchar(10)) as Node_Type\n",
    ",cast(count(distinct NodeID) as smallint) as Node_Cnt\n",
    ",cast(max(NCPUs) as smallint) as vCPU_per_Node\n",
    ",sum(cast(FullPotentialIOTA/1e9 as decimal(18,0))) as MaxIOTA_cntB\n",
    ",sum(cast(CPUIdle   as decimal(18,2))) as CPU_Idle\n",
    ",sum(cast(CPUIOWait as decimal(18,2))) as CPU_IOWait\n",
    ",sum(cast(CPUUServ  as decimal(18,2))) as CPU_OS\n",
    ",sum(cast(CPUUExec  as decimal(18,2))) as CPU_DBS\n",
    ",CPU_Idle+CPU_IOWait+CPU_OS+CPU_DBS as CPU_Total\n",
    "from pdcrinfo.resusagespma\n",
    "where TheDate between date-2 and date-2\n",
    "Group by LogDate, LogHour;\n",
    "    \n",
    "Select count(*) from adlste_coa_stg.stg_dat_dbql_core_maxcpu;"
   ]
  },
  {
   "cell_type": "code",
   "execution_count": null,
   "metadata": {},
   "outputs": [],
   "source": [
    "CALL adlste_coa.sp_dat_DBQL_Core_MaxCPU('test');"
   ]
  },
  {
   "cell_type": "code",
   "execution_count": null,
   "metadata": {},
   "outputs": [],
   "source": [
    "Select count(*) from adlste_coa.coa_dat_dbql_core_maxcpu;"
   ]
  },
  {
   "cell_type": "code",
   "execution_count": null,
   "metadata": {},
   "outputs": [],
   "source": [
    "select top 6 * from adlste_coa.coa_audit_summary order by 1 desc"
   ]
  },
  {
   "cell_type": "markdown",
   "metadata": {},
   "source": [
    "<br/><br/><br/>\n",
    "## dat_DBQL_Core"
   ]
  },
  {
   "cell_type": "code",
   "execution_count": 4,
   "metadata": {},
   "outputs": [
    {
     "data": {
      "text/plain": [
       "Success: 146 rows affected"
      ]
     },
     "execution_count": 4,
     "metadata": {
      "application/vnd.teradata.resultset": ""
     },
     "output_type": "execute_result"
    }
   ],
   "source": [
    "-- DROP TABLE adlste_coa_stg.stg_dat_DBQL_Core\n",
    "-- DROP TABLE adlste_coa.coat_dat_DBQL_Core"
   ]
  },
  {
   "cell_type": "markdown",
   "metadata": {},
   "source": [
    "### STAGE"
   ]
  },
  {
   "cell_type": "code",
   "execution_count": 5,
   "metadata": {},
   "outputs": [
    {
     "data": {
      "text/plain": [
       "Success: 0 rows affected"
      ]
     },
     "execution_count": 5,
     "metadata": {
      "application/vnd.teradata.resultset": ""
     },
     "output_type": "execute_result"
    }
   ],
   "source": [
    "CREATE MULTISET GLOBAL TEMPORARY TABLE adlste_coa_stg.stg_dat_DBQL_Core\n",
    " (Site_ID                          VARCHAR(64)  CHARACTER SET LATIN\n",
    " ,LogTS                            TIMESTAMP(0) WITH TIME ZONE\n",
    " ,Total_AMPs                       SMALLINT\n",
    " ,App_Bucket                       VARCHAR(256) CHARACTER SET LATIN\n",
    " ,Use_Bucket                       VARCHAR(256) CHARACTER SET LATIN\n",
    " ,Statement_Bucket                 VARCHAR(256) CHARACTER SET LATIN\n",
    " ,User_Bucket                      VARCHAR(256) CHARACTER SET LATIN\n",
    " ,User_Department                  VARCHAR(256) CHARACTER SET LATIN\n",
    " ,User_SubDepartment               VARCHAR(256) CHARACTER SET LATIN\n",
    " ,Request_Cnt                      INT\n",
    " ,Query_Cnt                        INT\n",
    " ,Query_MultiStatement_Cnt         INT\n",
    " ,Query_Error_Cnt                  INT\n",
    " ,Query_Abort_Cnt                  INT\n",
    " ,Query_NoIO_cnt                   INT\n",
    " ,Query_InMem_Cnt                  INT\n",
    " ,Query_PhysIO_Cnt                 INT\n",
    " ,Query_Tactical_Cnt               INT\n",
    " ,Query_Complexity_Score_Avg       DECIMAL(18,4)\n",
    " ,Returned_Row_Cnt                 BIGINT\n",
    " ,DelayTime_Sec                    DECIMAL(18,4)\n",
    " ,Runtime_Parse_Sec                DECIMAL(18,4)\n",
    " ,Runtime_AMP_Sec                  DECIMAL(18,4)\n",
    " ,Runtime_Total_Sec                DECIMAL(18,4)\n",
    " ,TransferTime_Sec                 DECIMAL(18,4)\n",
    " ,CPU_Parse_Sec                    DECIMAL(18,2)\n",
    " ,CPU_AMP_Sec                      DECIMAL(18,2)\n",
    " ,IOCntM_Physical                  BIGINT\n",
    " ,IOCntM_Total                     BIGINT\n",
    " ,IOGB_Physical                    DECIMAL(18,4)\n",
    " ,IOGB_Total                       DECIMAL(18,4)\n",
    " ,IOTA_Used_cntB                   DECIMAL(18,4)\n",
    " ,NumOfActiveAMPs_Avg              DECIMAL(9,4)\n",
    " ,Spool_GB                         DECIMAL(18,4)\n",
    " ,CacheHit_Pct                     DECIMAL(9,4)     \n",
    " ,CPUSec_Skew_AvgPCt               DECIMAL(9,4)\n",
    " ,IOCnt_Skew_AvgPct                DECIMAL(9,4)\n",
    " ) No Primary index\n",
    " on commit preserve rows;"
   ]
  },
  {
   "cell_type": "markdown",
   "metadata": {},
   "source": [
    "### PERM"
   ]
  },
  {
   "cell_type": "code",
   "execution_count": 6,
   "metadata": {},
   "outputs": [
    {
     "data": {
      "text/plain": [
       "Success: 0 rows affected"
      ]
     },
     "execution_count": 6,
     "metadata": {
      "application/vnd.teradata.resultset": ""
     },
     "output_type": "execute_result"
    }
   ],
   "source": [
    "CREATE MULTISET TABLE adlste_coa.coat_dat_DBQL_Core \n",
    "(\n",
    "    Row_Key BIGINT NOT NULL GENERATED ALWAYS AS IDENTITY\n",
    "       (START WITH 1 \n",
    "        INCREMENT BY 1 \n",
    "        MINVALUE -999999999999999999 \n",
    "        MAXVALUE 999999999999999999 \n",
    "        NO CYCLE),\n",
    "    Site_ID            VARCHAR(64) CHARACTER SET LATIN NOT CASESPECIFIC,\n",
    "    LogTS              TIMESTAMP(0) WITH TIME ZONE,\n",
    "    Total_AMPs         INTEGER, \n",
    "    App_Bucket         VARCHAR(256) CHARACTER SET LATIN NOT CASESPECIFIC COMPRESS ('Unknown','BTEQ','JDBC','TPTStream','TPT','Tableau','BOBJ','Python','SQLAssistant','Microstrategy','TD-BAR','PHP','SAP BODS','MS IIS'),\n",
    "    Use_Bucket         VARCHAR(256) CHARACTER SET LATIN NOT CASESPECIFIC COMPRESS ('Application','Analytic','Unknown','ETL','ETL/Export','Backup'),\n",
    "    Statement_Bucket   VARCHAR(256) CHARACTER SET LATIN NOT CASESPECIFIC COMPRESS ('Select','Set Session','Transaction','Insert','Other','Create Table','Collect Stats','Drop Table','Delete','Update','Create Object','Load','Call SP','Drop Object','Merge','Admin','Exec Macro','Unknown'),\n",
    "    User_Bucket        VARCHAR(256) CHARACTER SET LATIN NOT CASESPECIFIC COMPRESS ('Unknown','COMMON','SERVICES','Finance','SUPPLY CHAIN','SALES','ETL','MBR','TDInternal','CPS','Admin','EDS','DATALAKE','Analytic','AUDIT','MARKETING','Services IT','Operations Architecture','D&A','WEBEX','HR','CSSD','GTMS','Engineering','eDSS IT','ALL','CLICKSTREAM','Commerce IT','TDInternal-DBC','EDSS'),\n",
    "    User_Department    VARCHAR(256) CHARACTER SET LATIN NOT CASESPECIFIC COMPRESS ('Unknown','COMMON','dept','SERVICES','Finance','SUPPLY CHAIN','SALES','MBR','CPS','EDS','DATALAKE','AUDIT','MARKETING','Services IT','Operations Architecture','D&A','WEBEX','HR','CSSD','GTMS','Engineering','eDSS IT','ALL','CLICKSTREAM','Commerce IT','EDSS'),\n",
    "    User_SubDepartment VARCHAR(256) CHARACTER SET LATIN NOT CASESPECIFIC COMPRESS ('Unknown','subdept','DATA REPLICATION','Bookings','SERVICES','COMREF','Finance BI - Expense & HC Cube','NRT','CPS TABLEAU DASHBOARD BSC/DLS','GPF (Global Planning and Fulfi','FinBI BO - Bookings','Customer Service','FINANCE','Manufacturing','FinBI BO - Revenue','MBR SOLR EXTRACT','Service Bureau','PSS Bookings Dashboard','Sales Booking Report','Cisco Refresh NextGen Program','Resource Visibility','Unbooked Tool','Finance Common Layer Extracts','Data Integration through Apach','REPLIC','Install Base - IB','Data Lake','MBR Channels','MIGRATION','CSSO BI Dashboard','Finance CFA','ASBI EXTRACTS','AUDIT','CV Bookings','CSSO BO','SNOWFLAKE EXTRACTS','APJ Pricing','CRM','NOT USED','SECURITY','Services BO','Architect','HANA DATA SIMPLIFICATION','ASBI','Human Resource - HR','DF (Return on Investment)','SERVICE ADOPTION METRICS','SCSU','KAFKA','Gray Market','Integrate Tableau Metrics With','Expense & Headcount Cube','Cloud Data Quality','WeBEX','MBR Proxy UI','MARKETING','FIN BI REVENUE','WPR extract','Dise','FIAT','ICS','Services BI','Landing Zone - LZ','CLIP','Sharp','BART AUTOMATION','FinBI Bkgs Cube','BIDSMETRICS','Finance P&L Application','SPLUNK','LS Sales BI','Learning Credit Management Too','Finance GL Cube','CPE','INTEGRATED PLANNING WORKBENCH','Data Virtualization tool','REPORTING','Revenue Attribution','DP-Adhoc','Transformation Account','DCV','LEARNING SERVICES BOOKINGS','Marketing Mrm','DMS','Capital','QDI Data Warehouse','GBOSS','TSA (Technical Service Advanta','MMC - Travel','OIC','PPP','SERVICES SALES DOMO','Royalty','Collect Stats','SECURED HR DATA FOR RAM IN SAP','SCIC','NOSTG','SBG IOPS','NGCCRM','X-1','GALAXY','For TSS Extraction','ETL','Ani Application','Athena','CIC','ALL','Clickstream','Item Hub','Cogs Audit','OM LSS','ICM - Telephony Data','Operations','ADAP','S2R','IFP','Excel Upload Util','EDWTD BO','Publish','CSSO BSC','IAM','EDSS','Parma','INternal'),\n",
    "    Request_Cnt                 INT COMPRESS (256 ,1 ,2 ,258 ,3 ,4 ,516 ,5 ,6 ,7 ,8 ,264 ,9 ,10 ,11 ,267 ,12 ,13 ,14 ,270 ,15 ,16 ,272 ,17 ,18 ,19 ,20 ,21 ,22 ,23 ,24 ,25 ,537 ,26 ,27 ,28 ,540 ,29 ,30 ,31 ,32 ,288 ,33 ,34 ,35 ,36 ,292 ,37 ,38 ,294 ,39 ,40 ,41 ,42 ,43 ,299 ,44 ,45 ,46 ,47 ,48 ,49 ,50 ,51 ,52 ,53 ,54 ,55 ,56 ,57 ,313 ,58 ,59 ,60 ,61 ,62 ,63 ,64 ,576 ,832 ,65 ,66 ,67 ,68 ,69 ,70 ,582 ,71 ,72 ,73 ,74 ,330 ,75 ,76 ,77 ,78 ,846 ,79 ,80 ,336 ,81 ,82 ,83 ,84 ,340 ,85 ,86 ,598 ,87 ,88 ,344 ,89 ,345 ,90 ,91 ,92 ,348 ,93 ,349 ,94 ,95 ,96 ,97 ,98 ,99 ,100 ,356 ,101 ,102 ,103 ,104 ,360 ,105 ,106 ,107 ,108 ,109 ,110 ,111 ,112 ,368 ,113 ,114 ,370 ,115 ,116 ,117 ,118 ,374 ,119 ,120 ,121 ,122 ,123 ,124 ,125 ,126 ,127 ,128 ,384 ,129 ,130 ,131 ,643 ,132 ,133 ,134 ,135 ,136 ,137 ,138 ,139 ,140 ,141 ,142 ,143 ,144 ,145 ,146 ,147 ,148 ,404 ,149 ,150 ,151 ,152 ,153 ,154 ,155 ,156 ,157 ,158 ,159 ,160 ,416 ,161 ,162 ,163 ,164 ,420 ,165 ,166 ,167 ,168 ,169 ,170 ,171 ,172 ,428 ,173 ,174 ,175 ,176 ,432 ,177 ,178 ,179 ,180 ,181 ,182 ,183 ,184 ,185 ,186 ,187 ,188 ,189 ,190 ,192 ,193 ,194 ,195 ,196 ,198 ,200 ,201 ,202 ,204 ,208 ,210 ,214 ,216 ,217 ,220 ,222 ,224 ,736 ,227 ,483 ,228 ,240 ,246 ,248 ,252 ),\n",
    "    Query_Cnt                   INT COMPRESS (0 ,256 ,1 ,2 ,258 ,3 ,4 ,516 ,5 ,6 ,7 ,519 ,8 ,264 ,9 ,10 ,11 ,12 ,13 ,14 ,270 ,15 ,16 ,272 ,17 ,18 ,19 ,20 ,21 ,22 ,23 ,24 ,25 ,26 ,27 ,28 ,540 ,29 ,30 ,31 ,32 ,288 ,33 ,34 ,35 ,36 ,292 ,37 ,38 ,294 ,39 ,40 ,41 ,42 ,43 ,299 ,44 ,45 ,46 ,47 ,48 ,49 ,50 ,51 ,52 ,53 ,54 ,55 ,56 ,57 ,313 ,58 ,59 ,60 ,61 ,62 ,63 ,64 ,576 ,832 ,65 ,66 ,67 ,68 ,69 ,70 ,71 ,72 ,73 ,74 ,330 ,75 ,76 ,77 ,78 ,846 ,79 ,80 ,336 ,81 ,82 ,83 ,84 ,340 ,85 ,86 ,598 ,87 ,88 ,344 ,600 ,89 ,345 ,90 ,91 ,92 ,348 ,93 ,349 ,94 ,95 ,96 ,97 ,98 ,99 ,100 ,101 ,102 ,103 ,104 ,360 ,105 ,106 ,107 ,108 ,109 ,110 ,111 ,112 ,368 ,113 ,114 ,370 ,115 ,116 ,117 ,118 ,374 ,119 ,120 ,121 ,122 ,123 ,124 ,125 ,126 ,127 ,128 ,384 ,129 ,130 ,131 ,643 ,132 ,133 ,134 ,135 ,136 ,137 ,138 ,139 ,140 ,141 ,142 ,143 ,144 ,145 ,146 ,147 ,148 ,404 ,149 ,150 ,151 ,152 ,153 ,154 ,155 ,156 ,157 ,158 ,159 ,160 ,416 ,161 ,162 ,163 ,164 ,420 ,165 ,166 ,167 ,168 ,169 ,170 ,171 ,172 ,428 ,173 ,174 ,175 ,176 ,432 ,177 ,178 ,179 ,180 ,181 ,182 ,183 ,184 ,185 ,186 ,187 ,188 ,189 ,190 ,1215 ,192 ,193 ,194 ,195 ,196 ,198 ,200 ,202 ,204 ,208 ,210 ,214 ,216 ,217 ,220 ,222 ,224 ,736 ,226 ,228 ,240 ,246 ,248 ,504 ,252 ,254 ),\n",
    "    Query_MultiStatement_Cnt    INT COMPRESS (0,1,2,3,4,5,6,7,8,9,10),\n",
    "    Query_Error_Cnt             INT COMPRESS (0 ,1 ,2 ,3 ,4 ,5 ,6 ,7 ,8 ,9 ,10 ,12 ,14 ,24 ),\n",
    "    Query_Abort_Cnt             INT COMPRESS 0 ,\n",
    "    Query_NoIO_cnt              INT COMPRESS (0 ,256 ,1 ,2 ,258 ,3 ,4 ,5 ,6 ,7 ,519 ,8 ,264 ,9 ,10 ,11 ,12 ,13 ,525 ,14 ,270 ,15 ,16 ,17 ,18 ,19 ,20 ,21 ,22 ,23 ,24 ,25 ,26 ,27 ,28 ,540 ,29 ,30 ,31 ,32 ,288 ,33 ,34 ,35 ,36 ,37 ,38 ,39 ,40 ,41 ,42 ,810 ,43 ,299 ,44 ,45 ,46 ,47 ,48 ,560 ,49 ,50 ,51 ,52 ,53 ,54 ,55 ,56 ,57 ,58 ,59 ,315 ,1083 ,60 ,61 ,62 ,63 ,64 ,576 ,65 ,66 ,67 ,68 ,69 ,70 ,71 ,72 ,4680 ,73 ,74 ,75 ,76 ,77 ,78 ,846 ,79 ,80 ,336 ,81 ,82 ,83 ,84 ,340 ,1620 ,85 ,86 ,87 ,88 ,600 ,89 ,345 ,90 ,2394 ,91 ,92 ,93 ,349 ,94 ,95 ,96 ,97 ,98 ,99 ,100 ,101 ,102 ,103 ,104 ,360 ,105 ,106 ,107 ,108 ,109 ,110 ,111 ,112 ,368 ,113 ,369 ,114 ,115 ,116 ,117 ,118 ,119 ,120 ,121 ,122 ,123 ,124 ,125 ,126 ,127 ,128 ,384 ,129 ,130 ,131 ,132 ,133 ,134 ,135 ,136 ,137 ,138 ,139 ,140 ,141 ,142 ,143 ,144 ,145 ,146 ,147 ,148 ,149 ,150 ,918 ,151 ,152 ,153 ,154 ,155 ,156 ,157 ,413 ,158 ,159 ,160 ,416 ,161 ,417 ,162 ,163 ,164 ,420 ,165 ,166 ,167 ,168 ,169 ,170 ,171 ,939 ,172 ,173 ,174 ,175 ,176 ,432 ,177 ,178 ,179 ,180 ,2228 ,181 ,182 ,183 ,184 ,696 ,185 ,186 ,187 ,188 ,189 ,190 ,1215 ,192 ,193 ,194 ,196 ,197 ,198 ,200 ,201 ,202 ,204 ,207 ,208 ,210 ,212 ,214 ,216 ,217 ,220 ,222 ,224 ,226 ,1262 ,240 ,248 ,504 ,252 ),\n",
    "    Query_InMem_Cnt             INT COMPRESS (0 ,1 ,2 ,258 ,1794 ,3 ,259 ,4 ,5 ,6 ,262 ,7 ,8 ,9 ,10 ,11 ,12 ,1548 ,13 ,14 ,15 ,16 ,272 ,17 ,18 ,19 ,20 ,21 ,22 ,23 ,24 ,25 ,26 ,27 ,28 ,29 ,30 ,31 ,32 ,544 ,33 ,34 ,35 ,36 ,292 ,37 ,38 ,294 ,39 ,40 ,41 ,42 ,43 ,299 ,44 ,45 ,46 ,47 ,48 ,49 ,50 ,51 ,52 ,53 ,54 ,55 ,56 ,57 ,58 ,59 ,60 ,316 ,61 ,62 ,63 ,64 ,320 ,65 ,66 ,67 ,68 ,324 ,69 ,70 ,71 ,72 ,73 ,74 ,75 ,76 ,77 ,78 ,79 ,80 ,81 ,82 ,83 ,84 ,85 ,86 ,87 ,88 ,89 ,90 ,91 ,92 ,93 ,94 ,95 ,96 ,97 ,98 ,99 ,100 ,101 ,102 ,103 ,104 ,105 ,106 ,107 ,108 ,109 ,110 ,111 ,112 ,113 ,114 ,115 ,116 ,117 ,118 ,119 ,120 ,121 ,122 ,123 ,124 ,125 ,126 ,127 ,128 ,129 ,130 ,131 ,132 ,133 ,134 ,135 ,136 ,137 ,138 ,139 ,140 ,141 ,142 ,143 ,144 ,145 ,146 ,147 ,148 ,149 ,150 ,151 ,152 ,153 ,154 ,155 ,667 ,156 ,157 ,158 ,159 ,160 ,672 ,2208 ,161 ,162 ,163 ,164 ,165 ,166 ,167 ,168 ,169 ,170 ,171 ,172 ,173 ,174 ,175 ,176 ,432 ,177 ,689 ,178 ,179 ,180 ,181 ,182 ,183 ,184 ,185 ,697 ,186 ,187 ,188 ,189 ,190 ,191 ,192 ,193 ,194 ,195 ,196 ,197 ,198 ,199 ,200 ,201 ,202 ,203 ,204 ,205 ,206 ,207 ,208 ,209 ,210 ,211 ,212 ,213 ,214 ,216 ,217 ,218 ,219 ,220 ,222 ,223 ,224 ,225 ,226 ,228 ,234 ,236 ,238 ,239 ,240 ,242 ,246 ,248 ,254 ),\n",
    "    Query_PhysIO_Cnt            INT COMPRESS (0 ,1 ,2 ,3 ,4 ,516 ,5 ,6 ,7 ,8 ,264 ,9 ,10 ,11 ,12 ,13 ,14 ,15 ,16 ,17 ,18 ,786 ,19 ,20 ,21 ,22 ,23 ,24 ,25 ,26 ,27 ,28 ,29 ,30 ,31 ,32 ,33 ,34 ,35 ,36 ,37 ,38 ,39 ,40 ,41 ,42 ,43 ,44 ,45 ,46 ,47 ,48 ,49 ,50 ,51 ,52 ,53 ,54 ,55 ,56 ,57 ,58 ,59 ,60 ,61 ,62 ,63 ,64 ,832 ,65 ,66 ,67 ,68 ,69 ,70 ,71 ,72 ,73 ,74 ,75 ,76 ,77 ,78 ,79 ,80 ,81 ,82 ,83 ,84 ,85 ,86 ,598 ,87 ,88 ,89 ,90 ,91 ,92 ,93 ,94 ,95 ,96 ,97 ,98 ,99 ,100 ,101 ,102 ,103 ,104 ,105 ,106 ,107 ,108 ,109 ,110 ,111 ,112 ,113 ,114 ,370 ,115 ,116 ,117 ,118 ,119 ,120 ,121 ,122 ,123 ,124 ,125 ,126 ,127 ,128 ,129 ,130 ,131 ,132 ,133 ,134 ,135 ,136 ,137 ,138 ,139 ,140 ,141 ,142 ,143 ,911 ,144 ,145 ,146 ,147 ,148 ,149 ,150 ,151 ,152 ,153 ,154 ,155 ,156 ,157 ,158 ,159 ,160 ,161 ,162 ,163 ,419 ,164 ,165 ,166 ,167 ,168 ,680 ,169 ,170 ,171 ,172 ,173 ,174 ,175 ,176 ,177 ,178 ,434 ,179 ,180 ,181 ,182 ,183 ,184 ,185 ,186 ,187 ,188 ,189 ,190 ,191 ,192 ,193 ,194 ,195 ,196 ,197 ,198 ,199 ,200 ,201 ,202 ,203 ,204 ,205 ,206 ,207 ,208 ,209 ,210 ,211 ,212 ,213 ,214 ,215 ,217 ,218 ,219 ,220 ,221 ,222 ,223 ,224 ,736 ,225 ,226 ,738 ,228 ,229 ,230 ,232 ,233 ,234 ,236 ,238 ,239 ,242 ,243 ,244 ,245 ,250 ,252 ,253 ),\n",
    "    Query_Tactical_Cnt          INT COMPRESS 0 ,\n",
    "    Query_Complexity_Score_Avg  DECIMAL(18,4) COMPRESS (0.0000 ,16.0000 ,96.0000 ,0.6667 ,1.0000 ,2.0000 ,18.0000 ,435.0000 ,3.0000 ,3.6667 ,68.0000 ,36.0000 ,4.0000 ,5.0000 ,38.0000 ,6.0000 ,7.0000 ,40.0000 ,8.0000 ,24.0000 ,0.5000 ,74.0000 ,10.0000 ,2.1667 ,6.7500 ,12.0000 ,5.5000 ,14.0000 ,15.0000 ,1.1250 ),\n",
    "    Returned_Row_Cnt            BIGINT COMPRESS (0 ,1 ),\n",
    "    DelayTime_Sec               DECIMAL(18,4) COMPRESS 0,\n",
    "    Runtime_Parse_Sec           DECIMAL(18,4) COMPRESS (0.0000 ,0.6400 ,1.2800 ,1.9200 ,0.4100 ,1.0500 ,1.6900 ,2.3300 ,0.1800 ,0.8200 ,1.4600 ,2.1000 ,0.5900 ,1.2300 ,1.8700 ,2.5100 ,0.3600 ,1.0000 ,1.6400 ,2.2800 ,0.1300 ,0.7700 ,1.4100 ,2.0500 ,0.5400 ,1.1800 ,1.8200 ,2.4600 ,0.3100 ,0.9500 ,1.5900 ,2.2300 ,0.0800 ,0.7200 ,1.3600 ,2.0000 ,0.4900 ,1.1300 ,1.7700 ,2.4100 ,0.2600 ,0.9000 ,1.5400 ,2.1800 ,0.0300 ,0.6700 ,1.3100 ,1.9500 ,0.4400 ,1.0800 ,1.7200 ,2.3600 ,0.2100 ,0.8500 ,1.4900 ,2.1300 ,0.6200 ,1.2600 ,1.9000 ,0.3900 ,1.0300 ,1.6700 ,2.3100 ,0.1600 ,0.8000 ,1.4400 ,2.0800 ,0.5700 ,1.2100 ,1.8500 ,2.4900 ,0.3400 ,0.9800 ,1.6200 ,2.2600 ,0.1100 ,0.7500 ,1.3900 ,2.0300 ,0.5200 ,1.1600 ,1.8000 ,2.4400 ,0.2900 ,0.9300 ,1.5700 ,2.2100 ,0.0600 ,0.7000 ,1.3400 ,1.9800 ,0.4700 ,1.1100 ,1.7500 ,2.3900 ,0.2400 ,0.8800 ,1.5200 ,2.1600 ,0.0100 ,0.6500 ,1.2900 ,1.9300 ,0.4200 ,1.0600 ,1.7000 ,2.3400 ,0.1900 ,0.8300 ,1.4700 ,2.1100 ,0.6000 ,1.2400 ,1.8800 ,0.3700 ,1.0100 ,1.6500 ,2.2900 ,0.1400 ,0.7800 ,1.4200 ,2.0600 ,0.5500 ,1.1900 ,1.8300 ,2.4700 ,0.3200 ,0.9600 ,1.6000 ,2.2400 ,0.0900 ,0.7300 ,1.3700 ,2.0100 ,0.5000 ,1.1400 ,1.7800 ,2.4200 ,0.2700 ,0.9100 ,1.5500 ,2.1900 ,0.0400 ,0.6800 ,1.3200 ,1.9600 ,0.4500 ,1.0900 ,1.7300 ,2.3700 ,0.2200 ,0.8600 ,1.5000 ,2.1400 ,0.6300 ,1.2700 ,1.9100 ,2.5500 ,0.4000 ,1.0400 ,1.6800 ,2.3200 ,0.1700 ,0.8100 ,1.4500 ,2.0900 ,0.5800 ,1.2200 ,1.8600 ,2.5000 ,0.3500 ,0.9900 ,1.6300 ,2.2700 ,0.1200 ,0.7600 ,1.4000 ,2.0400 ,0.5300 ,1.1700 ,1.8100 ,2.4500 ,0.3000 ,0.9400 ,1.5800 ,2.2200 ,0.0700 ,0.7100 ,1.3500 ,1.9900 ,0.4800 ,1.1200 ,1.7600 ,2.4000 ,0.2500 ,0.8900 ,1.5300 ,2.1700 ,0.0200 ,0.6600 ,1.3000 ,1.9400 ,2.5800 ,0.4300 ,1.0700 ,1.7100 ,2.3500 ,0.2000 ,0.8400 ,1.4800 ,2.1200 ,0.6100 ,1.2500 ,1.8900 ,2.5300 ,0.3800 ,1.0200 ,1.6600 ,2.3000 ,0.1500 ,0.7900 ,1.4300 ,2.0700 ,0.5600 ,1.2000 ,1.8400 ,0.3300 ,0.9700 ,1.6100 ,2.2500 ,0.1000 ,0.7400 ,1.3800 ,2.0200 ,0.5100 ,1.1500 ,1.7900 ,2.4300 ,0.2800 ,0.9200 ,1.5600 ,2.2000 ,0.0500 ,0.6900 ,1.3300 ,1.9700 ,0.4600 ,1.1000 ,1.7400 ,2.3800 ,0.2300 ,0.8700 ,1.5100 ,2.1500 ),\n",
    "    Runtime_AMP_Sec             DECIMAL(18,4) COMPRESS (0.0000 ,0.6400 ,1.2800 ,1.9200 ,0.4100 ,1.0500 ,1.6900 ,2.3300 ,0.1800 ,0.8200 ,1.4600 ,2.1000 ,0.5900 ,1.2300 ,1.8700 ,0.3600 ,1.0000 ,1.6400 ,2.2800 ,0.1300 ,0.7700 ,1.4100 ,2.0500 ,0.5400 ,1.1800 ,1.8200 ,2.4600 ,0.3100 ,0.9500 ,1.5900 ,2.2300 ,0.0800 ,0.7200 ,1.3600 ,2.0000 ,0.4900 ,1.1300 ,1.7700 ,2.4100 ,0.2600 ,0.9000 ,1.5400 ,2.1800 ,0.0300 ,0.6700 ,1.3100 ,1.9500 ,0.4400 ,1.0800 ,1.7200 ,2.3600 ,0.2100 ,0.8500 ,1.4900 ,2.1300 ,0.6200 ,1.2600 ,1.9000 ,2.5400 ,0.3900 ,1.0300 ,1.6700 ,2.3100 ,0.1600 ,0.8000 ,1.4400 ,2.0800 ,2.7200 ,0.5700 ,1.2100 ,1.8500 ,2.4900 ,0.3400 ,0.9800 ,1.6200 ,2.2600 ,0.1100 ,0.7500 ,1.3900 ,2.0300 ,0.5200 ,1.1600 ,1.8000 ,2.4400 ,0.2900 ,0.9300 ,1.5700 ,2.2100 ,0.0600 ,0.7000 ,1.3400 ,1.9800 ,0.4700 ,1.1100 ,1.7500 ,2.3900 ,0.2400 ,0.8800 ,1.5200 ,2.1600 ,0.0100 ,0.6500 ,1.2900 ,1.9300 ,2.5700 ,0.4200 ,1.0600 ,1.7000 ,2.3400 ,0.1900 ,0.8300 ,1.4700 ,2.1100 ,0.6000 ,1.2400 ,1.8800 ,2.5200 ,0.3700 ,1.0100 ,1.6500 ,2.2900 ,0.1400 ,0.7800 ,1.4200 ,2.0600 ,0.5500 ,1.1900 ,1.8300 ,0.3200 ,0.9600 ,1.6000 ,2.2400 ,0.0900 ,0.7300 ,1.3700 ,2.0100 ,0.5000 ,1.1400 ,1.7800 ,2.4200 ,0.2700 ,0.9100 ,1.5500 ,2.1900 ,0.0400 ,0.6800 ,1.3200 ,1.9600 ,0.4500 ,1.0900 ,1.7300 ,2.3700 ,0.2200 ,0.8600 ,1.5000 ,2.1400 ,0.6300 ,1.2700 ,1.9100 ,0.4000 ,1.0400 ,1.6800 ,2.3200 ,0.1700 ,0.8100 ,1.4500 ,2.0900 ,0.5800 ,1.2200 ,1.8600 ,0.3500 ,0.9900 ,1.6300 ,2.2700 ,0.1200 ,0.7600 ,1.4000 ,2.0400 ,0.5300 ,1.1700 ,1.8100 ,2.4500 ,0.3000 ,0.9400 ,1.5800 ,2.2200 ,0.0700 ,0.7100 ,1.3500 ,1.9900 ,2.6300 ,0.4800 ,1.1200 ,1.7600 ,2.4000 ,0.2500 ,0.8900 ,1.5300 ,2.1700 ,0.0200 ,0.6600 ,1.3000 ,1.9400 ,0.4300 ,1.0700 ,1.7100 ,2.3500 ,0.2000 ,0.8400 ,1.4800 ,2.1200 ,0.6100 ,1.2500 ,1.8900 ,0.3800 ,1.0200 ,1.6600 ,2.3000 ,0.1500 ,0.7900 ,1.4300 ,2.0700 ,0.5600 ,1.2000 ,1.8400 ,0.3300 ,0.9700 ,1.6100 ,2.2500 ,0.1000 ,0.7400 ,1.3800 ,2.0200 ,0.5100 ,1.1500 ,1.7900 ,2.4300 ,0.2800 ,0.9200 ,1.5600 ,2.2000 ,0.0500 ,0.6900 ,1.3300 ,1.9700 ,2.6100 ,0.4600 ,1.1000 ,1.7400 ,2.3800 ,0.2300 ,0.8700 ,1.5100 ,2.1500 ),\n",
    "    Runtime_Total_Sec           DECIMAL(18,4) COMPRESS (0.6400 ,1.2800 ,1.9200 ,0.4100 ,1.0500 ,1.6900 ,2.3300 ,0.1800 ,0.8200 ,1.4600 ,2.1000 ,2.7400 ,0.5900 ,1.2300 ,1.8700 ,0.3600 ,1.0000 ,1.6400 ,2.2800 ,0.1300 ,0.7700 ,1.4100 ,2.0500 ,0.5400 ,1.1800 ,1.8200 ,2.4600 ,0.3100 ,0.9500 ,1.5900 ,2.2300 ,0.0800 ,0.7200 ,1.3600 ,2.0000 ,0.4900 ,1.1300 ,1.7700 ,2.4100 ,0.2600 ,0.9000 ,1.5400 ,2.1800 ,0.0300 ,0.6700 ,1.3100 ,1.9500 ,2.5900 ,0.4400 ,1.0800 ,1.7200 ,2.3600 ,0.2100 ,0.8500 ,1.4900 ,2.1300 ,0.6200 ,1.2600 ,1.9000 ,2.5400 ,0.3900 ,1.0300 ,1.6700 ,2.3100 ,0.1600 ,0.8000 ,1.4400 ,2.0800 ,0.5700 ,1.2100 ,1.8500 ,2.4900 ,0.3400 ,0.9800 ,1.6200 ,2.2600 ,0.1100 ,0.7500 ,1.3900 ,2.0300 ,0.5200 ,1.1600 ,1.8000 ,2.4400 ,0.2900 ,0.9300 ,1.5700 ,2.2100 ,0.0600 ,0.7000 ,1.3400 ,1.9800 ,2.6200 ,0.4700 ,1.1100 ,1.7500 ,2.3900 ,0.2400 ,0.8800 ,1.5200 ,2.1600 ,0.0100 ,0.6500 ,1.2900 ,1.9300 ,0.4200 ,1.0600 ,1.7000 ,2.3400 ,0.1900 ,0.8300 ,1.4700 ,2.1100 ,0.6000 ,1.2400 ,1.8800 ,2.5200 ,0.3700 ,1.0100 ,1.6500 ,2.2900 ,0.1400 ,0.7800 ,1.4200 ,2.0600 ,0.5500 ,1.1900 ,1.8300 ,2.4700 ,0.3200 ,0.9600 ,1.6000 ,2.2400 ,0.0900 ,0.7300 ,1.3700 ,2.0100 ,0.5000 ,1.1400 ,1.7800 ,2.4200 ,0.2700 ,0.9100 ,1.5500 ,2.1900 ,0.0400 ,0.6800 ,1.3200 ,1.9600 ,0.4500 ,1.0900 ,1.7300 ,2.3700 ,0.2200 ,0.8600 ,1.5000 ,2.1400 ,0.6300 ,1.2700 ,1.9100 ,0.4000 ,1.0400 ,1.6800 ,2.3200 ,0.1700 ,0.8100 ,1.4500 ,2.0900 ,0.5800 ,1.2200 ,1.8600 ,0.3500 ,0.9900 ,1.6300 ,2.2700 ,0.1200 ,0.7600 ,1.4000 ,2.0400 ,0.5300 ,1.1700 ,1.8100 ,2.4500 ,0.3000 ,0.9400 ,1.5800 ,2.2200 ,0.0700 ,0.7100 ,1.3500 ,1.9900 ,0.4800 ,1.1200 ,1.7600 ,2.4000 ,0.2500 ,0.8900 ,1.5300 ,2.1700 ,0.0200 ,0.6600 ,1.3000 ,1.9400 ,0.4300 ,1.0700 ,1.7100 ,2.3500 ,0.2000 ,0.8400 ,1.4800 ,2.1200 ,0.6100 ,1.2500 ,1.8900 ,2.5300 ,0.3800 ,1.0200 ,1.6600 ,2.3000 ,0.1500 ,0.7900 ,1.4300 ,2.0700 ,0.5600 ,1.2000 ,1.8400 ,2.4800 ,0.3300 ,0.9700 ,1.6100 ,2.2500 ,0.1000 ,0.7400 ,1.3800 ,2.0200 ,0.5100 ,1.1500 ,1.7900 ,2.4300 ,0.2800 ,0.9200 ,1.5600 ,2.2000 ,0.0500 ,0.6900 ,1.3300 ,1.9700 ,0.4600 ,1.1000 ,1.7400 ,0.2300 ,0.8700 ,1.5100 ,2.1500 ),\n",
    "    TransferTime_Sec            DECIMAL(18,4) COMPRESS (0.0000 ,0.6400 ,1.2800 ,1.9200 ,2.5600 ,0.4100 ,1.0500 ,1.6900 ,2.3300 ,0.1800 ,0.8200 ,1.4600 ,2.1000 ,0.5900 ,1.2300 ,1.8700 ,2.5100 ,0.3600 ,1.0000 ,1.6400 ,2.2800 ,0.1300 ,0.7700 ,1.4100 ,2.0500 ,2.6900 ,0.5400 ,1.1800 ,1.8200 ,2.4600 ,0.3100 ,0.9500 ,1.5900 ,2.2300 ,0.0800 ,0.7200 ,1.3600 ,2.0000 ,0.4900 ,1.1300 ,1.7700 ,2.4100 ,0.2600 ,0.9000 ,1.5400 ,2.1800 ,0.0300 ,0.6700 ,1.3100 ,1.9500 ,0.4400 ,1.0800 ,1.7200 ,2.3600 ,0.2100 ,0.8500 ,1.4900 ,2.1300 ,0.6200 ,1.2600 ,1.9000 ,0.3900 ,1.0300 ,1.6700 ,2.3100 ,0.1600 ,0.8000 ,1.4400 ,2.0800 ,0.5700 ,1.2100 ,1.8500 ,0.3400 ,0.9800 ,1.6200 ,2.2600 ,0.1100 ,0.7500 ,1.3900 ,2.0300 ,0.5200 ,1.1600 ,1.8000 ,0.2900 ,0.9300 ,1.5700 ,2.2100 ,0.0600 ,0.7000 ,1.3400 ,1.9800 ,0.4700 ,1.1100 ,1.7500 ,2.3900 ,0.2400 ,0.8800 ,1.5200 ,2.1600 ,0.0100 ,0.6500 ,1.2900 ,1.9300 ,0.4200 ,1.0600 ,1.7000 ,2.3400 ,0.1900 ,0.8300 ,1.4700 ,2.1100 ,0.6000 ,1.2400 ,1.8800 ,0.3700 ,1.0100 ,1.6500 ,2.2900 ,0.1400 ,0.7800 ,1.4200 ,2.0600 ,0.5500 ,1.1900 ,1.8300 ,2.4700 ,0.3200 ,0.9600 ,1.6000 ,2.2400 ,0.0900 ,0.7300 ,1.3700 ,2.0100 ,0.5000 ,1.1400 ,1.7800 ,2.4200 ,0.2700 ,0.9100 ,1.5500 ,2.1900 ,2.8300 ,0.0400 ,0.6800 ,1.3200 ,1.9600 ,0.4500 ,1.0900 ,1.7300 ,2.3700 ,0.2200 ,0.8600 ,1.5000 ,2.1400 ,2.7800 ,0.6300 ,1.2700 ,1.9100 ,2.5500 ,0.4000 ,1.0400 ,1.6800 ,2.3200 ,0.1700 ,0.8100 ,1.4500 ,2.0900 ,0.5800 ,1.2200 ,1.8600 ,2.5000 ,0.3500 ,0.9900 ,1.6300 ,2.2700 ,0.1200 ,0.7600 ,1.4000 ,2.0400 ,0.5300 ,1.1700 ,1.8100 ,2.4500 ,0.3000 ,0.9400 ,1.5800 ,2.2200 ,0.0700 ,0.7100 ,1.3500 ,1.9900 ,0.4800 ,1.1200 ,1.7600 ,2.4000 ,0.2500 ,0.8900 ,1.5300 ,2.1700 ,0.0200 ,0.6600 ,1.3000 ,1.9400 ,0.4300 ,1.0700 ,1.7100 ,2.3500 ,0.2000 ,0.8400 ,1.4800 ,2.1200 ,0.6100 ,1.2500 ,1.8900 ,0.3800 ,1.0200 ,1.6600 ,2.3000 ,0.1500 ,0.7900 ,1.4300 ,2.0700 ,0.5600 ,1.2000 ,1.8400 ,0.3300 ,0.9700 ,1.6100 ,2.2500 ,0.1000 ,0.7400 ,1.3800 ,2.0200 ,0.5100 ,1.1500 ,1.7900 ,2.4300 ,0.2800 ,0.9200 ,1.5600 ,2.2000 ,0.0500 ,0.6900 ,1.3300 ,1.9700 ,0.4600 ,1.1000 ,1.7400 ,2.3800 ,0.2300 ,0.8700 ,1.5100 ,2.1500 ),\n",
    "    CPU_Parse_Sec               DECIMAL(18,4) COMPRESS (0.0000 ,0.6400 ,1.2800 ,1.9200 ,0.4100 ,1.0500 ,1.6900 ,2.3300 ,0.1800 ,0.8200 ,1.4600 ,2.1000 ,0.5900 ,1.2300 ,1.8700 ,2.5100 ,0.3600 ,1.0000 ,1.6400 ,2.2800 ,0.1300 ,0.7700 ,1.4100 ,2.0500 ,0.5400 ,1.1800 ,1.8200 ,2.4600 ,0.3100 ,0.9500 ,1.5900 ,2.2300 ,0.0800 ,0.7200 ,1.3600 ,2.0000 ,2.6400 ,0.4900 ,1.1300 ,1.7700 ,2.4100 ,0.2600 ,0.9000 ,1.5400 ,2.1800 ,0.0300 ,0.6700 ,1.3100 ,1.9500 ,0.4400 ,1.0800 ,1.7200 ,2.3600 ,0.2100 ,0.8500 ,1.4900 ,2.1300 ,0.6200 ,1.2600 ,1.9000 ,0.3900 ,1.0300 ,1.6700 ,2.3100 ,0.1600 ,0.8000 ,1.4400 ,2.0800 ,0.5700 ,1.2100 ,1.8500 ,2.4900 ,0.3400 ,0.9800 ,1.6200 ,2.2600 ,0.1100 ,0.7500 ,1.3900 ,2.0300 ,0.5200 ,1.1600 ,1.8000 ,2.4400 ,0.2900 ,0.9300 ,1.5700 ,2.2100 ,0.0600 ,0.7000 ,1.3400 ,1.9800 ,0.4700 ,1.1100 ,1.7500 ,2.3900 ,0.2400 ,0.8800 ,1.5200 ,2.1600 ,0.0100 ,0.6500 ,1.2900 ,1.9300 ,0.4200 ,1.0600 ,1.7000 ,2.3400 ,0.1900 ,0.8300 ,1.4700 ,2.1100 ,0.6000 ,1.2400 ,1.8800 ,2.5200 ,0.3700 ,1.0100 ,1.6500 ,2.2900 ,0.1400 ,0.7800 ,1.4200 ,2.0600 ,0.5500 ,1.1900 ,1.8300 ,0.3200 ,0.9600 ,1.6000 ,2.2400 ,0.0900 ,0.7300 ,1.3700 ,2.0100 ,0.5000 ,1.1400 ,1.7800 ,2.4200 ,0.2700 ,0.9100 ,1.5500 ,2.1900 ,0.0400 ,0.6800 ,1.3200 ,1.9600 ,0.4500 ,1.0900 ,1.7300 ,2.3700 ,0.2200 ,0.8600 ,1.5000 ,2.1400 ,0.6300 ,1.2700 ,1.9100 ,0.4000 ,1.0400 ,1.6800 ,2.3200 ,0.1700 ,0.8100 ,1.4500 ,2.0900 ,0.5800 ,1.2200 ,1.8600 ,2.5000 ,0.3500 ,0.9900 ,1.6300 ,2.2700 ,0.1200 ,0.7600 ,1.4000 ,2.0400 ,0.5300 ,1.1700 ,1.8100 ,2.4500 ,0.3000 ,0.9400 ,1.5800 ,2.2200 ,0.0700 ,0.7100 ,1.3500 ,1.9900 ,0.4800 ,1.1200 ,1.7600 ,2.4000 ,0.2500 ,0.8900 ,1.5300 ,2.1700 ,0.0200 ,0.6600 ,1.3000 ,1.9400 ,0.4300 ,1.0700 ,1.7100 ,2.3500 ,0.2000 ,0.8400 ,1.4800 ,2.1200 ,0.6100 ,1.2500 ,1.8900 ,2.5300 ,0.3800 ,1.0200 ,1.6600 ,2.3000 ,0.1500 ,0.7900 ,1.4300 ,2.0700 ,0.5600 ,1.2000 ,1.8400 ,2.4800 ,0.3300 ,0.9700 ,1.6100 ,2.2500 ,0.1000 ,0.7400 ,1.3800 ,2.0200 ,0.5100 ,1.1500 ,1.7900 ,2.4300 ,0.2800 ,0.9200 ,1.5600 ,2.2000 ,0.0500 ,0.6900 ,1.3300 ,1.9700 ,0.4600 ,1.1000 ,1.7400 ,2.3800 ,0.2300 ,0.8700 ,1.5100 ,2.1500 ),\n",
    "    CPU_AMP_Sec                 DECIMAL(18,4) COMPRESS (0.0000 ,0.6400 ,1.2800 ,1.9200 ,2.5600 ,0.4100 ,1.0500 ,1.6900 ,2.3300 ,0.1800 ,0.8200 ,1.4600 ,2.1000 ,2.7400 ,0.5900 ,1.2300 ,1.8700 ,0.3600 ,1.0000 ,1.6400 ,2.2800 ,0.1300 ,0.7700 ,1.4100 ,2.0500 ,0.5400 ,1.1800 ,1.8200 ,2.4600 ,0.3100 ,0.9500 ,1.5900 ,2.2300 ,0.0800 ,0.7200 ,1.3600 ,2.0000 ,2.6400 ,0.4900 ,1.1300 ,2.4100 ,0.2600 ,0.9000 ,1.5400 ,2.1800 ,2.8200 ,0.0300 ,0.6700 ,1.3100 ,1.9500 ,0.4400 ,1.0800 ,1.7200 ,2.3600 ,0.2100 ,0.8500 ,1.4900 ,2.1300 ,2.7700 ,0.6200 ,1.2600 ,1.9000 ,2.5400 ,0.3900 ,1.0300 ,1.6700 ,2.3100 ,0.1600 ,0.8000 ,1.4400 ,2.7200 ,0.5700 ,1.2100 ,1.8500 ,0.3400 ,0.9800 ,1.6200 ,2.2600 ,0.1100 ,0.7500 ,1.3900 ,2.0300 ,0.5200 ,1.1600 ,1.8000 ,2.4400 ,0.2900 ,0.9300 ,1.5700 ,0.0600 ,0.7000 ,1.3400 ,1.9800 ,0.4700 ,1.1100 ,1.7500 ,0.2400 ,0.8800 ,1.5200 ,2.1600 ,0.0100 ,0.6500 ,1.2900 ,1.9300 ,0.4200 ,1.0600 ,1.7000 ,2.3400 ,0.1900 ,0.8300 ,1.4700 ,2.1100 ,0.6000 ,1.2400 ,1.8800 ,2.5200 ,0.3700 ,1.0100 ,1.6500 ,2.2900 ,0.1400 ,0.7800 ,1.4200 ,2.0600 ,2.7000 ,0.5500 ,1.1900 ,1.8300 ,0.3200 ,0.9600 ,1.6000 ,2.2400 ,0.0900 ,0.7300 ,1.3700 ,0.5000 ,1.1400 ,1.7800 ,2.4200 ,0.2700 ,0.9100 ,1.5500 ,2.1900 ,0.0400 ,0.6800 ,1.3200 ,1.9600 ,0.4500 ,1.0900 ,1.7300 ,2.3700 ,0.2200 ,0.8600 ,1.5000 ,2.1400 ,2.7800 ,0.6300 ,1.2700 ,1.9100 ,0.4000 ,1.0400 ,1.6800 ,2.3200 ,0.1700 ,0.8100 ,1.4500 ,2.7300 ,0.5800 ,1.2200 ,1.8600 ,2.5000 ,0.3500 ,0.9900 ,1.6300 ,2.2700 ,0.1200 ,0.7600 ,1.4000 ,2.0400 ,0.5300 ,1.1700 ,1.8100 ,2.4500 ,0.3000 ,0.9400 ,1.5800 ,2.2200 ,2.8600 ,0.0700 ,0.7100 ,1.3500 ,1.9900 ,2.6300 ,0.4800 ,1.1200 ,1.7600 ,2.4000 ,0.2500 ,0.8900 ,1.5300 ,2.1700 ,0.0200 ,0.6600 ,1.3000 ,1.9400 ,0.4300 ,1.0700 ,1.7100 ,2.3500 ,0.2000 ,0.8400 ,1.4800 ,2.1200 ,2.7600 ,0.6100 ,1.2500 ,0.3800 ,1.0200 ,1.6600 ,2.3000 ,0.1500 ,0.7900 ,1.4300 ,0.5600 ,1.2000 ,1.8400 ,2.4800 ,0.3300 ,0.9700 ,1.6100 ,0.1000 ,0.7400 ,1.3800 ,2.0200 ,2.6600 ,0.5100 ,1.1500 ,1.7900 ,2.4300 ,0.2800 ,0.9200 ,1.5600 ,2.2000 ,0.0500 ,0.6900 ,1.3300 ,0.4600 ,1.1000 ,1.7400 ,2.3800 ,0.2300 ,0.8700 ,1.5100 ,2.1500 ),\n",
    "    IOCntM_Physical             INTEGER COMPRESS (0 ,1 ),\n",
    "    IOCntM_Total                INTEGER COMPRESS (0 ,1 ,2 ,3 ,4 ,6 ),\n",
    "    IOGB_Physical               DECIMAL(18,4) COMPRESS (0.0000 ,256.0000 ,112.0000 ,80.0000 ,192.0000 ,48.0000 ,160.0000 ,16.0000 ,128.0000 ,96.0000 ,208.0000 ,64.0000 ,176.0000 ,32.0000 ,144.0000 ,177.0000 ,33.0000 ,145.0000 ,1.0000 ,257.0000 ,113.0000 ,225.0000 ,81.0000 ,193.0000 ,49.0000 ,161.0000 ,17.0000 ,129.0000 ,241.0000 ,97.0000 ,209.0000 ,65.0000 ,66.0000 ,178.0000 ,34.0000 ,146.0000 ,2.0000 ,258.0000 ,114.0000 ,226.0000 ,82.0000 ,194.0000 ,50.0000 ,162.0000 ,18.0000 ,130.0000 ,242.0000 ,98.0000 ,243.0000 ,99.0000 ,211.0000 ,67.0000 ,179.0000 ,35.0000 ,147.0000 ,3.0000 ,259.0000 ,115.0000 ,83.0000 ,195.0000 ,51.0000 ,163.0000 ,19.0000 ,131.0000 ,164.0000 ,20.0000 ,132.0000 ,244.0000 ,100.0000 ,212.0000 ,68.0000 ,180.0000 ,36.0000 ,148.0000 ,4.0000 ,260.0000 ,116.0000 ,228.0000 ,84.0000 ,196.0000 ,52.0000 ,197.0000 ,53.0000 ,165.0000 ,21.0000 ,133.0000 ,101.0000 ,213.0000 ,69.0000 ,181.0000 ,37.0000 ,149.0000 ,5.0000 ,261.0000 ,117.0000 ,85.0000 ,118.0000 ,86.0000 ,198.0000 ,54.0000 ,166.0000 ,22.0000 ,134.0000 ,246.0000 ,102.0000 ,214.0000 ,70.0000 ,182.0000 ,38.0000 ,150.0000 ,6.0000 ,262.0000 ,151.0000 ,7.0000 ,119.0000 ,231.0000 ,87.0000 ,199.0000 ,55.0000 ,167.0000 ,23.0000 ,135.0000 ,247.0000 ,103.0000 ,71.0000 ,183.0000 ,39.0000 ,184.0000 ,40.0000 ,152.0000 ,8.0000 ,120.0000 ,232.0000 ,88.0000 ,200.0000 ,56.0000 ,168.0000 ,24.0000 ,136.0000 ,248.0000 ,104.0000 ,72.0000 ,105.0000 ,217.0000 ,73.0000 ,185.0000 ,41.0000 ,297.0000 ,153.0000 ,9.0000 ,121.0000 ,233.0000 ,89.0000 ,201.0000 ,57.0000 ,169.0000 ,25.0000 ,137.0000 ,249.0000 ,138.0000 ,250.0000 ,106.0000 ,218.0000 ,74.0000 ,186.0000 ,42.0000 ,298.0000 ,154.0000 ,10.0000 ,122.0000 ,234.0000 ,90.0000 ,202.0000 ,58.0000 ,170.0000 ,26.0000 ,59.0000 ,171.0000 ,27.0000 ,139.0000 ,107.0000 ,219.0000 ,75.0000 ,187.0000 ,43.0000 ,299.0000 ,155.0000 ,11.0000 ,267.0000 ,123.0000 ,235.0000 ,91.0000 ,203.0000 ,236.0000 ,92.0000 ,204.0000 ,60.0000 ,172.0000 ,28.0000 ,140.0000 ,252.0000 ,108.0000 ,220.0000 ,76.0000 ,188.0000 ,44.0000 ,156.0000 ,12.0000 ,268.0000 ,124.0000 ,125.0000 ,237.0000 ,93.0000 ,205.0000 ,61.0000 ,173.0000 ,29.0000 ,141.0000 ,109.0000 ,77.0000 ,189.0000 ,45.0000 ,157.0000 ,13.0000 ,46.0000 ,158.0000 ,14.0000 ,126.0000 ,238.0000 ,94.0000 ,206.0000 ,62.0000 ,174.0000 ,30.0000 ,142.0000 ,110.0000 ,222.0000 ,78.0000 ,190.0000 ,1855.0000 ,79.0000 ,191.0000 ,47.0000 ,159.0000 ,15.0000 ,127.0000 ,239.0000 ,95.0000 ,207.0000 ,63.0000 ,175.0000 ,31.0000 ,143.0000 ,111.0000 ),\n",
    "    IOGB_Total                  DECIMAL(18,4) COMPRESS (0.0000 ,256.0000 ,112.0000 ,224.0000 ,80.0000 ,192.0000 ,48.0000 ,160.0000 ,16.0000 ,272.0000 ,128.0000 ,240.0000 ,96.0000 ,208.0000 ,64.0000 ,176.0000 ,32.0000 ,144.0000 ,177.0000 ,33.0000 ,145.0000 ,1.0000 ,113.0000 ,225.0000 ,81.0000 ,193.0000 ,49.0000 ,161.0000 ,17.0000 ,129.0000 ,241.0000 ,97.0000 ,209.0000 ,65.0000 ,210.0000 ,66.0000 ,178.0000 ,34.0000 ,146.0000 ,2.0000 ,114.0000 ,226.0000 ,82.0000 ,194.0000 ,50.0000 ,162.0000 ,18.0000 ,274.0000 ,130.0000 ,242.0000 ,98.0000 ,243.0000 ,99.0000 ,211.0000 ,67.0000 ,179.0000 ,35.0000 ,147.0000 ,3.0000 ,259.0000 ,115.0000 ,227.0000 ,83.0000 ,195.0000 ,51.0000 ,163.0000 ,19.0000 ,275.0000 ,131.0000 ,164.0000 ,20.0000 ,132.0000 ,244.0000 ,100.0000 ,212.0000 ,68.0000 ,180.0000 ,36.0000 ,148.0000 ,4.0000 ,116.0000 ,84.0000 ,196.0000 ,52.0000 ,308.0000 ,197.0000 ,53.0000 ,165.0000 ,21.0000 ,277.0000 ,133.0000 ,245.0000 ,101.0000 ,213.0000 ,69.0000 ,181.0000 ,37.0000 ,149.0000 ,5.0000 ,117.0000 ,229.0000 ,85.0000 ,118.0000 ,230.0000 ,86.0000 ,198.0000 ,54.0000 ,166.0000 ,22.0000 ,134.0000 ,102.0000 ,214.0000 ,70.0000 ,326.0000 ,182.0000 ,38.0000 ,150.0000 ,6.0000 ,151.0000 ,7.0000 ,119.0000 ,231.0000 ,87.0000 ,199.0000 ,55.0000 ,167.0000 ,23.0000 ,135.0000 ,103.0000 ,215.0000 ,71.0000 ,183.0000 ,39.0000 ,184.0000 ,40.0000 ,152.0000 ,8.0000 ,120.0000 ,232.0000 ,88.0000 ,200.0000 ,56.0000 ,168.0000 ,24.0000 ,136.0000 ,104.0000 ,216.0000 ,72.0000 ,105.0000 ,217.0000 ,73.0000 ,185.0000 ,41.0000 ,153.0000 ,9.0000 ,121.0000 ,233.0000 ,89.0000 ,201.0000 ,57.0000 ,169.0000 ,25.0000 ,137.0000 ,138.0000 ,106.0000 ,218.0000 ,74.0000 ,186.0000 ,42.0000 ,154.0000 ,10.0000 ,122.0000 ,234.0000 ,90.0000 ,202.0000 ,58.0000 ,170.0000 ,26.0000 ,59.0000 ,315.0000 ,171.0000 ,27.0000 ,139.0000 ,251.0000 ,107.0000 ,219.0000 ,75.0000 ,187.0000 ,43.0000 ,155.0000 ,11.0000 ,123.0000 ,235.0000 ,91.0000 ,203.0000 ,236.0000 ,92.0000 ,204.0000 ,60.0000 ,172.0000 ,28.0000 ,140.0000 ,108.0000 ,220.0000 ,76.0000 ,188.0000 ,44.0000 ,156.0000 ,12.0000 ,124.0000 ,125.0000 ,93.0000 ,205.0000 ,61.0000 ,173.0000 ,29.0000 ,141.0000 ,109.0000 ,221.0000 ,77.0000 ,189.0000 ,45.0000 ,157.0000 ,13.0000 ,46.0000 ,158.0000 ,14.0000 ,126.0000 ,238.0000 ,94.0000 ,206.0000 ,62.0000 ,174.0000 ,30.0000 ,142.0000 ,254.0000 ,110.0000 ,222.0000 ,78.0000 ,190.0000 ,223.0000 ,79.0000 ,191.0000 ,47.0000 ,159.0000 ,15.0000 ,127.0000 ,95.0000 ,207.0000 ,63.0000 ,175.0000 ,31.0000 ,143.0000 ,111.0000 ),\n",
    "    IOTA_Used_cntB              DECIMAL(18,4) COMPRESS (0.0000 ,0.0001 ,0.0002 ,0.0003 ,0.0004 ,0.0005 ,0.0006 ,0.0007 ,0.0008 ,0.0009 ,0.0010 ,0.0011 ,0.0012 ,0.0013 ,0.0014 ,0.0015 ,0.0016 ,0.0017 ,0.0018 ,0.0019 ,0.0020 ,0.0021 ,0.0022 ,0.0023 ,0.0024 ,0.0025 ,0.0026 ,0.0027 ,0.0028 ,0.0029 ,0.0030 ,0.0031 ,0.0032 ,0.0033 ,0.0034 ,0.0035 ,0.0036 ,0.0037 ,0.0038 ,0.0039 ,0.0040 ,0.0041 ,0.0042 ,0.0043 ,0.0044 ,0.0045 ,0.0046 ,0.0047 ,0.0048 ,0.0049 ,0.0050 ,0.0051 ,0.0052 ,0.0053 ,0.0054 ,0.0055 ,0.0056 ,0.0057 ,0.0058 ,0.0059 ,0.0060 ,0.0061 ,0.0062 ,0.0063 ,0.0064 ,0.0065 ,0.0066 ,0.0067 ,0.0068 ,0.0069 ,0.0070 ,0.0071 ,0.0072 ,0.0073 ,0.0074 ,0.0075 ,0.0076 ,0.0077 ,0.0078 ,0.0079 ,0.0080 ,0.0081 ,0.0082 ,0.0083 ,0.0084 ,0.0085 ,0.0086 ,0.0087 ,0.0088 ,0.0089 ,0.0090 ,0.0091 ,0.0092 ,0.0093 ,0.0094 ,0.0095 ,0.0096 ,0.0097 ,0.0098 ,0.0099 ,0.0100 ,0.0101 ,0.0102 ,0.0103 ,0.0104 ,0.0105 ,0.0106 ,0.0107 ,0.0108 ,0.0109 ,0.0110 ,0.0111 ,0.0112 ,0.0113 ,0.0114 ,0.0115 ,0.0116 ,0.0117 ,0.0118 ,0.0119 ,0.0120 ,0.0121 ,0.0124 ,0.0128 ,0.0141 ,0.0165 ),\n",
    "    NumOfActiveAMPs_Avg         DECIMAL(9,4) COMPRESS (0.0000 ,2928.0000 ,1920.0000 ,144.0000 ,504.1667 ,1008.3333 ,1.0000 ,2.0000 ,3.0000 ,756.0000 ,1512.0000 ,504.0000 ,1.5000 ,756.5000 ),\n",
    "    Spool_GB                    DECIMAL(18,4) COMPRESS (0.0000 ,0.0001 ,0.0002 ,0.0003 ,0.0004 ,0.0005 ,0.0006 ,0.0007 ,0.0008 ,0.0009 ,0.0010 ,0.0011 ,0.0062 ,0.0124 ),\n",
    "    CacheHit_Pct                DECIMAL(9,4),  \n",
    "    CPUSec_Skew_AvgPCt          DECIMAL(9,4) COMPRESS (0.0000 ,-0.9984 ,-0.9728 ,-0.9983 ,-0.9727 ,-0.9471 ,-0.9982 ,-0.9726 ,-0.9981 ,-0.9213 ,-0.9980 ,-0.9724 ,-0.9979 ,-0.9723 ,-0.9978 ,-0.9722 ,-0.9977 ,-0.9721 ,-0.9976 ,-0.9720 ,-0.9975 ,-0.9719 ,-0.9974 ,-0.9718 ,-0.9206 ,-0.9973 ,-0.9717 ,-0.9972 ,-0.9716 ,-0.9971 ,-0.9715 ,-0.9203 ,-0.9970 ,-0.9714 ,-0.9969 ,-0.9713 ,-0.9201 ,-0.9968 ,-0.9712 ,-0.9967 ,-0.9711 ,-0.9966 ,-0.9710 ,-0.9965 ,-0.9709 ,-0.9964 ,-0.9708 ,-0.9196 ,-0.9963 ,-0.9707 ,-0.9962 ,-0.9706 ,-0.9961 ,-0.9705 ,-0.9193 ,-0.9960 ,-0.9704 ,-0.9959 ,-0.9703 ,-0.9958 ,-0.9702 ,-0.9190 ,-0.9957 ,-0.9701 ,-0.9956 ,-0.9444 ,-0.9955 ,-0.9699 ,-0.9187 ,-0.9954 ,-0.9698 ,-0.9953 ,-0.9697 ,-0.9185 ,-0.9952 ,-0.9696 ,-0.9951 ,-0.9183 ,-0.9950 ,-0.9694 ,-0.9182 ,-0.9949 ,-0.9693 ,-0.9948 ,-0.9692 ,-0.9180 ,-0.9947 ,-0.9691 ,-0.9179 ,-0.9946 ,-0.9690 ,-0.9945 ,-0.9689 ,-0.9177 ,-0.9944 ,-0.9688 ,-0.9943 ,-0.9175 ,-0.9942 ,-0.9686 ,-0.9941 ,-0.9685 ,-0.9173 ,-0.9940 ,-0.9684 ,-0.9172 ,-0.9939 ,-0.9683 ,-0.9938 ,-0.9937 ,-0.9681 ,-0.9936 ,-0.9935 ,-0.9679 ,-0.9167 ,-0.9934 ,-0.9678 ,-0.9933 ,-0.9932 ,-0.9676 ,-0.9931 ,-0.9163 ,-0.9930 ,-0.9674 ,-0.9929 ,-0.9673 ,-0.5833 ,-0.9928 ,-0.9672 ,-0.9160 ,-0.9927 ,-0.9926 ,-0.9158 ,-0.9925 ,-0.9669 ,-0.9157 ,-0.9924 ,-0.9156 ,-0.2500 ,-0.9923 ,-0.9922 ,-0.9666 ,-0.9921 ,-0.9153 ,-0.9664 ,-0.9152 ,-0.9663 ,-0.9918 ,-0.9150 ,-0.9917 ,-0.9148 ,-0.9659 ,-0.9147 ,-0.9914 ,-0.9146 ,-0.9145 ,-0.9656 ,-0.9144 ,-0.9911 ,-0.9142 ,-0.9653 ,-0.9140 ,-0.5556 ,-0.9907 ,-0.9651 ,-0.9139 ,-0.9649 ,-0.9137 ,-0.9646 ,-0.9134 ,-0.2222 ,-0.9901 ,-0.9132 ,-0.9643 ,-0.9130 ,-0.9129 ,-0.9640 ,-0.9127 ,-0.9894 ,-0.9888 ,-0.9120 ,-0.4000 ,-0.9630 ,-0.9114 ,-0.9110 ,-0.9107 ,-0.9874 ,-0.9616 ,-0.9104 ,-0.9868 ,-0.5000 ,-0.9094 ,-0.9861 ,-0.1667 ,-0.9087 ,-0.9077 ,-0.9074 ,-0.9072 ,-0.6000 ,-0.9067 ,-0.6250 ,-0.9061 ,-0.4444 ,-0.9051 ,-0.9048 ,-0.9044 ,-0.7500 ,-0.9802 ,-0.9021 ,-0.9788 ,-0.9524 ,-0.9775 ,-0.9769 ,-0.9768 ,-0.9767 ,-0.9766 ,-0.9765 ,-0.9764 ,-0.9763 ,-0.9762 ,-0.9761 ,-0.9760 ,-0.9759 ,-0.9755 ,-0.9754 ,-0.9752 ,-0.9749 ,-0.9491 ,-0.9745 ,-0.9742 ,-0.9740 ,-0.9484 ,-0.9739 ,-0.6667 ,-0.9738 ,-0.9993 ,-0.9737 ,-0.9991 ,-0.9735 ,-0.9990 ,-0.9734 ,-0.9478 ,-0.9989 ,-0.9733 ,-0.3333 ,-0.9988 ,-0.9732 ,-0.9220 ,-0.9987 ,-0.9731 ,-0.9730 ,-0.9474 ,-0.9985 ,-0.9729 ),\n",
    "    IOCnt_Skew_AvgPct           DECIMAL(9,4) COMPRESS (0.0000 ,-0.9984 ,-0.5000 ,-0.1667 ,-0.0833 ,-0.9995 ,-0.9993 ,-0.9992 ,-0.9991 ,-0.9990 ,-0.3333 ,-0.9987 ,-0.9986 ,-0.9985 ),\n",
    "    Run_ID  INTEGER COMPRESS 0 )\n",
    "PRIMARY INDEX ( Site_ID, LogTS )\n",
    "PARTITION BY (  COLUMN (Site_ID) ADD 10,\n",
    "                RANGE_N(cast(LogTS as DATE at LOCAL) \n",
    "                        BETWEEN DATE '2019-01-01'  AND DATE '2021-12-31' \n",
    "                        EACH INTERVAL '1' DAY,\n",
    "                NO RANGE OR UNKNOWN) );"
   ]
  },
  {
   "cell_type": "markdown",
   "metadata": {},
   "source": [
    "### TAL View"
   ]
  },
  {
   "cell_type": "code",
   "execution_count": 8,
   "metadata": {},
   "outputs": [
    {
     "data": {
      "text/plain": [
       "Success: 41 rows affected"
      ]
     },
     "execution_count": 8,
     "metadata": {
      "application/vnd.teradata.resultset": ""
     },
     "output_type": "execute_result"
    }
   ],
   "source": [
    "replace view adlste_coa.coa_dat_DBQL_Core\n",
    "as locking row for access\n",
    "select cast(LogTS as  DATE format 'yyyy-mm-dd') as LogDate, a.*\n",
    "from adlste_coa.coat_dat_DBQL_Core a;"
   ]
  },
  {
   "cell_type": "markdown",
   "metadata": {},
   "source": [
    "### Stored Proc:  sp_dat_DBQL_Core"
   ]
  },
  {
   "cell_type": "code",
   "execution_count": 9,
   "metadata": {},
   "outputs": [
    {
     "data": {
      "text/plain": [
       "Success: 0 rows affected"
      ]
     },
     "execution_count": 9,
     "metadata": {
      "application/vnd.teradata.resultset": ""
     },
     "output_type": "execute_result"
    }
   ],
   "source": [
    "REPLACE PROCEDURE adlste_coa.sp_dat_DBQL_Core( spversion VARCHAR(64) )\n",
    "SQL SECURITY Creator\n",
    "BEGIN\n",
    "\n",
    "    /* select out the SiteID from the stage table \n",
    "       allow for multiple SiteIDs, so need a cursor */\n",
    "\n",
    "    -- adlste_coa_STG.stg_dat_DBQL_Core\n",
    "    \n",
    "  DECLARE runid  INTEGER;\n",
    "  DECLARE parentrunid INTEGER;\n",
    "  DECLARE siteid VARCHAR(128);\n",
    "  DECLARE tablename VARCHAR(128);\n",
    "  DECLARE callingsp VARCHAR(128); \n",
    "  DECLARE startdate DATE;\n",
    "  DECLARE enddate DATE;\n",
    "  DECLARE SQL_ERROR_CODE INTEGER;\n",
    "  DECLARE SQL_STATE VARCHAR(5);\n",
    "  DECLARE ERROR_MESSAGE VARCHAR(256);\n",
    "  /*\n",
    "  DECLARE EXIT HANDLER FOR SqlException\n",
    "  BEGIN\n",
    "   \n",
    "     SET SQL_ERROR_CODE = SqlCode;\n",
    "     SET SQL_STATE = SqlState;\n",
    "     \n",
    "     GET DIAGNOSTICS EXCEPTION 1 ERROR_MESSAGE = Message_Text;\n",
    "     \n",
    "     CALL adlste_coa.sp_audit_log(:runid, :siteid, :tablename, :callingsp, :spversion, :startdate, :enddate, 'normal run', 'ERROR', :ERROR_MESSAGE );\n",
    "     \n",
    "  END;\n",
    "  */\n",
    "  \n",
    "  SET runid = 0;\n",
    "  SET parentrunid = 0 ;\n",
    "  SET tablename = 'adlste_coa.coat_dat_DBQL_core';\n",
    "  SET callingsp = 'adlste_coa.sp_dat_DBQL_core';\n",
    "  SET siteid = 'Empty Table';\n",
    "  \n",
    "  SELECT \n",
    "     Site_Id\n",
    "    ,Min(cast(LogTS as DATE)) AS StartDate\n",
    "    ,Max(cast(LogTS as DATE)) AS EndDate\n",
    "  INTO siteid, startdate, enddate\n",
    "  FROM adlste_coa_stg.stg_dat_DBQL_core \n",
    "  GROUP BY 1;\n",
    "   \n",
    "  CALL adlste_coa.sp_audit_log(:runid, :siteid, :tablename, :callingsp, :spversion, :startdate, :enddate, 'normal run', 'START', '');\n",
    "  SET parentrunid = runid;\n",
    "\n",
    "  /* end setup audit process */\n",
    "\n",
    "    DELETE FROM adlste_coa.coat_dat_DBQL_Core\n",
    "    WHERE   (Site_ID, LogTS) IN\n",
    "    (SELECT Site_ID, LogTS FROM adlste_coa_STG.stg_dat_DBQL_Core);\n",
    "\n",
    "    SET runid = parentrunid;\n",
    "    CALL adlste_coa.sp_audit_log(:runid, :siteid, :tablename, :callingsp, :spversion, :startdate, :enddate, \n",
    "                               'normal run', 'STEP', 'Removed existing records from coat_dat_DBQL_Core');\n",
    "\n",
    "    INSERT INTO adlste_coa.coat_dat_DBQL_Core\n",
    "    (Site_ID, LogTS, Total_AMPs                  \n",
    "    ,App_Bucket, Use_Bucket, Statement_Bucket, User_Bucket, User_Department, User_SubDepartment          \n",
    "    ,Request_Cnt, Query_Cnt, Query_MultiStatement_Cnt, Query_Error_Cnt, Query_Abort_Cnt, Query_NoIO_cnt\n",
    "    ,Query_InMem_Cnt, Query_PhysIO_Cnt, Query_Tactical_Cnt, Query_Complexity_Score_Avg    \n",
    "    ,Returned_Row_Cnt, DelayTime_Sec, Runtime_Parse_Sec, Runtime_AMP_Sec, Runtime_Total_Sec, TransferTime_Sec              \n",
    "    ,CPU_Parse_Sec, CPU_AMP_Sec, IOCntM_Physical, IOCntM_Total, IOGB_Physical, IOGB_Total, IOTA_Used_cntB                \n",
    "    ,NumOfActiveAMPs_Avg, Spool_GB, CacheHit_Pct, CPUSec_Skew_AvgPCt, IOCnt_Skew_AvgPct             \n",
    "    ,Run_ID)\n",
    "    SELECT \n",
    "     Site_ID, LogTS, Total_AMPs                  \n",
    "    ,App_Bucket, Use_Bucket, Statement_Bucket, User_Bucket, User_Department, User_SubDepartment          \n",
    "    ,Request_Cnt, Query_Cnt, Query_MultiStatement_Cnt, Query_Error_Cnt, Query_Abort_Cnt, Query_NoIO_cnt\n",
    "    ,Query_InMem_Cnt, Query_PhysIO_Cnt, Query_Tactical_Cnt, Query_Complexity_Score_Avg    \n",
    "    ,Returned_Row_Cnt, DelayTime_Sec, Runtime_Parse_Sec, Runtime_AMP_Sec, Runtime_Total_Sec, TransferTime_Sec              \n",
    "    ,CPU_Parse_Sec, CPU_AMP_Sec, IOCntM_Physical, IOCntM_Total, IOGB_Physical, IOGB_Total, IOTA_Used_cntB                \n",
    "    ,NumOfActiveAMPs_Avg, Spool_GB, CacheHit_Pct, CPUSec_Skew_AvgPCt, IOCnt_Skew_AvgPct             \n",
    "    ,:runid AS Run_ID\n",
    "    FROM adlste_coa_stg.stg_dat_DBQL_Core ;\n",
    "\n",
    "\n",
    "    SET runid = parentrunid;\n",
    "    CALL adlste_coa.sp_audit_log(:runid, :siteid, :tablename, :callingsp, :spversion, :startdate, :enddate, \n",
    "                               'normal run', 'STEP', 'Inserted stg into coat_dat_DBQL_Core');\n",
    "           \n",
    "    DELETE From adlste_coa_stg.stg_dat_DBQL_Core;\n",
    "         \n",
    "    SET runid = parentrunid;\n",
    "    CALL adlste_coa.sp_audit_log(:runid, :siteid, :tablename, :callingsp, :spversion, :startdate, :enddate, 'normal run', 'END', '');\n",
    "\n",
    "END;"
   ]
  },
  {
   "cell_type": "markdown",
   "metadata": {},
   "source": [
    "### Test"
   ]
  },
  {
   "cell_type": "code",
   "execution_count": null,
   "metadata": {},
   "outputs": [],
   "source": [
    "DELETE FROM adlste_coa_stg.stg_dat_DBQL_Core;\n",
    "insert into adlste_coa_stg.stg_dat_DBQL_Core\n",
    "SELECT\n",
    " 'test'  as Site_ID\n",
    ",cast(StartTime as char(13))||':00:00' as LogTS\n",
    ",cast(HashAmp()+1 as Integer) as Total_AMPs\n",
    ",'na' as App_Bucket\n",
    ",'na' as Use_Bucket\n",
    ",'na' as Statement_Bucket\n",
    ",'na' as User_Bucket\n",
    ",'na' as User_Department\n",
    ",'na' as User_SubDepartment\n",
    ",zeroifnull(cast(count(1) as BigInt)) as Request_Cnt\n",
    ",zeroifnull(sum(cast( dbql.Statements as BigInt))) as Query_Cnt\n",
    ",zeroifnull(sum(cast(case when dbql.StatementGroup like '%=%' then 1 else 0 end as SmallInt))) as Query_MultiStatement_Cnt\n",
    ",zeroifnull(sum(cast(case when dbql.ErrorCode not in(0,3158)      then dbql.Statements else 0 end as int))) as Query_Error_Cnt\n",
    ",zeroifnull(sum(cast(case when dbql.Abortflag = 'Y'               then dbql.Statements else 0 end as int))) as Query_Abort_Cnt\n",
    ",zeroifnull(sum(cast(case when TotalIOCount = 0                   then dbql.Statements else 0 end as int))) as Query_NoIO_cnt\n",
    ",zeroifnull(sum(cast(case when TotalIOCount > 0 AND ReqPhysIO = 0 then dbql.Statements else 0 end as int))) as Query_InMem_Cnt\n",
    ",zeroifnull(sum(cast(case when TotalIOCount > 0 AND ReqPhysIO > 0 then dbql.Statements else 0 end as int))) as Query_PhysIO_Cnt\n",
    ",123 as Query_Tactical_Cnt\n",
    ",12 as Query_Complexity_Score_Avg\n",
    ",zeroifnull(sum(cast(dbql.NumResultRows as BigInt) )) as Returned_Row_Cnt\n",
    ",sum(cast(dbql.DelayTime as decimal(18,2))) as DelayTime_Sec\n",
    ",sum(ZEROIFNULL(CAST(\n",
    "   (EXTRACT(HOUR   FROM ((FirstStepTime - StartTime) HOUR(3) TO SECOND(6)) ) * 3600)\n",
    "  +(EXTRACT(MINUTE FROM ((FirstStepTime - StartTime) HOUR(3) TO SECOND(6)) ) *   60)\n",
    "  +(EXTRACT(SECOND FROM ((FirstStepTime - StartTime) HOUR(3) TO SECOND(6)) ) *    1)\n",
    "   as FLOAT))) as RunTime_Parse_Sec\n",
    ",sum(ZEROIFNULL(CAST(\n",
    "   (EXTRACT(HOUR   FROM ((FirstRespTime - FirstStepTime) HOUR(3) TO SECOND(6)) ) * 3600)\n",
    "  +(EXTRACT(MINUTE FROM ((FirstRespTime - FirstStepTime) HOUR(3) TO SECOND(6)) ) *   60)\n",
    "  +(EXTRACT(SECOND FROM ((FirstRespTime - FirstStepTime) HOUR(3) TO SECOND(6)) ) *    1)\n",
    "   as FLOAT))) as Runtime_AMP_Sec\n",
    ",sum(TotalFirstRespTime)  as RunTime_Total_Sec\n",
    ",sum(ZEROIFNULL(CAST(\n",
    "   case when LastRespTime is not null then\n",
    "   (EXTRACT(HOUR   FROM ((LastRespTime - FirstRespTime) HOUR(3) TO SECOND(6)) ) * 3600)\n",
    "  +(EXTRACT(MINUTE FROM ((LastRespTime - FirstRespTime) HOUR(3) TO SECOND(6)) ) *   60)\n",
    "  +(EXTRACT(SECOND FROM ((LastRespTime - FirstRespTime) HOUR(3) TO SECOND(6)) ) *    1)\n",
    "  else 0 end as FLOAT))) AS TransferTime_Sec\n",
    ",zeroifnull(sum( cast(dbql.ParserCPUTime  as decimal(18,2)))) as CPU_Parse_Sec\n",
    ",zeroifnull(sum( cast(dbql.AMPCPUtime     as decimal(18,2)))) as CPU_AMP_Sec\n",
    ",zeroifnull(sum( cast(ReqPhysIO/1e6         as decimal(18,2)))) as IOCntM_Physical\n",
    ",zeroifnull(sum( cast(TotalIOCount/1e6      as decimal(18,2)))) as IOCntM_Total\n",
    ",zeroifnull(sum( cast(ReqPhysIOKB/1e6       as decimal(18,2)))) as IOGB_Physical\n",
    ",zeroifnull(sum( cast(ReqIOKB/1e6           as decimal(18,2)))) as IOGB_Total\n",
    ",zeroifnull(sum( cast(dbql.UsedIOTA/1e9     as decimal(18,2)))) as IOTA_Used_cntB\n",
    ",zeroifnull(avg(NumOfActiveAMPs)) as NumOfActiveAMPs_Avg\n",
    ",zeroifnull(sum(SpoolUsage/1e9))  as Spool_GB\n",
    ",zeroifnull(avg(SpoolUsage/1e9))  as Spool_GB_Avg\n",
    ",zeroifnull(avg(1-(ReqPhysIO/nullifzero(TotalIOCount)))) as CacheHit_Pct\n",
    ",zeroifnull(avg((AMPCPUTime / nullifzero(MaxAmpCPUTime*NumOfActiveAMPs))-1)) as CPUSec_Skew_AvgPCt\n",
    ",zeroifnull(avg((TotalIOCount / nullifzero(MaxAmpIO*NumOfActiveAMPs))-1) ) as IOCnt_Skew_AvgPct\n",
    "From  pdcrinfo.dbqlogtbl_hst as dbql\n",
    "where dbql.LogDate = DATE-2\n",
    "Group by\n",
    " LogTS\n",
    ",Site_ID;\n",
    "\n",
    "DELETE FROM adlste_coa.coat_dat_DBQL_Core where Site_ID='test' and cast(logTS as date)=DATE-2 ;"
   ]
  },
  {
   "cell_type": "code",
   "execution_count": null,
   "metadata": {},
   "outputs": [],
   "source": [
    "call adlste_coa.sp_dat_DBQL_Core('test')"
   ]
  },
  {
   "cell_type": "code",
   "execution_count": null,
   "metadata": {},
   "outputs": [],
   "source": [
    "SELECT * from adlste_coa.coa_dat_DBQL_Core where Site_ID='test' and cast(logTS as date)=DATE-2 order by 1,2 desc ;"
   ]
  },
  {
   "cell_type": "markdown",
   "metadata": {},
   "source": [
    "<br/><br/><br/><hr>\n",
    "## Master View: coa_DBQL_Core"
   ]
  },
  {
   "cell_type": "code",
   "execution_count": null,
   "metadata": {},
   "outputs": [],
   "source": []
  },
  {
   "cell_type": "code",
   "execution_count": null,
   "metadata": {},
   "outputs": [],
   "source": []
  },
  {
   "cell_type": "code",
   "execution_count": null,
   "metadata": {},
   "outputs": [],
   "source": []
  },
  {
   "cell_type": "markdown",
   "metadata": {},
   "source": [
    "<br/><br/><br/><hr>\n",
    "## Test for Consumption"
   ]
  },
  {
   "cell_type": "code",
   "execution_count": null,
   "metadata": {},
   "outputs": [],
   "source": [
    "Select top 100\n",
    "QueryID, StartTime, STatementType,  QueryText\n",
    ",zeroifnull((SpoolUsage/1e9))  as Spool_GB\n",
    ",zeroifnull(( cast(dbql.AMPCPUtime     as decimal(18,2)))) as CPU_AMP_Sec\n",
    ",zeroifnull(( cast(ReqIOKB/1e6           as decimal(18,2)))) as IOGB_Total\n",
    ",(cast(dbql.DelayTime as decimal(18,2))) as DelayTime_Sec\n",
    ",zeroifnull((NumOfActiveAMPs)) as NumOfActiveAMPs_Avg\n",
    ",cast(HashAmp()+1 as Integer) as Total_AMPs\n",
    ",AppID, ClientID\n",
    "from dbc.DBQLogTbl as dbql\n",
    "where STartTime > \n",
    "    (Select min(StartTime)-interval '1' second as MarkerTS\n",
    "     from dbc.DBQLogTbl as dbql\n",
    "     where STartTime > (current_Timestamp - interval '240' minute)\n",
    "       and statementtype in('select')\n",
    "       and QueryText like '/* Start COA:%') \n",
    "  and AppID = 'PYTHON'\n",
    "  and UserName = USER\n",
    "  and statementtype not in('abort','help','null')\n",
    "  and NumOfActiveAMPs <>0\n",
    "  and QueryText not like '%dbc.tablesvx%'\n",
    "  and QueryText not like '%Select top%'\n",
    "    -- and querytext not like '%dbql_core:QueryComplexity%'\n",
    "order by StartTime desc"
   ]
  },
  {
   "cell_type": "code",
   "execution_count": null,
   "metadata": {},
   "outputs": [],
   "source": [
    "Select DatabaseName, SpoolSpace/1e9 as Total_Available_Spool_GB, Total_Available_Spool_GB/144 as Per_AMP_Available_Spool_GB\n",
    "from dbc.databases \n",
    "where databasename = USER"
   ]
  },
  {
   "cell_type": "code",
   "execution_count": null,
   "metadata": {},
   "outputs": [],
   "source": [
    "select top 10 * from dbc.DBQLStepTbl\n",
    "where QueryID = 307164923071407657\n",
    "order by StepLev1Num, StepLev2Num"
   ]
  },
  {
   "cell_type": "code",
   "execution_count": null,
   "metadata": {},
   "outputs": [],
   "source": [
    "Select * from dbc.tables where databasename = 'DBC' and tablename like 'dbq%'"
   ]
  },
  {
   "cell_type": "code",
   "execution_count": null,
   "metadata": {},
   "outputs": [],
   "source": []
  }
 ],
 "metadata": {
  "kernelspec": {
   "display_name": "Teradata SQL",
   "language": "Teradata SQL",
   "name": "teradatasql"
  },
  "language_info": {
   "codemirror_mode": "Teradata SQL",
   "file_extension": ".tdrs",
   "mimetype": "application/vnd.teradata.resultset",
   "name": "Teradata SQL",
   "nbconvert_exporter": "",
   "pygments_lexer": "",
   "version": "16.20"
  }
 },
 "nbformat": 4,
 "nbformat_minor": 2
}
